{
 "cells": [
  {
   "cell_type": "markdown",
   "metadata": {
    "id": "6KhBGD_ZcINh"
   },
   "source": [
    "<div style=\"text-align: center;\">\n",
    "    <h2>DATA 606 Final Project</h2>\n",
    "</div>"
   ]
  },
  {
   "cell_type": "markdown",
   "metadata": {
    "id": "v1lKItQYdPyJ"
   },
   "source": [
    "<div style=\"text-align: center;color: red;\">\n",
    "    <h1>Breast Cancer Prediction</h1>\n",
    "</div>"
   ]
  },
  {
   "cell_type": "markdown",
   "metadata": {
    "id": "9trJJf79doRz"
   },
   "source": [
    "<div style=\"text-align: right;\">\n",
    "    <h3><em>- Kurre Sai Chand </em></h3>\n",
    "</div>"
   ]
  },
  {
   "cell_type": "markdown",
   "metadata": {},
   "source": [
    "<div style=\"text-align: right;\">\n",
    "    <h3><em>Guided by- Dr. Chaojie (Jay) Wang </em></h3>\n",
    "</div>"
   ]
  },
  {
   "cell_type": "markdown",
   "metadata": {
    "id": "Y49-KZITdueW"
   },
   "source": [
    "Breast Cancer is the most common cancer, and it has recently been a very highly reported skin cancer type. In the world of healthcare, Breast Cancer is a current hot-button issue. Our modern and lethargic lifestyle could be the main reason. This type of cancer can occur in both men and women. Still, as per scientific investigation, Women are 2X susceptible to Breast Cancer, so diagnosing cancer in early stages is essential. Based on an imaging procedure called Fine Needle Aspiration procedure, an expert will classify the cells as malignant or benign. But how can we diagnose breast cancer with machine learning? That's the question of the hour. With image processing techniques or manual measurements, cell characteristics are measured from Fine Needle aspiration images, and these characteristics will be used to classify the cells into Benign and Cancerous.\n",
    "\n",
    "---\n"
   ]
  },
  {
   "cell_type": "markdown",
   "metadata": {},
   "source": [
    "<div style=\"text-align: center;color: blue;\">\n",
    "    <h2>Steps</h2>\n",
    "</div>"
   ]
  },
  {
   "cell_type": "markdown",
   "metadata": {},
   "source": [
    "- Step 1: Import Libraries \n",
    "- Step 2: Loading the Data\n",
    "- Step 3: Cleaning the Data\n",
    "> - Step 3.1: knowing the datatypes \n",
    "> - Step 3.2: knowing the shape of data\n",
    "> - Step 3.3: knowing all the column names\n",
    "> - Step 3.4: knowing the stastistical details about our data\n",
    "> - Step 3.5: Checking the null values\n",
    "> - Step 3.6: Deleting unwanted columns\n",
    "> - Step 3.7: Checking whether any rows or columns are identical \n",
    "> - Step 3.8: Checking the number of categeorical values\n",
    "- Step 4: Feature Engineering\n",
    "> - Step 4.1: Replacing categeorical variables with numerical\n",
    "> - Step 4.2: Generating Meta Data for our original data\n",
    "> - Step 4.3: writing function for scaling(normalization & standardization) data\n",
    "> - Step 4.4: writing function for dimensionality reduction using Principle component analysis\n",
    "> - Step 4.5: applying standardization and PCA to our data\n",
    "> - Step 4.6: Creating final dataframe\n",
    "- Step 5: Visualizations\n",
    "> - graph 5.1: Box Plot for value counts of Malignant and Benign\n",
    "> - graph 5.2: Histogram of Radius Mean for Benign and Malignant Tumors\n",
    "> - graph 5.3: Histogram of Smoothness Mean for Benign and Malignant Tumors\n",
    "> - graph 5.4: Box Plot of Radius Mean and Texture Mean for Benign and Malignant Tumors\n",
    "> - graph 5.5: Violin plot for our final data\n",
    "> - graph 5.6: Heat map for our final data\n",
    "- Step 6: Machine Learning Model\n",
    "> - Logistic Regression\n",
    "> - K-Nearest Neighbor\n",
    "> - Random Forest Classification\n",
    "> - Support Vector Classification\n",
    "> - Decision Tree Classification\n",
    "> - Gaussian Naive bayes"
   ]
  },
  {
   "cell_type": "markdown",
   "metadata": {
    "id": "Yr3aiOyuezs-"
   },
   "source": [
    "<div style=\"text-align: center;color: blue;\">\n",
    "    <h2>Loading the required libraries</h2>\n",
    "</div>"
   ]
  },
  {
   "cell_type": "code",
   "execution_count": 1,
   "metadata": {
    "id": "lm0sBYWpe5Nz"
   },
   "outputs": [],
   "source": [
    "# Loading necessary libraries\n",
    "import numpy as np \n",
    "# Importing NumPy for numerical operations\n",
    "import pandas as pd  \n",
    "# Importing Pandas for data processing and CSV file I/O\n",
    "import seaborn as sns \n",
    "# Importing Seaborn for data visualization\n",
    "import matplotlib.pyplot as plt\n",
    "# Importing Matplotlib for basic plotting\n",
    "import plotly.express as px  \n",
    "# Importing Plotly Express for interactive visualizations\n",
    "import plotly.graph_objects as go \n",
    "# Importing Plotly Graph Objects for more customized visualizations\n",
    "from sklearn.preprocessing import MinMaxScaler, StandardScaler, OneHotEncoder, LabelEncoder  \n",
    "# Importing preprocessing tools from Scikit-Learn: MinMaxScaler, StandardScaler, OneHotEncoder, LabelEncoder\n",
    "from sklearn.decomposition import PCA  \n",
    "# Importing PCA (Principal Component Analysis) from Scikit-Learn for dimensionality reduction"
   ]
  },
  {
   "cell_type": "markdown",
   "metadata": {
    "id": "EBfdr8xNfJ9n"
   },
   "source": [
    "<div style=\"text-align: center;color: blue;\">\n",
    "    <h2>Loading the Data</h2>\n",
    "</div>"
   ]
  },
  {
   "cell_type": "code",
   "execution_count": 2,
   "metadata": {
    "colab": {
     "base_uri": "https://localhost:8080/",
     "height": 273
    },
    "id": "455aQ0hNfNhF",
    "outputId": "f05a7132-9087-487b-8f5d-42fd09aaf1f0"
   },
   "outputs": [
    {
     "data": {
      "text/html": [
       "<div>\n",
       "<style scoped>\n",
       "    .dataframe tbody tr th:only-of-type {\n",
       "        vertical-align: middle;\n",
       "    }\n",
       "\n",
       "    .dataframe tbody tr th {\n",
       "        vertical-align: top;\n",
       "    }\n",
       "\n",
       "    .dataframe thead th {\n",
       "        text-align: right;\n",
       "    }\n",
       "</style>\n",
       "<table border=\"1\" class=\"dataframe\">\n",
       "  <thead>\n",
       "    <tr style=\"text-align: right;\">\n",
       "      <th></th>\n",
       "      <th>id</th>\n",
       "      <th>diagnosis</th>\n",
       "      <th>radius_mean</th>\n",
       "      <th>texture_mean</th>\n",
       "      <th>perimeter_mean</th>\n",
       "      <th>area_mean</th>\n",
       "      <th>smoothness_mean</th>\n",
       "      <th>compactness_mean</th>\n",
       "      <th>concavity_mean</th>\n",
       "      <th>concave points_mean</th>\n",
       "      <th>...</th>\n",
       "      <th>texture_worst</th>\n",
       "      <th>perimeter_worst</th>\n",
       "      <th>area_worst</th>\n",
       "      <th>smoothness_worst</th>\n",
       "      <th>compactness_worst</th>\n",
       "      <th>concavity_worst</th>\n",
       "      <th>concave points_worst</th>\n",
       "      <th>symmetry_worst</th>\n",
       "      <th>fractal_dimension_worst</th>\n",
       "      <th>Unnamed: 32</th>\n",
       "    </tr>\n",
       "  </thead>\n",
       "  <tbody>\n",
       "    <tr>\n",
       "      <th>0</th>\n",
       "      <td>842302</td>\n",
       "      <td>M</td>\n",
       "      <td>17.99</td>\n",
       "      <td>10.38</td>\n",
       "      <td>122.80</td>\n",
       "      <td>1001.0</td>\n",
       "      <td>0.11840</td>\n",
       "      <td>0.27760</td>\n",
       "      <td>0.3001</td>\n",
       "      <td>0.14710</td>\n",
       "      <td>...</td>\n",
       "      <td>17.33</td>\n",
       "      <td>184.60</td>\n",
       "      <td>2019.0</td>\n",
       "      <td>0.1622</td>\n",
       "      <td>0.6656</td>\n",
       "      <td>0.7119</td>\n",
       "      <td>0.2654</td>\n",
       "      <td>0.4601</td>\n",
       "      <td>0.11890</td>\n",
       "      <td>NaN</td>\n",
       "    </tr>\n",
       "    <tr>\n",
       "      <th>1</th>\n",
       "      <td>842517</td>\n",
       "      <td>M</td>\n",
       "      <td>20.57</td>\n",
       "      <td>17.77</td>\n",
       "      <td>132.90</td>\n",
       "      <td>1326.0</td>\n",
       "      <td>0.08474</td>\n",
       "      <td>0.07864</td>\n",
       "      <td>0.0869</td>\n",
       "      <td>0.07017</td>\n",
       "      <td>...</td>\n",
       "      <td>23.41</td>\n",
       "      <td>158.80</td>\n",
       "      <td>1956.0</td>\n",
       "      <td>0.1238</td>\n",
       "      <td>0.1866</td>\n",
       "      <td>0.2416</td>\n",
       "      <td>0.1860</td>\n",
       "      <td>0.2750</td>\n",
       "      <td>0.08902</td>\n",
       "      <td>NaN</td>\n",
       "    </tr>\n",
       "    <tr>\n",
       "      <th>2</th>\n",
       "      <td>84300903</td>\n",
       "      <td>M</td>\n",
       "      <td>19.69</td>\n",
       "      <td>21.25</td>\n",
       "      <td>130.00</td>\n",
       "      <td>1203.0</td>\n",
       "      <td>0.10960</td>\n",
       "      <td>0.15990</td>\n",
       "      <td>0.1974</td>\n",
       "      <td>0.12790</td>\n",
       "      <td>...</td>\n",
       "      <td>25.53</td>\n",
       "      <td>152.50</td>\n",
       "      <td>1709.0</td>\n",
       "      <td>0.1444</td>\n",
       "      <td>0.4245</td>\n",
       "      <td>0.4504</td>\n",
       "      <td>0.2430</td>\n",
       "      <td>0.3613</td>\n",
       "      <td>0.08758</td>\n",
       "      <td>NaN</td>\n",
       "    </tr>\n",
       "    <tr>\n",
       "      <th>3</th>\n",
       "      <td>84348301</td>\n",
       "      <td>M</td>\n",
       "      <td>11.42</td>\n",
       "      <td>20.38</td>\n",
       "      <td>77.58</td>\n",
       "      <td>386.1</td>\n",
       "      <td>0.14250</td>\n",
       "      <td>0.28390</td>\n",
       "      <td>0.2414</td>\n",
       "      <td>0.10520</td>\n",
       "      <td>...</td>\n",
       "      <td>26.50</td>\n",
       "      <td>98.87</td>\n",
       "      <td>567.7</td>\n",
       "      <td>0.2098</td>\n",
       "      <td>0.8663</td>\n",
       "      <td>0.6869</td>\n",
       "      <td>0.2575</td>\n",
       "      <td>0.6638</td>\n",
       "      <td>0.17300</td>\n",
       "      <td>NaN</td>\n",
       "    </tr>\n",
       "    <tr>\n",
       "      <th>4</th>\n",
       "      <td>84358402</td>\n",
       "      <td>M</td>\n",
       "      <td>20.29</td>\n",
       "      <td>14.34</td>\n",
       "      <td>135.10</td>\n",
       "      <td>1297.0</td>\n",
       "      <td>0.10030</td>\n",
       "      <td>0.13280</td>\n",
       "      <td>0.1980</td>\n",
       "      <td>0.10430</td>\n",
       "      <td>...</td>\n",
       "      <td>16.67</td>\n",
       "      <td>152.20</td>\n",
       "      <td>1575.0</td>\n",
       "      <td>0.1374</td>\n",
       "      <td>0.2050</td>\n",
       "      <td>0.4000</td>\n",
       "      <td>0.1625</td>\n",
       "      <td>0.2364</td>\n",
       "      <td>0.07678</td>\n",
       "      <td>NaN</td>\n",
       "    </tr>\n",
       "  </tbody>\n",
       "</table>\n",
       "<p>5 rows × 33 columns</p>\n",
       "</div>"
      ],
      "text/plain": [
       "         id diagnosis  radius_mean  texture_mean  perimeter_mean  area_mean  \\\n",
       "0    842302         M        17.99         10.38          122.80     1001.0   \n",
       "1    842517         M        20.57         17.77          132.90     1326.0   \n",
       "2  84300903         M        19.69         21.25          130.00     1203.0   \n",
       "3  84348301         M        11.42         20.38           77.58      386.1   \n",
       "4  84358402         M        20.29         14.34          135.10     1297.0   \n",
       "\n",
       "   smoothness_mean  compactness_mean  concavity_mean  concave points_mean  \\\n",
       "0          0.11840           0.27760          0.3001              0.14710   \n",
       "1          0.08474           0.07864          0.0869              0.07017   \n",
       "2          0.10960           0.15990          0.1974              0.12790   \n",
       "3          0.14250           0.28390          0.2414              0.10520   \n",
       "4          0.10030           0.13280          0.1980              0.10430   \n",
       "\n",
       "   ...  texture_worst  perimeter_worst  area_worst  smoothness_worst  \\\n",
       "0  ...          17.33           184.60      2019.0            0.1622   \n",
       "1  ...          23.41           158.80      1956.0            0.1238   \n",
       "2  ...          25.53           152.50      1709.0            0.1444   \n",
       "3  ...          26.50            98.87       567.7            0.2098   \n",
       "4  ...          16.67           152.20      1575.0            0.1374   \n",
       "\n",
       "   compactness_worst  concavity_worst  concave points_worst  symmetry_worst  \\\n",
       "0             0.6656           0.7119                0.2654          0.4601   \n",
       "1             0.1866           0.2416                0.1860          0.2750   \n",
       "2             0.4245           0.4504                0.2430          0.3613   \n",
       "3             0.8663           0.6869                0.2575          0.6638   \n",
       "4             0.2050           0.4000                0.1625          0.2364   \n",
       "\n",
       "   fractal_dimension_worst  Unnamed: 32  \n",
       "0                  0.11890          NaN  \n",
       "1                  0.08902          NaN  \n",
       "2                  0.08758          NaN  \n",
       "3                  0.17300          NaN  \n",
       "4                  0.07678          NaN  \n",
       "\n",
       "[5 rows x 33 columns]"
      ]
     },
     "execution_count": 2,
     "metadata": {},
     "output_type": "execute_result"
    }
   ],
   "source": [
    "#Loading the data from BreastCancer_Data.csv into a df Data Frame\n",
    "df = pd.read_csv(\"BreastCancer_Data.csv\",header = 0)\n",
    "#Printing the first 5 columns to check the data\n",
    "df.head()"
   ]
  },
  {
   "cell_type": "markdown",
   "metadata": {},
   "source": [
    "<div style=\"text-align: center;color: blue;\">\n",
    "    <h2>Data Cleaning</h2>\n",
    "</div>"
   ]
  },
  {
   "cell_type": "markdown",
   "metadata": {
    "id": "q90aj3g3_9Mu"
   },
   "source": [
    "<div style=\"text-align: left;\">\n",
    "    <h5><strong>To Know the data type and the null values we use df.info()</strong></h5>\n",
    "</div>"
   ]
  },
  {
   "cell_type": "code",
   "execution_count": 3,
   "metadata": {
    "colab": {
     "base_uri": "https://localhost:8080/"
    },
    "id": "J-6xz-fnwUov",
    "outputId": "a85d05b4-5c20-434f-de57-9f9d92d85b02"
   },
   "outputs": [
    {
     "name": "stdout",
     "output_type": "stream",
     "text": [
      "<class 'pandas.core.frame.DataFrame'>\n",
      "RangeIndex: 569 entries, 0 to 568\n",
      "Data columns (total 33 columns):\n",
      " #   Column                   Non-Null Count  Dtype  \n",
      "---  ------                   --------------  -----  \n",
      " 0   id                       569 non-null    int64  \n",
      " 1   diagnosis                569 non-null    object \n",
      " 2   radius_mean              569 non-null    float64\n",
      " 3   texture_mean             569 non-null    float64\n",
      " 4   perimeter_mean           569 non-null    float64\n",
      " 5   area_mean                569 non-null    float64\n",
      " 6   smoothness_mean          569 non-null    float64\n",
      " 7   compactness_mean         569 non-null    float64\n",
      " 8   concavity_mean           569 non-null    float64\n",
      " 9   concave points_mean      569 non-null    float64\n",
      " 10  symmetry_mean            569 non-null    float64\n",
      " 11  fractal_dimension_mean   569 non-null    float64\n",
      " 12  radius_se                569 non-null    float64\n",
      " 13  texture_se               569 non-null    float64\n",
      " 14  perimeter_se             569 non-null    float64\n",
      " 15  area_se                  569 non-null    float64\n",
      " 16  smoothness_se            569 non-null    float64\n",
      " 17  compactness_se           569 non-null    float64\n",
      " 18  concavity_se             569 non-null    float64\n",
      " 19  concave points_se        569 non-null    float64\n",
      " 20  symmetry_se              569 non-null    float64\n",
      " 21  fractal_dimension_se     569 non-null    float64\n",
      " 22  radius_worst             569 non-null    float64\n",
      " 23  texture_worst            569 non-null    float64\n",
      " 24  perimeter_worst          569 non-null    float64\n",
      " 25  area_worst               569 non-null    float64\n",
      " 26  smoothness_worst         569 non-null    float64\n",
      " 27  compactness_worst        569 non-null    float64\n",
      " 28  concavity_worst          569 non-null    float64\n",
      " 29  concave points_worst     569 non-null    float64\n",
      " 30  symmetry_worst           569 non-null    float64\n",
      " 31  fractal_dimension_worst  569 non-null    float64\n",
      " 32  Unnamed: 32              0 non-null      float64\n",
      "dtypes: float64(31), int64(1), object(1)\n",
      "memory usage: 146.8+ KB\n"
     ]
    }
   ],
   "source": [
    "df.info() #to get information about data"
   ]
  },
  {
   "cell_type": "markdown",
   "metadata": {
    "id": "lH7f26YyA8k2"
   },
   "source": [
    "\n",
    "<div style=\"text-align: left;\">\n",
    "    <h5><strong>Shape of data</strong></h5>\n",
    "</div>\n"
   ]
  },
  {
   "cell_type": "code",
   "execution_count": 4,
   "metadata": {
    "colab": {
     "base_uri": "https://localhost:8080/"
    },
    "id": "gu0OkOKvgNho",
    "outputId": "cfa15c1c-1cb6-45ad-e90b-878a2ce640f3"
   },
   "outputs": [
    {
     "data": {
      "text/plain": [
       "(569, 33)"
      ]
     },
     "execution_count": 4,
     "metadata": {},
     "output_type": "execute_result"
    }
   ],
   "source": [
    "# to Know the size of our data\n",
    "df.shape"
   ]
  },
  {
   "cell_type": "markdown",
   "metadata": {
    "id": "Xmyh6CmHhHSx"
   },
   "source": [
    "\n",
    "<div style=\"text-align: right; color: green;\">\n",
    "    <h5><strong>Our data frame contains 569 rows and 33 columns</strong></h5>\n",
    "</div>"
   ]
  },
  {
   "cell_type": "markdown",
   "metadata": {
    "id": "9VCYvk2eBCd9"
   },
   "source": [
    "<div style=\"text-align: left;\">\n",
    "    <h5><strong>Column Names</strong></h5>\n",
    "</div>"
   ]
  },
  {
   "cell_type": "code",
   "execution_count": 5,
   "metadata": {
    "colab": {
     "base_uri": "https://localhost:8080/"
    },
    "id": "3-vFI-I8fxLm",
    "outputId": "79b8ee64-f49b-47b9-ce33-ebea973fae2e"
   },
   "outputs": [
    {
     "name": "stdout",
     "output_type": "stream",
     "text": [
      "Index(['id', 'diagnosis', 'radius_mean', 'texture_mean', 'perimeter_mean',\n",
      "       'area_mean', 'smoothness_mean', 'compactness_mean', 'concavity_mean',\n",
      "       'concave points_mean', 'symmetry_mean', 'fractal_dimension_mean',\n",
      "       'radius_se', 'texture_se', 'perimeter_se', 'area_se', 'smoothness_se',\n",
      "       'compactness_se', 'concavity_se', 'concave points_se', 'symmetry_se',\n",
      "       'fractal_dimension_se', 'radius_worst', 'texture_worst',\n",
      "       'perimeter_worst', 'area_worst', 'smoothness_worst',\n",
      "       'compactness_worst', 'concavity_worst', 'concave points_worst',\n",
      "       'symmetry_worst', 'fractal_dimension_worst', 'Unnamed: 32'],\n",
      "      dtype='object')\n"
     ]
    }
   ],
   "source": [
    "# feature names as a list\n",
    "col = df.columns       # .columns gives columns names in data\n",
    "print(col)"
   ]
  },
  {
   "cell_type": "markdown",
   "metadata": {
    "id": "PmXtDgCRBHtI"
   },
   "source": [
    "\n",
    "<div style=\"text-align: left;\">\n",
    "    <h5><strong>Statistical idea about data</strong></h5>\n",
    "</div>"
   ]
  },
  {
   "cell_type": "code",
   "execution_count": 6,
   "metadata": {
    "colab": {
     "base_uri": "https://localhost:8080/",
     "height": 367
    },
    "id": "AXKFzgT8hOAj",
    "outputId": "93dae346-2535-4668-e772-68e8850e616e"
   },
   "outputs": [
    {
     "data": {
      "text/html": [
       "<div>\n",
       "<style scoped>\n",
       "    .dataframe tbody tr th:only-of-type {\n",
       "        vertical-align: middle;\n",
       "    }\n",
       "\n",
       "    .dataframe tbody tr th {\n",
       "        vertical-align: top;\n",
       "    }\n",
       "\n",
       "    .dataframe thead th {\n",
       "        text-align: right;\n",
       "    }\n",
       "</style>\n",
       "<table border=\"1\" class=\"dataframe\">\n",
       "  <thead>\n",
       "    <tr style=\"text-align: right;\">\n",
       "      <th></th>\n",
       "      <th>id</th>\n",
       "      <th>radius_mean</th>\n",
       "      <th>texture_mean</th>\n",
       "      <th>perimeter_mean</th>\n",
       "      <th>area_mean</th>\n",
       "      <th>smoothness_mean</th>\n",
       "      <th>compactness_mean</th>\n",
       "      <th>concavity_mean</th>\n",
       "      <th>concave points_mean</th>\n",
       "      <th>symmetry_mean</th>\n",
       "      <th>...</th>\n",
       "      <th>texture_worst</th>\n",
       "      <th>perimeter_worst</th>\n",
       "      <th>area_worst</th>\n",
       "      <th>smoothness_worst</th>\n",
       "      <th>compactness_worst</th>\n",
       "      <th>concavity_worst</th>\n",
       "      <th>concave points_worst</th>\n",
       "      <th>symmetry_worst</th>\n",
       "      <th>fractal_dimension_worst</th>\n",
       "      <th>Unnamed: 32</th>\n",
       "    </tr>\n",
       "  </thead>\n",
       "  <tbody>\n",
       "    <tr>\n",
       "      <th>count</th>\n",
       "      <td>5.690000e+02</td>\n",
       "      <td>569.000000</td>\n",
       "      <td>569.000000</td>\n",
       "      <td>569.000000</td>\n",
       "      <td>569.000000</td>\n",
       "      <td>569.000000</td>\n",
       "      <td>569.000000</td>\n",
       "      <td>569.000000</td>\n",
       "      <td>569.000000</td>\n",
       "      <td>569.000000</td>\n",
       "      <td>...</td>\n",
       "      <td>569.000000</td>\n",
       "      <td>569.000000</td>\n",
       "      <td>569.000000</td>\n",
       "      <td>569.000000</td>\n",
       "      <td>569.000000</td>\n",
       "      <td>569.000000</td>\n",
       "      <td>569.000000</td>\n",
       "      <td>569.000000</td>\n",
       "      <td>569.000000</td>\n",
       "      <td>0.0</td>\n",
       "    </tr>\n",
       "    <tr>\n",
       "      <th>mean</th>\n",
       "      <td>3.037183e+07</td>\n",
       "      <td>14.127292</td>\n",
       "      <td>19.289649</td>\n",
       "      <td>91.969033</td>\n",
       "      <td>654.889104</td>\n",
       "      <td>0.096360</td>\n",
       "      <td>0.104341</td>\n",
       "      <td>0.088799</td>\n",
       "      <td>0.048919</td>\n",
       "      <td>0.181162</td>\n",
       "      <td>...</td>\n",
       "      <td>25.677223</td>\n",
       "      <td>107.261213</td>\n",
       "      <td>880.583128</td>\n",
       "      <td>0.132369</td>\n",
       "      <td>0.254265</td>\n",
       "      <td>0.272188</td>\n",
       "      <td>0.114606</td>\n",
       "      <td>0.290076</td>\n",
       "      <td>0.083946</td>\n",
       "      <td>NaN</td>\n",
       "    </tr>\n",
       "    <tr>\n",
       "      <th>std</th>\n",
       "      <td>1.250206e+08</td>\n",
       "      <td>3.524049</td>\n",
       "      <td>4.301036</td>\n",
       "      <td>24.298981</td>\n",
       "      <td>351.914129</td>\n",
       "      <td>0.014064</td>\n",
       "      <td>0.052813</td>\n",
       "      <td>0.079720</td>\n",
       "      <td>0.038803</td>\n",
       "      <td>0.027414</td>\n",
       "      <td>...</td>\n",
       "      <td>6.146258</td>\n",
       "      <td>33.602542</td>\n",
       "      <td>569.356993</td>\n",
       "      <td>0.022832</td>\n",
       "      <td>0.157336</td>\n",
       "      <td>0.208624</td>\n",
       "      <td>0.065732</td>\n",
       "      <td>0.061867</td>\n",
       "      <td>0.018061</td>\n",
       "      <td>NaN</td>\n",
       "    </tr>\n",
       "    <tr>\n",
       "      <th>min</th>\n",
       "      <td>8.670000e+03</td>\n",
       "      <td>6.981000</td>\n",
       "      <td>9.710000</td>\n",
       "      <td>43.790000</td>\n",
       "      <td>143.500000</td>\n",
       "      <td>0.052630</td>\n",
       "      <td>0.019380</td>\n",
       "      <td>0.000000</td>\n",
       "      <td>0.000000</td>\n",
       "      <td>0.106000</td>\n",
       "      <td>...</td>\n",
       "      <td>12.020000</td>\n",
       "      <td>50.410000</td>\n",
       "      <td>185.200000</td>\n",
       "      <td>0.071170</td>\n",
       "      <td>0.027290</td>\n",
       "      <td>0.000000</td>\n",
       "      <td>0.000000</td>\n",
       "      <td>0.156500</td>\n",
       "      <td>0.055040</td>\n",
       "      <td>NaN</td>\n",
       "    </tr>\n",
       "    <tr>\n",
       "      <th>25%</th>\n",
       "      <td>8.692180e+05</td>\n",
       "      <td>11.700000</td>\n",
       "      <td>16.170000</td>\n",
       "      <td>75.170000</td>\n",
       "      <td>420.300000</td>\n",
       "      <td>0.086370</td>\n",
       "      <td>0.064920</td>\n",
       "      <td>0.029560</td>\n",
       "      <td>0.020310</td>\n",
       "      <td>0.161900</td>\n",
       "      <td>...</td>\n",
       "      <td>21.080000</td>\n",
       "      <td>84.110000</td>\n",
       "      <td>515.300000</td>\n",
       "      <td>0.116600</td>\n",
       "      <td>0.147200</td>\n",
       "      <td>0.114500</td>\n",
       "      <td>0.064930</td>\n",
       "      <td>0.250400</td>\n",
       "      <td>0.071460</td>\n",
       "      <td>NaN</td>\n",
       "    </tr>\n",
       "    <tr>\n",
       "      <th>50%</th>\n",
       "      <td>9.060240e+05</td>\n",
       "      <td>13.370000</td>\n",
       "      <td>18.840000</td>\n",
       "      <td>86.240000</td>\n",
       "      <td>551.100000</td>\n",
       "      <td>0.095870</td>\n",
       "      <td>0.092630</td>\n",
       "      <td>0.061540</td>\n",
       "      <td>0.033500</td>\n",
       "      <td>0.179200</td>\n",
       "      <td>...</td>\n",
       "      <td>25.410000</td>\n",
       "      <td>97.660000</td>\n",
       "      <td>686.500000</td>\n",
       "      <td>0.131300</td>\n",
       "      <td>0.211900</td>\n",
       "      <td>0.226700</td>\n",
       "      <td>0.099930</td>\n",
       "      <td>0.282200</td>\n",
       "      <td>0.080040</td>\n",
       "      <td>NaN</td>\n",
       "    </tr>\n",
       "    <tr>\n",
       "      <th>75%</th>\n",
       "      <td>8.813129e+06</td>\n",
       "      <td>15.780000</td>\n",
       "      <td>21.800000</td>\n",
       "      <td>104.100000</td>\n",
       "      <td>782.700000</td>\n",
       "      <td>0.105300</td>\n",
       "      <td>0.130400</td>\n",
       "      <td>0.130700</td>\n",
       "      <td>0.074000</td>\n",
       "      <td>0.195700</td>\n",
       "      <td>...</td>\n",
       "      <td>29.720000</td>\n",
       "      <td>125.400000</td>\n",
       "      <td>1084.000000</td>\n",
       "      <td>0.146000</td>\n",
       "      <td>0.339100</td>\n",
       "      <td>0.382900</td>\n",
       "      <td>0.161400</td>\n",
       "      <td>0.317900</td>\n",
       "      <td>0.092080</td>\n",
       "      <td>NaN</td>\n",
       "    </tr>\n",
       "    <tr>\n",
       "      <th>max</th>\n",
       "      <td>9.113205e+08</td>\n",
       "      <td>28.110000</td>\n",
       "      <td>39.280000</td>\n",
       "      <td>188.500000</td>\n",
       "      <td>2501.000000</td>\n",
       "      <td>0.163400</td>\n",
       "      <td>0.345400</td>\n",
       "      <td>0.426800</td>\n",
       "      <td>0.201200</td>\n",
       "      <td>0.304000</td>\n",
       "      <td>...</td>\n",
       "      <td>49.540000</td>\n",
       "      <td>251.200000</td>\n",
       "      <td>4254.000000</td>\n",
       "      <td>0.222600</td>\n",
       "      <td>1.058000</td>\n",
       "      <td>1.252000</td>\n",
       "      <td>0.291000</td>\n",
       "      <td>0.663800</td>\n",
       "      <td>0.207500</td>\n",
       "      <td>NaN</td>\n",
       "    </tr>\n",
       "  </tbody>\n",
       "</table>\n",
       "<p>8 rows × 32 columns</p>\n",
       "</div>"
      ],
      "text/plain": [
       "                 id  radius_mean  texture_mean  perimeter_mean    area_mean  \\\n",
       "count  5.690000e+02   569.000000    569.000000      569.000000   569.000000   \n",
       "mean   3.037183e+07    14.127292     19.289649       91.969033   654.889104   \n",
       "std    1.250206e+08     3.524049      4.301036       24.298981   351.914129   \n",
       "min    8.670000e+03     6.981000      9.710000       43.790000   143.500000   \n",
       "25%    8.692180e+05    11.700000     16.170000       75.170000   420.300000   \n",
       "50%    9.060240e+05    13.370000     18.840000       86.240000   551.100000   \n",
       "75%    8.813129e+06    15.780000     21.800000      104.100000   782.700000   \n",
       "max    9.113205e+08    28.110000     39.280000      188.500000  2501.000000   \n",
       "\n",
       "       smoothness_mean  compactness_mean  concavity_mean  concave points_mean  \\\n",
       "count       569.000000        569.000000      569.000000           569.000000   \n",
       "mean          0.096360          0.104341        0.088799             0.048919   \n",
       "std           0.014064          0.052813        0.079720             0.038803   \n",
       "min           0.052630          0.019380        0.000000             0.000000   \n",
       "25%           0.086370          0.064920        0.029560             0.020310   \n",
       "50%           0.095870          0.092630        0.061540             0.033500   \n",
       "75%           0.105300          0.130400        0.130700             0.074000   \n",
       "max           0.163400          0.345400        0.426800             0.201200   \n",
       "\n",
       "       symmetry_mean  ...  texture_worst  perimeter_worst   area_worst  \\\n",
       "count     569.000000  ...     569.000000       569.000000   569.000000   \n",
       "mean        0.181162  ...      25.677223       107.261213   880.583128   \n",
       "std         0.027414  ...       6.146258        33.602542   569.356993   \n",
       "min         0.106000  ...      12.020000        50.410000   185.200000   \n",
       "25%         0.161900  ...      21.080000        84.110000   515.300000   \n",
       "50%         0.179200  ...      25.410000        97.660000   686.500000   \n",
       "75%         0.195700  ...      29.720000       125.400000  1084.000000   \n",
       "max         0.304000  ...      49.540000       251.200000  4254.000000   \n",
       "\n",
       "       smoothness_worst  compactness_worst  concavity_worst  \\\n",
       "count        569.000000         569.000000       569.000000   \n",
       "mean           0.132369           0.254265         0.272188   \n",
       "std            0.022832           0.157336         0.208624   \n",
       "min            0.071170           0.027290         0.000000   \n",
       "25%            0.116600           0.147200         0.114500   \n",
       "50%            0.131300           0.211900         0.226700   \n",
       "75%            0.146000           0.339100         0.382900   \n",
       "max            0.222600           1.058000         1.252000   \n",
       "\n",
       "       concave points_worst  symmetry_worst  fractal_dimension_worst  \\\n",
       "count            569.000000      569.000000               569.000000   \n",
       "mean               0.114606        0.290076                 0.083946   \n",
       "std                0.065732        0.061867                 0.018061   \n",
       "min                0.000000        0.156500                 0.055040   \n",
       "25%                0.064930        0.250400                 0.071460   \n",
       "50%                0.099930        0.282200                 0.080040   \n",
       "75%                0.161400        0.317900                 0.092080   \n",
       "max                0.291000        0.663800                 0.207500   \n",
       "\n",
       "       Unnamed: 32  \n",
       "count          0.0  \n",
       "mean           NaN  \n",
       "std            NaN  \n",
       "min            NaN  \n",
       "25%            NaN  \n",
       "50%            NaN  \n",
       "75%            NaN  \n",
       "max            NaN  \n",
       "\n",
       "[8 rows x 32 columns]"
      ]
     },
     "execution_count": 6,
     "metadata": {},
     "output_type": "execute_result"
    }
   ],
   "source": [
    "#To know the numerical details like mean median mode min and max of the columns of data we use describe()\n",
    "df.describe()"
   ]
  },
  {
   "cell_type": "markdown",
   "metadata": {
    "id": "MhjXQ0zrBSNy"
   },
   "source": [
    "\n",
    "<div style=\"text-align: left;\">\n",
    "    <h5><strong>Checking NULL values</strong></h5>\n",
    "</div>"
   ]
  },
  {
   "cell_type": "code",
   "execution_count": 7,
   "metadata": {
    "colab": {
     "base_uri": "https://localhost:8080/"
    },
    "id": "oftLXPCZGI5v",
    "outputId": "0d9f6a89-424e-4812-e2bc-0fc4e6a2d863"
   },
   "outputs": [
    {
     "data": {
      "text/plain": [
       "True"
      ]
     },
     "execution_count": 7,
     "metadata": {},
     "output_type": "execute_result"
    }
   ],
   "source": [
    "df.isnull().values.any() # checking null values"
   ]
  },
  {
   "cell_type": "markdown",
   "metadata": {
    "id": "VlydyUMjCFWI"
   },
   "source": [
    "\n",
    "<div style=\"text-align: right; color: green;\">\n",
    "    <h5><strong>True indicates that our data set has null values</strong></h5>\n",
    "</div>"
   ]
  },
  {
   "cell_type": "markdown",
   "metadata": {
    "id": "QSJUS8a5B8OB"
   },
   "source": [
    "\n",
    "<div style=\"text-align: left;\">\n",
    "    <h5><strong>To Know the data type and the null values we use df.info()</strong></h5>\n",
    "</div>"
   ]
  },
  {
   "cell_type": "code",
   "execution_count": 8,
   "metadata": {
    "colab": {
     "base_uri": "https://localhost:8080/"
    },
    "id": "CcO6bihcGLXH",
    "outputId": "bd0f858f-525b-4253-9f14-c3cd683dd579"
   },
   "outputs": [
    {
     "data": {
      "text/plain": [
       "id                           0\n",
       "diagnosis                    0\n",
       "radius_mean                  0\n",
       "texture_mean                 0\n",
       "perimeter_mean               0\n",
       "area_mean                    0\n",
       "smoothness_mean              0\n",
       "compactness_mean             0\n",
       "concavity_mean               0\n",
       "concave points_mean          0\n",
       "symmetry_mean                0\n",
       "fractal_dimension_mean       0\n",
       "radius_se                    0\n",
       "texture_se                   0\n",
       "perimeter_se                 0\n",
       "area_se                      0\n",
       "smoothness_se                0\n",
       "compactness_se               0\n",
       "concavity_se                 0\n",
       "concave points_se            0\n",
       "symmetry_se                  0\n",
       "fractal_dimension_se         0\n",
       "radius_worst                 0\n",
       "texture_worst                0\n",
       "perimeter_worst              0\n",
       "area_worst                   0\n",
       "smoothness_worst             0\n",
       "compactness_worst            0\n",
       "concavity_worst              0\n",
       "concave points_worst         0\n",
       "symmetry_worst               0\n",
       "fractal_dimension_worst      0\n",
       "Unnamed: 32                569\n",
       "dtype: int64"
      ]
     },
     "execution_count": 8,
     "metadata": {},
     "output_type": "execute_result"
    }
   ],
   "source": [
    "df.isnull().sum() #number of null values in each column"
   ]
  },
  {
   "cell_type": "markdown",
   "metadata": {
    "id": "JdR4t5idCYyJ"
   },
   "source": [
    "\n",
    "<div style=\"text-align: right; color: green;\">\n",
    "    <h5><strong>Unnamed: 32 is the column with all NULL values so droping the column from the data frame</strong></h5>\n",
    "</div>"
   ]
  },
  {
   "cell_type": "code",
   "execution_count": 9,
   "metadata": {
    "id": "dyPqyou4yIDJ"
   },
   "outputs": [],
   "source": [
    "df = df.drop(\"Unnamed: 32\", axis=1) #Dropping Unnaned: 32 Column\n",
    "#the deleted column is empty column"
   ]
  },
  {
   "cell_type": "markdown",
   "metadata": {
    "id": "e9MsXEE7C19C"
   },
   "source": [
    "\n",
    "<div style=\"text-align: left;\">\n",
    "    <h5><strong>Checking whether any columns have the same value so that we drop extra column from the data frame</strong></h5>\n",
    "</div>"
   ]
  },
  {
   "cell_type": "code",
   "execution_count": 10,
   "metadata": {
    "id": "0rTFbiwbypzV"
   },
   "outputs": [],
   "source": [
    "#checking whether any columns have the same value\n",
    "for this_column in df.columns:\n",
    "    if (df[this_column].nunique()==1):\n",
    "        print(this_column)"
   ]
  },
  {
   "cell_type": "markdown",
   "metadata": {},
   "source": [
    "<div style=\"text-align: right; color: green;\">\n",
    "    <h5><strong>No two columns have same values</strong></h5>\n",
    "</div>"
   ]
  },
  {
   "cell_type": "markdown",
   "metadata": {
    "id": "EKAgQF3wDIi-"
   },
   "source": [
    "\n",
    "<div style=\"text-align: left;\">\n",
    "    <h5><strong>Checking whether the id column is unique or not in order to drop extra rows</strong></h5>\n",
    "</div>"
   ]
  },
  {
   "cell_type": "code",
   "execution_count": 11,
   "metadata": {
    "colab": {
     "base_uri": "https://localhost:8080/"
    },
    "id": "q6d6e8uky7bK",
    "outputId": "11ee906b-6c84-4de5-88ba-1a817d992ecd"
   },
   "outputs": [
    {
     "data": {
      "text/plain": [
       "569"
      ]
     },
     "execution_count": 11,
     "metadata": {},
     "output_type": "execute_result"
    }
   ],
   "source": [
    "df['id'].nunique()"
   ]
  },
  {
   "cell_type": "markdown",
   "metadata": {
    "id": "g2MP6Z70DZid"
   },
   "source": [
    "\n",
    "<div style=\"text-align: right; color: green;\">\n",
    "    <h5><strong>the count of nunique matches with total number of rows, so every ID is unique and no need to drop any row</strong></h5>\n",
    "</div>"
   ]
  },
  {
   "cell_type": "markdown",
   "metadata": {
    "id": "YpaUAGUHEFQZ"
   },
   "source": [
    "\n",
    "<div style=\"text-align: left;\">\n",
    "    <h5><strong>To get the categeorical details of \"diagonsis\" column</strong></h5>\n",
    "</div>"
   ]
  },
  {
   "cell_type": "code",
   "execution_count": 12,
   "metadata": {
    "colab": {
     "base_uri": "https://localhost:8080/"
    },
    "id": "vODHk19sD-0X",
    "outputId": "0518f9be-cd40-4096-d016-dfeea701b94d"
   },
   "outputs": [
    {
     "data": {
      "text/plain": [
       "2"
      ]
     },
     "execution_count": 12,
     "metadata": {},
     "output_type": "execute_result"
    }
   ],
   "source": [
    "df['diagnosis'].nunique()"
   ]
  },
  {
   "cell_type": "markdown",
   "metadata": {
    "id": "5yDsVt6OkWuz"
   },
   "source": [
    "\n",
    "<div style=\"text-align: right; color: green;\">\n",
    "    <h5><strong>Basic observations:</strong></h5>\n",
    "</div>\n",
    "        <div style=\"text-align: right; color: green;\">\n",
    "    <h5><strong>1. Id is a unique field.</strong></h5>\n",
    "</div>\n",
    "        <div style=\"text-align: right; color: green;\">\n",
    "    <h5><strong>2. Unnamed: 32 is the empty column which is of no use, so we can drop that column.</strong></h5>\n",
    "</div>\n",
    "        <div style=\"text-align: right; color: green;\">\n",
    "    <h5><strong>3. Diagonsis Field contain only 2 values \"M\" and \"B\".</strong></h5>\n",
    "</div>\n",
    "        <div style=\"text-align: right; color: green;\">\n",
    "    <h5><strong>4. Data does not contain any null values.</strong></h5>\n",
    "</div>"
   ]
  },
  {
   "cell_type": "markdown",
   "metadata": {},
   "source": [
    "<div style=\"text-align: center;color: blue;\">\n",
    "    <h2>Feature Engineering</h2>\n",
    "</div>"
   ]
  },
  {
   "cell_type": "markdown",
   "metadata": {},
   "source": [
    "\n",
    "<div style=\"text-align: left;\">\n",
    "    <h5><strong>Replacing categorical values to numerical labels.</strong></h5>\n",
    "</div>"
   ]
  },
  {
   "cell_type": "code",
   "execution_count": 13,
   "metadata": {},
   "outputs": [
    {
     "data": {
      "text/html": [
       "<div>\n",
       "<style scoped>\n",
       "    .dataframe tbody tr th:only-of-type {\n",
       "        vertical-align: middle;\n",
       "    }\n",
       "\n",
       "    .dataframe tbody tr th {\n",
       "        vertical-align: top;\n",
       "    }\n",
       "\n",
       "    .dataframe thead th {\n",
       "        text-align: right;\n",
       "    }\n",
       "</style>\n",
       "<table border=\"1\" class=\"dataframe\">\n",
       "  <thead>\n",
       "    <tr style=\"text-align: right;\">\n",
       "      <th></th>\n",
       "      <th>id</th>\n",
       "      <th>diagnosis</th>\n",
       "      <th>radius_mean</th>\n",
       "      <th>texture_mean</th>\n",
       "      <th>perimeter_mean</th>\n",
       "      <th>area_mean</th>\n",
       "      <th>smoothness_mean</th>\n",
       "      <th>compactness_mean</th>\n",
       "      <th>concavity_mean</th>\n",
       "      <th>concave points_mean</th>\n",
       "      <th>...</th>\n",
       "      <th>radius_worst</th>\n",
       "      <th>texture_worst</th>\n",
       "      <th>perimeter_worst</th>\n",
       "      <th>area_worst</th>\n",
       "      <th>smoothness_worst</th>\n",
       "      <th>compactness_worst</th>\n",
       "      <th>concavity_worst</th>\n",
       "      <th>concave points_worst</th>\n",
       "      <th>symmetry_worst</th>\n",
       "      <th>fractal_dimension_worst</th>\n",
       "    </tr>\n",
       "  </thead>\n",
       "  <tbody>\n",
       "    <tr>\n",
       "      <th>0</th>\n",
       "      <td>842302</td>\n",
       "      <td>M</td>\n",
       "      <td>17.99</td>\n",
       "      <td>10.38</td>\n",
       "      <td>122.80</td>\n",
       "      <td>1001.0</td>\n",
       "      <td>0.11840</td>\n",
       "      <td>0.27760</td>\n",
       "      <td>0.30010</td>\n",
       "      <td>0.14710</td>\n",
       "      <td>...</td>\n",
       "      <td>25.380</td>\n",
       "      <td>17.33</td>\n",
       "      <td>184.60</td>\n",
       "      <td>2019.0</td>\n",
       "      <td>0.16220</td>\n",
       "      <td>0.66560</td>\n",
       "      <td>0.7119</td>\n",
       "      <td>0.2654</td>\n",
       "      <td>0.4601</td>\n",
       "      <td>0.11890</td>\n",
       "    </tr>\n",
       "    <tr>\n",
       "      <th>1</th>\n",
       "      <td>842517</td>\n",
       "      <td>M</td>\n",
       "      <td>20.57</td>\n",
       "      <td>17.77</td>\n",
       "      <td>132.90</td>\n",
       "      <td>1326.0</td>\n",
       "      <td>0.08474</td>\n",
       "      <td>0.07864</td>\n",
       "      <td>0.08690</td>\n",
       "      <td>0.07017</td>\n",
       "      <td>...</td>\n",
       "      <td>24.990</td>\n",
       "      <td>23.41</td>\n",
       "      <td>158.80</td>\n",
       "      <td>1956.0</td>\n",
       "      <td>0.12380</td>\n",
       "      <td>0.18660</td>\n",
       "      <td>0.2416</td>\n",
       "      <td>0.1860</td>\n",
       "      <td>0.2750</td>\n",
       "      <td>0.08902</td>\n",
       "    </tr>\n",
       "    <tr>\n",
       "      <th>2</th>\n",
       "      <td>84300903</td>\n",
       "      <td>M</td>\n",
       "      <td>19.69</td>\n",
       "      <td>21.25</td>\n",
       "      <td>130.00</td>\n",
       "      <td>1203.0</td>\n",
       "      <td>0.10960</td>\n",
       "      <td>0.15990</td>\n",
       "      <td>0.19740</td>\n",
       "      <td>0.12790</td>\n",
       "      <td>...</td>\n",
       "      <td>23.570</td>\n",
       "      <td>25.53</td>\n",
       "      <td>152.50</td>\n",
       "      <td>1709.0</td>\n",
       "      <td>0.14440</td>\n",
       "      <td>0.42450</td>\n",
       "      <td>0.4504</td>\n",
       "      <td>0.2430</td>\n",
       "      <td>0.3613</td>\n",
       "      <td>0.08758</td>\n",
       "    </tr>\n",
       "    <tr>\n",
       "      <th>3</th>\n",
       "      <td>84348301</td>\n",
       "      <td>M</td>\n",
       "      <td>11.42</td>\n",
       "      <td>20.38</td>\n",
       "      <td>77.58</td>\n",
       "      <td>386.1</td>\n",
       "      <td>0.14250</td>\n",
       "      <td>0.28390</td>\n",
       "      <td>0.24140</td>\n",
       "      <td>0.10520</td>\n",
       "      <td>...</td>\n",
       "      <td>14.910</td>\n",
       "      <td>26.50</td>\n",
       "      <td>98.87</td>\n",
       "      <td>567.7</td>\n",
       "      <td>0.20980</td>\n",
       "      <td>0.86630</td>\n",
       "      <td>0.6869</td>\n",
       "      <td>0.2575</td>\n",
       "      <td>0.6638</td>\n",
       "      <td>0.17300</td>\n",
       "    </tr>\n",
       "    <tr>\n",
       "      <th>4</th>\n",
       "      <td>84358402</td>\n",
       "      <td>M</td>\n",
       "      <td>20.29</td>\n",
       "      <td>14.34</td>\n",
       "      <td>135.10</td>\n",
       "      <td>1297.0</td>\n",
       "      <td>0.10030</td>\n",
       "      <td>0.13280</td>\n",
       "      <td>0.19800</td>\n",
       "      <td>0.10430</td>\n",
       "      <td>...</td>\n",
       "      <td>22.540</td>\n",
       "      <td>16.67</td>\n",
       "      <td>152.20</td>\n",
       "      <td>1575.0</td>\n",
       "      <td>0.13740</td>\n",
       "      <td>0.20500</td>\n",
       "      <td>0.4000</td>\n",
       "      <td>0.1625</td>\n",
       "      <td>0.2364</td>\n",
       "      <td>0.07678</td>\n",
       "    </tr>\n",
       "    <tr>\n",
       "      <th>...</th>\n",
       "      <td>...</td>\n",
       "      <td>...</td>\n",
       "      <td>...</td>\n",
       "      <td>...</td>\n",
       "      <td>...</td>\n",
       "      <td>...</td>\n",
       "      <td>...</td>\n",
       "      <td>...</td>\n",
       "      <td>...</td>\n",
       "      <td>...</td>\n",
       "      <td>...</td>\n",
       "      <td>...</td>\n",
       "      <td>...</td>\n",
       "      <td>...</td>\n",
       "      <td>...</td>\n",
       "      <td>...</td>\n",
       "      <td>...</td>\n",
       "      <td>...</td>\n",
       "      <td>...</td>\n",
       "      <td>...</td>\n",
       "      <td>...</td>\n",
       "    </tr>\n",
       "    <tr>\n",
       "      <th>564</th>\n",
       "      <td>926424</td>\n",
       "      <td>M</td>\n",
       "      <td>21.56</td>\n",
       "      <td>22.39</td>\n",
       "      <td>142.00</td>\n",
       "      <td>1479.0</td>\n",
       "      <td>0.11100</td>\n",
       "      <td>0.11590</td>\n",
       "      <td>0.24390</td>\n",
       "      <td>0.13890</td>\n",
       "      <td>...</td>\n",
       "      <td>25.450</td>\n",
       "      <td>26.40</td>\n",
       "      <td>166.10</td>\n",
       "      <td>2027.0</td>\n",
       "      <td>0.14100</td>\n",
       "      <td>0.21130</td>\n",
       "      <td>0.4107</td>\n",
       "      <td>0.2216</td>\n",
       "      <td>0.2060</td>\n",
       "      <td>0.07115</td>\n",
       "    </tr>\n",
       "    <tr>\n",
       "      <th>565</th>\n",
       "      <td>926682</td>\n",
       "      <td>M</td>\n",
       "      <td>20.13</td>\n",
       "      <td>28.25</td>\n",
       "      <td>131.20</td>\n",
       "      <td>1261.0</td>\n",
       "      <td>0.09780</td>\n",
       "      <td>0.10340</td>\n",
       "      <td>0.14400</td>\n",
       "      <td>0.09791</td>\n",
       "      <td>...</td>\n",
       "      <td>23.690</td>\n",
       "      <td>38.25</td>\n",
       "      <td>155.00</td>\n",
       "      <td>1731.0</td>\n",
       "      <td>0.11660</td>\n",
       "      <td>0.19220</td>\n",
       "      <td>0.3215</td>\n",
       "      <td>0.1628</td>\n",
       "      <td>0.2572</td>\n",
       "      <td>0.06637</td>\n",
       "    </tr>\n",
       "    <tr>\n",
       "      <th>566</th>\n",
       "      <td>926954</td>\n",
       "      <td>M</td>\n",
       "      <td>16.60</td>\n",
       "      <td>28.08</td>\n",
       "      <td>108.30</td>\n",
       "      <td>858.1</td>\n",
       "      <td>0.08455</td>\n",
       "      <td>0.10230</td>\n",
       "      <td>0.09251</td>\n",
       "      <td>0.05302</td>\n",
       "      <td>...</td>\n",
       "      <td>18.980</td>\n",
       "      <td>34.12</td>\n",
       "      <td>126.70</td>\n",
       "      <td>1124.0</td>\n",
       "      <td>0.11390</td>\n",
       "      <td>0.30940</td>\n",
       "      <td>0.3403</td>\n",
       "      <td>0.1418</td>\n",
       "      <td>0.2218</td>\n",
       "      <td>0.07820</td>\n",
       "    </tr>\n",
       "    <tr>\n",
       "      <th>567</th>\n",
       "      <td>927241</td>\n",
       "      <td>M</td>\n",
       "      <td>20.60</td>\n",
       "      <td>29.33</td>\n",
       "      <td>140.10</td>\n",
       "      <td>1265.0</td>\n",
       "      <td>0.11780</td>\n",
       "      <td>0.27700</td>\n",
       "      <td>0.35140</td>\n",
       "      <td>0.15200</td>\n",
       "      <td>...</td>\n",
       "      <td>25.740</td>\n",
       "      <td>39.42</td>\n",
       "      <td>184.60</td>\n",
       "      <td>1821.0</td>\n",
       "      <td>0.16500</td>\n",
       "      <td>0.86810</td>\n",
       "      <td>0.9387</td>\n",
       "      <td>0.2650</td>\n",
       "      <td>0.4087</td>\n",
       "      <td>0.12400</td>\n",
       "    </tr>\n",
       "    <tr>\n",
       "      <th>568</th>\n",
       "      <td>92751</td>\n",
       "      <td>B</td>\n",
       "      <td>7.76</td>\n",
       "      <td>24.54</td>\n",
       "      <td>47.92</td>\n",
       "      <td>181.0</td>\n",
       "      <td>0.05263</td>\n",
       "      <td>0.04362</td>\n",
       "      <td>0.00000</td>\n",
       "      <td>0.00000</td>\n",
       "      <td>...</td>\n",
       "      <td>9.456</td>\n",
       "      <td>30.37</td>\n",
       "      <td>59.16</td>\n",
       "      <td>268.6</td>\n",
       "      <td>0.08996</td>\n",
       "      <td>0.06444</td>\n",
       "      <td>0.0000</td>\n",
       "      <td>0.0000</td>\n",
       "      <td>0.2871</td>\n",
       "      <td>0.07039</td>\n",
       "    </tr>\n",
       "  </tbody>\n",
       "</table>\n",
       "<p>569 rows × 32 columns</p>\n",
       "</div>"
      ],
      "text/plain": [
       "           id diagnosis  radius_mean  texture_mean  perimeter_mean  area_mean  \\\n",
       "0      842302         M        17.99         10.38          122.80     1001.0   \n",
       "1      842517         M        20.57         17.77          132.90     1326.0   \n",
       "2    84300903         M        19.69         21.25          130.00     1203.0   \n",
       "3    84348301         M        11.42         20.38           77.58      386.1   \n",
       "4    84358402         M        20.29         14.34          135.10     1297.0   \n",
       "..        ...       ...          ...           ...             ...        ...   \n",
       "564    926424         M        21.56         22.39          142.00     1479.0   \n",
       "565    926682         M        20.13         28.25          131.20     1261.0   \n",
       "566    926954         M        16.60         28.08          108.30      858.1   \n",
       "567    927241         M        20.60         29.33          140.10     1265.0   \n",
       "568     92751         B         7.76         24.54           47.92      181.0   \n",
       "\n",
       "     smoothness_mean  compactness_mean  concavity_mean  concave points_mean  \\\n",
       "0            0.11840           0.27760         0.30010              0.14710   \n",
       "1            0.08474           0.07864         0.08690              0.07017   \n",
       "2            0.10960           0.15990         0.19740              0.12790   \n",
       "3            0.14250           0.28390         0.24140              0.10520   \n",
       "4            0.10030           0.13280         0.19800              0.10430   \n",
       "..               ...               ...             ...                  ...   \n",
       "564          0.11100           0.11590         0.24390              0.13890   \n",
       "565          0.09780           0.10340         0.14400              0.09791   \n",
       "566          0.08455           0.10230         0.09251              0.05302   \n",
       "567          0.11780           0.27700         0.35140              0.15200   \n",
       "568          0.05263           0.04362         0.00000              0.00000   \n",
       "\n",
       "     ...  radius_worst  texture_worst  perimeter_worst  area_worst  \\\n",
       "0    ...        25.380          17.33           184.60      2019.0   \n",
       "1    ...        24.990          23.41           158.80      1956.0   \n",
       "2    ...        23.570          25.53           152.50      1709.0   \n",
       "3    ...        14.910          26.50            98.87       567.7   \n",
       "4    ...        22.540          16.67           152.20      1575.0   \n",
       "..   ...           ...            ...              ...         ...   \n",
       "564  ...        25.450          26.40           166.10      2027.0   \n",
       "565  ...        23.690          38.25           155.00      1731.0   \n",
       "566  ...        18.980          34.12           126.70      1124.0   \n",
       "567  ...        25.740          39.42           184.60      1821.0   \n",
       "568  ...         9.456          30.37            59.16       268.6   \n",
       "\n",
       "     smoothness_worst  compactness_worst  concavity_worst  \\\n",
       "0             0.16220            0.66560           0.7119   \n",
       "1             0.12380            0.18660           0.2416   \n",
       "2             0.14440            0.42450           0.4504   \n",
       "3             0.20980            0.86630           0.6869   \n",
       "4             0.13740            0.20500           0.4000   \n",
       "..                ...                ...              ...   \n",
       "564           0.14100            0.21130           0.4107   \n",
       "565           0.11660            0.19220           0.3215   \n",
       "566           0.11390            0.30940           0.3403   \n",
       "567           0.16500            0.86810           0.9387   \n",
       "568           0.08996            0.06444           0.0000   \n",
       "\n",
       "     concave points_worst  symmetry_worst  fractal_dimension_worst  \n",
       "0                  0.2654          0.4601                  0.11890  \n",
       "1                  0.1860          0.2750                  0.08902  \n",
       "2                  0.2430          0.3613                  0.08758  \n",
       "3                  0.2575          0.6638                  0.17300  \n",
       "4                  0.1625          0.2364                  0.07678  \n",
       "..                    ...             ...                      ...  \n",
       "564                0.2216          0.2060                  0.07115  \n",
       "565                0.1628          0.2572                  0.06637  \n",
       "566                0.1418          0.2218                  0.07820  \n",
       "567                0.2650          0.4087                  0.12400  \n",
       "568                0.0000          0.2871                  0.07039  \n",
       "\n",
       "[569 rows x 32 columns]"
      ]
     },
     "execution_count": 13,
     "metadata": {},
     "output_type": "execute_result"
    }
   ],
   "source": [
    "# Replace the values in the 'diagnosis' column to numerical labels.\n",
    "# 'Benign' is replaced with 0 and 'Malignant' is replaced with 1.\n",
    "df['diagnosis'] = df['diagnosis'].replace({'Benign': 0, 'Malignant': 1})\n",
    "\n",
    "# Display the DataFrame to see the changes.\n",
    "df"
   ]
  },
  {
   "cell_type": "markdown",
   "metadata": {},
   "source": [
    "<div style=\"text-align: left;\">\n",
    "    <h5><strong>Generate meta data</strong></h5>\n",
    "</div>"
   ]
  },
  {
   "cell_type": "markdown",
   "metadata": {},
   "source": [
    "\n",
    "<div style=\"text-align: left;\">\n",
    "    <h5>Function Purpose</h5>\n",
    "    <h8>This function's purpose is to provide a summary of important information about the columns in a given DataFrame. This summary aids in comprehending the dataset's structure and characteristics.</h8>\n",
    "</div>"
   ]
  },
  {
   "cell_type": "code",
   "execution_count": 14,
   "metadata": {},
   "outputs": [],
   "source": [
    "def generate_metadata(dataframe):\n",
    "    \"\"\"\n",
    "    Generates a DataFrame containing metadata for the columns of the provided DataFrame.\n",
    "\n",
    "    :param dataframe: DataFrame for which metadata will be generated.\n",
    "    :return: DataFrame containing metadata.\n",
    "    \"\"\"\n",
    "\n",
    "    # Create a dictionary containing metadata information for each column\n",
    "    metadata = pd.DataFrame({\n",
    "        'variable': dataframe.columns,              # Column names\n",
    "        'type': dataframe.dtypes,                   # Data types of each column\n",
    "        'null_count': dataframe.isnull().sum(),     # Count of null values in each column\n",
    "        'null_percent': round((dataframe.isnull().sum() / len(dataframe))* 100,2),  # Percentage of null values\n",
    "        'cardinality': dataframe.nunique(),        # Number of unique values in each column\n",
    "    })\n",
    "        \n",
    "    # Reset the index for the metadata DataFrame\n",
    "    metadata = metadata.reset_index(drop=True)\n",
    "    \n",
    "\n",
    "    return metadata"
   ]
  },
  {
   "cell_type": "markdown",
   "metadata": {},
   "source": [
    "<div style=\"text-align: left;\">\n",
    "    <h5><strong>Normalization & Standardization</strong></h5>\n",
    "</div>"
   ]
  },
  {
   "cell_type": "markdown",
   "metadata": {},
   "source": [
    "<div style=\"text-align: left;\">\n",
    "    <h5>Normalization</h5>"
   ]
  },
  {
   "cell_type": "markdown",
   "metadata": {},
   "source": [
    "**What is normalization?**"
   ]
  },
  {
   "cell_type": "markdown",
   "metadata": {},
   "source": [
    "<h8>Normalization is a data preprocessing technique used in statistics and machine learning to rescale numerical variables to a standard range. Normalization is the process of transforming the features of a dataset so that they have a similar scale. This is important in various machine learning algorithms because it ensures that no single feature dominates due to its larger scale, preventing biases in the learning process of the model.</h8>\n"
   ]
  },
  {
   "cell_type": "markdown",
   "metadata": {},
   "source": [
    "<div>\n",
    "<h8>Normalization methods vary, but one popular approach is Min-Max normalization, which scales the data to a fixed range, typically [0, 1]. The following is how Min-Max normalization works:</h8>\n",
    "</div>\n",
    "\n",
    "<div>\n",
    "<h8>1. Find the minimum (min) and maximum (max) values of the feature to be normalized.</h8>\n",
    "</div>\n",
    "<div>\n",
    "<h8>2. For each value in the feature, apply the following formula:\n",
    "normalized_value = (original_value - min)/(max - min)</h8>\n",
    "</div>\n",
    "<div>\n",
    "<h8>The original values are scaled between 0 and 1 using this formula. If the original value is equal minimum value, the normalized value is zero; if it is equal to one, the normalized value is maximum value.</h8>\n",
    "</div>"
   ]
  },
  {
   "cell_type": "markdown",
   "metadata": {},
   "source": [
    "**Why to do normalization?**"
   ]
  },
  {
   "cell_type": "markdown",
   "metadata": {},
   "source": [
    "1. Standardized Scale\n",
    "2. Improved Convergence\n",
    "3. Interpretability"
   ]
  },
  {
   "cell_type": "markdown",
   "metadata": {},
   "source": [
    "<div style=\"text-align: left;\">\n",
    "    <h5>Standardization</h5>"
   ]
  },
  {
   "cell_type": "markdown",
   "metadata": {},
   "source": [
    "**What is Standardization?**"
   ]
  },
  {
   "cell_type": "markdown",
   "metadata": {},
   "source": [
    "<h8>Another data preprocessing technique used in machine learning and statistics is standardization. Standardization, as opposed to normalization, rescales features so that they have the properties of a standard normal distribution with a mean of 0 and a standard deviation of 1. This is also referred to as z-score normalization or z-score standardization.</h8>\n"
   ]
  },
  {
   "cell_type": "markdown",
   "metadata": {},
   "source": [
    "<div>\n",
    "<h8>1. Calculate the mean (μ) and standard deviation (σ) of the feature. </h8>\n",
    "</div>\n",
    "<div>\n",
    "<h8>2. For each value in the feature, apply the following formula:\n",
    "Standardized_value = (original_value - μ)/σ</h8>\n",
    "</div>\n",
    "<div>\n",
    "<h8>This formula scales the original values based on how far they deviate from the mean. A positive standardized value indicates that the original value is greater than the mean, while a negative value indicates that it is less than the mean.</h8>\n",
    "</div>"
   ]
  },
  {
   "cell_type": "markdown",
   "metadata": {},
   "source": [
    "**Why to do Standardization?**"
   ]
  },
  {
   "cell_type": "markdown",
   "metadata": {},
   "source": [
    "1. Mean Centering\n",
    "2. Equal Scales\n",
    "3. Preservation of Relative Relationships"
   ]
  },
  {
   "cell_type": "markdown",
   "metadata": {},
   "source": [
    "\n",
    "<div style=\"text-align: left;\">\n",
    "    <h5>Function Purpose</h5>\n",
    "    <h8>This function's purpose is to scale (normalize or standardize) the numerical columns in a given DataFrame. Scaling is a common preprocessing step in machine learning that ensures all features have the same scale, which can improve machine learning algorithm performance and training stability.</h8>\n",
    "</div>"
   ]
  },
  {
   "cell_type": "code",
   "execution_count": 15,
   "metadata": {},
   "outputs": [],
   "source": [
    "def scale_numeric_columns(dataframe, method='normalize'):\n",
    "    \"\"\"\n",
    "    Scales (normalizes or standardizes) the numeric columns in the provided DataFrame.\n",
    "\n",
    "    :param dataframe: The DataFrame containing numeric columns to be scaled.\n",
    "    :param method: The scaling method to use ('normalize' or 'standardize'). Default is 'normalize'.\n",
    "    :return: A new DataFrame with the selected numeric columns scaled as specified.\n",
    "    \"\"\"\n",
    "    # Create a copy of the input DataFrame to avoid modifying the original data\n",
    "    df_scaled = dataframe.copy()\n",
    "    \n",
    "    # Select numeric columns based on data type\n",
    "    numeric_columns = df_scaled.select_dtypes(include=['float64', 'float32', 'int64', 'int32']).columns\n",
    "    \n",
    "    if method == 'normalize':\n",
    "        # Initialize Min-Max Scaler for normalization\n",
    "        scaler = MinMaxScaler()\n",
    "    elif method == 'standardize':\n",
    "        # Initialize StandardScaler for standardization\n",
    "        scaler = StandardScaler()\n",
    "    else:\n",
    "        raise ValueError(\"Invalid method. Use 'normalize' or 'standardize'.\")\n",
    "    \n",
    "    # Apply the chosen scaler to the selected numeric columns\n",
    "    df_scaled[numeric_columns] = scaler.fit_transform(df_scaled[numeric_columns])\n",
    "    \n",
    "    return df_scaled"
   ]
  },
  {
   "cell_type": "markdown",
   "metadata": {},
   "source": [
    "<div style=\"text-align: left; color: red;\">\n",
    "    <h5><strong>Principle Component Analysis(PCA)</strong></h5>\n",
    "</div>"
   ]
  },
  {
   "cell_type": "markdown",
   "metadata": {},
   "source": [
    "Principal Component Analysis (PCA) is a technique for reducing dimensionality that is widely used in machine learning and data analysis. Its main goal is to keep as much information as possible while reducing the number of features (or dimensions) in a dataset. The original features are transformed into a new set of uncorrelated features known as principal components by PCA. These principal components are orthogonal to each other and are linear combinations of the original features."
   ]
  },
  {
   "cell_type": "markdown",
   "metadata": {},
   "source": [
    "**1. Variance:**\n",
    "PCA seeks to maximize data variance along the new dimensions. High variance indicates that the data points are dispersed and provide useful information.\n",
    "\n",
    "**2. Orthogonality:**\n",
    "The primary components are orthogonal, which means they are uncorrelated. This ensures that the new features capture a variety of data aspects.\n",
    "\n",
    "**3. Eigenvalues and Eigenvectors:**\n",
    "PCA entails determining the eigenvalues and eigenvectors of the original data's covariance matrix. Eigenvalues represent the amount of variance explained by each principal component, whereas eigenvectors represent the component's direction in the original feature space.\n"
   ]
  },
  {
   "cell_type": "markdown",
   "metadata": {},
   "source": [
    "**Advantages of PCA:**"
   ]
  },
  {
   "cell_type": "markdown",
   "metadata": {},
   "source": [
    "1. Dimensionality Reduction\n",
    "2. Noise Reduction\n",
    "3. Visualization"
   ]
  },
  {
   "cell_type": "markdown",
   "metadata": {},
   "source": [
    "<div style=\"text-align: left;\">\n",
    "    <h5>Function Purpose</h5>\n",
    "    <h8>This function's purpose is to perform feature selection using Principal Component Analysis (PCA). PCA is a dimensionality reduction technique that identifies the most important features in data by projecting them onto a new coordinate system (principal components) in which the features are orthogonal (uncorrelated) and ordered by importance.</h8>\n",
    "</div>"
   ]
  },
  {
   "cell_type": "code",
   "execution_count": 16,
   "metadata": {},
   "outputs": [],
   "source": [
    "def select_features_by_pca(dataframe, target, n_components=None, top_n=1):\n",
    "    \"\"\"\n",
    "    Select features using Principal Component Analysis (PCA).\n",
    "\n",
    "    :param dataframe: The DataFrame containing features to be selected.\n",
    "    :param target: The name of the target column.\n",
    "    :param n_components: The number of principal components to retain. Default is None.\n",
    "    :param top_n: The number of top features to select from each principal component. Default is 1.\n",
    "    :return: A DataFrame containing selected features and the target column.\n",
    "    \"\"\"\n",
    "    # Split the DataFrame into X (features) and y (target)\n",
    "    X = dataframe.drop(columns=[target])\n",
    "    y = dataframe[target]\n",
    "    \n",
    "    # Initialize PCA with the specified number of components\n",
    "    pca_limited = PCA(n_components=n_components)\n",
    "    \n",
    "    # Fit PCA on the feature matrix (X)\n",
    "    pca_limited.fit(X)\n",
    "    \n",
    "    # Get the principal components\n",
    "    pca_limited_components = pca_limited.components_\n",
    "    \n",
    "    # Create a DataFrame to store the principal components\n",
    "    pca_limited_features = pd.DataFrame(pca_limited_components, columns=X.columns,\n",
    "                                        index=['PC'+str(i) for i in range(1, pca_limited_components.shape[0]+1)]).transpose()\n",
    "    \n",
    "    # Initialize a dictionary to store top features for each principal component\n",
    "    top_components = {}\n",
    "    \n",
    "    # Loop through each principal component\n",
    "    for component in pca_limited_features.columns:\n",
    "        # Sort the components by absolute value in descending order\n",
    "        sorted_components = pca_limited_features[component].abs().sort_values(ascending=False)\n",
    "        \n",
    "        # Select the top 'top_n' features\n",
    "        top_components[component] = sorted_components.index[:top_n].tolist()\n",
    "    \n",
    "    # Create a list of selected features by combining top features from all principal components\n",
    "    list_select_pca = list(set([item for sublist in top_components.values() for item in sublist]))\n",
    "    \n",
    "    # Calculate PCA variance explained and cumulative variance explained\n",
    "    pca_variance = pca_limited.explained_variance_\n",
    "    pca_cumulative_variance = np.cumsum(pca_limited.explained_variance_ratio_)\n",
    "    \n",
    "    # Plot PCA variance explained\n",
    "    plt.figure(figsize=(10, 6))\n",
    "    plt.plot(range(1, len(pca_variance)+1), pca_variance, 'o-', markersize=8)\n",
    "    plt.xlabel('Principal Component')\n",
    "    plt.ylabel('Eigenvalue (Explained Variance)')\n",
    "    plt.title('Scree Plot')\n",
    "    plt.xticks(range(1, len(pca_variance)+1))\n",
    "    plt.grid(True)\n",
    "    plt.show()\n",
    "    \n",
    "    # Plot cumulative variance explained\n",
    "    plt.figure(figsize=(10, 6))\n",
    "    plt.plot(range(1, len(pca_cumulative_variance)+1), pca_cumulative_variance, 'o-', markersize=8)\n",
    "    plt.xlabel('Number of Components')\n",
    "    plt.ylabel('Cumulative Explained Variance')\n",
    "    plt.title('Cumulative Explained Variance by Components')\n",
    "    plt.xticks(range(1, len(pca_cumulative_variance)+1))\n",
    "    plt.grid(True)\n",
    "    plt.axhline(y=0.95, color='r', linestyle='--', label='95% Explained Variance')\n",
    "    plt.axhline(y=0.99, color='g', linestyle='--', label='99% Explained Variance')\n",
    "    plt.legend(loc='best')\n",
    "    plt.show()\n",
    "    \n",
    "    # Print selected and discarded columns\n",
    "    print(\"Selected Columns:\", list_select_pca)\n",
    "    print(\"Discarded Columns:\", [col for col in X.columns if col not in list_select_pca])\n",
    "    \n",
    "    # Create a new DataFrame with selected features and the target column\n",
    "    df_selected = dataframe[list_select_pca + [target]]\n",
    "    \n",
    "    return df_selected"
   ]
  },
  {
   "cell_type": "markdown",
   "metadata": {},
   "source": [
    "<div style=\"text-align: left;\">\n",
    "    <h5><strong>Generating Metadata For our Data</strong></h5>\n",
    "</div>"
   ]
  },
  {
   "cell_type": "code",
   "execution_count": 17,
   "metadata": {},
   "outputs": [
    {
     "data": {
      "text/html": [
       "<div>\n",
       "<style scoped>\n",
       "    .dataframe tbody tr th:only-of-type {\n",
       "        vertical-align: middle;\n",
       "    }\n",
       "\n",
       "    .dataframe tbody tr th {\n",
       "        vertical-align: top;\n",
       "    }\n",
       "\n",
       "    .dataframe thead th {\n",
       "        text-align: right;\n",
       "    }\n",
       "</style>\n",
       "<table border=\"1\" class=\"dataframe\">\n",
       "  <thead>\n",
       "    <tr style=\"text-align: right;\">\n",
       "      <th></th>\n",
       "      <th>variable</th>\n",
       "      <th>type</th>\n",
       "      <th>null_count</th>\n",
       "      <th>null_percent</th>\n",
       "      <th>cardinality</th>\n",
       "    </tr>\n",
       "  </thead>\n",
       "  <tbody>\n",
       "    <tr>\n",
       "      <th>0</th>\n",
       "      <td>id</td>\n",
       "      <td>int64</td>\n",
       "      <td>0</td>\n",
       "      <td>0.0</td>\n",
       "      <td>569</td>\n",
       "    </tr>\n",
       "    <tr>\n",
       "      <th>1</th>\n",
       "      <td>diagnosis</td>\n",
       "      <td>object</td>\n",
       "      <td>0</td>\n",
       "      <td>0.0</td>\n",
       "      <td>2</td>\n",
       "    </tr>\n",
       "    <tr>\n",
       "      <th>2</th>\n",
       "      <td>radius_mean</td>\n",
       "      <td>float64</td>\n",
       "      <td>0</td>\n",
       "      <td>0.0</td>\n",
       "      <td>456</td>\n",
       "    </tr>\n",
       "    <tr>\n",
       "      <th>3</th>\n",
       "      <td>texture_mean</td>\n",
       "      <td>float64</td>\n",
       "      <td>0</td>\n",
       "      <td>0.0</td>\n",
       "      <td>479</td>\n",
       "    </tr>\n",
       "    <tr>\n",
       "      <th>4</th>\n",
       "      <td>perimeter_mean</td>\n",
       "      <td>float64</td>\n",
       "      <td>0</td>\n",
       "      <td>0.0</td>\n",
       "      <td>522</td>\n",
       "    </tr>\n",
       "    <tr>\n",
       "      <th>5</th>\n",
       "      <td>area_mean</td>\n",
       "      <td>float64</td>\n",
       "      <td>0</td>\n",
       "      <td>0.0</td>\n",
       "      <td>539</td>\n",
       "    </tr>\n",
       "    <tr>\n",
       "      <th>6</th>\n",
       "      <td>smoothness_mean</td>\n",
       "      <td>float64</td>\n",
       "      <td>0</td>\n",
       "      <td>0.0</td>\n",
       "      <td>474</td>\n",
       "    </tr>\n",
       "    <tr>\n",
       "      <th>7</th>\n",
       "      <td>compactness_mean</td>\n",
       "      <td>float64</td>\n",
       "      <td>0</td>\n",
       "      <td>0.0</td>\n",
       "      <td>537</td>\n",
       "    </tr>\n",
       "    <tr>\n",
       "      <th>8</th>\n",
       "      <td>concavity_mean</td>\n",
       "      <td>float64</td>\n",
       "      <td>0</td>\n",
       "      <td>0.0</td>\n",
       "      <td>537</td>\n",
       "    </tr>\n",
       "    <tr>\n",
       "      <th>9</th>\n",
       "      <td>concave points_mean</td>\n",
       "      <td>float64</td>\n",
       "      <td>0</td>\n",
       "      <td>0.0</td>\n",
       "      <td>542</td>\n",
       "    </tr>\n",
       "    <tr>\n",
       "      <th>10</th>\n",
       "      <td>symmetry_mean</td>\n",
       "      <td>float64</td>\n",
       "      <td>0</td>\n",
       "      <td>0.0</td>\n",
       "      <td>432</td>\n",
       "    </tr>\n",
       "    <tr>\n",
       "      <th>11</th>\n",
       "      <td>fractal_dimension_mean</td>\n",
       "      <td>float64</td>\n",
       "      <td>0</td>\n",
       "      <td>0.0</td>\n",
       "      <td>499</td>\n",
       "    </tr>\n",
       "    <tr>\n",
       "      <th>12</th>\n",
       "      <td>radius_se</td>\n",
       "      <td>float64</td>\n",
       "      <td>0</td>\n",
       "      <td>0.0</td>\n",
       "      <td>540</td>\n",
       "    </tr>\n",
       "    <tr>\n",
       "      <th>13</th>\n",
       "      <td>texture_se</td>\n",
       "      <td>float64</td>\n",
       "      <td>0</td>\n",
       "      <td>0.0</td>\n",
       "      <td>519</td>\n",
       "    </tr>\n",
       "    <tr>\n",
       "      <th>14</th>\n",
       "      <td>perimeter_se</td>\n",
       "      <td>float64</td>\n",
       "      <td>0</td>\n",
       "      <td>0.0</td>\n",
       "      <td>533</td>\n",
       "    </tr>\n",
       "    <tr>\n",
       "      <th>15</th>\n",
       "      <td>area_se</td>\n",
       "      <td>float64</td>\n",
       "      <td>0</td>\n",
       "      <td>0.0</td>\n",
       "      <td>528</td>\n",
       "    </tr>\n",
       "    <tr>\n",
       "      <th>16</th>\n",
       "      <td>smoothness_se</td>\n",
       "      <td>float64</td>\n",
       "      <td>0</td>\n",
       "      <td>0.0</td>\n",
       "      <td>547</td>\n",
       "    </tr>\n",
       "    <tr>\n",
       "      <th>17</th>\n",
       "      <td>compactness_se</td>\n",
       "      <td>float64</td>\n",
       "      <td>0</td>\n",
       "      <td>0.0</td>\n",
       "      <td>541</td>\n",
       "    </tr>\n",
       "    <tr>\n",
       "      <th>18</th>\n",
       "      <td>concavity_se</td>\n",
       "      <td>float64</td>\n",
       "      <td>0</td>\n",
       "      <td>0.0</td>\n",
       "      <td>533</td>\n",
       "    </tr>\n",
       "    <tr>\n",
       "      <th>19</th>\n",
       "      <td>concave points_se</td>\n",
       "      <td>float64</td>\n",
       "      <td>0</td>\n",
       "      <td>0.0</td>\n",
       "      <td>507</td>\n",
       "    </tr>\n",
       "    <tr>\n",
       "      <th>20</th>\n",
       "      <td>symmetry_se</td>\n",
       "      <td>float64</td>\n",
       "      <td>0</td>\n",
       "      <td>0.0</td>\n",
       "      <td>498</td>\n",
       "    </tr>\n",
       "    <tr>\n",
       "      <th>21</th>\n",
       "      <td>fractal_dimension_se</td>\n",
       "      <td>float64</td>\n",
       "      <td>0</td>\n",
       "      <td>0.0</td>\n",
       "      <td>545</td>\n",
       "    </tr>\n",
       "    <tr>\n",
       "      <th>22</th>\n",
       "      <td>radius_worst</td>\n",
       "      <td>float64</td>\n",
       "      <td>0</td>\n",
       "      <td>0.0</td>\n",
       "      <td>457</td>\n",
       "    </tr>\n",
       "    <tr>\n",
       "      <th>23</th>\n",
       "      <td>texture_worst</td>\n",
       "      <td>float64</td>\n",
       "      <td>0</td>\n",
       "      <td>0.0</td>\n",
       "      <td>511</td>\n",
       "    </tr>\n",
       "    <tr>\n",
       "      <th>24</th>\n",
       "      <td>perimeter_worst</td>\n",
       "      <td>float64</td>\n",
       "      <td>0</td>\n",
       "      <td>0.0</td>\n",
       "      <td>514</td>\n",
       "    </tr>\n",
       "    <tr>\n",
       "      <th>25</th>\n",
       "      <td>area_worst</td>\n",
       "      <td>float64</td>\n",
       "      <td>0</td>\n",
       "      <td>0.0</td>\n",
       "      <td>544</td>\n",
       "    </tr>\n",
       "    <tr>\n",
       "      <th>26</th>\n",
       "      <td>smoothness_worst</td>\n",
       "      <td>float64</td>\n",
       "      <td>0</td>\n",
       "      <td>0.0</td>\n",
       "      <td>411</td>\n",
       "    </tr>\n",
       "    <tr>\n",
       "      <th>27</th>\n",
       "      <td>compactness_worst</td>\n",
       "      <td>float64</td>\n",
       "      <td>0</td>\n",
       "      <td>0.0</td>\n",
       "      <td>529</td>\n",
       "    </tr>\n",
       "    <tr>\n",
       "      <th>28</th>\n",
       "      <td>concavity_worst</td>\n",
       "      <td>float64</td>\n",
       "      <td>0</td>\n",
       "      <td>0.0</td>\n",
       "      <td>539</td>\n",
       "    </tr>\n",
       "    <tr>\n",
       "      <th>29</th>\n",
       "      <td>concave points_worst</td>\n",
       "      <td>float64</td>\n",
       "      <td>0</td>\n",
       "      <td>0.0</td>\n",
       "      <td>492</td>\n",
       "    </tr>\n",
       "    <tr>\n",
       "      <th>30</th>\n",
       "      <td>symmetry_worst</td>\n",
       "      <td>float64</td>\n",
       "      <td>0</td>\n",
       "      <td>0.0</td>\n",
       "      <td>500</td>\n",
       "    </tr>\n",
       "    <tr>\n",
       "      <th>31</th>\n",
       "      <td>fractal_dimension_worst</td>\n",
       "      <td>float64</td>\n",
       "      <td>0</td>\n",
       "      <td>0.0</td>\n",
       "      <td>535</td>\n",
       "    </tr>\n",
       "  </tbody>\n",
       "</table>\n",
       "</div>"
      ],
      "text/plain": [
       "                   variable     type  null_count  null_percent  cardinality\n",
       "0                        id    int64           0           0.0          569\n",
       "1                 diagnosis   object           0           0.0            2\n",
       "2               radius_mean  float64           0           0.0          456\n",
       "3              texture_mean  float64           0           0.0          479\n",
       "4            perimeter_mean  float64           0           0.0          522\n",
       "5                 area_mean  float64           0           0.0          539\n",
       "6           smoothness_mean  float64           0           0.0          474\n",
       "7          compactness_mean  float64           0           0.0          537\n",
       "8            concavity_mean  float64           0           0.0          537\n",
       "9       concave points_mean  float64           0           0.0          542\n",
       "10            symmetry_mean  float64           0           0.0          432\n",
       "11   fractal_dimension_mean  float64           0           0.0          499\n",
       "12                radius_se  float64           0           0.0          540\n",
       "13               texture_se  float64           0           0.0          519\n",
       "14             perimeter_se  float64           0           0.0          533\n",
       "15                  area_se  float64           0           0.0          528\n",
       "16            smoothness_se  float64           0           0.0          547\n",
       "17           compactness_se  float64           0           0.0          541\n",
       "18             concavity_se  float64           0           0.0          533\n",
       "19        concave points_se  float64           0           0.0          507\n",
       "20              symmetry_se  float64           0           0.0          498\n",
       "21     fractal_dimension_se  float64           0           0.0          545\n",
       "22             radius_worst  float64           0           0.0          457\n",
       "23            texture_worst  float64           0           0.0          511\n",
       "24          perimeter_worst  float64           0           0.0          514\n",
       "25               area_worst  float64           0           0.0          544\n",
       "26         smoothness_worst  float64           0           0.0          411\n",
       "27        compactness_worst  float64           0           0.0          529\n",
       "28          concavity_worst  float64           0           0.0          539\n",
       "29     concave points_worst  float64           0           0.0          492\n",
       "30           symmetry_worst  float64           0           0.0          500\n",
       "31  fractal_dimension_worst  float64           0           0.0          535"
      ]
     },
     "execution_count": 17,
     "metadata": {},
     "output_type": "execute_result"
    }
   ],
   "source": [
    "# Generate metadata for the original DataFrame using the defined function\n",
    "df_metadata = generate_metadata(df)\n",
    "\n",
    "# Display the metadata for the original DataFrame\n",
    "df_metadata "
   ]
  },
  {
   "cell_type": "markdown",
   "metadata": {},
   "source": [
    "This metadata contains critical information about each column in the DataFrame, such as the data type, number of null values, percentage of null values, and number of unique values (cardinality). "
   ]
  },
  {
   "cell_type": "markdown",
   "metadata": {},
   "source": [
    "<div style=\"text-align: left;\">\n",
    "    <h5><strong>Dropping Diagonsis and id columns</strong></h5>\n",
    "</div>"
   ]
  },
  {
   "cell_type": "code",
   "execution_count": 18,
   "metadata": {},
   "outputs": [
    {
     "data": {
      "text/html": [
       "<div>\n",
       "<style scoped>\n",
       "    .dataframe tbody tr th:only-of-type {\n",
       "        vertical-align: middle;\n",
       "    }\n",
       "\n",
       "    .dataframe tbody tr th {\n",
       "        vertical-align: top;\n",
       "    }\n",
       "\n",
       "    .dataframe thead th {\n",
       "        text-align: right;\n",
       "    }\n",
       "</style>\n",
       "<table border=\"1\" class=\"dataframe\">\n",
       "  <thead>\n",
       "    <tr style=\"text-align: right;\">\n",
       "      <th></th>\n",
       "      <th>radius_mean</th>\n",
       "      <th>texture_mean</th>\n",
       "      <th>perimeter_mean</th>\n",
       "      <th>area_mean</th>\n",
       "      <th>smoothness_mean</th>\n",
       "      <th>compactness_mean</th>\n",
       "      <th>concavity_mean</th>\n",
       "      <th>concave points_mean</th>\n",
       "      <th>symmetry_mean</th>\n",
       "      <th>fractal_dimension_mean</th>\n",
       "      <th>...</th>\n",
       "      <th>radius_worst</th>\n",
       "      <th>texture_worst</th>\n",
       "      <th>perimeter_worst</th>\n",
       "      <th>area_worst</th>\n",
       "      <th>smoothness_worst</th>\n",
       "      <th>compactness_worst</th>\n",
       "      <th>concavity_worst</th>\n",
       "      <th>concave points_worst</th>\n",
       "      <th>symmetry_worst</th>\n",
       "      <th>fractal_dimension_worst</th>\n",
       "    </tr>\n",
       "  </thead>\n",
       "  <tbody>\n",
       "    <tr>\n",
       "      <th>0</th>\n",
       "      <td>17.99</td>\n",
       "      <td>10.38</td>\n",
       "      <td>122.80</td>\n",
       "      <td>1001.0</td>\n",
       "      <td>0.11840</td>\n",
       "      <td>0.27760</td>\n",
       "      <td>0.30010</td>\n",
       "      <td>0.14710</td>\n",
       "      <td>0.2419</td>\n",
       "      <td>0.07871</td>\n",
       "      <td>...</td>\n",
       "      <td>25.380</td>\n",
       "      <td>17.33</td>\n",
       "      <td>184.60</td>\n",
       "      <td>2019.0</td>\n",
       "      <td>0.16220</td>\n",
       "      <td>0.66560</td>\n",
       "      <td>0.7119</td>\n",
       "      <td>0.2654</td>\n",
       "      <td>0.4601</td>\n",
       "      <td>0.11890</td>\n",
       "    </tr>\n",
       "    <tr>\n",
       "      <th>1</th>\n",
       "      <td>20.57</td>\n",
       "      <td>17.77</td>\n",
       "      <td>132.90</td>\n",
       "      <td>1326.0</td>\n",
       "      <td>0.08474</td>\n",
       "      <td>0.07864</td>\n",
       "      <td>0.08690</td>\n",
       "      <td>0.07017</td>\n",
       "      <td>0.1812</td>\n",
       "      <td>0.05667</td>\n",
       "      <td>...</td>\n",
       "      <td>24.990</td>\n",
       "      <td>23.41</td>\n",
       "      <td>158.80</td>\n",
       "      <td>1956.0</td>\n",
       "      <td>0.12380</td>\n",
       "      <td>0.18660</td>\n",
       "      <td>0.2416</td>\n",
       "      <td>0.1860</td>\n",
       "      <td>0.2750</td>\n",
       "      <td>0.08902</td>\n",
       "    </tr>\n",
       "    <tr>\n",
       "      <th>2</th>\n",
       "      <td>19.69</td>\n",
       "      <td>21.25</td>\n",
       "      <td>130.00</td>\n",
       "      <td>1203.0</td>\n",
       "      <td>0.10960</td>\n",
       "      <td>0.15990</td>\n",
       "      <td>0.19740</td>\n",
       "      <td>0.12790</td>\n",
       "      <td>0.2069</td>\n",
       "      <td>0.05999</td>\n",
       "      <td>...</td>\n",
       "      <td>23.570</td>\n",
       "      <td>25.53</td>\n",
       "      <td>152.50</td>\n",
       "      <td>1709.0</td>\n",
       "      <td>0.14440</td>\n",
       "      <td>0.42450</td>\n",
       "      <td>0.4504</td>\n",
       "      <td>0.2430</td>\n",
       "      <td>0.3613</td>\n",
       "      <td>0.08758</td>\n",
       "    </tr>\n",
       "    <tr>\n",
       "      <th>3</th>\n",
       "      <td>11.42</td>\n",
       "      <td>20.38</td>\n",
       "      <td>77.58</td>\n",
       "      <td>386.1</td>\n",
       "      <td>0.14250</td>\n",
       "      <td>0.28390</td>\n",
       "      <td>0.24140</td>\n",
       "      <td>0.10520</td>\n",
       "      <td>0.2597</td>\n",
       "      <td>0.09744</td>\n",
       "      <td>...</td>\n",
       "      <td>14.910</td>\n",
       "      <td>26.50</td>\n",
       "      <td>98.87</td>\n",
       "      <td>567.7</td>\n",
       "      <td>0.20980</td>\n",
       "      <td>0.86630</td>\n",
       "      <td>0.6869</td>\n",
       "      <td>0.2575</td>\n",
       "      <td>0.6638</td>\n",
       "      <td>0.17300</td>\n",
       "    </tr>\n",
       "    <tr>\n",
       "      <th>4</th>\n",
       "      <td>20.29</td>\n",
       "      <td>14.34</td>\n",
       "      <td>135.10</td>\n",
       "      <td>1297.0</td>\n",
       "      <td>0.10030</td>\n",
       "      <td>0.13280</td>\n",
       "      <td>0.19800</td>\n",
       "      <td>0.10430</td>\n",
       "      <td>0.1809</td>\n",
       "      <td>0.05883</td>\n",
       "      <td>...</td>\n",
       "      <td>22.540</td>\n",
       "      <td>16.67</td>\n",
       "      <td>152.20</td>\n",
       "      <td>1575.0</td>\n",
       "      <td>0.13740</td>\n",
       "      <td>0.20500</td>\n",
       "      <td>0.4000</td>\n",
       "      <td>0.1625</td>\n",
       "      <td>0.2364</td>\n",
       "      <td>0.07678</td>\n",
       "    </tr>\n",
       "    <tr>\n",
       "      <th>...</th>\n",
       "      <td>...</td>\n",
       "      <td>...</td>\n",
       "      <td>...</td>\n",
       "      <td>...</td>\n",
       "      <td>...</td>\n",
       "      <td>...</td>\n",
       "      <td>...</td>\n",
       "      <td>...</td>\n",
       "      <td>...</td>\n",
       "      <td>...</td>\n",
       "      <td>...</td>\n",
       "      <td>...</td>\n",
       "      <td>...</td>\n",
       "      <td>...</td>\n",
       "      <td>...</td>\n",
       "      <td>...</td>\n",
       "      <td>...</td>\n",
       "      <td>...</td>\n",
       "      <td>...</td>\n",
       "      <td>...</td>\n",
       "      <td>...</td>\n",
       "    </tr>\n",
       "    <tr>\n",
       "      <th>564</th>\n",
       "      <td>21.56</td>\n",
       "      <td>22.39</td>\n",
       "      <td>142.00</td>\n",
       "      <td>1479.0</td>\n",
       "      <td>0.11100</td>\n",
       "      <td>0.11590</td>\n",
       "      <td>0.24390</td>\n",
       "      <td>0.13890</td>\n",
       "      <td>0.1726</td>\n",
       "      <td>0.05623</td>\n",
       "      <td>...</td>\n",
       "      <td>25.450</td>\n",
       "      <td>26.40</td>\n",
       "      <td>166.10</td>\n",
       "      <td>2027.0</td>\n",
       "      <td>0.14100</td>\n",
       "      <td>0.21130</td>\n",
       "      <td>0.4107</td>\n",
       "      <td>0.2216</td>\n",
       "      <td>0.2060</td>\n",
       "      <td>0.07115</td>\n",
       "    </tr>\n",
       "    <tr>\n",
       "      <th>565</th>\n",
       "      <td>20.13</td>\n",
       "      <td>28.25</td>\n",
       "      <td>131.20</td>\n",
       "      <td>1261.0</td>\n",
       "      <td>0.09780</td>\n",
       "      <td>0.10340</td>\n",
       "      <td>0.14400</td>\n",
       "      <td>0.09791</td>\n",
       "      <td>0.1752</td>\n",
       "      <td>0.05533</td>\n",
       "      <td>...</td>\n",
       "      <td>23.690</td>\n",
       "      <td>38.25</td>\n",
       "      <td>155.00</td>\n",
       "      <td>1731.0</td>\n",
       "      <td>0.11660</td>\n",
       "      <td>0.19220</td>\n",
       "      <td>0.3215</td>\n",
       "      <td>0.1628</td>\n",
       "      <td>0.2572</td>\n",
       "      <td>0.06637</td>\n",
       "    </tr>\n",
       "    <tr>\n",
       "      <th>566</th>\n",
       "      <td>16.60</td>\n",
       "      <td>28.08</td>\n",
       "      <td>108.30</td>\n",
       "      <td>858.1</td>\n",
       "      <td>0.08455</td>\n",
       "      <td>0.10230</td>\n",
       "      <td>0.09251</td>\n",
       "      <td>0.05302</td>\n",
       "      <td>0.1590</td>\n",
       "      <td>0.05648</td>\n",
       "      <td>...</td>\n",
       "      <td>18.980</td>\n",
       "      <td>34.12</td>\n",
       "      <td>126.70</td>\n",
       "      <td>1124.0</td>\n",
       "      <td>0.11390</td>\n",
       "      <td>0.30940</td>\n",
       "      <td>0.3403</td>\n",
       "      <td>0.1418</td>\n",
       "      <td>0.2218</td>\n",
       "      <td>0.07820</td>\n",
       "    </tr>\n",
       "    <tr>\n",
       "      <th>567</th>\n",
       "      <td>20.60</td>\n",
       "      <td>29.33</td>\n",
       "      <td>140.10</td>\n",
       "      <td>1265.0</td>\n",
       "      <td>0.11780</td>\n",
       "      <td>0.27700</td>\n",
       "      <td>0.35140</td>\n",
       "      <td>0.15200</td>\n",
       "      <td>0.2397</td>\n",
       "      <td>0.07016</td>\n",
       "      <td>...</td>\n",
       "      <td>25.740</td>\n",
       "      <td>39.42</td>\n",
       "      <td>184.60</td>\n",
       "      <td>1821.0</td>\n",
       "      <td>0.16500</td>\n",
       "      <td>0.86810</td>\n",
       "      <td>0.9387</td>\n",
       "      <td>0.2650</td>\n",
       "      <td>0.4087</td>\n",
       "      <td>0.12400</td>\n",
       "    </tr>\n",
       "    <tr>\n",
       "      <th>568</th>\n",
       "      <td>7.76</td>\n",
       "      <td>24.54</td>\n",
       "      <td>47.92</td>\n",
       "      <td>181.0</td>\n",
       "      <td>0.05263</td>\n",
       "      <td>0.04362</td>\n",
       "      <td>0.00000</td>\n",
       "      <td>0.00000</td>\n",
       "      <td>0.1587</td>\n",
       "      <td>0.05884</td>\n",
       "      <td>...</td>\n",
       "      <td>9.456</td>\n",
       "      <td>30.37</td>\n",
       "      <td>59.16</td>\n",
       "      <td>268.6</td>\n",
       "      <td>0.08996</td>\n",
       "      <td>0.06444</td>\n",
       "      <td>0.0000</td>\n",
       "      <td>0.0000</td>\n",
       "      <td>0.2871</td>\n",
       "      <td>0.07039</td>\n",
       "    </tr>\n",
       "  </tbody>\n",
       "</table>\n",
       "<p>569 rows × 30 columns</p>\n",
       "</div>"
      ],
      "text/plain": [
       "     radius_mean  texture_mean  perimeter_mean  area_mean  smoothness_mean  \\\n",
       "0          17.99         10.38          122.80     1001.0          0.11840   \n",
       "1          20.57         17.77          132.90     1326.0          0.08474   \n",
       "2          19.69         21.25          130.00     1203.0          0.10960   \n",
       "3          11.42         20.38           77.58      386.1          0.14250   \n",
       "4          20.29         14.34          135.10     1297.0          0.10030   \n",
       "..           ...           ...             ...        ...              ...   \n",
       "564        21.56         22.39          142.00     1479.0          0.11100   \n",
       "565        20.13         28.25          131.20     1261.0          0.09780   \n",
       "566        16.60         28.08          108.30      858.1          0.08455   \n",
       "567        20.60         29.33          140.10     1265.0          0.11780   \n",
       "568         7.76         24.54           47.92      181.0          0.05263   \n",
       "\n",
       "     compactness_mean  concavity_mean  concave points_mean  symmetry_mean  \\\n",
       "0             0.27760         0.30010              0.14710         0.2419   \n",
       "1             0.07864         0.08690              0.07017         0.1812   \n",
       "2             0.15990         0.19740              0.12790         0.2069   \n",
       "3             0.28390         0.24140              0.10520         0.2597   \n",
       "4             0.13280         0.19800              0.10430         0.1809   \n",
       "..                ...             ...                  ...            ...   \n",
       "564           0.11590         0.24390              0.13890         0.1726   \n",
       "565           0.10340         0.14400              0.09791         0.1752   \n",
       "566           0.10230         0.09251              0.05302         0.1590   \n",
       "567           0.27700         0.35140              0.15200         0.2397   \n",
       "568           0.04362         0.00000              0.00000         0.1587   \n",
       "\n",
       "     fractal_dimension_mean  ...  radius_worst  texture_worst  \\\n",
       "0                   0.07871  ...        25.380          17.33   \n",
       "1                   0.05667  ...        24.990          23.41   \n",
       "2                   0.05999  ...        23.570          25.53   \n",
       "3                   0.09744  ...        14.910          26.50   \n",
       "4                   0.05883  ...        22.540          16.67   \n",
       "..                      ...  ...           ...            ...   \n",
       "564                 0.05623  ...        25.450          26.40   \n",
       "565                 0.05533  ...        23.690          38.25   \n",
       "566                 0.05648  ...        18.980          34.12   \n",
       "567                 0.07016  ...        25.740          39.42   \n",
       "568                 0.05884  ...         9.456          30.37   \n",
       "\n",
       "     perimeter_worst  area_worst  smoothness_worst  compactness_worst  \\\n",
       "0             184.60      2019.0           0.16220            0.66560   \n",
       "1             158.80      1956.0           0.12380            0.18660   \n",
       "2             152.50      1709.0           0.14440            0.42450   \n",
       "3              98.87       567.7           0.20980            0.86630   \n",
       "4             152.20      1575.0           0.13740            0.20500   \n",
       "..               ...         ...               ...                ...   \n",
       "564           166.10      2027.0           0.14100            0.21130   \n",
       "565           155.00      1731.0           0.11660            0.19220   \n",
       "566           126.70      1124.0           0.11390            0.30940   \n",
       "567           184.60      1821.0           0.16500            0.86810   \n",
       "568            59.16       268.6           0.08996            0.06444   \n",
       "\n",
       "     concavity_worst  concave points_worst  symmetry_worst  \\\n",
       "0             0.7119                0.2654          0.4601   \n",
       "1             0.2416                0.1860          0.2750   \n",
       "2             0.4504                0.2430          0.3613   \n",
       "3             0.6869                0.2575          0.6638   \n",
       "4             0.4000                0.1625          0.2364   \n",
       "..               ...                   ...             ...   \n",
       "564           0.4107                0.2216          0.2060   \n",
       "565           0.3215                0.1628          0.2572   \n",
       "566           0.3403                0.1418          0.2218   \n",
       "567           0.9387                0.2650          0.4087   \n",
       "568           0.0000                0.0000          0.2871   \n",
       "\n",
       "     fractal_dimension_worst  \n",
       "0                    0.11890  \n",
       "1                    0.08902  \n",
       "2                    0.08758  \n",
       "3                    0.17300  \n",
       "4                    0.07678  \n",
       "..                       ...  \n",
       "564                  0.07115  \n",
       "565                  0.06637  \n",
       "566                  0.07820  \n",
       "567                  0.12400  \n",
       "568                  0.07039  \n",
       "\n",
       "[569 rows x 30 columns]"
      ]
     },
     "execution_count": 18,
     "metadata": {},
     "output_type": "execute_result"
    }
   ],
   "source": [
    "# List of columns to be dropped from the DataFrame\n",
    "list_drop_columns = ['id', 'diagnosis']\n",
    "\n",
    "# Create a new DataFrame df_cancer by dropping specified columns from the original DataFrame df\n",
    "# 'axis=1' specifies that columns should be dropped, 'columns=list_drop_columns' lists the columns to be dropped\n",
    "df_cancer = df.drop(axis=1, columns=list_drop_columns)\n",
    "\n",
    "# Display the prepared DataFrame df_cancer after dropping specified columns\n",
    "df_cancer"
   ]
  },
  {
   "cell_type": "markdown",
   "metadata": {},
   "source": [
    "<div style=\"text-align: left;\">\n",
    "    <h5><strong>Generating Metadata For our df_metadata</strong></h5>\n",
    "</div>"
   ]
  },
  {
   "cell_type": "code",
   "execution_count": 19,
   "metadata": {},
   "outputs": [
    {
     "data": {
      "text/html": [
       "<div>\n",
       "<style scoped>\n",
       "    .dataframe tbody tr th:only-of-type {\n",
       "        vertical-align: middle;\n",
       "    }\n",
       "\n",
       "    .dataframe tbody tr th {\n",
       "        vertical-align: top;\n",
       "    }\n",
       "\n",
       "    .dataframe thead th {\n",
       "        text-align: right;\n",
       "    }\n",
       "</style>\n",
       "<table border=\"1\" class=\"dataframe\">\n",
       "  <thead>\n",
       "    <tr style=\"text-align: right;\">\n",
       "      <th></th>\n",
       "      <th>variable</th>\n",
       "      <th>type</th>\n",
       "      <th>null_count</th>\n",
       "      <th>null_percent</th>\n",
       "      <th>cardinality</th>\n",
       "    </tr>\n",
       "  </thead>\n",
       "  <tbody>\n",
       "    <tr>\n",
       "      <th>0</th>\n",
       "      <td>radius_mean</td>\n",
       "      <td>float64</td>\n",
       "      <td>0</td>\n",
       "      <td>0.0</td>\n",
       "      <td>456</td>\n",
       "    </tr>\n",
       "    <tr>\n",
       "      <th>1</th>\n",
       "      <td>texture_mean</td>\n",
       "      <td>float64</td>\n",
       "      <td>0</td>\n",
       "      <td>0.0</td>\n",
       "      <td>479</td>\n",
       "    </tr>\n",
       "    <tr>\n",
       "      <th>2</th>\n",
       "      <td>perimeter_mean</td>\n",
       "      <td>float64</td>\n",
       "      <td>0</td>\n",
       "      <td>0.0</td>\n",
       "      <td>522</td>\n",
       "    </tr>\n",
       "    <tr>\n",
       "      <th>3</th>\n",
       "      <td>area_mean</td>\n",
       "      <td>float64</td>\n",
       "      <td>0</td>\n",
       "      <td>0.0</td>\n",
       "      <td>539</td>\n",
       "    </tr>\n",
       "    <tr>\n",
       "      <th>4</th>\n",
       "      <td>smoothness_mean</td>\n",
       "      <td>float64</td>\n",
       "      <td>0</td>\n",
       "      <td>0.0</td>\n",
       "      <td>474</td>\n",
       "    </tr>\n",
       "    <tr>\n",
       "      <th>5</th>\n",
       "      <td>compactness_mean</td>\n",
       "      <td>float64</td>\n",
       "      <td>0</td>\n",
       "      <td>0.0</td>\n",
       "      <td>537</td>\n",
       "    </tr>\n",
       "    <tr>\n",
       "      <th>6</th>\n",
       "      <td>concavity_mean</td>\n",
       "      <td>float64</td>\n",
       "      <td>0</td>\n",
       "      <td>0.0</td>\n",
       "      <td>537</td>\n",
       "    </tr>\n",
       "    <tr>\n",
       "      <th>7</th>\n",
       "      <td>concave points_mean</td>\n",
       "      <td>float64</td>\n",
       "      <td>0</td>\n",
       "      <td>0.0</td>\n",
       "      <td>542</td>\n",
       "    </tr>\n",
       "    <tr>\n",
       "      <th>8</th>\n",
       "      <td>symmetry_mean</td>\n",
       "      <td>float64</td>\n",
       "      <td>0</td>\n",
       "      <td>0.0</td>\n",
       "      <td>432</td>\n",
       "    </tr>\n",
       "    <tr>\n",
       "      <th>9</th>\n",
       "      <td>fractal_dimension_mean</td>\n",
       "      <td>float64</td>\n",
       "      <td>0</td>\n",
       "      <td>0.0</td>\n",
       "      <td>499</td>\n",
       "    </tr>\n",
       "    <tr>\n",
       "      <th>10</th>\n",
       "      <td>radius_se</td>\n",
       "      <td>float64</td>\n",
       "      <td>0</td>\n",
       "      <td>0.0</td>\n",
       "      <td>540</td>\n",
       "    </tr>\n",
       "    <tr>\n",
       "      <th>11</th>\n",
       "      <td>texture_se</td>\n",
       "      <td>float64</td>\n",
       "      <td>0</td>\n",
       "      <td>0.0</td>\n",
       "      <td>519</td>\n",
       "    </tr>\n",
       "    <tr>\n",
       "      <th>12</th>\n",
       "      <td>perimeter_se</td>\n",
       "      <td>float64</td>\n",
       "      <td>0</td>\n",
       "      <td>0.0</td>\n",
       "      <td>533</td>\n",
       "    </tr>\n",
       "    <tr>\n",
       "      <th>13</th>\n",
       "      <td>area_se</td>\n",
       "      <td>float64</td>\n",
       "      <td>0</td>\n",
       "      <td>0.0</td>\n",
       "      <td>528</td>\n",
       "    </tr>\n",
       "    <tr>\n",
       "      <th>14</th>\n",
       "      <td>smoothness_se</td>\n",
       "      <td>float64</td>\n",
       "      <td>0</td>\n",
       "      <td>0.0</td>\n",
       "      <td>547</td>\n",
       "    </tr>\n",
       "    <tr>\n",
       "      <th>15</th>\n",
       "      <td>compactness_se</td>\n",
       "      <td>float64</td>\n",
       "      <td>0</td>\n",
       "      <td>0.0</td>\n",
       "      <td>541</td>\n",
       "    </tr>\n",
       "    <tr>\n",
       "      <th>16</th>\n",
       "      <td>concavity_se</td>\n",
       "      <td>float64</td>\n",
       "      <td>0</td>\n",
       "      <td>0.0</td>\n",
       "      <td>533</td>\n",
       "    </tr>\n",
       "    <tr>\n",
       "      <th>17</th>\n",
       "      <td>concave points_se</td>\n",
       "      <td>float64</td>\n",
       "      <td>0</td>\n",
       "      <td>0.0</td>\n",
       "      <td>507</td>\n",
       "    </tr>\n",
       "    <tr>\n",
       "      <th>18</th>\n",
       "      <td>symmetry_se</td>\n",
       "      <td>float64</td>\n",
       "      <td>0</td>\n",
       "      <td>0.0</td>\n",
       "      <td>498</td>\n",
       "    </tr>\n",
       "    <tr>\n",
       "      <th>19</th>\n",
       "      <td>fractal_dimension_se</td>\n",
       "      <td>float64</td>\n",
       "      <td>0</td>\n",
       "      <td>0.0</td>\n",
       "      <td>545</td>\n",
       "    </tr>\n",
       "    <tr>\n",
       "      <th>20</th>\n",
       "      <td>radius_worst</td>\n",
       "      <td>float64</td>\n",
       "      <td>0</td>\n",
       "      <td>0.0</td>\n",
       "      <td>457</td>\n",
       "    </tr>\n",
       "    <tr>\n",
       "      <th>21</th>\n",
       "      <td>texture_worst</td>\n",
       "      <td>float64</td>\n",
       "      <td>0</td>\n",
       "      <td>0.0</td>\n",
       "      <td>511</td>\n",
       "    </tr>\n",
       "    <tr>\n",
       "      <th>22</th>\n",
       "      <td>perimeter_worst</td>\n",
       "      <td>float64</td>\n",
       "      <td>0</td>\n",
       "      <td>0.0</td>\n",
       "      <td>514</td>\n",
       "    </tr>\n",
       "    <tr>\n",
       "      <th>23</th>\n",
       "      <td>area_worst</td>\n",
       "      <td>float64</td>\n",
       "      <td>0</td>\n",
       "      <td>0.0</td>\n",
       "      <td>544</td>\n",
       "    </tr>\n",
       "    <tr>\n",
       "      <th>24</th>\n",
       "      <td>smoothness_worst</td>\n",
       "      <td>float64</td>\n",
       "      <td>0</td>\n",
       "      <td>0.0</td>\n",
       "      <td>411</td>\n",
       "    </tr>\n",
       "    <tr>\n",
       "      <th>25</th>\n",
       "      <td>compactness_worst</td>\n",
       "      <td>float64</td>\n",
       "      <td>0</td>\n",
       "      <td>0.0</td>\n",
       "      <td>529</td>\n",
       "    </tr>\n",
       "    <tr>\n",
       "      <th>26</th>\n",
       "      <td>concavity_worst</td>\n",
       "      <td>float64</td>\n",
       "      <td>0</td>\n",
       "      <td>0.0</td>\n",
       "      <td>539</td>\n",
       "    </tr>\n",
       "    <tr>\n",
       "      <th>27</th>\n",
       "      <td>concave points_worst</td>\n",
       "      <td>float64</td>\n",
       "      <td>0</td>\n",
       "      <td>0.0</td>\n",
       "      <td>492</td>\n",
       "    </tr>\n",
       "    <tr>\n",
       "      <th>28</th>\n",
       "      <td>symmetry_worst</td>\n",
       "      <td>float64</td>\n",
       "      <td>0</td>\n",
       "      <td>0.0</td>\n",
       "      <td>500</td>\n",
       "    </tr>\n",
       "    <tr>\n",
       "      <th>29</th>\n",
       "      <td>fractal_dimension_worst</td>\n",
       "      <td>float64</td>\n",
       "      <td>0</td>\n",
       "      <td>0.0</td>\n",
       "      <td>535</td>\n",
       "    </tr>\n",
       "  </tbody>\n",
       "</table>\n",
       "</div>"
      ],
      "text/plain": [
       "                   variable     type  null_count  null_percent  cardinality\n",
       "0               radius_mean  float64           0           0.0          456\n",
       "1              texture_mean  float64           0           0.0          479\n",
       "2            perimeter_mean  float64           0           0.0          522\n",
       "3                 area_mean  float64           0           0.0          539\n",
       "4           smoothness_mean  float64           0           0.0          474\n",
       "5          compactness_mean  float64           0           0.0          537\n",
       "6            concavity_mean  float64           0           0.0          537\n",
       "7       concave points_mean  float64           0           0.0          542\n",
       "8             symmetry_mean  float64           0           0.0          432\n",
       "9    fractal_dimension_mean  float64           0           0.0          499\n",
       "10                radius_se  float64           0           0.0          540\n",
       "11               texture_se  float64           0           0.0          519\n",
       "12             perimeter_se  float64           0           0.0          533\n",
       "13                  area_se  float64           0           0.0          528\n",
       "14            smoothness_se  float64           0           0.0          547\n",
       "15           compactness_se  float64           0           0.0          541\n",
       "16             concavity_se  float64           0           0.0          533\n",
       "17        concave points_se  float64           0           0.0          507\n",
       "18              symmetry_se  float64           0           0.0          498\n",
       "19     fractal_dimension_se  float64           0           0.0          545\n",
       "20             radius_worst  float64           0           0.0          457\n",
       "21            texture_worst  float64           0           0.0          511\n",
       "22          perimeter_worst  float64           0           0.0          514\n",
       "23               area_worst  float64           0           0.0          544\n",
       "24         smoothness_worst  float64           0           0.0          411\n",
       "25        compactness_worst  float64           0           0.0          529\n",
       "26          concavity_worst  float64           0           0.0          539\n",
       "27     concave points_worst  float64           0           0.0          492\n",
       "28           symmetry_worst  float64           0           0.0          500\n",
       "29  fractal_dimension_worst  float64           0           0.0          535"
      ]
     },
     "execution_count": 19,
     "metadata": {},
     "output_type": "execute_result"
    }
   ],
   "source": [
    "# Generate metadata for the prepared DataFrame df_cancer using the generate_metadata function\n",
    "df_metadata = generate_metadata(df_cancer)\n",
    "\n",
    "# Display the metadata for the prepared DataFrame df_cancer\n",
    "df_metadata"
   ]
  },
  {
   "cell_type": "markdown",
   "metadata": {},
   "source": [
    "\n",
    "<div style=\"text-align: left;\">\n",
    "    <h5><strong>Normalizing our data frame</strong></h5>\n",
    "</div>"
   ]
  },
  {
   "cell_type": "code",
   "execution_count": 20,
   "metadata": {},
   "outputs": [
    {
     "data": {
      "text/html": [
       "<div>\n",
       "<style scoped>\n",
       "    .dataframe tbody tr th:only-of-type {\n",
       "        vertical-align: middle;\n",
       "    }\n",
       "\n",
       "    .dataframe tbody tr th {\n",
       "        vertical-align: top;\n",
       "    }\n",
       "\n",
       "    .dataframe thead th {\n",
       "        text-align: right;\n",
       "    }\n",
       "</style>\n",
       "<table border=\"1\" class=\"dataframe\">\n",
       "  <thead>\n",
       "    <tr style=\"text-align: right;\">\n",
       "      <th></th>\n",
       "      <th>radius_mean</th>\n",
       "      <th>texture_mean</th>\n",
       "      <th>perimeter_mean</th>\n",
       "      <th>area_mean</th>\n",
       "      <th>smoothness_mean</th>\n",
       "      <th>compactness_mean</th>\n",
       "      <th>concavity_mean</th>\n",
       "      <th>concave points_mean</th>\n",
       "      <th>symmetry_mean</th>\n",
       "      <th>fractal_dimension_mean</th>\n",
       "      <th>...</th>\n",
       "      <th>radius_worst</th>\n",
       "      <th>texture_worst</th>\n",
       "      <th>perimeter_worst</th>\n",
       "      <th>area_worst</th>\n",
       "      <th>smoothness_worst</th>\n",
       "      <th>compactness_worst</th>\n",
       "      <th>concavity_worst</th>\n",
       "      <th>concave points_worst</th>\n",
       "      <th>symmetry_worst</th>\n",
       "      <th>fractal_dimension_worst</th>\n",
       "    </tr>\n",
       "  </thead>\n",
       "  <tbody>\n",
       "    <tr>\n",
       "      <th>0</th>\n",
       "      <td>0.521037</td>\n",
       "      <td>0.022658</td>\n",
       "      <td>0.545989</td>\n",
       "      <td>0.363733</td>\n",
       "      <td>0.593753</td>\n",
       "      <td>0.792037</td>\n",
       "      <td>0.703140</td>\n",
       "      <td>0.731113</td>\n",
       "      <td>0.686364</td>\n",
       "      <td>0.605518</td>\n",
       "      <td>...</td>\n",
       "      <td>0.620776</td>\n",
       "      <td>0.141525</td>\n",
       "      <td>0.668310</td>\n",
       "      <td>0.450698</td>\n",
       "      <td>0.601136</td>\n",
       "      <td>0.619292</td>\n",
       "      <td>0.568610</td>\n",
       "      <td>0.912027</td>\n",
       "      <td>0.598462</td>\n",
       "      <td>0.418864</td>\n",
       "    </tr>\n",
       "    <tr>\n",
       "      <th>1</th>\n",
       "      <td>0.643144</td>\n",
       "      <td>0.272574</td>\n",
       "      <td>0.615783</td>\n",
       "      <td>0.501591</td>\n",
       "      <td>0.289880</td>\n",
       "      <td>0.181768</td>\n",
       "      <td>0.203608</td>\n",
       "      <td>0.348757</td>\n",
       "      <td>0.379798</td>\n",
       "      <td>0.141323</td>\n",
       "      <td>...</td>\n",
       "      <td>0.606901</td>\n",
       "      <td>0.303571</td>\n",
       "      <td>0.539818</td>\n",
       "      <td>0.435214</td>\n",
       "      <td>0.347553</td>\n",
       "      <td>0.154563</td>\n",
       "      <td>0.192971</td>\n",
       "      <td>0.639175</td>\n",
       "      <td>0.233590</td>\n",
       "      <td>0.222878</td>\n",
       "    </tr>\n",
       "    <tr>\n",
       "      <th>2</th>\n",
       "      <td>0.601496</td>\n",
       "      <td>0.390260</td>\n",
       "      <td>0.595743</td>\n",
       "      <td>0.449417</td>\n",
       "      <td>0.514309</td>\n",
       "      <td>0.431017</td>\n",
       "      <td>0.462512</td>\n",
       "      <td>0.635686</td>\n",
       "      <td>0.509596</td>\n",
       "      <td>0.211247</td>\n",
       "      <td>...</td>\n",
       "      <td>0.556386</td>\n",
       "      <td>0.360075</td>\n",
       "      <td>0.508442</td>\n",
       "      <td>0.374508</td>\n",
       "      <td>0.483590</td>\n",
       "      <td>0.385375</td>\n",
       "      <td>0.359744</td>\n",
       "      <td>0.835052</td>\n",
       "      <td>0.403706</td>\n",
       "      <td>0.213433</td>\n",
       "    </tr>\n",
       "    <tr>\n",
       "      <th>3</th>\n",
       "      <td>0.210090</td>\n",
       "      <td>0.360839</td>\n",
       "      <td>0.233501</td>\n",
       "      <td>0.102906</td>\n",
       "      <td>0.811321</td>\n",
       "      <td>0.811361</td>\n",
       "      <td>0.565604</td>\n",
       "      <td>0.522863</td>\n",
       "      <td>0.776263</td>\n",
       "      <td>1.000000</td>\n",
       "      <td>...</td>\n",
       "      <td>0.248310</td>\n",
       "      <td>0.385928</td>\n",
       "      <td>0.241347</td>\n",
       "      <td>0.094008</td>\n",
       "      <td>0.915472</td>\n",
       "      <td>0.814012</td>\n",
       "      <td>0.548642</td>\n",
       "      <td>0.884880</td>\n",
       "      <td>1.000000</td>\n",
       "      <td>0.773711</td>\n",
       "    </tr>\n",
       "    <tr>\n",
       "      <th>4</th>\n",
       "      <td>0.629893</td>\n",
       "      <td>0.156578</td>\n",
       "      <td>0.630986</td>\n",
       "      <td>0.489290</td>\n",
       "      <td>0.430351</td>\n",
       "      <td>0.347893</td>\n",
       "      <td>0.463918</td>\n",
       "      <td>0.518390</td>\n",
       "      <td>0.378283</td>\n",
       "      <td>0.186816</td>\n",
       "      <td>...</td>\n",
       "      <td>0.519744</td>\n",
       "      <td>0.123934</td>\n",
       "      <td>0.506948</td>\n",
       "      <td>0.341575</td>\n",
       "      <td>0.437364</td>\n",
       "      <td>0.172415</td>\n",
       "      <td>0.319489</td>\n",
       "      <td>0.558419</td>\n",
       "      <td>0.157500</td>\n",
       "      <td>0.142595</td>\n",
       "    </tr>\n",
       "    <tr>\n",
       "      <th>...</th>\n",
       "      <td>...</td>\n",
       "      <td>...</td>\n",
       "      <td>...</td>\n",
       "      <td>...</td>\n",
       "      <td>...</td>\n",
       "      <td>...</td>\n",
       "      <td>...</td>\n",
       "      <td>...</td>\n",
       "      <td>...</td>\n",
       "      <td>...</td>\n",
       "      <td>...</td>\n",
       "      <td>...</td>\n",
       "      <td>...</td>\n",
       "      <td>...</td>\n",
       "      <td>...</td>\n",
       "      <td>...</td>\n",
       "      <td>...</td>\n",
       "      <td>...</td>\n",
       "      <td>...</td>\n",
       "      <td>...</td>\n",
       "      <td>...</td>\n",
       "    </tr>\n",
       "    <tr>\n",
       "      <th>564</th>\n",
       "      <td>0.690000</td>\n",
       "      <td>0.428813</td>\n",
       "      <td>0.678668</td>\n",
       "      <td>0.566490</td>\n",
       "      <td>0.526948</td>\n",
       "      <td>0.296055</td>\n",
       "      <td>0.571462</td>\n",
       "      <td>0.690358</td>\n",
       "      <td>0.336364</td>\n",
       "      <td>0.132056</td>\n",
       "      <td>...</td>\n",
       "      <td>0.623266</td>\n",
       "      <td>0.383262</td>\n",
       "      <td>0.576174</td>\n",
       "      <td>0.452664</td>\n",
       "      <td>0.461137</td>\n",
       "      <td>0.178527</td>\n",
       "      <td>0.328035</td>\n",
       "      <td>0.761512</td>\n",
       "      <td>0.097575</td>\n",
       "      <td>0.105667</td>\n",
       "    </tr>\n",
       "    <tr>\n",
       "      <th>565</th>\n",
       "      <td>0.622320</td>\n",
       "      <td>0.626987</td>\n",
       "      <td>0.604036</td>\n",
       "      <td>0.474019</td>\n",
       "      <td>0.407782</td>\n",
       "      <td>0.257714</td>\n",
       "      <td>0.337395</td>\n",
       "      <td>0.486630</td>\n",
       "      <td>0.349495</td>\n",
       "      <td>0.113100</td>\n",
       "      <td>...</td>\n",
       "      <td>0.560655</td>\n",
       "      <td>0.699094</td>\n",
       "      <td>0.520892</td>\n",
       "      <td>0.379915</td>\n",
       "      <td>0.300007</td>\n",
       "      <td>0.159997</td>\n",
       "      <td>0.256789</td>\n",
       "      <td>0.559450</td>\n",
       "      <td>0.198502</td>\n",
       "      <td>0.074315</td>\n",
       "    </tr>\n",
       "    <tr>\n",
       "      <th>566</th>\n",
       "      <td>0.455251</td>\n",
       "      <td>0.621238</td>\n",
       "      <td>0.445788</td>\n",
       "      <td>0.303118</td>\n",
       "      <td>0.288165</td>\n",
       "      <td>0.254340</td>\n",
       "      <td>0.216753</td>\n",
       "      <td>0.263519</td>\n",
       "      <td>0.267677</td>\n",
       "      <td>0.137321</td>\n",
       "      <td>...</td>\n",
       "      <td>0.393099</td>\n",
       "      <td>0.589019</td>\n",
       "      <td>0.379949</td>\n",
       "      <td>0.230731</td>\n",
       "      <td>0.282177</td>\n",
       "      <td>0.273705</td>\n",
       "      <td>0.271805</td>\n",
       "      <td>0.487285</td>\n",
       "      <td>0.128721</td>\n",
       "      <td>0.151909</td>\n",
       "    </tr>\n",
       "    <tr>\n",
       "      <th>567</th>\n",
       "      <td>0.644564</td>\n",
       "      <td>0.663510</td>\n",
       "      <td>0.665538</td>\n",
       "      <td>0.475716</td>\n",
       "      <td>0.588336</td>\n",
       "      <td>0.790197</td>\n",
       "      <td>0.823336</td>\n",
       "      <td>0.755467</td>\n",
       "      <td>0.675253</td>\n",
       "      <td>0.425442</td>\n",
       "      <td>...</td>\n",
       "      <td>0.633582</td>\n",
       "      <td>0.730277</td>\n",
       "      <td>0.668310</td>\n",
       "      <td>0.402035</td>\n",
       "      <td>0.619626</td>\n",
       "      <td>0.815758</td>\n",
       "      <td>0.749760</td>\n",
       "      <td>0.910653</td>\n",
       "      <td>0.497142</td>\n",
       "      <td>0.452315</td>\n",
       "    </tr>\n",
       "    <tr>\n",
       "      <th>568</th>\n",
       "      <td>0.036869</td>\n",
       "      <td>0.501522</td>\n",
       "      <td>0.028540</td>\n",
       "      <td>0.015907</td>\n",
       "      <td>0.000000</td>\n",
       "      <td>0.074351</td>\n",
       "      <td>0.000000</td>\n",
       "      <td>0.000000</td>\n",
       "      <td>0.266162</td>\n",
       "      <td>0.187026</td>\n",
       "      <td>...</td>\n",
       "      <td>0.054287</td>\n",
       "      <td>0.489072</td>\n",
       "      <td>0.043578</td>\n",
       "      <td>0.020497</td>\n",
       "      <td>0.124084</td>\n",
       "      <td>0.036043</td>\n",
       "      <td>0.000000</td>\n",
       "      <td>0.000000</td>\n",
       "      <td>0.257441</td>\n",
       "      <td>0.100682</td>\n",
       "    </tr>\n",
       "  </tbody>\n",
       "</table>\n",
       "<p>569 rows × 30 columns</p>\n",
       "</div>"
      ],
      "text/plain": [
       "     radius_mean  texture_mean  perimeter_mean  area_mean  smoothness_mean  \\\n",
       "0       0.521037      0.022658        0.545989   0.363733         0.593753   \n",
       "1       0.643144      0.272574        0.615783   0.501591         0.289880   \n",
       "2       0.601496      0.390260        0.595743   0.449417         0.514309   \n",
       "3       0.210090      0.360839        0.233501   0.102906         0.811321   \n",
       "4       0.629893      0.156578        0.630986   0.489290         0.430351   \n",
       "..           ...           ...             ...        ...              ...   \n",
       "564     0.690000      0.428813        0.678668   0.566490         0.526948   \n",
       "565     0.622320      0.626987        0.604036   0.474019         0.407782   \n",
       "566     0.455251      0.621238        0.445788   0.303118         0.288165   \n",
       "567     0.644564      0.663510        0.665538   0.475716         0.588336   \n",
       "568     0.036869      0.501522        0.028540   0.015907         0.000000   \n",
       "\n",
       "     compactness_mean  concavity_mean  concave points_mean  symmetry_mean  \\\n",
       "0            0.792037        0.703140             0.731113       0.686364   \n",
       "1            0.181768        0.203608             0.348757       0.379798   \n",
       "2            0.431017        0.462512             0.635686       0.509596   \n",
       "3            0.811361        0.565604             0.522863       0.776263   \n",
       "4            0.347893        0.463918             0.518390       0.378283   \n",
       "..                ...             ...                  ...            ...   \n",
       "564          0.296055        0.571462             0.690358       0.336364   \n",
       "565          0.257714        0.337395             0.486630       0.349495   \n",
       "566          0.254340        0.216753             0.263519       0.267677   \n",
       "567          0.790197        0.823336             0.755467       0.675253   \n",
       "568          0.074351        0.000000             0.000000       0.266162   \n",
       "\n",
       "     fractal_dimension_mean  ...  radius_worst  texture_worst  \\\n",
       "0                  0.605518  ...      0.620776       0.141525   \n",
       "1                  0.141323  ...      0.606901       0.303571   \n",
       "2                  0.211247  ...      0.556386       0.360075   \n",
       "3                  1.000000  ...      0.248310       0.385928   \n",
       "4                  0.186816  ...      0.519744       0.123934   \n",
       "..                      ...  ...           ...            ...   \n",
       "564                0.132056  ...      0.623266       0.383262   \n",
       "565                0.113100  ...      0.560655       0.699094   \n",
       "566                0.137321  ...      0.393099       0.589019   \n",
       "567                0.425442  ...      0.633582       0.730277   \n",
       "568                0.187026  ...      0.054287       0.489072   \n",
       "\n",
       "     perimeter_worst  area_worst  smoothness_worst  compactness_worst  \\\n",
       "0           0.668310    0.450698          0.601136           0.619292   \n",
       "1           0.539818    0.435214          0.347553           0.154563   \n",
       "2           0.508442    0.374508          0.483590           0.385375   \n",
       "3           0.241347    0.094008          0.915472           0.814012   \n",
       "4           0.506948    0.341575          0.437364           0.172415   \n",
       "..               ...         ...               ...                ...   \n",
       "564         0.576174    0.452664          0.461137           0.178527   \n",
       "565         0.520892    0.379915          0.300007           0.159997   \n",
       "566         0.379949    0.230731          0.282177           0.273705   \n",
       "567         0.668310    0.402035          0.619626           0.815758   \n",
       "568         0.043578    0.020497          0.124084           0.036043   \n",
       "\n",
       "     concavity_worst  concave points_worst  symmetry_worst  \\\n",
       "0           0.568610              0.912027        0.598462   \n",
       "1           0.192971              0.639175        0.233590   \n",
       "2           0.359744              0.835052        0.403706   \n",
       "3           0.548642              0.884880        1.000000   \n",
       "4           0.319489              0.558419        0.157500   \n",
       "..               ...                   ...             ...   \n",
       "564         0.328035              0.761512        0.097575   \n",
       "565         0.256789              0.559450        0.198502   \n",
       "566         0.271805              0.487285        0.128721   \n",
       "567         0.749760              0.910653        0.497142   \n",
       "568         0.000000              0.000000        0.257441   \n",
       "\n",
       "     fractal_dimension_worst  \n",
       "0                   0.418864  \n",
       "1                   0.222878  \n",
       "2                   0.213433  \n",
       "3                   0.773711  \n",
       "4                   0.142595  \n",
       "..                       ...  \n",
       "564                 0.105667  \n",
       "565                 0.074315  \n",
       "566                 0.151909  \n",
       "567                 0.452315  \n",
       "568                 0.100682  \n",
       "\n",
       "[569 rows x 30 columns]"
      ]
     },
     "execution_count": 20,
     "metadata": {},
     "output_type": "execute_result"
    }
   ],
   "source": [
    "# Scale the numeric columns of the DataFrame df_cancer using the scale_numeric_columns function.\n",
    "# The default scaling method used here is normalization.\n",
    "df_cancer_normal = scale_numeric_columns(df_cancer)  \n",
    "\n",
    "# Display the DataFrame df_cancer_preparation_normal after normalizing the numeric columns.\n",
    "df_cancer_normal"
   ]
  },
  {
   "cell_type": "markdown",
   "metadata": {},
   "source": [
    "\n",
    "<div style=\"text-align: left;\">\n",
    "    <h5><strong>Standardizing our data frame</strong></h5>\n",
    "</div>"
   ]
  },
  {
   "cell_type": "code",
   "execution_count": 21,
   "metadata": {},
   "outputs": [
    {
     "data": {
      "text/html": [
       "<div>\n",
       "<style scoped>\n",
       "    .dataframe tbody tr th:only-of-type {\n",
       "        vertical-align: middle;\n",
       "    }\n",
       "\n",
       "    .dataframe tbody tr th {\n",
       "        vertical-align: top;\n",
       "    }\n",
       "\n",
       "    .dataframe thead th {\n",
       "        text-align: right;\n",
       "    }\n",
       "</style>\n",
       "<table border=\"1\" class=\"dataframe\">\n",
       "  <thead>\n",
       "    <tr style=\"text-align: right;\">\n",
       "      <th></th>\n",
       "      <th>radius_mean</th>\n",
       "      <th>texture_mean</th>\n",
       "      <th>perimeter_mean</th>\n",
       "      <th>area_mean</th>\n",
       "      <th>smoothness_mean</th>\n",
       "      <th>compactness_mean</th>\n",
       "      <th>concavity_mean</th>\n",
       "      <th>concave points_mean</th>\n",
       "      <th>symmetry_mean</th>\n",
       "      <th>fractal_dimension_mean</th>\n",
       "      <th>...</th>\n",
       "      <th>radius_worst</th>\n",
       "      <th>texture_worst</th>\n",
       "      <th>perimeter_worst</th>\n",
       "      <th>area_worst</th>\n",
       "      <th>smoothness_worst</th>\n",
       "      <th>compactness_worst</th>\n",
       "      <th>concavity_worst</th>\n",
       "      <th>concave points_worst</th>\n",
       "      <th>symmetry_worst</th>\n",
       "      <th>fractal_dimension_worst</th>\n",
       "    </tr>\n",
       "  </thead>\n",
       "  <tbody>\n",
       "    <tr>\n",
       "      <th>0</th>\n",
       "      <td>1.097064</td>\n",
       "      <td>-2.073335</td>\n",
       "      <td>1.269934</td>\n",
       "      <td>0.984375</td>\n",
       "      <td>1.568466</td>\n",
       "      <td>3.283515</td>\n",
       "      <td>2.652874</td>\n",
       "      <td>2.532475</td>\n",
       "      <td>2.217515</td>\n",
       "      <td>2.255747</td>\n",
       "      <td>...</td>\n",
       "      <td>1.886690</td>\n",
       "      <td>-1.359293</td>\n",
       "      <td>2.303601</td>\n",
       "      <td>2.001237</td>\n",
       "      <td>1.307686</td>\n",
       "      <td>2.616665</td>\n",
       "      <td>2.109526</td>\n",
       "      <td>2.296076</td>\n",
       "      <td>2.750622</td>\n",
       "      <td>1.937015</td>\n",
       "    </tr>\n",
       "    <tr>\n",
       "      <th>1</th>\n",
       "      <td>1.829821</td>\n",
       "      <td>-0.353632</td>\n",
       "      <td>1.685955</td>\n",
       "      <td>1.908708</td>\n",
       "      <td>-0.826962</td>\n",
       "      <td>-0.487072</td>\n",
       "      <td>-0.023846</td>\n",
       "      <td>0.548144</td>\n",
       "      <td>0.001392</td>\n",
       "      <td>-0.868652</td>\n",
       "      <td>...</td>\n",
       "      <td>1.805927</td>\n",
       "      <td>-0.369203</td>\n",
       "      <td>1.535126</td>\n",
       "      <td>1.890489</td>\n",
       "      <td>-0.375612</td>\n",
       "      <td>-0.430444</td>\n",
       "      <td>-0.146749</td>\n",
       "      <td>1.087084</td>\n",
       "      <td>-0.243890</td>\n",
       "      <td>0.281190</td>\n",
       "    </tr>\n",
       "    <tr>\n",
       "      <th>2</th>\n",
       "      <td>1.579888</td>\n",
       "      <td>0.456187</td>\n",
       "      <td>1.566503</td>\n",
       "      <td>1.558884</td>\n",
       "      <td>0.942210</td>\n",
       "      <td>1.052926</td>\n",
       "      <td>1.363478</td>\n",
       "      <td>2.037231</td>\n",
       "      <td>0.939685</td>\n",
       "      <td>-0.398008</td>\n",
       "      <td>...</td>\n",
       "      <td>1.511870</td>\n",
       "      <td>-0.023974</td>\n",
       "      <td>1.347475</td>\n",
       "      <td>1.456285</td>\n",
       "      <td>0.527407</td>\n",
       "      <td>1.082932</td>\n",
       "      <td>0.854974</td>\n",
       "      <td>1.955000</td>\n",
       "      <td>1.152255</td>\n",
       "      <td>0.201391</td>\n",
       "    </tr>\n",
       "    <tr>\n",
       "      <th>3</th>\n",
       "      <td>-0.768909</td>\n",
       "      <td>0.253732</td>\n",
       "      <td>-0.592687</td>\n",
       "      <td>-0.764464</td>\n",
       "      <td>3.283553</td>\n",
       "      <td>3.402909</td>\n",
       "      <td>1.915897</td>\n",
       "      <td>1.451707</td>\n",
       "      <td>2.867383</td>\n",
       "      <td>4.910919</td>\n",
       "      <td>...</td>\n",
       "      <td>-0.281464</td>\n",
       "      <td>0.133984</td>\n",
       "      <td>-0.249939</td>\n",
       "      <td>-0.550021</td>\n",
       "      <td>3.394275</td>\n",
       "      <td>3.893397</td>\n",
       "      <td>1.989588</td>\n",
       "      <td>2.175786</td>\n",
       "      <td>6.046041</td>\n",
       "      <td>4.935010</td>\n",
       "    </tr>\n",
       "    <tr>\n",
       "      <th>4</th>\n",
       "      <td>1.750297</td>\n",
       "      <td>-1.151816</td>\n",
       "      <td>1.776573</td>\n",
       "      <td>1.826229</td>\n",
       "      <td>0.280372</td>\n",
       "      <td>0.539340</td>\n",
       "      <td>1.371011</td>\n",
       "      <td>1.428493</td>\n",
       "      <td>-0.009560</td>\n",
       "      <td>-0.562450</td>\n",
       "      <td>...</td>\n",
       "      <td>1.298575</td>\n",
       "      <td>-1.466770</td>\n",
       "      <td>1.338539</td>\n",
       "      <td>1.220724</td>\n",
       "      <td>0.220556</td>\n",
       "      <td>-0.313395</td>\n",
       "      <td>0.613179</td>\n",
       "      <td>0.729259</td>\n",
       "      <td>-0.868353</td>\n",
       "      <td>-0.397100</td>\n",
       "    </tr>\n",
       "    <tr>\n",
       "      <th>...</th>\n",
       "      <td>...</td>\n",
       "      <td>...</td>\n",
       "      <td>...</td>\n",
       "      <td>...</td>\n",
       "      <td>...</td>\n",
       "      <td>...</td>\n",
       "      <td>...</td>\n",
       "      <td>...</td>\n",
       "      <td>...</td>\n",
       "      <td>...</td>\n",
       "      <td>...</td>\n",
       "      <td>...</td>\n",
       "      <td>...</td>\n",
       "      <td>...</td>\n",
       "      <td>...</td>\n",
       "      <td>...</td>\n",
       "      <td>...</td>\n",
       "      <td>...</td>\n",
       "      <td>...</td>\n",
       "      <td>...</td>\n",
       "      <td>...</td>\n",
       "    </tr>\n",
       "    <tr>\n",
       "      <th>564</th>\n",
       "      <td>2.110995</td>\n",
       "      <td>0.721473</td>\n",
       "      <td>2.060786</td>\n",
       "      <td>2.343856</td>\n",
       "      <td>1.041842</td>\n",
       "      <td>0.219060</td>\n",
       "      <td>1.947285</td>\n",
       "      <td>2.320965</td>\n",
       "      <td>-0.312589</td>\n",
       "      <td>-0.931027</td>\n",
       "      <td>...</td>\n",
       "      <td>1.901185</td>\n",
       "      <td>0.117700</td>\n",
       "      <td>1.752563</td>\n",
       "      <td>2.015301</td>\n",
       "      <td>0.378365</td>\n",
       "      <td>-0.273318</td>\n",
       "      <td>0.664512</td>\n",
       "      <td>1.629151</td>\n",
       "      <td>-1.360158</td>\n",
       "      <td>-0.709091</td>\n",
       "    </tr>\n",
       "    <tr>\n",
       "      <th>565</th>\n",
       "      <td>1.704854</td>\n",
       "      <td>2.085134</td>\n",
       "      <td>1.615931</td>\n",
       "      <td>1.723842</td>\n",
       "      <td>0.102458</td>\n",
       "      <td>-0.017833</td>\n",
       "      <td>0.693043</td>\n",
       "      <td>1.263669</td>\n",
       "      <td>-0.217664</td>\n",
       "      <td>-1.058611</td>\n",
       "      <td>...</td>\n",
       "      <td>1.536720</td>\n",
       "      <td>2.047399</td>\n",
       "      <td>1.421940</td>\n",
       "      <td>1.494959</td>\n",
       "      <td>-0.691230</td>\n",
       "      <td>-0.394820</td>\n",
       "      <td>0.236573</td>\n",
       "      <td>0.733827</td>\n",
       "      <td>-0.531855</td>\n",
       "      <td>-0.973978</td>\n",
       "    </tr>\n",
       "    <tr>\n",
       "      <th>566</th>\n",
       "      <td>0.702284</td>\n",
       "      <td>2.045574</td>\n",
       "      <td>0.672676</td>\n",
       "      <td>0.577953</td>\n",
       "      <td>-0.840484</td>\n",
       "      <td>-0.038680</td>\n",
       "      <td>0.046588</td>\n",
       "      <td>0.105777</td>\n",
       "      <td>-0.809117</td>\n",
       "      <td>-0.895587</td>\n",
       "      <td>...</td>\n",
       "      <td>0.561361</td>\n",
       "      <td>1.374854</td>\n",
       "      <td>0.579001</td>\n",
       "      <td>0.427906</td>\n",
       "      <td>-0.809587</td>\n",
       "      <td>0.350735</td>\n",
       "      <td>0.326767</td>\n",
       "      <td>0.414069</td>\n",
       "      <td>-1.104549</td>\n",
       "      <td>-0.318409</td>\n",
       "    </tr>\n",
       "    <tr>\n",
       "      <th>567</th>\n",
       "      <td>1.838341</td>\n",
       "      <td>2.336457</td>\n",
       "      <td>1.982524</td>\n",
       "      <td>1.735218</td>\n",
       "      <td>1.525767</td>\n",
       "      <td>3.272144</td>\n",
       "      <td>3.296944</td>\n",
       "      <td>2.658866</td>\n",
       "      <td>2.137194</td>\n",
       "      <td>1.043695</td>\n",
       "      <td>...</td>\n",
       "      <td>1.961239</td>\n",
       "      <td>2.237926</td>\n",
       "      <td>2.303601</td>\n",
       "      <td>1.653171</td>\n",
       "      <td>1.430427</td>\n",
       "      <td>3.904848</td>\n",
       "      <td>3.197605</td>\n",
       "      <td>2.289985</td>\n",
       "      <td>1.919083</td>\n",
       "      <td>2.219635</td>\n",
       "    </tr>\n",
       "    <tr>\n",
       "      <th>568</th>\n",
       "      <td>-1.808401</td>\n",
       "      <td>1.221792</td>\n",
       "      <td>-1.814389</td>\n",
       "      <td>-1.347789</td>\n",
       "      <td>-3.112085</td>\n",
       "      <td>-1.150752</td>\n",
       "      <td>-1.114873</td>\n",
       "      <td>-1.261820</td>\n",
       "      <td>-0.820070</td>\n",
       "      <td>-0.561032</td>\n",
       "      <td>...</td>\n",
       "      <td>-1.410893</td>\n",
       "      <td>0.764190</td>\n",
       "      <td>-1.432735</td>\n",
       "      <td>-1.075813</td>\n",
       "      <td>-1.859019</td>\n",
       "      <td>-1.207552</td>\n",
       "      <td>-1.305831</td>\n",
       "      <td>-1.745063</td>\n",
       "      <td>-0.048138</td>\n",
       "      <td>-0.751207</td>\n",
       "    </tr>\n",
       "  </tbody>\n",
       "</table>\n",
       "<p>569 rows × 30 columns</p>\n",
       "</div>"
      ],
      "text/plain": [
       "     radius_mean  texture_mean  perimeter_mean  area_mean  smoothness_mean  \\\n",
       "0       1.097064     -2.073335        1.269934   0.984375         1.568466   \n",
       "1       1.829821     -0.353632        1.685955   1.908708        -0.826962   \n",
       "2       1.579888      0.456187        1.566503   1.558884         0.942210   \n",
       "3      -0.768909      0.253732       -0.592687  -0.764464         3.283553   \n",
       "4       1.750297     -1.151816        1.776573   1.826229         0.280372   \n",
       "..           ...           ...             ...        ...              ...   \n",
       "564     2.110995      0.721473        2.060786   2.343856         1.041842   \n",
       "565     1.704854      2.085134        1.615931   1.723842         0.102458   \n",
       "566     0.702284      2.045574        0.672676   0.577953        -0.840484   \n",
       "567     1.838341      2.336457        1.982524   1.735218         1.525767   \n",
       "568    -1.808401      1.221792       -1.814389  -1.347789        -3.112085   \n",
       "\n",
       "     compactness_mean  concavity_mean  concave points_mean  symmetry_mean  \\\n",
       "0            3.283515        2.652874             2.532475       2.217515   \n",
       "1           -0.487072       -0.023846             0.548144       0.001392   \n",
       "2            1.052926        1.363478             2.037231       0.939685   \n",
       "3            3.402909        1.915897             1.451707       2.867383   \n",
       "4            0.539340        1.371011             1.428493      -0.009560   \n",
       "..                ...             ...                  ...            ...   \n",
       "564          0.219060        1.947285             2.320965      -0.312589   \n",
       "565         -0.017833        0.693043             1.263669      -0.217664   \n",
       "566         -0.038680        0.046588             0.105777      -0.809117   \n",
       "567          3.272144        3.296944             2.658866       2.137194   \n",
       "568         -1.150752       -1.114873            -1.261820      -0.820070   \n",
       "\n",
       "     fractal_dimension_mean  ...  radius_worst  texture_worst  \\\n",
       "0                  2.255747  ...      1.886690      -1.359293   \n",
       "1                 -0.868652  ...      1.805927      -0.369203   \n",
       "2                 -0.398008  ...      1.511870      -0.023974   \n",
       "3                  4.910919  ...     -0.281464       0.133984   \n",
       "4                 -0.562450  ...      1.298575      -1.466770   \n",
       "..                      ...  ...           ...            ...   \n",
       "564               -0.931027  ...      1.901185       0.117700   \n",
       "565               -1.058611  ...      1.536720       2.047399   \n",
       "566               -0.895587  ...      0.561361       1.374854   \n",
       "567                1.043695  ...      1.961239       2.237926   \n",
       "568               -0.561032  ...     -1.410893       0.764190   \n",
       "\n",
       "     perimeter_worst  area_worst  smoothness_worst  compactness_worst  \\\n",
       "0           2.303601    2.001237          1.307686           2.616665   \n",
       "1           1.535126    1.890489         -0.375612          -0.430444   \n",
       "2           1.347475    1.456285          0.527407           1.082932   \n",
       "3          -0.249939   -0.550021          3.394275           3.893397   \n",
       "4           1.338539    1.220724          0.220556          -0.313395   \n",
       "..               ...         ...               ...                ...   \n",
       "564         1.752563    2.015301          0.378365          -0.273318   \n",
       "565         1.421940    1.494959         -0.691230          -0.394820   \n",
       "566         0.579001    0.427906         -0.809587           0.350735   \n",
       "567         2.303601    1.653171          1.430427           3.904848   \n",
       "568        -1.432735   -1.075813         -1.859019          -1.207552   \n",
       "\n",
       "     concavity_worst  concave points_worst  symmetry_worst  \\\n",
       "0           2.109526              2.296076        2.750622   \n",
       "1          -0.146749              1.087084       -0.243890   \n",
       "2           0.854974              1.955000        1.152255   \n",
       "3           1.989588              2.175786        6.046041   \n",
       "4           0.613179              0.729259       -0.868353   \n",
       "..               ...                   ...             ...   \n",
       "564         0.664512              1.629151       -1.360158   \n",
       "565         0.236573              0.733827       -0.531855   \n",
       "566         0.326767              0.414069       -1.104549   \n",
       "567         3.197605              2.289985        1.919083   \n",
       "568        -1.305831             -1.745063       -0.048138   \n",
       "\n",
       "     fractal_dimension_worst  \n",
       "0                   1.937015  \n",
       "1                   0.281190  \n",
       "2                   0.201391  \n",
       "3                   4.935010  \n",
       "4                  -0.397100  \n",
       "..                       ...  \n",
       "564                -0.709091  \n",
       "565                -0.973978  \n",
       "566                -0.318409  \n",
       "567                 2.219635  \n",
       "568                -0.751207  \n",
       "\n",
       "[569 rows x 30 columns]"
      ]
     },
     "execution_count": 21,
     "metadata": {},
     "output_type": "execute_result"
    }
   ],
   "source": [
    "# Scale the numeric columns of the DataFrame df_cancer using the scale_numeric_columns function.\n",
    "# The method parameter is explicitly set to 'standardize', indicating standardization as the scaling method.\n",
    "# The default method if not specified is 'normalize'.\n",
    "df_cancer_standard = scale_numeric_columns(df_cancer, method='standardize')  \n",
    "\n",
    "# Display the DataFrame df_cancer_standard after standardizing the numeric columns.\n",
    "df_cancer_standard"
   ]
  },
  {
   "cell_type": "markdown",
   "metadata": {},
   "source": [
    "\n",
    "<div style=\"text-align: left;\">\n",
    "    <h5><strong>Adding diagonsis column to our satndardized data frame</strong></h5>\n",
    "</div>"
   ]
  },
  {
   "cell_type": "code",
   "execution_count": 22,
   "metadata": {},
   "outputs": [
    {
     "data": {
      "text/html": [
       "<div>\n",
       "<style scoped>\n",
       "    .dataframe tbody tr th:only-of-type {\n",
       "        vertical-align: middle;\n",
       "    }\n",
       "\n",
       "    .dataframe tbody tr th {\n",
       "        vertical-align: top;\n",
       "    }\n",
       "\n",
       "    .dataframe thead th {\n",
       "        text-align: right;\n",
       "    }\n",
       "</style>\n",
       "<table border=\"1\" class=\"dataframe\">\n",
       "  <thead>\n",
       "    <tr style=\"text-align: right;\">\n",
       "      <th></th>\n",
       "      <th>radius_mean</th>\n",
       "      <th>texture_mean</th>\n",
       "      <th>perimeter_mean</th>\n",
       "      <th>area_mean</th>\n",
       "      <th>smoothness_mean</th>\n",
       "      <th>compactness_mean</th>\n",
       "      <th>concavity_mean</th>\n",
       "      <th>concave points_mean</th>\n",
       "      <th>symmetry_mean</th>\n",
       "      <th>fractal_dimension_mean</th>\n",
       "      <th>...</th>\n",
       "      <th>texture_worst</th>\n",
       "      <th>perimeter_worst</th>\n",
       "      <th>area_worst</th>\n",
       "      <th>smoothness_worst</th>\n",
       "      <th>compactness_worst</th>\n",
       "      <th>concavity_worst</th>\n",
       "      <th>concave points_worst</th>\n",
       "      <th>symmetry_worst</th>\n",
       "      <th>fractal_dimension_worst</th>\n",
       "      <th>diagnosis</th>\n",
       "    </tr>\n",
       "  </thead>\n",
       "  <tbody>\n",
       "    <tr>\n",
       "      <th>0</th>\n",
       "      <td>1.097064</td>\n",
       "      <td>-2.073335</td>\n",
       "      <td>1.269934</td>\n",
       "      <td>0.984375</td>\n",
       "      <td>1.568466</td>\n",
       "      <td>3.283515</td>\n",
       "      <td>2.652874</td>\n",
       "      <td>2.532475</td>\n",
       "      <td>2.217515</td>\n",
       "      <td>2.255747</td>\n",
       "      <td>...</td>\n",
       "      <td>-1.359293</td>\n",
       "      <td>2.303601</td>\n",
       "      <td>2.001237</td>\n",
       "      <td>1.307686</td>\n",
       "      <td>2.616665</td>\n",
       "      <td>2.109526</td>\n",
       "      <td>2.296076</td>\n",
       "      <td>2.750622</td>\n",
       "      <td>1.937015</td>\n",
       "      <td>M</td>\n",
       "    </tr>\n",
       "    <tr>\n",
       "      <th>1</th>\n",
       "      <td>1.829821</td>\n",
       "      <td>-0.353632</td>\n",
       "      <td>1.685955</td>\n",
       "      <td>1.908708</td>\n",
       "      <td>-0.826962</td>\n",
       "      <td>-0.487072</td>\n",
       "      <td>-0.023846</td>\n",
       "      <td>0.548144</td>\n",
       "      <td>0.001392</td>\n",
       "      <td>-0.868652</td>\n",
       "      <td>...</td>\n",
       "      <td>-0.369203</td>\n",
       "      <td>1.535126</td>\n",
       "      <td>1.890489</td>\n",
       "      <td>-0.375612</td>\n",
       "      <td>-0.430444</td>\n",
       "      <td>-0.146749</td>\n",
       "      <td>1.087084</td>\n",
       "      <td>-0.243890</td>\n",
       "      <td>0.281190</td>\n",
       "      <td>M</td>\n",
       "    </tr>\n",
       "    <tr>\n",
       "      <th>2</th>\n",
       "      <td>1.579888</td>\n",
       "      <td>0.456187</td>\n",
       "      <td>1.566503</td>\n",
       "      <td>1.558884</td>\n",
       "      <td>0.942210</td>\n",
       "      <td>1.052926</td>\n",
       "      <td>1.363478</td>\n",
       "      <td>2.037231</td>\n",
       "      <td>0.939685</td>\n",
       "      <td>-0.398008</td>\n",
       "      <td>...</td>\n",
       "      <td>-0.023974</td>\n",
       "      <td>1.347475</td>\n",
       "      <td>1.456285</td>\n",
       "      <td>0.527407</td>\n",
       "      <td>1.082932</td>\n",
       "      <td>0.854974</td>\n",
       "      <td>1.955000</td>\n",
       "      <td>1.152255</td>\n",
       "      <td>0.201391</td>\n",
       "      <td>M</td>\n",
       "    </tr>\n",
       "    <tr>\n",
       "      <th>3</th>\n",
       "      <td>-0.768909</td>\n",
       "      <td>0.253732</td>\n",
       "      <td>-0.592687</td>\n",
       "      <td>-0.764464</td>\n",
       "      <td>3.283553</td>\n",
       "      <td>3.402909</td>\n",
       "      <td>1.915897</td>\n",
       "      <td>1.451707</td>\n",
       "      <td>2.867383</td>\n",
       "      <td>4.910919</td>\n",
       "      <td>...</td>\n",
       "      <td>0.133984</td>\n",
       "      <td>-0.249939</td>\n",
       "      <td>-0.550021</td>\n",
       "      <td>3.394275</td>\n",
       "      <td>3.893397</td>\n",
       "      <td>1.989588</td>\n",
       "      <td>2.175786</td>\n",
       "      <td>6.046041</td>\n",
       "      <td>4.935010</td>\n",
       "      <td>M</td>\n",
       "    </tr>\n",
       "    <tr>\n",
       "      <th>4</th>\n",
       "      <td>1.750297</td>\n",
       "      <td>-1.151816</td>\n",
       "      <td>1.776573</td>\n",
       "      <td>1.826229</td>\n",
       "      <td>0.280372</td>\n",
       "      <td>0.539340</td>\n",
       "      <td>1.371011</td>\n",
       "      <td>1.428493</td>\n",
       "      <td>-0.009560</td>\n",
       "      <td>-0.562450</td>\n",
       "      <td>...</td>\n",
       "      <td>-1.466770</td>\n",
       "      <td>1.338539</td>\n",
       "      <td>1.220724</td>\n",
       "      <td>0.220556</td>\n",
       "      <td>-0.313395</td>\n",
       "      <td>0.613179</td>\n",
       "      <td>0.729259</td>\n",
       "      <td>-0.868353</td>\n",
       "      <td>-0.397100</td>\n",
       "      <td>M</td>\n",
       "    </tr>\n",
       "    <tr>\n",
       "      <th>...</th>\n",
       "      <td>...</td>\n",
       "      <td>...</td>\n",
       "      <td>...</td>\n",
       "      <td>...</td>\n",
       "      <td>...</td>\n",
       "      <td>...</td>\n",
       "      <td>...</td>\n",
       "      <td>...</td>\n",
       "      <td>...</td>\n",
       "      <td>...</td>\n",
       "      <td>...</td>\n",
       "      <td>...</td>\n",
       "      <td>...</td>\n",
       "      <td>...</td>\n",
       "      <td>...</td>\n",
       "      <td>...</td>\n",
       "      <td>...</td>\n",
       "      <td>...</td>\n",
       "      <td>...</td>\n",
       "      <td>...</td>\n",
       "      <td>...</td>\n",
       "    </tr>\n",
       "    <tr>\n",
       "      <th>564</th>\n",
       "      <td>2.110995</td>\n",
       "      <td>0.721473</td>\n",
       "      <td>2.060786</td>\n",
       "      <td>2.343856</td>\n",
       "      <td>1.041842</td>\n",
       "      <td>0.219060</td>\n",
       "      <td>1.947285</td>\n",
       "      <td>2.320965</td>\n",
       "      <td>-0.312589</td>\n",
       "      <td>-0.931027</td>\n",
       "      <td>...</td>\n",
       "      <td>0.117700</td>\n",
       "      <td>1.752563</td>\n",
       "      <td>2.015301</td>\n",
       "      <td>0.378365</td>\n",
       "      <td>-0.273318</td>\n",
       "      <td>0.664512</td>\n",
       "      <td>1.629151</td>\n",
       "      <td>-1.360158</td>\n",
       "      <td>-0.709091</td>\n",
       "      <td>M</td>\n",
       "    </tr>\n",
       "    <tr>\n",
       "      <th>565</th>\n",
       "      <td>1.704854</td>\n",
       "      <td>2.085134</td>\n",
       "      <td>1.615931</td>\n",
       "      <td>1.723842</td>\n",
       "      <td>0.102458</td>\n",
       "      <td>-0.017833</td>\n",
       "      <td>0.693043</td>\n",
       "      <td>1.263669</td>\n",
       "      <td>-0.217664</td>\n",
       "      <td>-1.058611</td>\n",
       "      <td>...</td>\n",
       "      <td>2.047399</td>\n",
       "      <td>1.421940</td>\n",
       "      <td>1.494959</td>\n",
       "      <td>-0.691230</td>\n",
       "      <td>-0.394820</td>\n",
       "      <td>0.236573</td>\n",
       "      <td>0.733827</td>\n",
       "      <td>-0.531855</td>\n",
       "      <td>-0.973978</td>\n",
       "      <td>M</td>\n",
       "    </tr>\n",
       "    <tr>\n",
       "      <th>566</th>\n",
       "      <td>0.702284</td>\n",
       "      <td>2.045574</td>\n",
       "      <td>0.672676</td>\n",
       "      <td>0.577953</td>\n",
       "      <td>-0.840484</td>\n",
       "      <td>-0.038680</td>\n",
       "      <td>0.046588</td>\n",
       "      <td>0.105777</td>\n",
       "      <td>-0.809117</td>\n",
       "      <td>-0.895587</td>\n",
       "      <td>...</td>\n",
       "      <td>1.374854</td>\n",
       "      <td>0.579001</td>\n",
       "      <td>0.427906</td>\n",
       "      <td>-0.809587</td>\n",
       "      <td>0.350735</td>\n",
       "      <td>0.326767</td>\n",
       "      <td>0.414069</td>\n",
       "      <td>-1.104549</td>\n",
       "      <td>-0.318409</td>\n",
       "      <td>M</td>\n",
       "    </tr>\n",
       "    <tr>\n",
       "      <th>567</th>\n",
       "      <td>1.838341</td>\n",
       "      <td>2.336457</td>\n",
       "      <td>1.982524</td>\n",
       "      <td>1.735218</td>\n",
       "      <td>1.525767</td>\n",
       "      <td>3.272144</td>\n",
       "      <td>3.296944</td>\n",
       "      <td>2.658866</td>\n",
       "      <td>2.137194</td>\n",
       "      <td>1.043695</td>\n",
       "      <td>...</td>\n",
       "      <td>2.237926</td>\n",
       "      <td>2.303601</td>\n",
       "      <td>1.653171</td>\n",
       "      <td>1.430427</td>\n",
       "      <td>3.904848</td>\n",
       "      <td>3.197605</td>\n",
       "      <td>2.289985</td>\n",
       "      <td>1.919083</td>\n",
       "      <td>2.219635</td>\n",
       "      <td>M</td>\n",
       "    </tr>\n",
       "    <tr>\n",
       "      <th>568</th>\n",
       "      <td>-1.808401</td>\n",
       "      <td>1.221792</td>\n",
       "      <td>-1.814389</td>\n",
       "      <td>-1.347789</td>\n",
       "      <td>-3.112085</td>\n",
       "      <td>-1.150752</td>\n",
       "      <td>-1.114873</td>\n",
       "      <td>-1.261820</td>\n",
       "      <td>-0.820070</td>\n",
       "      <td>-0.561032</td>\n",
       "      <td>...</td>\n",
       "      <td>0.764190</td>\n",
       "      <td>-1.432735</td>\n",
       "      <td>-1.075813</td>\n",
       "      <td>-1.859019</td>\n",
       "      <td>-1.207552</td>\n",
       "      <td>-1.305831</td>\n",
       "      <td>-1.745063</td>\n",
       "      <td>-0.048138</td>\n",
       "      <td>-0.751207</td>\n",
       "      <td>B</td>\n",
       "    </tr>\n",
       "  </tbody>\n",
       "</table>\n",
       "<p>569 rows × 31 columns</p>\n",
       "</div>"
      ],
      "text/plain": [
       "     radius_mean  texture_mean  perimeter_mean  area_mean  smoothness_mean  \\\n",
       "0       1.097064     -2.073335        1.269934   0.984375         1.568466   \n",
       "1       1.829821     -0.353632        1.685955   1.908708        -0.826962   \n",
       "2       1.579888      0.456187        1.566503   1.558884         0.942210   \n",
       "3      -0.768909      0.253732       -0.592687  -0.764464         3.283553   \n",
       "4       1.750297     -1.151816        1.776573   1.826229         0.280372   \n",
       "..           ...           ...             ...        ...              ...   \n",
       "564     2.110995      0.721473        2.060786   2.343856         1.041842   \n",
       "565     1.704854      2.085134        1.615931   1.723842         0.102458   \n",
       "566     0.702284      2.045574        0.672676   0.577953        -0.840484   \n",
       "567     1.838341      2.336457        1.982524   1.735218         1.525767   \n",
       "568    -1.808401      1.221792       -1.814389  -1.347789        -3.112085   \n",
       "\n",
       "     compactness_mean  concavity_mean  concave points_mean  symmetry_mean  \\\n",
       "0            3.283515        2.652874             2.532475       2.217515   \n",
       "1           -0.487072       -0.023846             0.548144       0.001392   \n",
       "2            1.052926        1.363478             2.037231       0.939685   \n",
       "3            3.402909        1.915897             1.451707       2.867383   \n",
       "4            0.539340        1.371011             1.428493      -0.009560   \n",
       "..                ...             ...                  ...            ...   \n",
       "564          0.219060        1.947285             2.320965      -0.312589   \n",
       "565         -0.017833        0.693043             1.263669      -0.217664   \n",
       "566         -0.038680        0.046588             0.105777      -0.809117   \n",
       "567          3.272144        3.296944             2.658866       2.137194   \n",
       "568         -1.150752       -1.114873            -1.261820      -0.820070   \n",
       "\n",
       "     fractal_dimension_mean  ...  texture_worst  perimeter_worst  area_worst  \\\n",
       "0                  2.255747  ...      -1.359293         2.303601    2.001237   \n",
       "1                 -0.868652  ...      -0.369203         1.535126    1.890489   \n",
       "2                 -0.398008  ...      -0.023974         1.347475    1.456285   \n",
       "3                  4.910919  ...       0.133984        -0.249939   -0.550021   \n",
       "4                 -0.562450  ...      -1.466770         1.338539    1.220724   \n",
       "..                      ...  ...            ...              ...         ...   \n",
       "564               -0.931027  ...       0.117700         1.752563    2.015301   \n",
       "565               -1.058611  ...       2.047399         1.421940    1.494959   \n",
       "566               -0.895587  ...       1.374854         0.579001    0.427906   \n",
       "567                1.043695  ...       2.237926         2.303601    1.653171   \n",
       "568               -0.561032  ...       0.764190        -1.432735   -1.075813   \n",
       "\n",
       "     smoothness_worst  compactness_worst  concavity_worst  \\\n",
       "0            1.307686           2.616665         2.109526   \n",
       "1           -0.375612          -0.430444        -0.146749   \n",
       "2            0.527407           1.082932         0.854974   \n",
       "3            3.394275           3.893397         1.989588   \n",
       "4            0.220556          -0.313395         0.613179   \n",
       "..                ...                ...              ...   \n",
       "564          0.378365          -0.273318         0.664512   \n",
       "565         -0.691230          -0.394820         0.236573   \n",
       "566         -0.809587           0.350735         0.326767   \n",
       "567          1.430427           3.904848         3.197605   \n",
       "568         -1.859019          -1.207552        -1.305831   \n",
       "\n",
       "     concave points_worst  symmetry_worst  fractal_dimension_worst  diagnosis  \n",
       "0                2.296076        2.750622                 1.937015          M  \n",
       "1                1.087084       -0.243890                 0.281190          M  \n",
       "2                1.955000        1.152255                 0.201391          M  \n",
       "3                2.175786        6.046041                 4.935010          M  \n",
       "4                0.729259       -0.868353                -0.397100          M  \n",
       "..                    ...             ...                      ...        ...  \n",
       "564              1.629151       -1.360158                -0.709091          M  \n",
       "565              0.733827       -0.531855                -0.973978          M  \n",
       "566              0.414069       -1.104549                -0.318409          M  \n",
       "567              2.289985        1.919083                 2.219635          M  \n",
       "568             -1.745063       -0.048138                -0.751207          B  \n",
       "\n",
       "[569 rows x 31 columns]"
      ]
     },
     "execution_count": 22,
     "metadata": {},
     "output_type": "execute_result"
    }
   ],
   "source": [
    "# Merge the DataFrame containing standardized numeric columns (df_cancer_standard)\n",
    "# with the 'diagnosis' column from the original DataFrame (df).\n",
    "# The merge is performed based on the indexes of both DataFrames (left_index=True, right_index=True) and using an inner join (how='inner').\n",
    "df_cancer_selection_standard = pd.merge(df_cancer_standard, df[['diagnosis']], left_index=True, right_index=True, how='inner')\n",
    "\n",
    "# Display the resulting DataFrame df_cancer_selection_standard after the merge operation.\n",
    "df_cancer_selection_standard"
   ]
  },
  {
   "cell_type": "markdown",
   "metadata": {},
   "source": [
    "<div style=\"text-align: left;\">\n",
    "    <h5><strong>Generating Metadata For our Standardized data</strong></h5>\n",
    "</div>"
   ]
  },
  {
   "cell_type": "code",
   "execution_count": 23,
   "metadata": {},
   "outputs": [
    {
     "data": {
      "text/html": [
       "<div>\n",
       "<style scoped>\n",
       "    .dataframe tbody tr th:only-of-type {\n",
       "        vertical-align: middle;\n",
       "    }\n",
       "\n",
       "    .dataframe tbody tr th {\n",
       "        vertical-align: top;\n",
       "    }\n",
       "\n",
       "    .dataframe thead th {\n",
       "        text-align: right;\n",
       "    }\n",
       "</style>\n",
       "<table border=\"1\" class=\"dataframe\">\n",
       "  <thead>\n",
       "    <tr style=\"text-align: right;\">\n",
       "      <th></th>\n",
       "      <th>variable</th>\n",
       "      <th>type</th>\n",
       "      <th>null_count</th>\n",
       "      <th>null_percent</th>\n",
       "      <th>cardinality</th>\n",
       "    </tr>\n",
       "  </thead>\n",
       "  <tbody>\n",
       "    <tr>\n",
       "      <th>0</th>\n",
       "      <td>radius_mean</td>\n",
       "      <td>float64</td>\n",
       "      <td>0</td>\n",
       "      <td>0.0</td>\n",
       "      <td>456</td>\n",
       "    </tr>\n",
       "    <tr>\n",
       "      <th>1</th>\n",
       "      <td>texture_mean</td>\n",
       "      <td>float64</td>\n",
       "      <td>0</td>\n",
       "      <td>0.0</td>\n",
       "      <td>479</td>\n",
       "    </tr>\n",
       "    <tr>\n",
       "      <th>2</th>\n",
       "      <td>perimeter_mean</td>\n",
       "      <td>float64</td>\n",
       "      <td>0</td>\n",
       "      <td>0.0</td>\n",
       "      <td>522</td>\n",
       "    </tr>\n",
       "    <tr>\n",
       "      <th>3</th>\n",
       "      <td>area_mean</td>\n",
       "      <td>float64</td>\n",
       "      <td>0</td>\n",
       "      <td>0.0</td>\n",
       "      <td>539</td>\n",
       "    </tr>\n",
       "    <tr>\n",
       "      <th>4</th>\n",
       "      <td>smoothness_mean</td>\n",
       "      <td>float64</td>\n",
       "      <td>0</td>\n",
       "      <td>0.0</td>\n",
       "      <td>474</td>\n",
       "    </tr>\n",
       "    <tr>\n",
       "      <th>5</th>\n",
       "      <td>compactness_mean</td>\n",
       "      <td>float64</td>\n",
       "      <td>0</td>\n",
       "      <td>0.0</td>\n",
       "      <td>537</td>\n",
       "    </tr>\n",
       "    <tr>\n",
       "      <th>6</th>\n",
       "      <td>concavity_mean</td>\n",
       "      <td>float64</td>\n",
       "      <td>0</td>\n",
       "      <td>0.0</td>\n",
       "      <td>537</td>\n",
       "    </tr>\n",
       "    <tr>\n",
       "      <th>7</th>\n",
       "      <td>concave points_mean</td>\n",
       "      <td>float64</td>\n",
       "      <td>0</td>\n",
       "      <td>0.0</td>\n",
       "      <td>542</td>\n",
       "    </tr>\n",
       "    <tr>\n",
       "      <th>8</th>\n",
       "      <td>symmetry_mean</td>\n",
       "      <td>float64</td>\n",
       "      <td>0</td>\n",
       "      <td>0.0</td>\n",
       "      <td>432</td>\n",
       "    </tr>\n",
       "    <tr>\n",
       "      <th>9</th>\n",
       "      <td>fractal_dimension_mean</td>\n",
       "      <td>float64</td>\n",
       "      <td>0</td>\n",
       "      <td>0.0</td>\n",
       "      <td>499</td>\n",
       "    </tr>\n",
       "    <tr>\n",
       "      <th>10</th>\n",
       "      <td>radius_se</td>\n",
       "      <td>float64</td>\n",
       "      <td>0</td>\n",
       "      <td>0.0</td>\n",
       "      <td>540</td>\n",
       "    </tr>\n",
       "    <tr>\n",
       "      <th>11</th>\n",
       "      <td>texture_se</td>\n",
       "      <td>float64</td>\n",
       "      <td>0</td>\n",
       "      <td>0.0</td>\n",
       "      <td>519</td>\n",
       "    </tr>\n",
       "    <tr>\n",
       "      <th>12</th>\n",
       "      <td>perimeter_se</td>\n",
       "      <td>float64</td>\n",
       "      <td>0</td>\n",
       "      <td>0.0</td>\n",
       "      <td>533</td>\n",
       "    </tr>\n",
       "    <tr>\n",
       "      <th>13</th>\n",
       "      <td>area_se</td>\n",
       "      <td>float64</td>\n",
       "      <td>0</td>\n",
       "      <td>0.0</td>\n",
       "      <td>528</td>\n",
       "    </tr>\n",
       "    <tr>\n",
       "      <th>14</th>\n",
       "      <td>smoothness_se</td>\n",
       "      <td>float64</td>\n",
       "      <td>0</td>\n",
       "      <td>0.0</td>\n",
       "      <td>547</td>\n",
       "    </tr>\n",
       "    <tr>\n",
       "      <th>15</th>\n",
       "      <td>compactness_se</td>\n",
       "      <td>float64</td>\n",
       "      <td>0</td>\n",
       "      <td>0.0</td>\n",
       "      <td>541</td>\n",
       "    </tr>\n",
       "    <tr>\n",
       "      <th>16</th>\n",
       "      <td>concavity_se</td>\n",
       "      <td>float64</td>\n",
       "      <td>0</td>\n",
       "      <td>0.0</td>\n",
       "      <td>533</td>\n",
       "    </tr>\n",
       "    <tr>\n",
       "      <th>17</th>\n",
       "      <td>concave points_se</td>\n",
       "      <td>float64</td>\n",
       "      <td>0</td>\n",
       "      <td>0.0</td>\n",
       "      <td>507</td>\n",
       "    </tr>\n",
       "    <tr>\n",
       "      <th>18</th>\n",
       "      <td>symmetry_se</td>\n",
       "      <td>float64</td>\n",
       "      <td>0</td>\n",
       "      <td>0.0</td>\n",
       "      <td>498</td>\n",
       "    </tr>\n",
       "    <tr>\n",
       "      <th>19</th>\n",
       "      <td>fractal_dimension_se</td>\n",
       "      <td>float64</td>\n",
       "      <td>0</td>\n",
       "      <td>0.0</td>\n",
       "      <td>545</td>\n",
       "    </tr>\n",
       "    <tr>\n",
       "      <th>20</th>\n",
       "      <td>radius_worst</td>\n",
       "      <td>float64</td>\n",
       "      <td>0</td>\n",
       "      <td>0.0</td>\n",
       "      <td>457</td>\n",
       "    </tr>\n",
       "    <tr>\n",
       "      <th>21</th>\n",
       "      <td>texture_worst</td>\n",
       "      <td>float64</td>\n",
       "      <td>0</td>\n",
       "      <td>0.0</td>\n",
       "      <td>511</td>\n",
       "    </tr>\n",
       "    <tr>\n",
       "      <th>22</th>\n",
       "      <td>perimeter_worst</td>\n",
       "      <td>float64</td>\n",
       "      <td>0</td>\n",
       "      <td>0.0</td>\n",
       "      <td>514</td>\n",
       "    </tr>\n",
       "    <tr>\n",
       "      <th>23</th>\n",
       "      <td>area_worst</td>\n",
       "      <td>float64</td>\n",
       "      <td>0</td>\n",
       "      <td>0.0</td>\n",
       "      <td>544</td>\n",
       "    </tr>\n",
       "    <tr>\n",
       "      <th>24</th>\n",
       "      <td>smoothness_worst</td>\n",
       "      <td>float64</td>\n",
       "      <td>0</td>\n",
       "      <td>0.0</td>\n",
       "      <td>411</td>\n",
       "    </tr>\n",
       "    <tr>\n",
       "      <th>25</th>\n",
       "      <td>compactness_worst</td>\n",
       "      <td>float64</td>\n",
       "      <td>0</td>\n",
       "      <td>0.0</td>\n",
       "      <td>529</td>\n",
       "    </tr>\n",
       "    <tr>\n",
       "      <th>26</th>\n",
       "      <td>concavity_worst</td>\n",
       "      <td>float64</td>\n",
       "      <td>0</td>\n",
       "      <td>0.0</td>\n",
       "      <td>539</td>\n",
       "    </tr>\n",
       "    <tr>\n",
       "      <th>27</th>\n",
       "      <td>concave points_worst</td>\n",
       "      <td>float64</td>\n",
       "      <td>0</td>\n",
       "      <td>0.0</td>\n",
       "      <td>492</td>\n",
       "    </tr>\n",
       "    <tr>\n",
       "      <th>28</th>\n",
       "      <td>symmetry_worst</td>\n",
       "      <td>float64</td>\n",
       "      <td>0</td>\n",
       "      <td>0.0</td>\n",
       "      <td>500</td>\n",
       "    </tr>\n",
       "    <tr>\n",
       "      <th>29</th>\n",
       "      <td>fractal_dimension_worst</td>\n",
       "      <td>float64</td>\n",
       "      <td>0</td>\n",
       "      <td>0.0</td>\n",
       "      <td>535</td>\n",
       "    </tr>\n",
       "  </tbody>\n",
       "</table>\n",
       "</div>"
      ],
      "text/plain": [
       "                   variable     type  null_count  null_percent  cardinality\n",
       "0               radius_mean  float64           0           0.0          456\n",
       "1              texture_mean  float64           0           0.0          479\n",
       "2            perimeter_mean  float64           0           0.0          522\n",
       "3                 area_mean  float64           0           0.0          539\n",
       "4           smoothness_mean  float64           0           0.0          474\n",
       "5          compactness_mean  float64           0           0.0          537\n",
       "6            concavity_mean  float64           0           0.0          537\n",
       "7       concave points_mean  float64           0           0.0          542\n",
       "8             symmetry_mean  float64           0           0.0          432\n",
       "9    fractal_dimension_mean  float64           0           0.0          499\n",
       "10                radius_se  float64           0           0.0          540\n",
       "11               texture_se  float64           0           0.0          519\n",
       "12             perimeter_se  float64           0           0.0          533\n",
       "13                  area_se  float64           0           0.0          528\n",
       "14            smoothness_se  float64           0           0.0          547\n",
       "15           compactness_se  float64           0           0.0          541\n",
       "16             concavity_se  float64           0           0.0          533\n",
       "17        concave points_se  float64           0           0.0          507\n",
       "18              symmetry_se  float64           0           0.0          498\n",
       "19     fractal_dimension_se  float64           0           0.0          545\n",
       "20             radius_worst  float64           0           0.0          457\n",
       "21            texture_worst  float64           0           0.0          511\n",
       "22          perimeter_worst  float64           0           0.0          514\n",
       "23               area_worst  float64           0           0.0          544\n",
       "24         smoothness_worst  float64           0           0.0          411\n",
       "25        compactness_worst  float64           0           0.0          529\n",
       "26          concavity_worst  float64           0           0.0          539\n",
       "27     concave points_worst  float64           0           0.0          492\n",
       "28           symmetry_worst  float64           0           0.0          500\n",
       "29  fractal_dimension_worst  float64           0           0.0          535"
      ]
     },
     "execution_count": 23,
     "metadata": {},
     "output_type": "execute_result"
    }
   ],
   "source": [
    "# Generate metadata for the DataFrame containing standardized numeric columns (df_cancer_standard)\n",
    "# using the generate_metadata function.\n",
    "df_metadata_standard = generate_metadata(df_cancer_standard)\n",
    "\n",
    "# Display the metadata for the standardized DataFrame df_cancer_standard.\n",
    "df_metadata_standard\n"
   ]
  },
  {
   "cell_type": "markdown",
   "metadata": {},
   "source": [
    "\n",
    "<div style=\"text-align: left;\">\n",
    "    <h5><strong>Applying **Principal Component Analysis**</strong></h5>\n",
    "</div>"
   ]
  },
  {
   "cell_type": "code",
   "execution_count": 24,
   "metadata": {},
   "outputs": [
    {
     "data": {
      "image/png": "[encoded data removed]",
      "text/plain": [
       "<Figure size 720x432 with 1 Axes>"
      ]
     },
     "metadata": {
      "needs_background": "light"
     },
     "output_type": "display_data"
    },
    {
     "data": {
      "image/png": "[encoded data removed]",
      "text/plain": [
       "<Figure size 720x432 with 1 Axes>"
      ]
     },
     "metadata": {
      "needs_background": "light"
     },
     "output_type": "display_data"
    },
    {
     "name": "stdout",
     "output_type": "stream",
     "text": [
      "Selected Columns: ['fractal_dimension_mean', 'compactness_se', 'concave points_worst', 'texture_worst', 'area_se', 'radius_se', 'smoothness_mean', 'concave points_mean', 'fractal_dimension_worst', 'concave points_se', 'radius_worst', 'concavity_mean', 'radius_mean', 'texture_se', 'symmetry_worst', 'symmetry_mean', 'compactness_mean', 'compactness_worst', 'area_mean', 'perimeter_worst', 'smoothness_se', 'smoothness_worst', 'concavity_se']\n",
      "Discarded Columns: ['texture_mean', 'perimeter_mean', 'perimeter_se', 'symmetry_se', 'fractal_dimension_se', 'area_worst', 'concavity_worst']\n"
     ]
    },
    {
     "data": {
      "text/html": [
       "<div>\n",
       "<style scoped>\n",
       "    .dataframe tbody tr th:only-of-type {\n",
       "        vertical-align: middle;\n",
       "    }\n",
       "\n",
       "    .dataframe tbody tr th {\n",
       "        vertical-align: top;\n",
       "    }\n",
       "\n",
       "    .dataframe thead th {\n",
       "        text-align: right;\n",
       "    }\n",
       "</style>\n",
       "<table border=\"1\" class=\"dataframe\">\n",
       "  <thead>\n",
       "    <tr style=\"text-align: right;\">\n",
       "      <th></th>\n",
       "      <th>fractal_dimension_mean</th>\n",
       "      <th>compactness_se</th>\n",
       "      <th>concave points_worst</th>\n",
       "      <th>texture_worst</th>\n",
       "      <th>area_se</th>\n",
       "      <th>radius_se</th>\n",
       "      <th>smoothness_mean</th>\n",
       "      <th>concave points_mean</th>\n",
       "      <th>fractal_dimension_worst</th>\n",
       "      <th>concave points_se</th>\n",
       "      <th>...</th>\n",
       "      <th>symmetry_worst</th>\n",
       "      <th>symmetry_mean</th>\n",
       "      <th>compactness_mean</th>\n",
       "      <th>compactness_worst</th>\n",
       "      <th>area_mean</th>\n",
       "      <th>perimeter_worst</th>\n",
       "      <th>smoothness_se</th>\n",
       "      <th>smoothness_worst</th>\n",
       "      <th>concavity_se</th>\n",
       "      <th>diagnosis</th>\n",
       "    </tr>\n",
       "  </thead>\n",
       "  <tbody>\n",
       "    <tr>\n",
       "      <th>0</th>\n",
       "      <td>2.255747</td>\n",
       "      <td>1.316862</td>\n",
       "      <td>2.296076</td>\n",
       "      <td>-1.359293</td>\n",
       "      <td>2.487578</td>\n",
       "      <td>2.489734</td>\n",
       "      <td>1.568466</td>\n",
       "      <td>2.532475</td>\n",
       "      <td>1.937015</td>\n",
       "      <td>0.660820</td>\n",
       "      <td>...</td>\n",
       "      <td>2.750622</td>\n",
       "      <td>2.217515</td>\n",
       "      <td>3.283515</td>\n",
       "      <td>2.616665</td>\n",
       "      <td>0.984375</td>\n",
       "      <td>2.303601</td>\n",
       "      <td>-0.214002</td>\n",
       "      <td>1.307686</td>\n",
       "      <td>0.724026</td>\n",
       "      <td>M</td>\n",
       "    </tr>\n",
       "    <tr>\n",
       "      <th>1</th>\n",
       "      <td>-0.868652</td>\n",
       "      <td>-0.692926</td>\n",
       "      <td>1.087084</td>\n",
       "      <td>-0.369203</td>\n",
       "      <td>0.742402</td>\n",
       "      <td>0.499255</td>\n",
       "      <td>-0.826962</td>\n",
       "      <td>0.548144</td>\n",
       "      <td>0.281190</td>\n",
       "      <td>0.260162</td>\n",
       "      <td>...</td>\n",
       "      <td>-0.243890</td>\n",
       "      <td>0.001392</td>\n",
       "      <td>-0.487072</td>\n",
       "      <td>-0.430444</td>\n",
       "      <td>1.908708</td>\n",
       "      <td>1.535126</td>\n",
       "      <td>-0.605351</td>\n",
       "      <td>-0.375612</td>\n",
       "      <td>-0.440780</td>\n",
       "      <td>M</td>\n",
       "    </tr>\n",
       "    <tr>\n",
       "      <th>2</th>\n",
       "      <td>-0.398008</td>\n",
       "      <td>0.814974</td>\n",
       "      <td>1.955000</td>\n",
       "      <td>-0.023974</td>\n",
       "      <td>1.181336</td>\n",
       "      <td>1.228676</td>\n",
       "      <td>0.942210</td>\n",
       "      <td>2.037231</td>\n",
       "      <td>0.201391</td>\n",
       "      <td>1.424827</td>\n",
       "      <td>...</td>\n",
       "      <td>1.152255</td>\n",
       "      <td>0.939685</td>\n",
       "      <td>1.052926</td>\n",
       "      <td>1.082932</td>\n",
       "      <td>1.558884</td>\n",
       "      <td>1.347475</td>\n",
       "      <td>-0.297005</td>\n",
       "      <td>0.527407</td>\n",
       "      <td>0.213076</td>\n",
       "      <td>M</td>\n",
       "    </tr>\n",
       "    <tr>\n",
       "      <th>3</th>\n",
       "      <td>4.910919</td>\n",
       "      <td>2.744280</td>\n",
       "      <td>2.175786</td>\n",
       "      <td>0.133984</td>\n",
       "      <td>-0.288378</td>\n",
       "      <td>0.326373</td>\n",
       "      <td>3.283553</td>\n",
       "      <td>1.451707</td>\n",
       "      <td>4.935010</td>\n",
       "      <td>1.115007</td>\n",
       "      <td>...</td>\n",
       "      <td>6.046041</td>\n",
       "      <td>2.867383</td>\n",
       "      <td>3.402909</td>\n",
       "      <td>3.893397</td>\n",
       "      <td>-0.764464</td>\n",
       "      <td>-0.249939</td>\n",
       "      <td>0.689702</td>\n",
       "      <td>3.394275</td>\n",
       "      <td>0.819518</td>\n",
       "      <td>M</td>\n",
       "    </tr>\n",
       "    <tr>\n",
       "      <th>4</th>\n",
       "      <td>-0.562450</td>\n",
       "      <td>-0.048520</td>\n",
       "      <td>0.729259</td>\n",
       "      <td>-1.466770</td>\n",
       "      <td>1.190357</td>\n",
       "      <td>1.270543</td>\n",
       "      <td>0.280372</td>\n",
       "      <td>1.428493</td>\n",
       "      <td>-0.397100</td>\n",
       "      <td>1.144205</td>\n",
       "      <td>...</td>\n",
       "      <td>-0.868353</td>\n",
       "      <td>-0.009560</td>\n",
       "      <td>0.539340</td>\n",
       "      <td>-0.313395</td>\n",
       "      <td>1.826229</td>\n",
       "      <td>1.338539</td>\n",
       "      <td>1.483067</td>\n",
       "      <td>0.220556</td>\n",
       "      <td>0.828471</td>\n",
       "      <td>M</td>\n",
       "    </tr>\n",
       "    <tr>\n",
       "      <th>...</th>\n",
       "      <td>...</td>\n",
       "      <td>...</td>\n",
       "      <td>...</td>\n",
       "      <td>...</td>\n",
       "      <td>...</td>\n",
       "      <td>...</td>\n",
       "      <td>...</td>\n",
       "      <td>...</td>\n",
       "      <td>...</td>\n",
       "      <td>...</td>\n",
       "      <td>...</td>\n",
       "      <td>...</td>\n",
       "      <td>...</td>\n",
       "      <td>...</td>\n",
       "      <td>...</td>\n",
       "      <td>...</td>\n",
       "      <td>...</td>\n",
       "      <td>...</td>\n",
       "      <td>...</td>\n",
       "      <td>...</td>\n",
       "      <td>...</td>\n",
       "    </tr>\n",
       "    <tr>\n",
       "      <th>564</th>\n",
       "      <td>-0.931027</td>\n",
       "      <td>0.191805</td>\n",
       "      <td>1.629151</td>\n",
       "      <td>0.117700</td>\n",
       "      <td>2.604187</td>\n",
       "      <td>2.782080</td>\n",
       "      <td>1.041842</td>\n",
       "      <td>2.320965</td>\n",
       "      <td>-0.709091</td>\n",
       "      <td>2.067178</td>\n",
       "      <td>...</td>\n",
       "      <td>-1.360158</td>\n",
       "      <td>-0.312589</td>\n",
       "      <td>0.219060</td>\n",
       "      <td>-0.273318</td>\n",
       "      <td>2.343856</td>\n",
       "      <td>1.752563</td>\n",
       "      <td>1.086384</td>\n",
       "      <td>0.378365</td>\n",
       "      <td>0.666001</td>\n",
       "      <td>M</td>\n",
       "    </tr>\n",
       "    <tr>\n",
       "      <th>565</th>\n",
       "      <td>-1.058611</td>\n",
       "      <td>-0.069758</td>\n",
       "      <td>0.733827</td>\n",
       "      <td>2.047399</td>\n",
       "      <td>1.291565</td>\n",
       "      <td>1.300499</td>\n",
       "      <td>0.102458</td>\n",
       "      <td>1.263669</td>\n",
       "      <td>-0.973978</td>\n",
       "      <td>0.808431</td>\n",
       "      <td>...</td>\n",
       "      <td>-0.531855</td>\n",
       "      <td>-0.217664</td>\n",
       "      <td>-0.017833</td>\n",
       "      <td>-0.394820</td>\n",
       "      <td>1.723842</td>\n",
       "      <td>1.421940</td>\n",
       "      <td>-0.424010</td>\n",
       "      <td>-0.691230</td>\n",
       "      <td>0.252202</td>\n",
       "      <td>M</td>\n",
       "    </tr>\n",
       "    <tr>\n",
       "      <th>566</th>\n",
       "      <td>-0.895587</td>\n",
       "      <td>0.661277</td>\n",
       "      <td>0.414069</td>\n",
       "      <td>1.374854</td>\n",
       "      <td>0.180698</td>\n",
       "      <td>0.184892</td>\n",
       "      <td>-0.840484</td>\n",
       "      <td>0.105777</td>\n",
       "      <td>-0.318409</td>\n",
       "      <td>0.612157</td>\n",
       "      <td>...</td>\n",
       "      <td>-1.104549</td>\n",
       "      <td>-0.809117</td>\n",
       "      <td>-0.038680</td>\n",
       "      <td>0.350735</td>\n",
       "      <td>0.577953</td>\n",
       "      <td>0.579001</td>\n",
       "      <td>-0.379342</td>\n",
       "      <td>-0.809587</td>\n",
       "      <td>0.510827</td>\n",
       "      <td>M</td>\n",
       "    </tr>\n",
       "    <tr>\n",
       "      <th>567</th>\n",
       "      <td>1.043695</td>\n",
       "      <td>2.017716</td>\n",
       "      <td>2.289985</td>\n",
       "      <td>2.237926</td>\n",
       "      <td>1.009503</td>\n",
       "      <td>1.157935</td>\n",
       "      <td>1.525767</td>\n",
       "      <td>2.658866</td>\n",
       "      <td>2.219635</td>\n",
       "      <td>0.785721</td>\n",
       "      <td>...</td>\n",
       "      <td>1.919083</td>\n",
       "      <td>2.137194</td>\n",
       "      <td>3.272144</td>\n",
       "      <td>3.904848</td>\n",
       "      <td>1.735218</td>\n",
       "      <td>2.303601</td>\n",
       "      <td>-0.173000</td>\n",
       "      <td>1.430427</td>\n",
       "      <td>1.302285</td>\n",
       "      <td>M</td>\n",
       "    </tr>\n",
       "    <tr>\n",
       "      <th>568</th>\n",
       "      <td>-0.561032</td>\n",
       "      <td>-1.163516</td>\n",
       "      <td>-1.745063</td>\n",
       "      <td>0.764190</td>\n",
       "      <td>-0.466152</td>\n",
       "      <td>-0.070279</td>\n",
       "      <td>-3.112085</td>\n",
       "      <td>-1.261820</td>\n",
       "      <td>-0.751207</td>\n",
       "      <td>-1.913447</td>\n",
       "      <td>...</td>\n",
       "      <td>-0.048138</td>\n",
       "      <td>-0.820070</td>\n",
       "      <td>-1.150752</td>\n",
       "      <td>-1.207552</td>\n",
       "      <td>-1.347789</td>\n",
       "      <td>-1.432735</td>\n",
       "      <td>0.049342</td>\n",
       "      <td>-1.859019</td>\n",
       "      <td>-1.057501</td>\n",
       "      <td>B</td>\n",
       "    </tr>\n",
       "  </tbody>\n",
       "</table>\n",
       "<p>569 rows × 24 columns</p>\n",
       "</div>"
      ],
      "text/plain": [
       "     fractal_dimension_mean  compactness_se  concave points_worst  \\\n",
       "0                  2.255747        1.316862              2.296076   \n",
       "1                 -0.868652       -0.692926              1.087084   \n",
       "2                 -0.398008        0.814974              1.955000   \n",
       "3                  4.910919        2.744280              2.175786   \n",
       "4                 -0.562450       -0.048520              0.729259   \n",
       "..                      ...             ...                   ...   \n",
       "564               -0.931027        0.191805              1.629151   \n",
       "565               -1.058611       -0.069758              0.733827   \n",
       "566               -0.895587        0.661277              0.414069   \n",
       "567                1.043695        2.017716              2.289985   \n",
       "568               -0.561032       -1.163516             -1.745063   \n",
       "\n",
       "     texture_worst   area_se  radius_se  smoothness_mean  concave points_mean  \\\n",
       "0        -1.359293  2.487578   2.489734         1.568466             2.532475   \n",
       "1        -0.369203  0.742402   0.499255        -0.826962             0.548144   \n",
       "2        -0.023974  1.181336   1.228676         0.942210             2.037231   \n",
       "3         0.133984 -0.288378   0.326373         3.283553             1.451707   \n",
       "4        -1.466770  1.190357   1.270543         0.280372             1.428493   \n",
       "..             ...       ...        ...              ...                  ...   \n",
       "564       0.117700  2.604187   2.782080         1.041842             2.320965   \n",
       "565       2.047399  1.291565   1.300499         0.102458             1.263669   \n",
       "566       1.374854  0.180698   0.184892        -0.840484             0.105777   \n",
       "567       2.237926  1.009503   1.157935         1.525767             2.658866   \n",
       "568       0.764190 -0.466152  -0.070279        -3.112085            -1.261820   \n",
       "\n",
       "     fractal_dimension_worst  concave points_se  ...  symmetry_worst  \\\n",
       "0                   1.937015           0.660820  ...        2.750622   \n",
       "1                   0.281190           0.260162  ...       -0.243890   \n",
       "2                   0.201391           1.424827  ...        1.152255   \n",
       "3                   4.935010           1.115007  ...        6.046041   \n",
       "4                  -0.397100           1.144205  ...       -0.868353   \n",
       "..                       ...                ...  ...             ...   \n",
       "564                -0.709091           2.067178  ...       -1.360158   \n",
       "565                -0.973978           0.808431  ...       -0.531855   \n",
       "566                -0.318409           0.612157  ...       -1.104549   \n",
       "567                 2.219635           0.785721  ...        1.919083   \n",
       "568                -0.751207          -1.913447  ...       -0.048138   \n",
       "\n",
       "     symmetry_mean  compactness_mean  compactness_worst  area_mean  \\\n",
       "0         2.217515          3.283515           2.616665   0.984375   \n",
       "1         0.001392         -0.487072          -0.430444   1.908708   \n",
       "2         0.939685          1.052926           1.082932   1.558884   \n",
       "3         2.867383          3.402909           3.893397  -0.764464   \n",
       "4        -0.009560          0.539340          -0.313395   1.826229   \n",
       "..             ...               ...                ...        ...   \n",
       "564      -0.312589          0.219060          -0.273318   2.343856   \n",
       "565      -0.217664         -0.017833          -0.394820   1.723842   \n",
       "566      -0.809117         -0.038680           0.350735   0.577953   \n",
       "567       2.137194          3.272144           3.904848   1.735218   \n",
       "568      -0.820070         -1.150752          -1.207552  -1.347789   \n",
       "\n",
       "     perimeter_worst  smoothness_se  smoothness_worst  concavity_se  diagnosis  \n",
       "0           2.303601      -0.214002          1.307686      0.724026          M  \n",
       "1           1.535126      -0.605351         -0.375612     -0.440780          M  \n",
       "2           1.347475      -0.297005          0.527407      0.213076          M  \n",
       "3          -0.249939       0.689702          3.394275      0.819518          M  \n",
       "4           1.338539       1.483067          0.220556      0.828471          M  \n",
       "..               ...            ...               ...           ...        ...  \n",
       "564         1.752563       1.086384          0.378365      0.666001          M  \n",
       "565         1.421940      -0.424010         -0.691230      0.252202          M  \n",
       "566         0.579001      -0.379342         -0.809587      0.510827          M  \n",
       "567         2.303601      -0.173000          1.430427      1.302285          M  \n",
       "568        -1.432735       0.049342         -1.859019     -1.057501          B  \n",
       "\n",
       "[569 rows x 24 columns]"
      ]
     },
     "execution_count": 24,
     "metadata": {},
     "output_type": "execute_result"
    }
   ],
   "source": [
    "# Perform Principal Component Analysis (PCA) on the standardized and selected features DataFrame (df_cancer_selection_standard).\n",
    "# The 'diagnosis' column is considered as the target variable.\n",
    "# The default values for n_components (None) and top_n (1) are used for PCA.\n",
    "df_cancer_pca_standard = select_features_by_pca(df_cancer_selection_standard, 'diagnosis')\n",
    "\n",
    "# Display the resulting DataFrame df_cancer_pca_standard after performing PCA and selecting features.\n",
    "df_cancer_pca_standard\n"
   ]
  },
  {
   "cell_type": "code",
   "execution_count": 25,
   "metadata": {},
   "outputs": [
    {
     "data": {
      "image/png": "[encoded data removed]",
      "text/plain": [
       "<Figure size 720x432 with 1 Axes>"
      ]
     },
     "metadata": {
      "needs_background": "light"
     },
     "output_type": "display_data"
    },
    {
     "data": {
      "image/png": "[encoded data removed]",
      "text/plain": [
       "<Figure size 720x432 with 1 Axes>"
      ]
     },
     "metadata": {
      "needs_background": "light"
     },
     "output_type": "display_data"
    },
    {
     "name": "stdout",
     "output_type": "stream",
     "text": [
      "Selected Columns: ['smoothness_mean', 'symmetry_mean', 'fractal_dimension_mean', 'smoothness_se', 'concavity_se', 'concave points_mean', 'fractal_dimension_worst', 'texture_worst', 'texture_se', 'symmetry_worst']\n",
      "Discarded Columns: ['radius_mean', 'texture_mean', 'perimeter_mean', 'area_mean', 'compactness_mean', 'concavity_mean', 'radius_se', 'perimeter_se', 'area_se', 'compactness_se', 'concave points_se', 'symmetry_se', 'fractal_dimension_se', 'radius_worst', 'perimeter_worst', 'area_worst', 'smoothness_worst', 'compactness_worst', 'concavity_worst', 'concave points_worst']\n"
     ]
    },
    {
     "data": {
      "text/html": [
       "<div>\n",
       "<style scoped>\n",
       "    .dataframe tbody tr th:only-of-type {\n",
       "        vertical-align: middle;\n",
       "    }\n",
       "\n",
       "    .dataframe tbody tr th {\n",
       "        vertical-align: top;\n",
       "    }\n",
       "\n",
       "    .dataframe thead th {\n",
       "        text-align: right;\n",
       "    }\n",
       "</style>\n",
       "<table border=\"1\" class=\"dataframe\">\n",
       "  <thead>\n",
       "    <tr style=\"text-align: right;\">\n",
       "      <th></th>\n",
       "      <th>smoothness_mean</th>\n",
       "      <th>symmetry_mean</th>\n",
       "      <th>fractal_dimension_mean</th>\n",
       "      <th>smoothness_se</th>\n",
       "      <th>concavity_se</th>\n",
       "      <th>concave points_mean</th>\n",
       "      <th>fractal_dimension_worst</th>\n",
       "      <th>texture_worst</th>\n",
       "      <th>texture_se</th>\n",
       "      <th>symmetry_worst</th>\n",
       "      <th>diagnosis</th>\n",
       "    </tr>\n",
       "  </thead>\n",
       "  <tbody>\n",
       "    <tr>\n",
       "      <th>0</th>\n",
       "      <td>1.568466</td>\n",
       "      <td>2.217515</td>\n",
       "      <td>2.255747</td>\n",
       "      <td>-0.214002</td>\n",
       "      <td>0.724026</td>\n",
       "      <td>2.532475</td>\n",
       "      <td>1.937015</td>\n",
       "      <td>-1.359293</td>\n",
       "      <td>-0.565265</td>\n",
       "      <td>2.750622</td>\n",
       "      <td>M</td>\n",
       "    </tr>\n",
       "    <tr>\n",
       "      <th>1</th>\n",
       "      <td>-0.826962</td>\n",
       "      <td>0.001392</td>\n",
       "      <td>-0.868652</td>\n",
       "      <td>-0.605351</td>\n",
       "      <td>-0.440780</td>\n",
       "      <td>0.548144</td>\n",
       "      <td>0.281190</td>\n",
       "      <td>-0.369203</td>\n",
       "      <td>-0.876244</td>\n",
       "      <td>-0.243890</td>\n",
       "      <td>M</td>\n",
       "    </tr>\n",
       "    <tr>\n",
       "      <th>2</th>\n",
       "      <td>0.942210</td>\n",
       "      <td>0.939685</td>\n",
       "      <td>-0.398008</td>\n",
       "      <td>-0.297005</td>\n",
       "      <td>0.213076</td>\n",
       "      <td>2.037231</td>\n",
       "      <td>0.201391</td>\n",
       "      <td>-0.023974</td>\n",
       "      <td>-0.780083</td>\n",
       "      <td>1.152255</td>\n",
       "      <td>M</td>\n",
       "    </tr>\n",
       "    <tr>\n",
       "      <th>3</th>\n",
       "      <td>3.283553</td>\n",
       "      <td>2.867383</td>\n",
       "      <td>4.910919</td>\n",
       "      <td>0.689702</td>\n",
       "      <td>0.819518</td>\n",
       "      <td>1.451707</td>\n",
       "      <td>4.935010</td>\n",
       "      <td>0.133984</td>\n",
       "      <td>-0.110409</td>\n",
       "      <td>6.046041</td>\n",
       "      <td>M</td>\n",
       "    </tr>\n",
       "    <tr>\n",
       "      <th>4</th>\n",
       "      <td>0.280372</td>\n",
       "      <td>-0.009560</td>\n",
       "      <td>-0.562450</td>\n",
       "      <td>1.483067</td>\n",
       "      <td>0.828471</td>\n",
       "      <td>1.428493</td>\n",
       "      <td>-0.397100</td>\n",
       "      <td>-1.466770</td>\n",
       "      <td>-0.790244</td>\n",
       "      <td>-0.868353</td>\n",
       "      <td>M</td>\n",
       "    </tr>\n",
       "    <tr>\n",
       "      <th>...</th>\n",
       "      <td>...</td>\n",
       "      <td>...</td>\n",
       "      <td>...</td>\n",
       "      <td>...</td>\n",
       "      <td>...</td>\n",
       "      <td>...</td>\n",
       "      <td>...</td>\n",
       "      <td>...</td>\n",
       "      <td>...</td>\n",
       "      <td>...</td>\n",
       "      <td>...</td>\n",
       "    </tr>\n",
       "    <tr>\n",
       "      <th>564</th>\n",
       "      <td>1.041842</td>\n",
       "      <td>-0.312589</td>\n",
       "      <td>-0.931027</td>\n",
       "      <td>1.086384</td>\n",
       "      <td>0.666001</td>\n",
       "      <td>2.320965</td>\n",
       "      <td>-0.709091</td>\n",
       "      <td>0.117700</td>\n",
       "      <td>0.071025</td>\n",
       "      <td>-1.360158</td>\n",
       "      <td>M</td>\n",
       "    </tr>\n",
       "    <tr>\n",
       "      <th>565</th>\n",
       "      <td>0.102458</td>\n",
       "      <td>-0.217664</td>\n",
       "      <td>-1.058611</td>\n",
       "      <td>-0.424010</td>\n",
       "      <td>0.252202</td>\n",
       "      <td>1.263669</td>\n",
       "      <td>-0.973978</td>\n",
       "      <td>2.047399</td>\n",
       "      <td>2.260938</td>\n",
       "      <td>-0.531855</td>\n",
       "      <td>M</td>\n",
       "    </tr>\n",
       "    <tr>\n",
       "      <th>566</th>\n",
       "      <td>-0.840484</td>\n",
       "      <td>-0.809117</td>\n",
       "      <td>-0.895587</td>\n",
       "      <td>-0.379342</td>\n",
       "      <td>0.510827</td>\n",
       "      <td>0.105777</td>\n",
       "      <td>-0.318409</td>\n",
       "      <td>1.374854</td>\n",
       "      <td>-0.257371</td>\n",
       "      <td>-1.104549</td>\n",
       "      <td>M</td>\n",
       "    </tr>\n",
       "    <tr>\n",
       "      <th>567</th>\n",
       "      <td>1.525767</td>\n",
       "      <td>2.137194</td>\n",
       "      <td>1.043695</td>\n",
       "      <td>-0.173000</td>\n",
       "      <td>1.302285</td>\n",
       "      <td>2.658866</td>\n",
       "      <td>2.219635</td>\n",
       "      <td>2.237926</td>\n",
       "      <td>0.686088</td>\n",
       "      <td>1.919083</td>\n",
       "      <td>M</td>\n",
       "    </tr>\n",
       "    <tr>\n",
       "      <th>568</th>\n",
       "      <td>-3.112085</td>\n",
       "      <td>-0.820070</td>\n",
       "      <td>-0.561032</td>\n",
       "      <td>0.049342</td>\n",
       "      <td>-1.057501</td>\n",
       "      <td>-1.261820</td>\n",
       "      <td>-0.751207</td>\n",
       "      <td>0.764190</td>\n",
       "      <td>0.383092</td>\n",
       "      <td>-0.048138</td>\n",
       "      <td>B</td>\n",
       "    </tr>\n",
       "  </tbody>\n",
       "</table>\n",
       "<p>569 rows × 11 columns</p>\n",
       "</div>"
      ],
      "text/plain": [
       "     smoothness_mean  symmetry_mean  fractal_dimension_mean  smoothness_se  \\\n",
       "0           1.568466       2.217515                2.255747      -0.214002   \n",
       "1          -0.826962       0.001392               -0.868652      -0.605351   \n",
       "2           0.942210       0.939685               -0.398008      -0.297005   \n",
       "3           3.283553       2.867383                4.910919       0.689702   \n",
       "4           0.280372      -0.009560               -0.562450       1.483067   \n",
       "..               ...            ...                     ...            ...   \n",
       "564         1.041842      -0.312589               -0.931027       1.086384   \n",
       "565         0.102458      -0.217664               -1.058611      -0.424010   \n",
       "566        -0.840484      -0.809117               -0.895587      -0.379342   \n",
       "567         1.525767       2.137194                1.043695      -0.173000   \n",
       "568        -3.112085      -0.820070               -0.561032       0.049342   \n",
       "\n",
       "     concavity_se  concave points_mean  fractal_dimension_worst  \\\n",
       "0        0.724026             2.532475                 1.937015   \n",
       "1       -0.440780             0.548144                 0.281190   \n",
       "2        0.213076             2.037231                 0.201391   \n",
       "3        0.819518             1.451707                 4.935010   \n",
       "4        0.828471             1.428493                -0.397100   \n",
       "..            ...                  ...                      ...   \n",
       "564      0.666001             2.320965                -0.709091   \n",
       "565      0.252202             1.263669                -0.973978   \n",
       "566      0.510827             0.105777                -0.318409   \n",
       "567      1.302285             2.658866                 2.219635   \n",
       "568     -1.057501            -1.261820                -0.751207   \n",
       "\n",
       "     texture_worst  texture_se  symmetry_worst diagnosis  \n",
       "0        -1.359293   -0.565265        2.750622         M  \n",
       "1        -0.369203   -0.876244       -0.243890         M  \n",
       "2        -0.023974   -0.780083        1.152255         M  \n",
       "3         0.133984   -0.110409        6.046041         M  \n",
       "4        -1.466770   -0.790244       -0.868353         M  \n",
       "..             ...         ...             ...       ...  \n",
       "564       0.117700    0.071025       -1.360158         M  \n",
       "565       2.047399    2.260938       -0.531855         M  \n",
       "566       1.374854   -0.257371       -1.104549         M  \n",
       "567       2.237926    0.686088        1.919083         M  \n",
       "568       0.764190    0.383092       -0.048138         B  \n",
       "\n",
       "[569 rows x 11 columns]"
      ]
     },
     "execution_count": 25,
     "metadata": {},
     "output_type": "execute_result"
    }
   ],
   "source": [
    "# Perform Principal Component Analysis (PCA) on the standardized and selected features DataFrame (df_cancer_selection_standard).\n",
    "# The 'diagnosis' column is considered as the target variable.\n",
    "# PCA is performed with specified n_components=10, indicating keeping the top 10 principal components.\n",
    "df_cancer_pca_standard = select_features_by_pca(df_cancer_selection_standard, 'diagnosis', n_components=10)\n",
    "\n",
    "# Display the resulting DataFrame df_cancer_pca_standard after performing PCA and selecting the top 10 principal components.\n",
    "df_cancer_pca_standard"
   ]
  },
  {
   "cell_type": "markdown",
   "metadata": {},
   "source": [
    "<div style=\"text-align: right; color: green;\">\n",
    "    <h5><strong>Selected Columns:</strong> ['texture_se', 'concave points_mean', 'fractal_dimension_mean', 'smoothness_mean', 'concavity_se', 'fractal_dimension_worst', 'texture_worst', 'symmetry_mean', 'symmetry_worst', 'smoothness_se']</h5>\n",
    "</div>\n",
    "<div style=\"text-align: right; color: green;\">\n",
    "    <h5><strong>Discarded Columns:</strong> ['radius_mean', 'texture_mean', 'perimeter_mean', 'area_mean', 'compactness_mean', 'concavity_mean', 'radius_se', 'perimeter_se', 'area_se', 'compactness_se', 'concave points_se', 'symmetry_se', 'fractal_dimension_se', 'radius_worst', 'perimeter_worst', 'area_worst', 'smoothness_worst', 'compactness_worst', 'concavity_worst', 'concave points_worst']</h5>\n",
    "</div>"
   ]
  },
  {
   "cell_type": "markdown",
   "metadata": {},
   "source": [
    "\n",
    "<div style=\"text-align: left;\">\n",
    "    <h5><strong>Creating our Final Data Frame</strong></h5>\n",
    "</div>"
   ]
  },
  {
   "cell_type": "code",
   "execution_count": 26,
   "metadata": {},
   "outputs": [
    {
     "data": {
      "text/html": [
       "<div>\n",
       "<style scoped>\n",
       "    .dataframe tbody tr th:only-of-type {\n",
       "        vertical-align: middle;\n",
       "    }\n",
       "\n",
       "    .dataframe tbody tr th {\n",
       "        vertical-align: top;\n",
       "    }\n",
       "\n",
       "    .dataframe thead th {\n",
       "        text-align: right;\n",
       "    }\n",
       "</style>\n",
       "<table border=\"1\" class=\"dataframe\">\n",
       "  <thead>\n",
       "    <tr style=\"text-align: right;\">\n",
       "      <th></th>\n",
       "      <th>id</th>\n",
       "      <th>diagnosis</th>\n",
       "      <th>smoothness_mean</th>\n",
       "      <th>concave points_mean</th>\n",
       "      <th>symmetry_mean</th>\n",
       "      <th>fractal_dimension_mean</th>\n",
       "      <th>texture_se</th>\n",
       "      <th>smoothness_se</th>\n",
       "      <th>concavity_se</th>\n",
       "      <th>texture_worst</th>\n",
       "      <th>symmetry_worst</th>\n",
       "      <th>fractal_dimension_worst</th>\n",
       "    </tr>\n",
       "  </thead>\n",
       "  <tbody>\n",
       "    <tr>\n",
       "      <th>0</th>\n",
       "      <td>842302</td>\n",
       "      <td>M</td>\n",
       "      <td>0.11840</td>\n",
       "      <td>0.14710</td>\n",
       "      <td>0.2419</td>\n",
       "      <td>0.07871</td>\n",
       "      <td>0.9053</td>\n",
       "      <td>0.006399</td>\n",
       "      <td>0.05373</td>\n",
       "      <td>17.33</td>\n",
       "      <td>0.4601</td>\n",
       "      <td>0.11890</td>\n",
       "    </tr>\n",
       "    <tr>\n",
       "      <th>1</th>\n",
       "      <td>842517</td>\n",
       "      <td>M</td>\n",
       "      <td>0.08474</td>\n",
       "      <td>0.07017</td>\n",
       "      <td>0.1812</td>\n",
       "      <td>0.05667</td>\n",
       "      <td>0.7339</td>\n",
       "      <td>0.005225</td>\n",
       "      <td>0.01860</td>\n",
       "      <td>23.41</td>\n",
       "      <td>0.2750</td>\n",
       "      <td>0.08902</td>\n",
       "    </tr>\n",
       "    <tr>\n",
       "      <th>2</th>\n",
       "      <td>84300903</td>\n",
       "      <td>M</td>\n",
       "      <td>0.10960</td>\n",
       "      <td>0.12790</td>\n",
       "      <td>0.2069</td>\n",
       "      <td>0.05999</td>\n",
       "      <td>0.7869</td>\n",
       "      <td>0.006150</td>\n",
       "      <td>0.03832</td>\n",
       "      <td>25.53</td>\n",
       "      <td>0.3613</td>\n",
       "      <td>0.08758</td>\n",
       "    </tr>\n",
       "    <tr>\n",
       "      <th>3</th>\n",
       "      <td>84348301</td>\n",
       "      <td>M</td>\n",
       "      <td>0.14250</td>\n",
       "      <td>0.10520</td>\n",
       "      <td>0.2597</td>\n",
       "      <td>0.09744</td>\n",
       "      <td>1.1560</td>\n",
       "      <td>0.009110</td>\n",
       "      <td>0.05661</td>\n",
       "      <td>26.50</td>\n",
       "      <td>0.6638</td>\n",
       "      <td>0.17300</td>\n",
       "    </tr>\n",
       "    <tr>\n",
       "      <th>4</th>\n",
       "      <td>84358402</td>\n",
       "      <td>M</td>\n",
       "      <td>0.10030</td>\n",
       "      <td>0.10430</td>\n",
       "      <td>0.1809</td>\n",
       "      <td>0.05883</td>\n",
       "      <td>0.7813</td>\n",
       "      <td>0.011490</td>\n",
       "      <td>0.05688</td>\n",
       "      <td>16.67</td>\n",
       "      <td>0.2364</td>\n",
       "      <td>0.07678</td>\n",
       "    </tr>\n",
       "    <tr>\n",
       "      <th>...</th>\n",
       "      <td>...</td>\n",
       "      <td>...</td>\n",
       "      <td>...</td>\n",
       "      <td>...</td>\n",
       "      <td>...</td>\n",
       "      <td>...</td>\n",
       "      <td>...</td>\n",
       "      <td>...</td>\n",
       "      <td>...</td>\n",
       "      <td>...</td>\n",
       "      <td>...</td>\n",
       "      <td>...</td>\n",
       "    </tr>\n",
       "    <tr>\n",
       "      <th>564</th>\n",
       "      <td>926424</td>\n",
       "      <td>M</td>\n",
       "      <td>0.11100</td>\n",
       "      <td>0.13890</td>\n",
       "      <td>0.1726</td>\n",
       "      <td>0.05623</td>\n",
       "      <td>1.2560</td>\n",
       "      <td>0.010300</td>\n",
       "      <td>0.05198</td>\n",
       "      <td>26.40</td>\n",
       "      <td>0.2060</td>\n",
       "      <td>0.07115</td>\n",
       "    </tr>\n",
       "    <tr>\n",
       "      <th>565</th>\n",
       "      <td>926682</td>\n",
       "      <td>M</td>\n",
       "      <td>0.09780</td>\n",
       "      <td>0.09791</td>\n",
       "      <td>0.1752</td>\n",
       "      <td>0.05533</td>\n",
       "      <td>2.4630</td>\n",
       "      <td>0.005769</td>\n",
       "      <td>0.03950</td>\n",
       "      <td>38.25</td>\n",
       "      <td>0.2572</td>\n",
       "      <td>0.06637</td>\n",
       "    </tr>\n",
       "    <tr>\n",
       "      <th>566</th>\n",
       "      <td>926954</td>\n",
       "      <td>M</td>\n",
       "      <td>0.08455</td>\n",
       "      <td>0.05302</td>\n",
       "      <td>0.1590</td>\n",
       "      <td>0.05648</td>\n",
       "      <td>1.0750</td>\n",
       "      <td>0.005903</td>\n",
       "      <td>0.04730</td>\n",
       "      <td>34.12</td>\n",
       "      <td>0.2218</td>\n",
       "      <td>0.07820</td>\n",
       "    </tr>\n",
       "    <tr>\n",
       "      <th>567</th>\n",
       "      <td>927241</td>\n",
       "      <td>M</td>\n",
       "      <td>0.11780</td>\n",
       "      <td>0.15200</td>\n",
       "      <td>0.2397</td>\n",
       "      <td>0.07016</td>\n",
       "      <td>1.5950</td>\n",
       "      <td>0.006522</td>\n",
       "      <td>0.07117</td>\n",
       "      <td>39.42</td>\n",
       "      <td>0.4087</td>\n",
       "      <td>0.12400</td>\n",
       "    </tr>\n",
       "    <tr>\n",
       "      <th>568</th>\n",
       "      <td>92751</td>\n",
       "      <td>B</td>\n",
       "      <td>0.05263</td>\n",
       "      <td>0.00000</td>\n",
       "      <td>0.1587</td>\n",
       "      <td>0.05884</td>\n",
       "      <td>1.4280</td>\n",
       "      <td>0.007189</td>\n",
       "      <td>0.00000</td>\n",
       "      <td>30.37</td>\n",
       "      <td>0.2871</td>\n",
       "      <td>0.07039</td>\n",
       "    </tr>\n",
       "  </tbody>\n",
       "</table>\n",
       "<p>569 rows × 12 columns</p>\n",
       "</div>"
      ],
      "text/plain": [
       "           id diagnosis  smoothness_mean  concave points_mean  symmetry_mean  \\\n",
       "0      842302         M          0.11840              0.14710         0.2419   \n",
       "1      842517         M          0.08474              0.07017         0.1812   \n",
       "2    84300903         M          0.10960              0.12790         0.2069   \n",
       "3    84348301         M          0.14250              0.10520         0.2597   \n",
       "4    84358402         M          0.10030              0.10430         0.1809   \n",
       "..        ...       ...              ...                  ...            ...   \n",
       "564    926424         M          0.11100              0.13890         0.1726   \n",
       "565    926682         M          0.09780              0.09791         0.1752   \n",
       "566    926954         M          0.08455              0.05302         0.1590   \n",
       "567    927241         M          0.11780              0.15200         0.2397   \n",
       "568     92751         B          0.05263              0.00000         0.1587   \n",
       "\n",
       "     fractal_dimension_mean  texture_se  smoothness_se  concavity_se  \\\n",
       "0                   0.07871      0.9053       0.006399       0.05373   \n",
       "1                   0.05667      0.7339       0.005225       0.01860   \n",
       "2                   0.05999      0.7869       0.006150       0.03832   \n",
       "3                   0.09744      1.1560       0.009110       0.05661   \n",
       "4                   0.05883      0.7813       0.011490       0.05688   \n",
       "..                      ...         ...            ...           ...   \n",
       "564                 0.05623      1.2560       0.010300       0.05198   \n",
       "565                 0.05533      2.4630       0.005769       0.03950   \n",
       "566                 0.05648      1.0750       0.005903       0.04730   \n",
       "567                 0.07016      1.5950       0.006522       0.07117   \n",
       "568                 0.05884      1.4280       0.007189       0.00000   \n",
       "\n",
       "     texture_worst  symmetry_worst  fractal_dimension_worst  \n",
       "0            17.33          0.4601                  0.11890  \n",
       "1            23.41          0.2750                  0.08902  \n",
       "2            25.53          0.3613                  0.08758  \n",
       "3            26.50          0.6638                  0.17300  \n",
       "4            16.67          0.2364                  0.07678  \n",
       "..             ...             ...                      ...  \n",
       "564          26.40          0.2060                  0.07115  \n",
       "565          38.25          0.2572                  0.06637  \n",
       "566          34.12          0.2218                  0.07820  \n",
       "567          39.42          0.4087                  0.12400  \n",
       "568          30.37          0.2871                  0.07039  \n",
       "\n",
       "[569 rows x 12 columns]"
      ]
     },
     "execution_count": 26,
     "metadata": {},
     "output_type": "execute_result"
    }
   ],
   "source": [
    "# List of columns to be dropped from the original DataFrame\n",
    "drop_columns = [\n",
    "    'radius_mean', 'texture_mean', 'perimeter_mean', 'area_mean', 'compactness_mean', \n",
    "    'concavity_mean', 'radius_se', 'perimeter_se', 'area_se', 'compactness_se', \n",
    "    'concave points_se', 'symmetry_se', 'fractal_dimension_se', 'radius_worst', \n",
    "    'perimeter_worst', 'area_worst', 'smoothness_worst', 'compactness_worst', \n",
    "    'concavity_worst', 'concave points_worst'\n",
    "]\n",
    "\n",
    "# Create a new DataFrame df_final by dropping specified columns from the original DataFrame df.\n",
    "# 'axis=1' specifies that columns should be dropped, 'columns=drop_columns' lists the columns to be dropped.\n",
    "df_final = df.drop(axis=1, columns=drop_columns)\n",
    "\n",
    "# Display the resulting DataFrame df_final after dropping specified columns.\n",
    "df_final"
   ]
  },
  {
   "cell_type": "markdown",
   "metadata": {},
   "source": [
    "<div style=\"text-align: right; color: green;\">\n",
    "    <h5><strong>After cleaning our data has 12 columns and 569 rows</strong></h5>\n",
    "</div>"
   ]
  },
  {
   "cell_type": "markdown",
   "metadata": {
    "id": "Xu_fxrPyE67P"
   },
   "source": [
    "\n",
    "<div style=\"text-align: center;color: blue;\">\n",
    "    <h2>Visualizations</h2>\n",
    "</div>"
   ]
  },
  {
   "cell_type": "markdown",
   "metadata": {
    "id": "7RUBKu1JI6zs"
   },
   "source": [
    "\n",
    "<div style=\"text-align: left;\">\n",
    "    <h5><strong>Box Plot for value counts of Malignant and Benign</strong></h5>\n",
    "</div>"
   ]
  },
  {
   "cell_type": "code",
   "execution_count": 28,
   "metadata": {},
   "outputs": [
    {
     "data": {
      "application/vnd.plotly.v1+json": {
       "config": {
        "plotlyServerURL": "https://plot.ly"
       },
       "data": [
        {
         "alignmentgroup": "True",
         "hovertemplate": "Class=%{x}<br>Count=%{text}<extra></extra>",
         "legendgroup": "Benign",
         "marker": {
          "color": "#00cc96",
          "pattern": {
           "shape": ""
          }
         },
         "name": "Benign",
         "offsetgroup": "Benign",
         "orientation": "v",
         "showlegend": true,
         "text": [
          357
         ],
         "textposition": "auto",
         "type": "bar",
         "x": [
          "Benign"
         ],
         "xaxis": "x",
         "y": [
          357
         ],
         "yaxis": "y"
        },
        {
         "alignmentgroup": "True",
         "hovertemplate": "Class=%{x}<br>Count=%{text}<extra></extra>",
         "legendgroup": "Malignant",
         "marker": {
          "color": "#ab63fa",
          "pattern": {
           "shape": ""
          }
         },
         "name": "Malignant",
         "offsetgroup": "Malignant",
         "orientation": "v",
         "showlegend": true,
         "text": [
          212
         ],
         "textposition": "auto",
         "type": "bar",
         "x": [
          "Malignant"
         ],
         "xaxis": "x",
         "y": [
          212
         ],
         "yaxis": "y"
        }
       ],
       "layout": {
        "barmode": "relative",
        "legend": {
         "title": {
          "text": "Class"
         },
         "tracegroupgap": 0
        },
        "template": {
         "data": {
          "bar": [
           {
            "error_x": {
             "color": "#2a3f5f"
            },
            "error_y": {
             "color": "#2a3f5f"
            },
            "marker": {
             "line": {
              "color": "#E5ECF6",
              "width": 0.5
             },
             "pattern": {
              "fillmode": "overlay",
              "size": 10,
              "solidity": 0.2
             }
            },
            "type": "bar"
           }
          ],
          "barpolar": [
           {
            "marker": {
             "line": {
              "color": "#E5ECF6",
              "width": 0.5
             },
             "pattern": {
              "fillmode": "overlay",
              "size": 10,
              "solidity": 0.2
             }
            },
            "type": "barpolar"
           }
          ],
          "carpet": [
           {
            "aaxis": {
             "endlinecolor": "#2a3f5f",
             "gridcolor": "white",
             "linecolor": "white",
             "minorgridcolor": "white",
             "startlinecolor": "#2a3f5f"
            },
            "baxis": {
             "endlinecolor": "#2a3f5f",
             "gridcolor": "white",
             "linecolor": "white",
             "minorgridcolor": "white",
             "startlinecolor": "#2a3f5f"
            },
            "type": "carpet"
           }
          ],
          "choropleth": [
           {
            "colorbar": {
             "outlinewidth": 0,
             "ticks": ""
            },
            "type": "choropleth"
           }
          ],
          "contour": [
           {
            "colorbar": {
             "outlinewidth": 0,
             "ticks": ""
            },
            "colorscale": [
             [
              0,
              "#0d0887"
             ],
             [
              0.1111111111111111,
              "#46039f"
             ],
             [
              0.2222222222222222,
              "#7201a8"
             ],
             [
              0.3333333333333333,
              "#9c179e"
             ],
             [
              0.4444444444444444,
              "#bd3786"
             ],
             [
              0.5555555555555556,
              "#d8576b"
             ],
             [
              0.6666666666666666,
              "#ed7953"
             ],
             [
              0.7777777777777778,
              "#fb9f3a"
             ],
             [
              0.8888888888888888,
              "#fdca26"
             ],
             [
              1,
              "#f0f921"
             ]
            ],
            "type": "contour"
           }
          ],
          "contourcarpet": [
           {
            "colorbar": {
             "outlinewidth": 0,
             "ticks": ""
            },
            "type": "contourcarpet"
           }
          ],
          "heatmap": [
           {
            "colorbar": {
             "outlinewidth": 0,
             "ticks": ""
            },
            "colorscale": [
             [
              0,
              "#0d0887"
             ],
             [
              0.1111111111111111,
              "#46039f"
             ],
             [
              0.2222222222222222,
              "#7201a8"
             ],
             [
              0.3333333333333333,
              "#9c179e"
             ],
             [
              0.4444444444444444,
              "#bd3786"
             ],
             [
              0.5555555555555556,
              "#d8576b"
             ],
             [
              0.6666666666666666,
              "#ed7953"
             ],
             [
              0.7777777777777778,
              "#fb9f3a"
             ],
             [
              0.8888888888888888,
              "#fdca26"
             ],
             [
              1,
              "#f0f921"
             ]
            ],
            "type": "heatmap"
           }
          ],
          "heatmapgl": [
           {
            "colorbar": {
             "outlinewidth": 0,
             "ticks": ""
            },
            "colorscale": [
             [
              0,
              "#0d0887"
             ],
             [
              0.1111111111111111,
              "#46039f"
             ],
             [
              0.2222222222222222,
              "#7201a8"
             ],
             [
              0.3333333333333333,
              "#9c179e"
             ],
             [
              0.4444444444444444,
              "#bd3786"
             ],
             [
              0.5555555555555556,
              "#d8576b"
             ],
             [
              0.6666666666666666,
              "#ed7953"
             ],
             [
              0.7777777777777778,
              "#fb9f3a"
             ],
             [
              0.8888888888888888,
              "#fdca26"
             ],
             [
              1,
              "#f0f921"
             ]
            ],
            "type": "heatmapgl"
           }
          ],
          "histogram": [
           {
            "marker": {
             "pattern": {
              "fillmode": "overlay",
              "size": 10,
              "solidity": 0.2
             }
            },
            "type": "histogram"
           }
          ],
          "histogram2d": [
           {
            "colorbar": {
             "outlinewidth": 0,
             "ticks": ""
            },
            "colorscale": [
             [
              0,
              "#0d0887"
             ],
             [
              0.1111111111111111,
              "#46039f"
             ],
             [
              0.2222222222222222,
              "#7201a8"
             ],
             [
              0.3333333333333333,
              "#9c179e"
             ],
             [
              0.4444444444444444,
              "#bd3786"
             ],
             [
              0.5555555555555556,
              "#d8576b"
             ],
             [
              0.6666666666666666,
              "#ed7953"
             ],
             [
              0.7777777777777778,
              "#fb9f3a"
             ],
             [
              0.8888888888888888,
              "#fdca26"
             ],
             [
              1,
              "#f0f921"
             ]
            ],
            "type": "histogram2d"
           }
          ],
          "histogram2dcontour": [
           {
            "colorbar": {
             "outlinewidth": 0,
             "ticks": ""
            },
            "colorscale": [
             [
              0,
              "#0d0887"
             ],
             [
              0.1111111111111111,
              "#46039f"
             ],
             [
              0.2222222222222222,
              "#7201a8"
             ],
             [
              0.3333333333333333,
              "#9c179e"
             ],
             [
              0.4444444444444444,
              "#bd3786"
             ],
             [
              0.5555555555555556,
              "#d8576b"
             ],
             [
              0.6666666666666666,
              "#ed7953"
             ],
             [
              0.7777777777777778,
              "#fb9f3a"
             ],
             [
              0.8888888888888888,
              "#fdca26"
             ],
             [
              1,
              "#f0f921"
             ]
            ],
            "type": "histogram2dcontour"
           }
          ],
          "mesh3d": [
           {
            "colorbar": {
             "outlinewidth": 0,
             "ticks": ""
            },
            "type": "mesh3d"
           }
          ],
          "parcoords": [
           {
            "line": {
             "colorbar": {
              "outlinewidth": 0,
              "ticks": ""
             }
            },
            "type": "parcoords"
           }
          ],
          "pie": [
           {
            "automargin": true,
            "type": "pie"
           }
          ],
          "scatter": [
           {
            "fillpattern": {
             "fillmode": "overlay",
             "size": 10,
             "solidity": 0.2
            },
            "type": "scatter"
           }
          ],
          "scatter3d": [
           {
            "line": {
             "colorbar": {
              "outlinewidth": 0,
              "ticks": ""
             }
            },
            "marker": {
             "colorbar": {
              "outlinewidth": 0,
              "ticks": ""
             }
            },
            "type": "scatter3d"
           }
          ],
          "scattercarpet": [
           {
            "marker": {
             "colorbar": {
              "outlinewidth": 0,
              "ticks": ""
             }
            },
            "type": "scattercarpet"
           }
          ],
          "scattergeo": [
           {
            "marker": {
             "colorbar": {
              "outlinewidth": 0,
              "ticks": ""
             }
            },
            "type": "scattergeo"
           }
          ],
          "scattergl": [
           {
            "marker": {
             "colorbar": {
              "outlinewidth": 0,
              "ticks": ""
             }
            },
            "type": "scattergl"
           }
          ],
          "scattermapbox": [
           {
            "marker": {
             "colorbar": {
              "outlinewidth": 0,
              "ticks": ""
             }
            },
            "type": "scattermapbox"
           }
          ],
          "scatterpolar": [
           {
            "marker": {
             "colorbar": {
              "outlinewidth": 0,
              "ticks": ""
             }
            },
            "type": "scatterpolar"
           }
          ],
          "scatterpolargl": [
           {
            "marker": {
             "colorbar": {
              "outlinewidth": 0,
              "ticks": ""
             }
            },
            "type": "scatterpolargl"
           }
          ],
          "scatterternary": [
           {
            "marker": {
             "colorbar": {
              "outlinewidth": 0,
              "ticks": ""
             }
            },
            "type": "scatterternary"
           }
          ],
          "surface": [
           {
            "colorbar": {
             "outlinewidth": 0,
             "ticks": ""
            },
            "colorscale": [
             [
              0,
              "#0d0887"
             ],
             [
              0.1111111111111111,
              "#46039f"
             ],
             [
              0.2222222222222222,
              "#7201a8"
             ],
             [
              0.3333333333333333,
              "#9c179e"
             ],
             [
              0.4444444444444444,
              "#bd3786"
             ],
             [
              0.5555555555555556,
              "#d8576b"
             ],
             [
              0.6666666666666666,
              "#ed7953"
             ],
             [
              0.7777777777777778,
              "#fb9f3a"
             ],
             [
              0.8888888888888888,
              "#fdca26"
             ],
             [
              1,
              "#f0f921"
             ]
            ],
            "type": "surface"
           }
          ],
          "table": [
           {
            "cells": {
             "fill": {
              "color": "#EBF0F8"
             },
             "line": {
              "color": "white"
             }
            },
            "header": {
             "fill": {
              "color": "#C8D4E3"
             },
             "line": {
              "color": "white"
             }
            },
            "type": "table"
           }
          ]
         },
         "layout": {
          "annotationdefaults": {
           "arrowcolor": "#2a3f5f",
           "arrowhead": 0,
           "arrowwidth": 1
          },
          "autotypenumbers": "strict",
          "coloraxis": {
           "colorbar": {
            "outlinewidth": 0,
            "ticks": ""
           }
          },
          "colorscale": {
           "diverging": [
            [
             0,
             "#8e0152"
            ],
            [
             0.1,
             "#c51b7d"
            ],
            [
             0.2,
             "#de77ae"
            ],
            [
             0.3,
             "#f1b6da"
            ],
            [
             0.4,
             "#fde0ef"
            ],
            [
             0.5,
             "#f7f7f7"
            ],
            [
             0.6,
             "#e6f5d0"
            ],
            [
             0.7,
             "#b8e186"
            ],
            [
             0.8,
             "#7fbc41"
            ],
            [
             0.9,
             "#4d9221"
            ],
            [
             1,
             "#276419"
            ]
           ],
           "sequential": [
            [
             0,
             "#0d0887"
            ],
            [
             0.1111111111111111,
             "#46039f"
            ],
            [
             0.2222222222222222,
             "#7201a8"
            ],
            [
             0.3333333333333333,
             "#9c179e"
            ],
            [
             0.4444444444444444,
             "#bd3786"
            ],
            [
             0.5555555555555556,
             "#d8576b"
            ],
            [
             0.6666666666666666,
             "#ed7953"
            ],
            [
             0.7777777777777778,
             "#fb9f3a"
            ],
            [
             0.8888888888888888,
             "#fdca26"
            ],
            [
             1,
             "#f0f921"
            ]
           ],
           "sequentialminus": [
            [
             0,
             "#0d0887"
            ],
            [
             0.1111111111111111,
             "#46039f"
            ],
            [
             0.2222222222222222,
             "#7201a8"
            ],
            [
             0.3333333333333333,
             "#9c179e"
            ],
            [
             0.4444444444444444,
             "#bd3786"
            ],
            [
             0.5555555555555556,
             "#d8576b"
            ],
            [
             0.6666666666666666,
             "#ed7953"
            ],
            [
             0.7777777777777778,
             "#fb9f3a"
            ],
            [
             0.8888888888888888,
             "#fdca26"
            ],
            [
             1,
             "#f0f921"
            ]
           ]
          },
          "colorway": [
           "#636efa",
           "#EF553B",
           "#00cc96",
           "#ab63fa",
           "#FFA15A",
           "#19d3f3",
           "#FF6692",
           "#B6E880",
           "#FF97FF",
           "#FECB52"
          ],
          "font": {
           "color": "#2a3f5f"
          },
          "geo": {
           "bgcolor": "white",
           "lakecolor": "white",
           "landcolor": "#E5ECF6",
           "showlakes": true,
           "showland": true,
           "subunitcolor": "white"
          },
          "hoverlabel": {
           "align": "left"
          },
          "hovermode": "closest",
          "mapbox": {
           "style": "light"
          },
          "paper_bgcolor": "white",
          "plot_bgcolor": "#E5ECF6",
          "polar": {
           "angularaxis": {
            "gridcolor": "white",
            "linecolor": "white",
            "ticks": ""
           },
           "bgcolor": "#E5ECF6",
           "radialaxis": {
            "gridcolor": "white",
            "linecolor": "white",
            "ticks": ""
           }
          },
          "scene": {
           "xaxis": {
            "backgroundcolor": "#E5ECF6",
            "gridcolor": "white",
            "gridwidth": 2,
            "linecolor": "white",
            "showbackground": true,
            "ticks": "",
            "zerolinecolor": "white"
           },
           "yaxis": {
            "backgroundcolor": "#E5ECF6",
            "gridcolor": "white",
            "gridwidth": 2,
            "linecolor": "white",
            "showbackground": true,
            "ticks": "",
            "zerolinecolor": "white"
           },
           "zaxis": {
            "backgroundcolor": "#E5ECF6",
            "gridcolor": "white",
            "gridwidth": 2,
            "linecolor": "white",
            "showbackground": true,
            "ticks": "",
            "zerolinecolor": "white"
           }
          },
          "shapedefaults": {
           "line": {
            "color": "#2a3f5f"
           }
          },
          "ternary": {
           "aaxis": {
            "gridcolor": "white",
            "linecolor": "white",
            "ticks": ""
           },
           "baxis": {
            "gridcolor": "white",
            "linecolor": "white",
            "ticks": ""
           },
           "bgcolor": "#E5ECF6",
           "caxis": {
            "gridcolor": "white",
            "linecolor": "white",
            "ticks": ""
           }
          },
          "title": {
           "x": 0.05
          },
          "xaxis": {
           "automargin": true,
           "gridcolor": "white",
           "linecolor": "white",
           "ticks": "",
           "title": {
            "standoff": 15
           },
           "zerolinecolor": "white",
           "zerolinewidth": 2
          },
          "yaxis": {
           "automargin": true,
           "gridcolor": "white",
           "linecolor": "white",
           "ticks": "",
           "title": {
            "standoff": 15
           },
           "zerolinecolor": "white",
           "zerolinewidth": 2
          }
         }
        },
        "title": {
         "text": "Box Plot for value counts of Malignant and Benign"
        },
        "xaxis": {
         "anchor": "y",
         "categoryarray": [
          "Benign",
          "Malignant"
         ],
         "categoryorder": "total descending",
         "domain": [
          0,
          1
         ],
         "title": {
          "text": "Diagnosis"
         }
        },
        "yaxis": {
         "anchor": "x",
         "domain": [
          0,
          1
         ],
         "title": {
          "text": "Count"
         }
        }
       }
      },
      "text/html": [
       "<div>                            <div id=\"ad4b658e-346f-47f9-b461-5f7634444abe\" class=\"plotly-graph-div\" style=\"height:525px; width:100%;\"></div>            <script type=\"text/javascript\">                require([\"plotly\"], function(Plotly) {                    window.PLOTLYENV=window.PLOTLYENV || {};                                    if (document.getElementById(\"ad4b658e-346f-47f9-b461-5f7634444abe\")) {                    Plotly.newPlot(                        \"ad4b658e-346f-47f9-b461-5f7634444abe\",                        [{\"alignmentgroup\":\"True\",\"hovertemplate\":\"Class=%{x}<br>Count=%{text}<extra></extra>\",\"legendgroup\":\"Benign\",\"marker\":{\"color\":\"#00cc96\",\"pattern\":{\"shape\":\"\"}},\"name\":\"Benign\",\"offsetgroup\":\"Benign\",\"orientation\":\"v\",\"showlegend\":true,\"text\":[357.0],\"textposition\":\"auto\",\"x\":[\"Benign\"],\"xaxis\":\"x\",\"y\":[357],\"yaxis\":\"y\",\"type\":\"bar\"},{\"alignmentgroup\":\"True\",\"hovertemplate\":\"Class=%{x}<br>Count=%{text}<extra></extra>\",\"legendgroup\":\"Malignant\",\"marker\":{\"color\":\"#ab63fa\",\"pattern\":{\"shape\":\"\"}},\"name\":\"Malignant\",\"offsetgroup\":\"Malignant\",\"orientation\":\"v\",\"showlegend\":true,\"text\":[212.0],\"textposition\":\"auto\",\"x\":[\"Malignant\"],\"xaxis\":\"x\",\"y\":[212],\"yaxis\":\"y\",\"type\":\"bar\"}],                        {\"template\":{\"data\":{\"histogram2dcontour\":[{\"type\":\"histogram2dcontour\",\"colorbar\":{\"outlinewidth\":0,\"ticks\":\"\"},\"colorscale\":[[0.0,\"#0d0887\"],[0.1111111111111111,\"#46039f\"],[0.2222222222222222,\"#7201a8\"],[0.3333333333333333,\"#9c179e\"],[0.4444444444444444,\"#bd3786\"],[0.5555555555555556,\"#d8576b\"],[0.6666666666666666,\"#ed7953\"],[0.7777777777777778,\"#fb9f3a\"],[0.8888888888888888,\"#fdca26\"],[1.0,\"#f0f921\"]]}],\"choropleth\":[{\"type\":\"choropleth\",\"colorbar\":{\"outlinewidth\":0,\"ticks\":\"\"}}],\"histogram2d\":[{\"type\":\"histogram2d\",\"colorbar\":{\"outlinewidth\":0,\"ticks\":\"\"},\"colorscale\":[[0.0,\"#0d0887\"],[0.1111111111111111,\"#46039f\"],[0.2222222222222222,\"#7201a8\"],[0.3333333333333333,\"#9c179e\"],[0.4444444444444444,\"#bd3786\"],[0.5555555555555556,\"#d8576b\"],[0.6666666666666666,\"#ed7953\"],[0.7777777777777778,\"#fb9f3a\"],[0.8888888888888888,\"#fdca26\"],[1.0,\"#f0f921\"]]}],\"heatmap\":[{\"type\":\"heatmap\",\"colorbar\":{\"outlinewidth\":0,\"ticks\":\"\"},\"colorscale\":[[0.0,\"#0d0887\"],[0.1111111111111111,\"#46039f\"],[0.2222222222222222,\"#7201a8\"],[0.3333333333333333,\"#9c179e\"],[0.4444444444444444,\"#bd3786\"],[0.5555555555555556,\"#d8576b\"],[0.6666666666666666,\"#ed7953\"],[0.7777777777777778,\"#fb9f3a\"],[0.8888888888888888,\"#fdca26\"],[1.0,\"#f0f921\"]]}],\"heatmapgl\":[{\"type\":\"heatmapgl\",\"colorbar\":{\"outlinewidth\":0,\"ticks\":\"\"},\"colorscale\":[[0.0,\"#0d0887\"],[0.1111111111111111,\"#46039f\"],[0.2222222222222222,\"#7201a8\"],[0.3333333333333333,\"#9c179e\"],[0.4444444444444444,\"#bd3786\"],[0.5555555555555556,\"#d8576b\"],[0.6666666666666666,\"#ed7953\"],[0.7777777777777778,\"#fb9f3a\"],[0.8888888888888888,\"#fdca26\"],[1.0,\"#f0f921\"]]}],\"contourcarpet\":[{\"type\":\"contourcarpet\",\"colorbar\":{\"outlinewidth\":0,\"ticks\":\"\"}}],\"contour\":[{\"type\":\"contour\",\"colorbar\":{\"outlinewidth\":0,\"ticks\":\"\"},\"colorscale\":[[0.0,\"#0d0887\"],[0.1111111111111111,\"#46039f\"],[0.2222222222222222,\"#7201a8\"],[0.3333333333333333,\"#9c179e\"],[0.4444444444444444,\"#bd3786\"],[0.5555555555555556,\"#d8576b\"],[0.6666666666666666,\"#ed7953\"],[0.7777777777777778,\"#fb9f3a\"],[0.8888888888888888,\"#fdca26\"],[1.0,\"#f0f921\"]]}],\"surface\":[{\"type\":\"surface\",\"colorbar\":{\"outlinewidth\":0,\"ticks\":\"\"},\"colorscale\":[[0.0,\"#0d0887\"],[0.1111111111111111,\"#46039f\"],[0.2222222222222222,\"#7201a8\"],[0.3333333333333333,\"#9c179e\"],[0.4444444444444444,\"#bd3786\"],[0.5555555555555556,\"#d8576b\"],[0.6666666666666666,\"#ed7953\"],[0.7777777777777778,\"#fb9f3a\"],[0.8888888888888888,\"#fdca26\"],[1.0,\"#f0f921\"]]}],\"mesh3d\":[{\"type\":\"mesh3d\",\"colorbar\":{\"outlinewidth\":0,\"ticks\":\"\"}}],\"scatter\":[{\"fillpattern\":{\"fillmode\":\"overlay\",\"size\":10,\"solidity\":0.2},\"type\":\"scatter\"}],\"parcoords\":[{\"type\":\"parcoords\",\"line\":{\"colorbar\":{\"outlinewidth\":0,\"ticks\":\"\"}}}],\"scatterpolargl\":[{\"type\":\"scatterpolargl\",\"marker\":{\"colorbar\":{\"outlinewidth\":0,\"ticks\":\"\"}}}],\"bar\":[{\"error_x\":{\"color\":\"#2a3f5f\"},\"error_y\":{\"color\":\"#2a3f5f\"},\"marker\":{\"line\":{\"color\":\"#E5ECF6\",\"width\":0.5},\"pattern\":{\"fillmode\":\"overlay\",\"size\":10,\"solidity\":0.2}},\"type\":\"bar\"}],\"scattergeo\":[{\"type\":\"scattergeo\",\"marker\":{\"colorbar\":{\"outlinewidth\":0,\"ticks\":\"\"}}}],\"scatterpolar\":[{\"type\":\"scatterpolar\",\"marker\":{\"colorbar\":{\"outlinewidth\":0,\"ticks\":\"\"}}}],\"histogram\":[{\"marker\":{\"pattern\":{\"fillmode\":\"overlay\",\"size\":10,\"solidity\":0.2}},\"type\":\"histogram\"}],\"scattergl\":[{\"type\":\"scattergl\",\"marker\":{\"colorbar\":{\"outlinewidth\":0,\"ticks\":\"\"}}}],\"scatter3d\":[{\"type\":\"scatter3d\",\"line\":{\"colorbar\":{\"outlinewidth\":0,\"ticks\":\"\"}},\"marker\":{\"colorbar\":{\"outlinewidth\":0,\"ticks\":\"\"}}}],\"scattermapbox\":[{\"type\":\"scattermapbox\",\"marker\":{\"colorbar\":{\"outlinewidth\":0,\"ticks\":\"\"}}}],\"scatterternary\":[{\"type\":\"scatterternary\",\"marker\":{\"colorbar\":{\"outlinewidth\":0,\"ticks\":\"\"}}}],\"scattercarpet\":[{\"type\":\"scattercarpet\",\"marker\":{\"colorbar\":{\"outlinewidth\":0,\"ticks\":\"\"}}}],\"carpet\":[{\"aaxis\":{\"endlinecolor\":\"#2a3f5f\",\"gridcolor\":\"white\",\"linecolor\":\"white\",\"minorgridcolor\":\"white\",\"startlinecolor\":\"#2a3f5f\"},\"baxis\":{\"endlinecolor\":\"#2a3f5f\",\"gridcolor\":\"white\",\"linecolor\":\"white\",\"minorgridcolor\":\"white\",\"startlinecolor\":\"#2a3f5f\"},\"type\":\"carpet\"}],\"table\":[{\"cells\":{\"fill\":{\"color\":\"#EBF0F8\"},\"line\":{\"color\":\"white\"}},\"header\":{\"fill\":{\"color\":\"#C8D4E3\"},\"line\":{\"color\":\"white\"}},\"type\":\"table\"}],\"barpolar\":[{\"marker\":{\"line\":{\"color\":\"#E5ECF6\",\"width\":0.5},\"pattern\":{\"fillmode\":\"overlay\",\"size\":10,\"solidity\":0.2}},\"type\":\"barpolar\"}],\"pie\":[{\"automargin\":true,\"type\":\"pie\"}]},\"layout\":{\"autotypenumbers\":\"strict\",\"colorway\":[\"#636efa\",\"#EF553B\",\"#00cc96\",\"#ab63fa\",\"#FFA15A\",\"#19d3f3\",\"#FF6692\",\"#B6E880\",\"#FF97FF\",\"#FECB52\"],\"font\":{\"color\":\"#2a3f5f\"},\"hovermode\":\"closest\",\"hoverlabel\":{\"align\":\"left\"},\"paper_bgcolor\":\"white\",\"plot_bgcolor\":\"#E5ECF6\",\"polar\":{\"bgcolor\":\"#E5ECF6\",\"angularaxis\":{\"gridcolor\":\"white\",\"linecolor\":\"white\",\"ticks\":\"\"},\"radialaxis\":{\"gridcolor\":\"white\",\"linecolor\":\"white\",\"ticks\":\"\"}},\"ternary\":{\"bgcolor\":\"#E5ECF6\",\"aaxis\":{\"gridcolor\":\"white\",\"linecolor\":\"white\",\"ticks\":\"\"},\"baxis\":{\"gridcolor\":\"white\",\"linecolor\":\"white\",\"ticks\":\"\"},\"caxis\":{\"gridcolor\":\"white\",\"linecolor\":\"white\",\"ticks\":\"\"}},\"coloraxis\":{\"colorbar\":{\"outlinewidth\":0,\"ticks\":\"\"}},\"colorscale\":{\"sequential\":[[0.0,\"#0d0887\"],[0.1111111111111111,\"#46039f\"],[0.2222222222222222,\"#7201a8\"],[0.3333333333333333,\"#9c179e\"],[0.4444444444444444,\"#bd3786\"],[0.5555555555555556,\"#d8576b\"],[0.6666666666666666,\"#ed7953\"],[0.7777777777777778,\"#fb9f3a\"],[0.8888888888888888,\"#fdca26\"],[1.0,\"#f0f921\"]],\"sequentialminus\":[[0.0,\"#0d0887\"],[0.1111111111111111,\"#46039f\"],[0.2222222222222222,\"#7201a8\"],[0.3333333333333333,\"#9c179e\"],[0.4444444444444444,\"#bd3786\"],[0.5555555555555556,\"#d8576b\"],[0.6666666666666666,\"#ed7953\"],[0.7777777777777778,\"#fb9f3a\"],[0.8888888888888888,\"#fdca26\"],[1.0,\"#f0f921\"]],\"diverging\":[[0,\"#8e0152\"],[0.1,\"#c51b7d\"],[0.2,\"#de77ae\"],[0.3,\"#f1b6da\"],[0.4,\"#fde0ef\"],[0.5,\"#f7f7f7\"],[0.6,\"#e6f5d0\"],[0.7,\"#b8e186\"],[0.8,\"#7fbc41\"],[0.9,\"#4d9221\"],[1,\"#276419\"]]},\"xaxis\":{\"gridcolor\":\"white\",\"linecolor\":\"white\",\"ticks\":\"\",\"title\":{\"standoff\":15},\"zerolinecolor\":\"white\",\"automargin\":true,\"zerolinewidth\":2},\"yaxis\":{\"gridcolor\":\"white\",\"linecolor\":\"white\",\"ticks\":\"\",\"title\":{\"standoff\":15},\"zerolinecolor\":\"white\",\"automargin\":true,\"zerolinewidth\":2},\"scene\":{\"xaxis\":{\"backgroundcolor\":\"#E5ECF6\",\"gridcolor\":\"white\",\"linecolor\":\"white\",\"showbackground\":true,\"ticks\":\"\",\"zerolinecolor\":\"white\",\"gridwidth\":2},\"yaxis\":{\"backgroundcolor\":\"#E5ECF6\",\"gridcolor\":\"white\",\"linecolor\":\"white\",\"showbackground\":true,\"ticks\":\"\",\"zerolinecolor\":\"white\",\"gridwidth\":2},\"zaxis\":{\"backgroundcolor\":\"#E5ECF6\",\"gridcolor\":\"white\",\"linecolor\":\"white\",\"showbackground\":true,\"ticks\":\"\",\"zerolinecolor\":\"white\",\"gridwidth\":2}},\"shapedefaults\":{\"line\":{\"color\":\"#2a3f5f\"}},\"annotationdefaults\":{\"arrowcolor\":\"#2a3f5f\",\"arrowhead\":0,\"arrowwidth\":1},\"geo\":{\"bgcolor\":\"white\",\"landcolor\":\"#E5ECF6\",\"subunitcolor\":\"white\",\"showland\":true,\"showlakes\":true,\"lakecolor\":\"white\"},\"title\":{\"x\":0.05},\"mapbox\":{\"style\":\"light\"}}},\"xaxis\":{\"anchor\":\"y\",\"domain\":[0.0,1.0],\"title\":{\"text\":\"Diagnosis\"},\"categoryorder\":\"total descending\",\"categoryarray\":[\"Benign\",\"Malignant\"]},\"yaxis\":{\"anchor\":\"x\",\"domain\":[0.0,1.0],\"title\":{\"text\":\"Count\"}},\"legend\":{\"title\":{\"text\":\"Class\"},\"tracegroupgap\":0},\"title\":{\"text\":\"Box Plot for value counts of Malignant and Benign\"},\"barmode\":\"relative\"},                        {\"responsive\": true}                    ).then(function(){\n",
       "                            \n",
       "var gd = document.getElementById('ad4b658e-346f-47f9-b461-5f7634444abe');\n",
       "var x = new MutationObserver(function (mutations, observer) {{\n",
       "        var display = window.getComputedStyle(gd).display;\n",
       "        if (!display || display === 'none') {{\n",
       "            console.log([gd, 'removed!']);\n",
       "            Plotly.purge(gd);\n",
       "            observer.disconnect();\n",
       "        }}\n",
       "}});\n",
       "\n",
       "// Listen for the removal of the full notebook cells\n",
       "var notebookContainer = gd.closest('#notebook-container');\n",
       "if (notebookContainer) {{\n",
       "    x.observe(notebookContainer, {childList: true});\n",
       "}}\n",
       "\n",
       "// Listen for the clearing of the current output cell\n",
       "var outputEl = gd.closest('.output');\n",
       "if (outputEl) {{\n",
       "    x.observe(outputEl, {childList: true});\n",
       "}}\n",
       "\n",
       "                        })                };                });            </script>        </div>"
      ]
     },
     "metadata": {},
     "output_type": "display_data"
    }
   ],
   "source": [
    "import pandas as pd\n",
    "import plotly.express as px\n",
    "\n",
    "# Assuming you have loaded your dataframe df_final\n",
    "\n",
    "# Replace this line with your actual data\n",
    "y = df_final.diagnosis\n",
    "\n",
    "# Create a DataFrame from your 'y' data\n",
    "data = pd.DataFrame({'y': y})\n",
    "# Define colors for each class\n",
    "class_colors = {'M': 'red', 'B': 'blue'}\n",
    "\n",
    "# Map the 'diagnosis' values to the corresponding colors\n",
    "data['color'] = data['y'].map(class_colors)\n",
    "data['y'] = data['y'].replace({'B': 'Benign', 'M': 'Malignant'})\n",
    "# Create a bar plot using Plotly Express and specify colors\n",
    "fig = px.bar(data['y'].value_counts().reset_index(), x='index', y='y', color='index', color_discrete_map=class_colors,\n",
    "             labels={'index': 'Class', 'y': 'Count'}, title='Distribution of Classes',\n",
    "             text='y', # Add this line to display the value counts on the bars\n",
    "             )\n",
    "fig.update_xaxes(categoryorder='total descending')  # Sort the categories by count\n",
    "# Customize the appearance of the plot\n",
    "fig.update_xaxes(title_text='Diagnosis')  # X-axis label\n",
    "fig.update_yaxes(title_text='Count')  # Y-axis label\n",
    "fig.update_layout(title='Box Plot for value counts of Malignant and Benign')  # Plot title\n",
    "# Show the plot\n",
    "fig.show()\n"
   ]
  },
  {
   "cell_type": "markdown",
   "metadata": {
    "id": "vW_rwuIdJBNM"
   },
   "source": [
    "\n",
    "<div style=\"text-align: left;\">\n",
    "    <h5><strong>Histogram of Radius Mean for Benign and Malignant Tumors</strong></h5>\n",
    "</div>"
   ]
  },
  {
   "cell_type": "code",
   "execution_count": 29,
   "metadata": {},
   "outputs": [
    {
     "data": {
      "application/vnd.plotly.v1+json": {
       "config": {
        "plotlyServerURL": "https://plot.ly"
       },
       "data": [
        {
         "alignmentgroup": "True",
         "bingroup": "x",
         "hovertemplate": "diagnosis=Malignant<br>Radius Mean Values=%{x}<br>count=%{y}<extra></extra>",
         "legendgroup": "Malignant",
         "marker": {
          "color": "red",
          "opacity": 0.5,
          "pattern": {
           "shape": ""
          }
         },
         "name": "Malignant",
         "nbinsx": 30,
         "offsetgroup": "Malignant",
         "orientation": "v",
         "showlegend": true,
         "type": "histogram",
         "x": [
          17.99,
          20.57,
          19.69,
          11.42,
          20.29,
          12.45,
          18.25,
          13.71,
          13,
          12.46,
          16.02,
          15.78,
          19.17,
          15.85,
          13.73,
          14.54,
          14.68,
          16.13,
          19.81,
          15.34,
          21.16,
          16.65,
          17.14,
          14.58,
          18.61,
          15.3,
          17.57,
          18.63,
          11.84,
          17.02,
          19.27,
          16.13,
          16.74,
          14.25,
          14.99,
          13.48,
          13.44,
          10.95,
          19.07,
          13.28,
          13.17,
          18.65,
          13.17,
          18.22,
          15.1,
          19.21,
          14.71,
          14.25,
          12.68,
          14.78,
          18.94,
          17.2,
          13.8,
          16.07,
          18.05,
          20.18,
          25.22,
          19.1,
          18.46,
          14.48,
          19.02,
          15.37,
          15.06,
          20.26,
          14.42,
          13.61,
          13.11,
          22.27,
          14.87,
          15.78,
          17.95,
          18.66,
          24.25,
          13.61,
          19,
          19.79,
          15.46,
          16.16,
          18.45,
          12.77,
          14.95,
          16.11,
          11.8,
          17.68,
          19.19,
          19.59,
          23.27,
          16.78,
          17.47,
          13.43,
          15.46,
          16.46,
          27.22,
          21.09,
          15.7,
          15.28,
          18.31,
          14.22,
          12.34,
          14.86,
          13.77,
          18.08,
          19.18,
          14.45,
          17.54,
          23.29,
          13.81,
          15.12,
          17.01,
          20.58,
          28.11,
          17.42,
          14.19,
          13.86,
          19.8,
          19.53,
          15.75,
          12.83,
          17.05,
          20.51,
          23.21,
          20.48,
          17.46,
          19.4,
          20.94,
          19.73,
          17.3,
          19.45,
          13.96,
          19.55,
          15.32,
          15.66,
          15.53,
          20.31,
          17.35,
          17.29,
          15.61,
          17.19,
          20.73,
          21.75,
          17.93,
          18.81,
          19.16,
          19.4,
          16.24,
          11.76,
          19.53,
          20.09,
          18.22,
          20.16,
          20.34,
          16.27,
          16.26,
          16.03,
          17.06,
          18.77,
          23.51,
          19.68,
          15.75,
          25.73,
          15.08,
          20.44,
          20.2,
          21.71,
          22.01,
          16.35,
          21.37,
          20.64,
          11.08,
          14.6,
          19.55,
          15.49,
          21.61,
          17.91,
          17.99,
          15.13,
          15.5,
          14.9,
          20.18,
          18.82,
          13.98,
          17.27,
          18.03,
          17.75,
          21.1,
          19.59,
          17.08,
          27.42,
          17.6,
          16.25,
          19.44,
          16.69,
          18.01,
          18.49,
          20.59,
          13.82,
          23.09,
          15.46,
          13.4,
          15.05,
          18.31,
          19.89,
          24.63,
          20.47,
          20.55,
          14.27,
          15.22,
          20.92,
          21.56,
          20.13,
          16.6,
          20.6
         ],
         "xaxis": "x",
         "yaxis": "y"
        },
        {
         "alignmentgroup": "True",
         "bingroup": "x",
         "hovertemplate": "diagnosis=Benign<br>Radius Mean Values=%{x}<br>count=%{y}<extra></extra>",
         "legendgroup": "Benign",
         "marker": {
          "color": "green",
          "opacity": 0.5,
          "pattern": {
           "shape": ""
          }
         },
         "name": "Benign",
         "nbinsx": 30,
         "offsetgroup": "Benign",
         "orientation": "v",
         "showlegend": true,
         "type": "histogram",
         "x": [
          13.54,
          13.08,
          9.504,
          13.03,
          8.196,
          12.05,
          13.49,
          11.76,
          13.64,
          11.94,
          11.52,
          13.05,
          8.618,
          10.17,
          8.598,
          9.173,
          9.465,
          11.31,
          9.029,
          12.78,
          8.888,
          12.31,
          13.53,
          12.86,
          11.45,
          13.34,
          12,
          12.36,
          14.64,
          14.62,
          13.27,
          13.45,
          12.18,
          9.787,
          11.6,
          6.981,
          12.18,
          9.876,
          10.49,
          11.64,
          12.36,
          11.34,
          9.777,
          12.63,
          14.26,
          10.51,
          8.726,
          11.93,
          8.95,
          11.41,
          14.5,
          13.37,
          13.85,
          15.1,
          12.19,
          15.71,
          11.71,
          11.43,
          11.28,
          9.738,
          11.43,
          12.9,
          10.75,
          11.9,
          14.95,
          14.44,
          13.74,
          13,
          8.219,
          9.731,
          11.15,
          13.15,
          12.25,
          16.84,
          12.06,
          10.9,
          11.75,
          12.34,
          14.97,
          10.8,
          14.97,
          12.32,
          11.08,
          10.66,
          8.671,
          9.904,
          13.01,
          12.81,
          11.41,
          10.08,
          11.71,
          11.81,
          12.3,
          12.77,
          9.72,
          12.91,
          12.23,
          12.47,
          9.876,
          13.11,
          15.27,
          11.84,
          11.89,
          10.2,
          13.65,
          13.56,
          10.18,
          13.27,
          14.34,
          10.44,
          15,
          12.62,
          11.32,
          11.22,
          9.567,
          14.03,
          14.22,
          13.64,
          12.42,
          11.3,
          13.75,
          10.48,
          13.2,
          12.89,
          10.65,
          11.52,
          11.5,
          10.6,
          13.59,
          12.87,
          10.71,
          14.29,
          11.29,
          9.742,
          11.89,
          11.33,
          13.59,
          13.85,
          11.74,
          12.89,
          12.58,
          11.94,
          12.89,
          11.26,
          11.37,
          14.41,
          14.96,
          12.95,
          11.85,
          12.72,
          13.77,
          10.91,
          14.26,
          10.51,
          12.46,
          10.49,
          11.46,
          11.6,
          13.2,
          9,
          13.5,
          13.05,
          11.7,
          14.61,
          12.76,
          11.54,
          8.597,
          12.49,
          12.18,
          9.042,
          12.43,
          10.25,
          12.86,
          12.2,
          12.67,
          14.11,
          12.03,
          12.98,
          11.22,
          11.25,
          12.3,
          12.99,
          10.05,
          14.42,
          9.606,
          11.06,
          11.71,
          10.26,
          12.06,
          14.76,
          11.47,
          11.95,
          11.66,
          11.14,
          12.56,
          13.05,
          13.87,
          8.878,
          9.436,
          12.54,
          13.3,
          12.76,
          16.5,
          13.4,
          12.21,
          15.19,
          13.69,
          16.17,
          10.57,
          13.46,
          13.66,
          11.27,
          11.04,
          12.05,
          12.39,
          13.28,
          12.21,
          13.88,
          11.27,
          10.26,
          8.734,
          12.1,
          14.06,
          13.51,
          12.8,
          11.06,
          11.8,
          11.93,
          12.96,
          12.94,
          12.34,
          10.94,
          16.14,
          12.85,
          12.27,
          11.36,
          11.04,
          9.397,
          14.99,
          11.89,
          9.405,
          12.7,
          11.16,
          11.57,
          14.69,
          11.61,
          13.66,
          9.742,
          10.03,
          10.48,
          10.8,
          11.13,
          12.72,
          12.4,
          14.86,
          12.87,
          14.04,
          13.85,
          14.02,
          10.97,
          13.78,
          10.57,
          11.99,
          14.8,
          14.53,
          11.87,
          12,
          14.53,
          12.62,
          13.38,
          11.63,
          13.21,
          13,
          9.755,
          14.4,
          11.6,
          13.17,
          13.24,
          13.14,
          9.668,
          11.62,
          9.667,
          12.04,
          14.92,
          12.27,
          10.88,
          12.83,
          14.2,
          13.9,
          11.49,
          12.16,
          13.9,
          13.47,
          13.7,
          15.73,
          12.45,
          14.64,
          11.68,
          12.25,
          17.85,
          12.46,
          13.16,
          14.87,
          12.65,
          12.47,
          15.04,
          12.54,
          9.268,
          9.676,
          12.22,
          11.06,
          16.3,
          11.74,
          14.81,
          14.58,
          11.34,
          12.88,
          12.75,
          9.295,
          11.26,
          13.71,
          9.847,
          8.571,
          13.46,
          12.34,
          13.94,
          12.07,
          11.75,
          11.67,
          13.68,
          10.96,
          11.69,
          7.729,
          7.691,
          11.54,
          14.47,
          14.74,
          13.21,
          13.87,
          13.62,
          10.32,
          10.26,
          9.683,
          10.82,
          10.86,
          11.13,
          12.77,
          9.333,
          12.88,
          10.29,
          10.16,
          9.423,
          14.59,
          11.51,
          14.05,
          11.2,
          7.76
         ],
         "xaxis": "x",
         "yaxis": "y"
        }
       ],
       "layout": {
        "barmode": "relative",
        "legend": {
         "title": {
          "text": "diagnosis"
         },
         "tracegroupgap": 0
        },
        "showlegend": true,
        "template": {
         "data": {
          "bar": [
           {
            "error_x": {
             "color": "#2a3f5f"
            },
            "error_y": {
             "color": "#2a3f5f"
            },
            "marker": {
             "line": {
              "color": "#E5ECF6",
              "width": 0.5
             },
             "pattern": {
              "fillmode": "overlay",
              "size": 10,
              "solidity": 0.2
             }
            },
            "type": "bar"
           }
          ],
          "barpolar": [
           {
            "marker": {
             "line": {
              "color": "#E5ECF6",
              "width": 0.5
             },
             "pattern": {
              "fillmode": "overlay",
              "size": 10,
              "solidity": 0.2
             }
            },
            "type": "barpolar"
           }
          ],
          "carpet": [
           {
            "aaxis": {
             "endlinecolor": "#2a3f5f",
             "gridcolor": "white",
             "linecolor": "white",
             "minorgridcolor": "white",
             "startlinecolor": "#2a3f5f"
            },
            "baxis": {
             "endlinecolor": "#2a3f5f",
             "gridcolor": "white",
             "linecolor": "white",
             "minorgridcolor": "white",
             "startlinecolor": "#2a3f5f"
            },
            "type": "carpet"
           }
          ],
          "choropleth": [
           {
            "colorbar": {
             "outlinewidth": 0,
             "ticks": ""
            },
            "type": "choropleth"
           }
          ],
          "contour": [
           {
            "colorbar": {
             "outlinewidth": 0,
             "ticks": ""
            },
            "colorscale": [
             [
              0,
              "#0d0887"
             ],
             [
              0.1111111111111111,
              "#46039f"
             ],
             [
              0.2222222222222222,
              "#7201a8"
             ],
             [
              0.3333333333333333,
              "#9c179e"
             ],
             [
              0.4444444444444444,
              "#bd3786"
             ],
             [
              0.5555555555555556,
              "#d8576b"
             ],
             [
              0.6666666666666666,
              "#ed7953"
             ],
             [
              0.7777777777777778,
              "#fb9f3a"
             ],
             [
              0.8888888888888888,
              "#fdca26"
             ],
             [
              1,
              "#f0f921"
             ]
            ],
            "type": "contour"
           }
          ],
          "contourcarpet": [
           {
            "colorbar": {
             "outlinewidth": 0,
             "ticks": ""
            },
            "type": "contourcarpet"
           }
          ],
          "heatmap": [
           {
            "colorbar": {
             "outlinewidth": 0,
             "ticks": ""
            },
            "colorscale": [
             [
              0,
              "#0d0887"
             ],
             [
              0.1111111111111111,
              "#46039f"
             ],
             [
              0.2222222222222222,
              "#7201a8"
             ],
             [
              0.3333333333333333,
              "#9c179e"
             ],
             [
              0.4444444444444444,
              "#bd3786"
             ],
             [
              0.5555555555555556,
              "#d8576b"
             ],
             [
              0.6666666666666666,
              "#ed7953"
             ],
             [
              0.7777777777777778,
              "#fb9f3a"
             ],
             [
              0.8888888888888888,
              "#fdca26"
             ],
             [
              1,
              "#f0f921"
             ]
            ],
            "type": "heatmap"
           }
          ],
          "heatmapgl": [
           {
            "colorbar": {
             "outlinewidth": 0,
             "ticks": ""
            },
            "colorscale": [
             [
              0,
              "#0d0887"
             ],
             [
              0.1111111111111111,
              "#46039f"
             ],
             [
              0.2222222222222222,
              "#7201a8"
             ],
             [
              0.3333333333333333,
              "#9c179e"
             ],
             [
              0.4444444444444444,
              "#bd3786"
             ],
             [
              0.5555555555555556,
              "#d8576b"
             ],
             [
              0.6666666666666666,
              "#ed7953"
             ],
             [
              0.7777777777777778,
              "#fb9f3a"
             ],
             [
              0.8888888888888888,
              "#fdca26"
             ],
             [
              1,
              "#f0f921"
             ]
            ],
            "type": "heatmapgl"
           }
          ],
          "histogram": [
           {
            "marker": {
             "pattern": {
              "fillmode": "overlay",
              "size": 10,
              "solidity": 0.2
             }
            },
            "type": "histogram"
           }
          ],
          "histogram2d": [
           {
            "colorbar": {
             "outlinewidth": 0,
             "ticks": ""
            },
            "colorscale": [
             [
              0,
              "#0d0887"
             ],
             [
              0.1111111111111111,
              "#46039f"
             ],
             [
              0.2222222222222222,
              "#7201a8"
             ],
             [
              0.3333333333333333,
              "#9c179e"
             ],
             [
              0.4444444444444444,
              "#bd3786"
             ],
             [
              0.5555555555555556,
              "#d8576b"
             ],
             [
              0.6666666666666666,
              "#ed7953"
             ],
             [
              0.7777777777777778,
              "#fb9f3a"
             ],
             [
              0.8888888888888888,
              "#fdca26"
             ],
             [
              1,
              "#f0f921"
             ]
            ],
            "type": "histogram2d"
           }
          ],
          "histogram2dcontour": [
           {
            "colorbar": {
             "outlinewidth": 0,
             "ticks": ""
            },
            "colorscale": [
             [
              0,
              "#0d0887"
             ],
             [
              0.1111111111111111,
              "#46039f"
             ],
             [
              0.2222222222222222,
              "#7201a8"
             ],
             [
              0.3333333333333333,
              "#9c179e"
             ],
             [
              0.4444444444444444,
              "#bd3786"
             ],
             [
              0.5555555555555556,
              "#d8576b"
             ],
             [
              0.6666666666666666,
              "#ed7953"
             ],
             [
              0.7777777777777778,
              "#fb9f3a"
             ],
             [
              0.8888888888888888,
              "#fdca26"
             ],
             [
              1,
              "#f0f921"
             ]
            ],
            "type": "histogram2dcontour"
           }
          ],
          "mesh3d": [
           {
            "colorbar": {
             "outlinewidth": 0,
             "ticks": ""
            },
            "type": "mesh3d"
           }
          ],
          "parcoords": [
           {
            "line": {
             "colorbar": {
              "outlinewidth": 0,
              "ticks": ""
             }
            },
            "type": "parcoords"
           }
          ],
          "pie": [
           {
            "automargin": true,
            "type": "pie"
           }
          ],
          "scatter": [
           {
            "fillpattern": {
             "fillmode": "overlay",
             "size": 10,
             "solidity": 0.2
            },
            "type": "scatter"
           }
          ],
          "scatter3d": [
           {
            "line": {
             "colorbar": {
              "outlinewidth": 0,
              "ticks": ""
             }
            },
            "marker": {
             "colorbar": {
              "outlinewidth": 0,
              "ticks": ""
             }
            },
            "type": "scatter3d"
           }
          ],
          "scattercarpet": [
           {
            "marker": {
             "colorbar": {
              "outlinewidth": 0,
              "ticks": ""
             }
            },
            "type": "scattercarpet"
           }
          ],
          "scattergeo": [
           {
            "marker": {
             "colorbar": {
              "outlinewidth": 0,
              "ticks": ""
             }
            },
            "type": "scattergeo"
           }
          ],
          "scattergl": [
           {
            "marker": {
             "colorbar": {
              "outlinewidth": 0,
              "ticks": ""
             }
            },
            "type": "scattergl"
           }
          ],
          "scattermapbox": [
           {
            "marker": {
             "colorbar": {
              "outlinewidth": 0,
              "ticks": ""
             }
            },
            "type": "scattermapbox"
           }
          ],
          "scatterpolar": [
           {
            "marker": {
             "colorbar": {
              "outlinewidth": 0,
              "ticks": ""
             }
            },
            "type": "scatterpolar"
           }
          ],
          "scatterpolargl": [
           {
            "marker": {
             "colorbar": {
              "outlinewidth": 0,
              "ticks": ""
             }
            },
            "type": "scatterpolargl"
           }
          ],
          "scatterternary": [
           {
            "marker": {
             "colorbar": {
              "outlinewidth": 0,
              "ticks": ""
             }
            },
            "type": "scatterternary"
           }
          ],
          "surface": [
           {
            "colorbar": {
             "outlinewidth": 0,
             "ticks": ""
            },
            "colorscale": [
             [
              0,
              "#0d0887"
             ],
             [
              0.1111111111111111,
              "#46039f"
             ],
             [
              0.2222222222222222,
              "#7201a8"
             ],
             [
              0.3333333333333333,
              "#9c179e"
             ],
             [
              0.4444444444444444,
              "#bd3786"
             ],
             [
              0.5555555555555556,
              "#d8576b"
             ],
             [
              0.6666666666666666,
              "#ed7953"
             ],
             [
              0.7777777777777778,
              "#fb9f3a"
             ],
             [
              0.8888888888888888,
              "#fdca26"
             ],
             [
              1,
              "#f0f921"
             ]
            ],
            "type": "surface"
           }
          ],
          "table": [
           {
            "cells": {
             "fill": {
              "color": "#EBF0F8"
             },
             "line": {
              "color": "white"
             }
            },
            "header": {
             "fill": {
              "color": "#C8D4E3"
             },
             "line": {
              "color": "white"
             }
            },
            "type": "table"
           }
          ]
         },
         "layout": {
          "annotationdefaults": {
           "arrowcolor": "#2a3f5f",
           "arrowhead": 0,
           "arrowwidth": 1
          },
          "autotypenumbers": "strict",
          "coloraxis": {
           "colorbar": {
            "outlinewidth": 0,
            "ticks": ""
           }
          },
          "colorscale": {
           "diverging": [
            [
             0,
             "#8e0152"
            ],
            [
             0.1,
             "#c51b7d"
            ],
            [
             0.2,
             "#de77ae"
            ],
            [
             0.3,
             "#f1b6da"
            ],
            [
             0.4,
             "#fde0ef"
            ],
            [
             0.5,
             "#f7f7f7"
            ],
            [
             0.6,
             "#e6f5d0"
            ],
            [
             0.7,
             "#b8e186"
            ],
            [
             0.8,
             "#7fbc41"
            ],
            [
             0.9,
             "#4d9221"
            ],
            [
             1,
             "#276419"
            ]
           ],
           "sequential": [
            [
             0,
             "#0d0887"
            ],
            [
             0.1111111111111111,
             "#46039f"
            ],
            [
             0.2222222222222222,
             "#7201a8"
            ],
            [
             0.3333333333333333,
             "#9c179e"
            ],
            [
             0.4444444444444444,
             "#bd3786"
            ],
            [
             0.5555555555555556,
             "#d8576b"
            ],
            [
             0.6666666666666666,
             "#ed7953"
            ],
            [
             0.7777777777777778,
             "#fb9f3a"
            ],
            [
             0.8888888888888888,
             "#fdca26"
            ],
            [
             1,
             "#f0f921"
            ]
           ],
           "sequentialminus": [
            [
             0,
             "#0d0887"
            ],
            [
             0.1111111111111111,
             "#46039f"
            ],
            [
             0.2222222222222222,
             "#7201a8"
            ],
            [
             0.3333333333333333,
             "#9c179e"
            ],
            [
             0.4444444444444444,
             "#bd3786"
            ],
            [
             0.5555555555555556,
             "#d8576b"
            ],
            [
             0.6666666666666666,
             "#ed7953"
            ],
            [
             0.7777777777777778,
             "#fb9f3a"
            ],
            [
             0.8888888888888888,
             "#fdca26"
            ],
            [
             1,
             "#f0f921"
            ]
           ]
          },
          "colorway": [
           "#636efa",
           "#EF553B",
           "#00cc96",
           "#ab63fa",
           "#FFA15A",
           "#19d3f3",
           "#FF6692",
           "#B6E880",
           "#FF97FF",
           "#FECB52"
          ],
          "font": {
           "color": "#2a3f5f"
          },
          "geo": {
           "bgcolor": "white",
           "lakecolor": "white",
           "landcolor": "#E5ECF6",
           "showlakes": true,
           "showland": true,
           "subunitcolor": "white"
          },
          "hoverlabel": {
           "align": "left"
          },
          "hovermode": "closest",
          "mapbox": {
           "style": "light"
          },
          "paper_bgcolor": "white",
          "plot_bgcolor": "#E5ECF6",
          "polar": {
           "angularaxis": {
            "gridcolor": "white",
            "linecolor": "white",
            "ticks": ""
           },
           "bgcolor": "#E5ECF6",
           "radialaxis": {
            "gridcolor": "white",
            "linecolor": "white",
            "ticks": ""
           }
          },
          "scene": {
           "xaxis": {
            "backgroundcolor": "#E5ECF6",
            "gridcolor": "white",
            "gridwidth": 2,
            "linecolor": "white",
            "showbackground": true,
            "ticks": "",
            "zerolinecolor": "white"
           },
           "yaxis": {
            "backgroundcolor": "#E5ECF6",
            "gridcolor": "white",
            "gridwidth": 2,
            "linecolor": "white",
            "showbackground": true,
            "ticks": "",
            "zerolinecolor": "white"
           },
           "zaxis": {
            "backgroundcolor": "#E5ECF6",
            "gridcolor": "white",
            "gridwidth": 2,
            "linecolor": "white",
            "showbackground": true,
            "ticks": "",
            "zerolinecolor": "white"
           }
          },
          "shapedefaults": {
           "line": {
            "color": "#2a3f5f"
           }
          },
          "ternary": {
           "aaxis": {
            "gridcolor": "white",
            "linecolor": "white",
            "ticks": ""
           },
           "baxis": {
            "gridcolor": "white",
            "linecolor": "white",
            "ticks": ""
           },
           "bgcolor": "#E5ECF6",
           "caxis": {
            "gridcolor": "white",
            "linecolor": "white",
            "ticks": ""
           }
          },
          "title": {
           "x": 0.05
          },
          "xaxis": {
           "automargin": true,
           "gridcolor": "white",
           "linecolor": "white",
           "ticks": "",
           "title": {
            "standoff": 15
           },
           "zerolinecolor": "white",
           "zerolinewidth": 2
          },
          "yaxis": {
           "automargin": true,
           "gridcolor": "white",
           "linecolor": "white",
           "ticks": "",
           "title": {
            "standoff": 15
           },
           "zerolinecolor": "white",
           "zerolinewidth": 2
          }
         }
        },
        "title": {
         "text": "Histogram of Radius Mean for Benign and Malignant Tumors"
        },
        "xaxis": {
         "anchor": "y",
         "domain": [
          0,
          1
         ],
         "title": {
          "text": "Radius Mean Values"
         }
        },
        "yaxis": {
         "anchor": "x",
         "domain": [
          0,
          1
         ],
         "title": {
          "text": "count"
         }
        }
       }
      },
      "text/html": [
       "<div>                            <div id=\"0845a0e2-4b63-48c8-8a54-3cf2fb952e45\" class=\"plotly-graph-div\" style=\"height:525px; width:100%;\"></div>            <script type=\"text/javascript\">                require([\"plotly\"], function(Plotly) {                    window.PLOTLYENV=window.PLOTLYENV || {};                                    if (document.getElementById(\"0845a0e2-4b63-48c8-8a54-3cf2fb952e45\")) {                    Plotly.newPlot(                        \"0845a0e2-4b63-48c8-8a54-3cf2fb952e45\",                        [{\"alignmentgroup\":\"True\",\"bingroup\":\"x\",\"hovertemplate\":\"diagnosis=Malignant<br>Radius Mean Values=%{x}<br>count=%{y}<extra></extra>\",\"legendgroup\":\"Malignant\",\"marker\":{\"color\":\"red\",\"opacity\":0.5,\"pattern\":{\"shape\":\"\"}},\"name\":\"Malignant\",\"nbinsx\":30,\"offsetgroup\":\"Malignant\",\"orientation\":\"v\",\"showlegend\":true,\"x\":[17.99,20.57,19.69,11.42,20.29,12.45,18.25,13.71,13.0,12.46,16.02,15.78,19.17,15.85,13.73,14.54,14.68,16.13,19.81,15.34,21.16,16.65,17.14,14.58,18.61,15.3,17.57,18.63,11.84,17.02,19.27,16.13,16.74,14.25,14.99,13.48,13.44,10.95,19.07,13.28,13.17,18.65,13.17,18.22,15.1,19.21,14.71,14.25,12.68,14.78,18.94,17.2,13.8,16.07,18.05,20.18,25.22,19.1,18.46,14.48,19.02,15.37,15.06,20.26,14.42,13.61,13.11,22.27,14.87,15.78,17.95,18.66,24.25,13.61,19.0,19.79,15.46,16.16,18.45,12.77,14.95,16.11,11.8,17.68,19.19,19.59,23.27,16.78,17.47,13.43,15.46,16.46,27.22,21.09,15.7,15.28,18.31,14.22,12.34,14.86,13.77,18.08,19.18,14.45,17.54,23.29,13.81,15.12,17.01,20.58,28.11,17.42,14.19,13.86,19.8,19.53,15.75,12.83,17.05,20.51,23.21,20.48,17.46,19.4,20.94,19.73,17.3,19.45,13.96,19.55,15.32,15.66,15.53,20.31,17.35,17.29,15.61,17.19,20.73,21.75,17.93,18.81,19.16,19.4,16.24,11.76,19.53,20.09,18.22,20.16,20.34,16.27,16.26,16.03,17.06,18.77,23.51,19.68,15.75,25.73,15.08,20.44,20.2,21.71,22.01,16.35,21.37,20.64,11.08,14.6,19.55,15.49,21.61,17.91,17.99,15.13,15.5,14.9,20.18,18.82,13.98,17.27,18.03,17.75,21.1,19.59,17.08,27.42,17.6,16.25,19.44,16.69,18.01,18.49,20.59,13.82,23.09,15.46,13.4,15.05,18.31,19.89,24.63,20.47,20.55,14.27,15.22,20.92,21.56,20.13,16.6,20.6],\"xaxis\":\"x\",\"yaxis\":\"y\",\"type\":\"histogram\"},{\"alignmentgroup\":\"True\",\"bingroup\":\"x\",\"hovertemplate\":\"diagnosis=Benign<br>Radius Mean Values=%{x}<br>count=%{y}<extra></extra>\",\"legendgroup\":\"Benign\",\"marker\":{\"color\":\"green\",\"opacity\":0.5,\"pattern\":{\"shape\":\"\"}},\"name\":\"Benign\",\"nbinsx\":30,\"offsetgroup\":\"Benign\",\"orientation\":\"v\",\"showlegend\":true,\"x\":[13.54,13.08,9.504,13.03,8.196,12.05,13.49,11.76,13.64,11.94,11.52,13.05,8.618,10.17,8.598,9.173,9.465,11.31,9.029,12.78,8.888,12.31,13.53,12.86,11.45,13.34,12.0,12.36,14.64,14.62,13.27,13.45,12.18,9.787,11.6,6.981,12.18,9.876,10.49,11.64,12.36,11.34,9.777,12.63,14.26,10.51,8.726,11.93,8.95,11.41,14.5,13.37,13.85,15.1,12.19,15.71,11.71,11.43,11.28,9.738,11.43,12.9,10.75,11.9,14.95,14.44,13.74,13.0,8.219,9.731,11.15,13.15,12.25,16.84,12.06,10.9,11.75,12.34,14.97,10.8,14.97,12.32,11.08,10.66,8.671,9.904,13.01,12.81,11.41,10.08,11.71,11.81,12.3,12.77,9.72,12.91,12.23,12.47,9.876,13.11,15.27,11.84,11.89,10.2,13.65,13.56,10.18,13.27,14.34,10.44,15.0,12.62,11.32,11.22,9.567,14.03,14.22,13.64,12.42,11.3,13.75,10.48,13.2,12.89,10.65,11.52,11.5,10.6,13.59,12.87,10.71,14.29,11.29,9.742,11.89,11.33,13.59,13.85,11.74,12.89,12.58,11.94,12.89,11.26,11.37,14.41,14.96,12.95,11.85,12.72,13.77,10.91,14.26,10.51,12.46,10.49,11.46,11.6,13.2,9.0,13.5,13.05,11.7,14.61,12.76,11.54,8.597,12.49,12.18,9.042,12.43,10.25,12.86,12.2,12.67,14.11,12.03,12.98,11.22,11.25,12.3,12.99,10.05,14.42,9.606,11.06,11.71,10.26,12.06,14.76,11.47,11.95,11.66,11.14,12.56,13.05,13.87,8.878,9.436,12.54,13.3,12.76,16.5,13.4,12.21,15.19,13.69,16.17,10.57,13.46,13.66,11.27,11.04,12.05,12.39,13.28,12.21,13.88,11.27,10.26,8.734,12.1,14.06,13.51,12.8,11.06,11.8,11.93,12.96,12.94,12.34,10.94,16.14,12.85,12.27,11.36,11.04,9.397,14.99,11.89,9.405,12.7,11.16,11.57,14.69,11.61,13.66,9.742,10.03,10.48,10.8,11.13,12.72,12.4,14.86,12.87,14.04,13.85,14.02,10.97,13.78,10.57,11.99,14.8,14.53,11.87,12.0,14.53,12.62,13.38,11.63,13.21,13.0,9.755,14.4,11.6,13.17,13.24,13.14,9.668,11.62,9.667,12.04,14.92,12.27,10.88,12.83,14.2,13.9,11.49,12.16,13.9,13.47,13.7,15.73,12.45,14.64,11.68,12.25,17.85,12.46,13.16,14.87,12.65,12.47,15.04,12.54,9.268,9.676,12.22,11.06,16.3,11.74,14.81,14.58,11.34,12.88,12.75,9.295,11.26,13.71,9.847,8.571,13.46,12.34,13.94,12.07,11.75,11.67,13.68,10.96,11.69,7.729,7.691,11.54,14.47,14.74,13.21,13.87,13.62,10.32,10.26,9.683,10.82,10.86,11.13,12.77,9.333,12.88,10.29,10.16,9.423,14.59,11.51,14.05,11.2,7.76],\"xaxis\":\"x\",\"yaxis\":\"y\",\"type\":\"histogram\"}],                        {\"template\":{\"data\":{\"histogram2dcontour\":[{\"type\":\"histogram2dcontour\",\"colorbar\":{\"outlinewidth\":0,\"ticks\":\"\"},\"colorscale\":[[0.0,\"#0d0887\"],[0.1111111111111111,\"#46039f\"],[0.2222222222222222,\"#7201a8\"],[0.3333333333333333,\"#9c179e\"],[0.4444444444444444,\"#bd3786\"],[0.5555555555555556,\"#d8576b\"],[0.6666666666666666,\"#ed7953\"],[0.7777777777777778,\"#fb9f3a\"],[0.8888888888888888,\"#fdca26\"],[1.0,\"#f0f921\"]]}],\"choropleth\":[{\"type\":\"choropleth\",\"colorbar\":{\"outlinewidth\":0,\"ticks\":\"\"}}],\"histogram2d\":[{\"type\":\"histogram2d\",\"colorbar\":{\"outlinewidth\":0,\"ticks\":\"\"},\"colorscale\":[[0.0,\"#0d0887\"],[0.1111111111111111,\"#46039f\"],[0.2222222222222222,\"#7201a8\"],[0.3333333333333333,\"#9c179e\"],[0.4444444444444444,\"#bd3786\"],[0.5555555555555556,\"#d8576b\"],[0.6666666666666666,\"#ed7953\"],[0.7777777777777778,\"#fb9f3a\"],[0.8888888888888888,\"#fdca26\"],[1.0,\"#f0f921\"]]}],\"heatmap\":[{\"type\":\"heatmap\",\"colorbar\":{\"outlinewidth\":0,\"ticks\":\"\"},\"colorscale\":[[0.0,\"#0d0887\"],[0.1111111111111111,\"#46039f\"],[0.2222222222222222,\"#7201a8\"],[0.3333333333333333,\"#9c179e\"],[0.4444444444444444,\"#bd3786\"],[0.5555555555555556,\"#d8576b\"],[0.6666666666666666,\"#ed7953\"],[0.7777777777777778,\"#fb9f3a\"],[0.8888888888888888,\"#fdca26\"],[1.0,\"#f0f921\"]]}],\"heatmapgl\":[{\"type\":\"heatmapgl\",\"colorbar\":{\"outlinewidth\":0,\"ticks\":\"\"},\"colorscale\":[[0.0,\"#0d0887\"],[0.1111111111111111,\"#46039f\"],[0.2222222222222222,\"#7201a8\"],[0.3333333333333333,\"#9c179e\"],[0.4444444444444444,\"#bd3786\"],[0.5555555555555556,\"#d8576b\"],[0.6666666666666666,\"#ed7953\"],[0.7777777777777778,\"#fb9f3a\"],[0.8888888888888888,\"#fdca26\"],[1.0,\"#f0f921\"]]}],\"contourcarpet\":[{\"type\":\"contourcarpet\",\"colorbar\":{\"outlinewidth\":0,\"ticks\":\"\"}}],\"contour\":[{\"type\":\"contour\",\"colorbar\":{\"outlinewidth\":0,\"ticks\":\"\"},\"colorscale\":[[0.0,\"#0d0887\"],[0.1111111111111111,\"#46039f\"],[0.2222222222222222,\"#7201a8\"],[0.3333333333333333,\"#9c179e\"],[0.4444444444444444,\"#bd3786\"],[0.5555555555555556,\"#d8576b\"],[0.6666666666666666,\"#ed7953\"],[0.7777777777777778,\"#fb9f3a\"],[0.8888888888888888,\"#fdca26\"],[1.0,\"#f0f921\"]]}],\"surface\":[{\"type\":\"surface\",\"colorbar\":{\"outlinewidth\":0,\"ticks\":\"\"},\"colorscale\":[[0.0,\"#0d0887\"],[0.1111111111111111,\"#46039f\"],[0.2222222222222222,\"#7201a8\"],[0.3333333333333333,\"#9c179e\"],[0.4444444444444444,\"#bd3786\"],[0.5555555555555556,\"#d8576b\"],[0.6666666666666666,\"#ed7953\"],[0.7777777777777778,\"#fb9f3a\"],[0.8888888888888888,\"#fdca26\"],[1.0,\"#f0f921\"]]}],\"mesh3d\":[{\"type\":\"mesh3d\",\"colorbar\":{\"outlinewidth\":0,\"ticks\":\"\"}}],\"scatter\":[{\"fillpattern\":{\"fillmode\":\"overlay\",\"size\":10,\"solidity\":0.2},\"type\":\"scatter\"}],\"parcoords\":[{\"type\":\"parcoords\",\"line\":{\"colorbar\":{\"outlinewidth\":0,\"ticks\":\"\"}}}],\"scatterpolargl\":[{\"type\":\"scatterpolargl\",\"marker\":{\"colorbar\":{\"outlinewidth\":0,\"ticks\":\"\"}}}],\"bar\":[{\"error_x\":{\"color\":\"#2a3f5f\"},\"error_y\":{\"color\":\"#2a3f5f\"},\"marker\":{\"line\":{\"color\":\"#E5ECF6\",\"width\":0.5},\"pattern\":{\"fillmode\":\"overlay\",\"size\":10,\"solidity\":0.2}},\"type\":\"bar\"}],\"scattergeo\":[{\"type\":\"scattergeo\",\"marker\":{\"colorbar\":{\"outlinewidth\":0,\"ticks\":\"\"}}}],\"scatterpolar\":[{\"type\":\"scatterpolar\",\"marker\":{\"colorbar\":{\"outlinewidth\":0,\"ticks\":\"\"}}}],\"histogram\":[{\"marker\":{\"pattern\":{\"fillmode\":\"overlay\",\"size\":10,\"solidity\":0.2}},\"type\":\"histogram\"}],\"scattergl\":[{\"type\":\"scattergl\",\"marker\":{\"colorbar\":{\"outlinewidth\":0,\"ticks\":\"\"}}}],\"scatter3d\":[{\"type\":\"scatter3d\",\"line\":{\"colorbar\":{\"outlinewidth\":0,\"ticks\":\"\"}},\"marker\":{\"colorbar\":{\"outlinewidth\":0,\"ticks\":\"\"}}}],\"scattermapbox\":[{\"type\":\"scattermapbox\",\"marker\":{\"colorbar\":{\"outlinewidth\":0,\"ticks\":\"\"}}}],\"scatterternary\":[{\"type\":\"scatterternary\",\"marker\":{\"colorbar\":{\"outlinewidth\":0,\"ticks\":\"\"}}}],\"scattercarpet\":[{\"type\":\"scattercarpet\",\"marker\":{\"colorbar\":{\"outlinewidth\":0,\"ticks\":\"\"}}}],\"carpet\":[{\"aaxis\":{\"endlinecolor\":\"#2a3f5f\",\"gridcolor\":\"white\",\"linecolor\":\"white\",\"minorgridcolor\":\"white\",\"startlinecolor\":\"#2a3f5f\"},\"baxis\":{\"endlinecolor\":\"#2a3f5f\",\"gridcolor\":\"white\",\"linecolor\":\"white\",\"minorgridcolor\":\"white\",\"startlinecolor\":\"#2a3f5f\"},\"type\":\"carpet\"}],\"table\":[{\"cells\":{\"fill\":{\"color\":\"#EBF0F8\"},\"line\":{\"color\":\"white\"}},\"header\":{\"fill\":{\"color\":\"#C8D4E3\"},\"line\":{\"color\":\"white\"}},\"type\":\"table\"}],\"barpolar\":[{\"marker\":{\"line\":{\"color\":\"#E5ECF6\",\"width\":0.5},\"pattern\":{\"fillmode\":\"overlay\",\"size\":10,\"solidity\":0.2}},\"type\":\"barpolar\"}],\"pie\":[{\"automargin\":true,\"type\":\"pie\"}]},\"layout\":{\"autotypenumbers\":\"strict\",\"colorway\":[\"#636efa\",\"#EF553B\",\"#00cc96\",\"#ab63fa\",\"#FFA15A\",\"#19d3f3\",\"#FF6692\",\"#B6E880\",\"#FF97FF\",\"#FECB52\"],\"font\":{\"color\":\"#2a3f5f\"},\"hovermode\":\"closest\",\"hoverlabel\":{\"align\":\"left\"},\"paper_bgcolor\":\"white\",\"plot_bgcolor\":\"#E5ECF6\",\"polar\":{\"bgcolor\":\"#E5ECF6\",\"angularaxis\":{\"gridcolor\":\"white\",\"linecolor\":\"white\",\"ticks\":\"\"},\"radialaxis\":{\"gridcolor\":\"white\",\"linecolor\":\"white\",\"ticks\":\"\"}},\"ternary\":{\"bgcolor\":\"#E5ECF6\",\"aaxis\":{\"gridcolor\":\"white\",\"linecolor\":\"white\",\"ticks\":\"\"},\"baxis\":{\"gridcolor\":\"white\",\"linecolor\":\"white\",\"ticks\":\"\"},\"caxis\":{\"gridcolor\":\"white\",\"linecolor\":\"white\",\"ticks\":\"\"}},\"coloraxis\":{\"colorbar\":{\"outlinewidth\":0,\"ticks\":\"\"}},\"colorscale\":{\"sequential\":[[0.0,\"#0d0887\"],[0.1111111111111111,\"#46039f\"],[0.2222222222222222,\"#7201a8\"],[0.3333333333333333,\"#9c179e\"],[0.4444444444444444,\"#bd3786\"],[0.5555555555555556,\"#d8576b\"],[0.6666666666666666,\"#ed7953\"],[0.7777777777777778,\"#fb9f3a\"],[0.8888888888888888,\"#fdca26\"],[1.0,\"#f0f921\"]],\"sequentialminus\":[[0.0,\"#0d0887\"],[0.1111111111111111,\"#46039f\"],[0.2222222222222222,\"#7201a8\"],[0.3333333333333333,\"#9c179e\"],[0.4444444444444444,\"#bd3786\"],[0.5555555555555556,\"#d8576b\"],[0.6666666666666666,\"#ed7953\"],[0.7777777777777778,\"#fb9f3a\"],[0.8888888888888888,\"#fdca26\"],[1.0,\"#f0f921\"]],\"diverging\":[[0,\"#8e0152\"],[0.1,\"#c51b7d\"],[0.2,\"#de77ae\"],[0.3,\"#f1b6da\"],[0.4,\"#fde0ef\"],[0.5,\"#f7f7f7\"],[0.6,\"#e6f5d0\"],[0.7,\"#b8e186\"],[0.8,\"#7fbc41\"],[0.9,\"#4d9221\"],[1,\"#276419\"]]},\"xaxis\":{\"gridcolor\":\"white\",\"linecolor\":\"white\",\"ticks\":\"\",\"title\":{\"standoff\":15},\"zerolinecolor\":\"white\",\"automargin\":true,\"zerolinewidth\":2},\"yaxis\":{\"gridcolor\":\"white\",\"linecolor\":\"white\",\"ticks\":\"\",\"title\":{\"standoff\":15},\"zerolinecolor\":\"white\",\"automargin\":true,\"zerolinewidth\":2},\"scene\":{\"xaxis\":{\"backgroundcolor\":\"#E5ECF6\",\"gridcolor\":\"white\",\"linecolor\":\"white\",\"showbackground\":true,\"ticks\":\"\",\"zerolinecolor\":\"white\",\"gridwidth\":2},\"yaxis\":{\"backgroundcolor\":\"#E5ECF6\",\"gridcolor\":\"white\",\"linecolor\":\"white\",\"showbackground\":true,\"ticks\":\"\",\"zerolinecolor\":\"white\",\"gridwidth\":2},\"zaxis\":{\"backgroundcolor\":\"#E5ECF6\",\"gridcolor\":\"white\",\"linecolor\":\"white\",\"showbackground\":true,\"ticks\":\"\",\"zerolinecolor\":\"white\",\"gridwidth\":2}},\"shapedefaults\":{\"line\":{\"color\":\"#2a3f5f\"}},\"annotationdefaults\":{\"arrowcolor\":\"#2a3f5f\",\"arrowhead\":0,\"arrowwidth\":1},\"geo\":{\"bgcolor\":\"white\",\"landcolor\":\"#E5ECF6\",\"subunitcolor\":\"white\",\"showland\":true,\"showlakes\":true,\"lakecolor\":\"white\"},\"title\":{\"x\":0.05},\"mapbox\":{\"style\":\"light\"}}},\"xaxis\":{\"anchor\":\"y\",\"domain\":[0.0,1.0],\"title\":{\"text\":\"Radius Mean Values\"}},\"yaxis\":{\"anchor\":\"x\",\"domain\":[0.0,1.0],\"title\":{\"text\":\"count\"}},\"legend\":{\"title\":{\"text\":\"diagnosis\"},\"tracegroupgap\":0},\"title\":{\"text\":\"Histogram of Radius Mean for Benign and Malignant Tumors\"},\"barmode\":\"relative\",\"showlegend\":true},                        {\"responsive\": true}                    ).then(function(){\n",
       "                            \n",
       "var gd = document.getElementById('0845a0e2-4b63-48c8-8a54-3cf2fb952e45');\n",
       "var x = new MutationObserver(function (mutations, observer) {{\n",
       "        var display = window.getComputedStyle(gd).display;\n",
       "        if (!display || display === 'none') {{\n",
       "            console.log([gd, 'removed!']);\n",
       "            Plotly.purge(gd);\n",
       "            observer.disconnect();\n",
       "        }}\n",
       "}});\n",
       "\n",
       "// Listen for the removal of the full notebook cells\n",
       "var notebookContainer = gd.closest('#notebook-container');\n",
       "if (notebookContainer) {{\n",
       "    x.observe(notebookContainer, {childList: true});\n",
       "}}\n",
       "\n",
       "// Listen for the clearing of the current output cell\n",
       "var outputEl = gd.closest('.output');\n",
       "if (outputEl) {{\n",
       "    x.observe(outputEl, {childList: true});\n",
       "}}\n",
       "\n",
       "                        })                };                });            </script>        </div>"
      ]
     },
     "metadata": {},
     "output_type": "display_data"
    }
   ],
   "source": [
    "import plotly.express as px\n",
    "import pandas as pd\n",
    "\n",
    "# Convert diagnosis column to categorical for better plotting\n",
    "df['diagnosis'] = pd.Categorical(df['diagnosis'])\n",
    "\n",
    "# Map \"M\" to \"Malignant\" and \"B\" to \"Benign\" in the diagnosis column\n",
    "df['diagnosis'] = df['diagnosis'].map({'M': 'Malignant', 'B': 'Benign'})\n",
    "\n",
    "# Create a histogram using Plotly\n",
    "fig = px.histogram(df, x=\"radius_mean\", color=\"diagnosis\", nbins=30,\n",
    "                   color_discrete_sequence=['red', 'green'],\n",
    "                   labels={\"radius_mean\": \"Radius Mean Values\", \"count\": \"Frequency\"},\n",
    "                   title=\"Histogram of Radius Mean for Benign and Malignant Tumors\",\n",
    "                   opacity=0.5)\n",
    "\n",
    "# Update legend labels\n",
    "fig.update_traces(marker=dict(opacity=0.5), selector=dict(type='histogram'))\n",
    "fig.update_layout(showlegend=True)\n",
    "\n",
    "# Show the plot\n",
    "fig.show()\n"
   ]
  },
  {
   "cell_type": "markdown",
   "metadata": {},
   "source": [
    "\n",
    "<div style=\"text-align: left;\">\n",
    "    <h5><strong>Histogram of Smoothness Mean for Benign and Malignant Tumors</strong></h5>\n",
    "</div>"
   ]
  },
  {
   "cell_type": "code",
   "execution_count": 30,
   "metadata": {
    "colab": {
     "base_uri": "https://localhost:8080/",
     "height": 542
    },
    "id": "03nFAvE6a1sH",
    "outputId": "50f3b5f6-5ccb-4189-f1fa-a3b655eb2418"
   },
   "outputs": [
    {
     "data": {
      "application/vnd.plotly.v1+json": {
       "config": {
        "plotlyServerURL": "https://plot.ly"
       },
       "data": [
        {
         "alignmentgroup": "True",
         "bingroup": "x",
         "hovertemplate": "diagnosis=Malignant<br>Smoothness Mean Values=%{x}<br>count=%{y}<extra></extra>",
         "legendgroup": "Malignant",
         "marker": {
          "color": "red",
          "opacity": 0.5,
          "pattern": {
           "shape": ""
          }
         },
         "name": "Malignant",
         "nbinsx": 30,
         "offsetgroup": "Malignant",
         "orientation": "v",
         "showlegend": true,
         "type": "histogram",
         "x": [
          0.1184,
          0.08474,
          0.1096,
          0.1425,
          0.1003,
          0.1278,
          0.09463,
          0.1189,
          0.1273,
          0.1186,
          0.08206,
          0.0971,
          0.0974,
          0.08401,
          0.1131,
          0.1139,
          0.09867,
          0.117,
          0.09831,
          0.1073,
          0.09428,
          0.1121,
          0.1186,
          0.1054,
          0.0944,
          0.1082,
          0.09847,
          0.1064,
          0.1109,
          0.1197,
          0.09401,
          0.104,
          0.0961,
          0.09823,
          0.09387,
          0.1016,
          0.08162,
          0.1227,
          0.09081,
          0.1041,
          0.09714,
          0.1099,
          0.1158,
          0.1148,
          0.09056,
          0.1053,
          0.1137,
          0.1049,
          0.1122,
          0.1172,
          0.09009,
          0.1071,
          0.1007,
          0.09168,
          0.1065,
          0.1286,
          0.1063,
          0.1215,
          0.09874,
          0.09444,
          0.09029,
          0.092,
          0.1039,
          0.09078,
          0.09752,
          0.09488,
          0.1398,
          0.1326,
          0.1162,
          0.1155,
          0.08402,
          0.1054,
          0.1447,
          0.09258,
          0.08217,
          0.1015,
          0.1092,
          0.1008,
          0.0943,
          0.09055,
          0.1167,
          0.09721,
          0.1091,
          0.1115,
          0.08694,
          0.112,
          0.08439,
          0.08865,
          0.1049,
          0.09048,
          0.1257,
          0.09831,
          0.1094,
          0.1141,
          0.09597,
          0.09057,
          0.08588,
          0.1075,
          0.1034,
          0.1044,
          0.12,
          0.07371,
          0.08523,
          0.09872,
          0.08968,
          0.1141,
          0.1323,
          0.08876,
          0.08772,
          0.0909,
          0.1142,
          0.1006,
          0.09463,
          0.1026,
          0.09383,
          0.0842,
          0.1025,
          0.1088,
          0.1141,
          0.09159,
          0.09509,
          0.08355,
          0.09812,
          0.1027,
          0.1007,
          0.1062,
          0.1008,
          0.1035,
          0.1096,
          0.0926,
          0.1335,
          0.1109,
          0.1063,
          0.1,
          0.08662,
          0.08999,
          0.0784,
          0.09726,
          0.09469,
          0.09401,
          0.08855,
          0.08923,
          0.102,
          0.1037,
          0.1066,
          0.09968,
          0.115,
          0.108,
          0.09746,
          0.0802,
          0.117,
          0.1169,
          0.1165,
          0.09491,
          0.1119,
          0.09116,
          0.1069,
          0.09797,
          0.1243,
          0.1149,
          0.1024,
          0.0915,
          0.09905,
          0.09384,
          0.1063,
          0.09742,
          0.1001,
          0.09446,
          0.1216,
          0.08682,
          0.101,
          0.116,
          0.1167,
          0.123,
          0.1036,
          0.0832,
          0.112,
          0.09947,
          0.1133,
          0.1018,
          0.106,
          0.08331,
          0.08947,
          0.09997,
          0.09684,
          0.1032,
          0.09898,
          0.1084,
          0.09289,
          0.1026,
          0.1089,
          0.07497,
          0.1001,
          0.1012,
          0.1085,
          0.1162,
          0.09342,
          0.1183,
          0.1106,
          0.09215,
          0.1068,
          0.1037,
          0.103,
          0.09156,
          0.1046,
          0.1038,
          0.1048,
          0.1099,
          0.111,
          0.0978,
          0.08455,
          0.1178
         ],
         "xaxis": "x",
         "yaxis": "y"
        },
        {
         "alignmentgroup": "True",
         "bingroup": "x",
         "hovertemplate": "diagnosis=Benign<br>Smoothness Mean Values=%{x}<br>count=%{y}<extra></extra>",
         "legendgroup": "Benign",
         "marker": {
          "color": "green",
          "opacity": 0.5,
          "pattern": {
           "shape": ""
          }
         },
         "name": "Benign",
         "nbinsx": 30,
         "offsetgroup": "Benign",
         "orientation": "v",
         "showlegend": true,
         "type": "histogram",
         "x": [
          0.09779,
          0.1075,
          0.1024,
          0.08983,
          0.086,
          0.1031,
          0.08752,
          0.08637,
          0.07685,
          0.08261,
          0.09524,
          0.0806,
          0.09752,
          0.1134,
          0.1243,
          0.07721,
          0.1044,
          0.08139,
          0.1066,
          0.09831,
          0.09783,
          0.09172,
          0.1291,
          0.09934,
          0.1102,
          0.1078,
          0.09723,
          0.08772,
          0.1132,
          0.08974,
          0.07355,
          0.1022,
          0.1045,
          0.1024,
          0.08983,
          0.117,
          0.08013,
          0.1005,
          0.09989,
          0.1142,
          0.08477,
          0.08759,
          0.1037,
          0.09933,
          0.07837,
          0.1122,
          0.115,
          0.09768,
          0.09462,
          0.09373,
          0.1101,
          0.07115,
          0.08785,
          0.115,
          0.1066,
          0.09462,
          0.1051,
          0.09639,
          0.1164,
          0.0925,
          0.1092,
          0.08677,
          0.07793,
          0.1152,
          0.08138,
          0.0997,
          0.07944,
          0.1135,
          0.09405,
          0.1072,
          0.09754,
          0.09384,
          0.08654,
          0.07445,
          0.09311,
          0.07515,
          0.1089,
          0.1012,
          0.08421,
          0.09594,
          0.09855,
          0.1028,
          0.1006,
          0.08792,
          0.09138,
          0.09699,
          0.06251,
          0.08739,
          0.09059,
          0.09267,
          0.09774,
          0.1007,
          0.0808,
          0.08749,
          0.0695,
          0.07941,
          0.09586,
          0.09965,
          0.1089,
          0.1002,
          0.08182,
          0.08871,
          0.09363,
          0.08054,
          0.09646,
          0.1051,
          0.1061,
          0.08445,
          0.09906,
          0.1053,
          0.08371,
          0.07903,
          0.06883,
          0.0778,
          0.08464,
          0.0907,
          0.08223,
          0.09423,
          0.07926,
          0.09592,
          0.08043,
          0.107,
          0.07215,
          0.0876,
          0.09657,
          0.1013,
          0.09345,
          0.09688,
          0.07956,
          0.09425,
          0.1082,
          0.06429,
          0.09834,
          0.09037,
          0.1225,
          0.09379,
          0.07948,
          0.09516,
          0.07813,
          0.07818,
          0.08393,
          0.08605,
          0.06955,
          0.0802,
          0.08713,
          0.08757,
          0.08992,
          0.1005,
          0.08372,
          0.09667,
          0.09198,
          0.08518,
          0.06576,
          0.1015,
          0.08451,
          0.1068,
          0.08853,
          0.07474,
          0.08511,
          0.07005,
          0.07376,
          0.08352,
          0.08814,
          0.07618,
          0.08794,
          0.08597,
          0.1074,
          0.08511,
          0.07734,
          0.09968,
          0.07557,
          0.1061,
          0.1134,
          0.08673,
          0.1028,
          0.09309,
          0.07683,
          0.09579,
          0.1054,
          0.08306,
          0.08313,
          0.09462,
          0.1007,
          0.09751,
          0.08481,
          0.1033,
          0.115,
          0.09882,
          0.08386,
          0.08875,
          0.09076,
          0.1158,
          0.07561,
          0.07274,
          0.0876,
          0.1082,
          0.08743,
          0.08293,
          0.1009,
          0.07436,
          0.08582,
          0.09676,
          0.09686,
          0.07937,
          0.09231,
          0.07963,
          0.08302,
          0.0988,
          0.09073,
          0.07517,
          0.08268,
          0.1237,
          0.07987,
          0.06935,
          0.1042,
          0.08363,
          0.08108,
          0.07026,
          0.08365,
          0.09996,
          0.1039,
          0.1029,
          0.08045,
          0.1059,
          0.08044,
          0.07741,
          0.09087,
          0.08872,
          0.07351,
          0.09879,
          0.08682,
          0.1004,
          0.09495,
          0.07551,
          0.08685,
          0.08858,
          0.1077,
          0.07969,
          0.08515,
          0.09773,
          0.1044,
          0.08785,
          0.1018,
          0.08546,
          0.1031,
          0.1088,
          0.09057,
          0.1075,
          0.08117,
          0.09816,
          0.08801,
          0.08151,
          0.07896,
          0.1054,
          0.08924,
          0.09136,
          0.08458,
          0.08684,
          0.07966,
          0.08915,
          0.08817,
          0.08142,
          0.103,
          0.09179,
          0.08388,
          0.06613,
          0.08437,
          0.1099,
          0.08583,
          0.09245,
          0.09357,
          0.08791,
          0.08369,
          0.07984,
          0.06995,
          0.08508,
          0.07466,
          0.08284,
          0.08675,
          0.08311,
          0.1175,
          0.08946,
          0.08752,
          0.08098,
          0.07699,
          0.1007,
          0.0904,
          0.08931,
          0.06828,
          0.1046,
          0.09087,
          0.07991,
          0.1071,
          0.0995,
          0.1043,
          0.09514,
          0.08641,
          0.1128,
          0.08192,
          0.07838,
          0.07372,
          0.07335,
          0.09587,
          0.1076,
          0.08928,
          0.09883,
          0.1158,
          0.1634,
          0.1255,
          0.1096,
          0.1194,
          0.09427,
          0.08099,
          0.08472,
          0.09832,
          0.1049,
          0.1218,
          0.1125,
          0.1371,
          0.08511,
          0.09916,
          0.09492,
          0.1036,
          0.1075,
          0.09003,
          0.1248,
          0.11,
          0.1073,
          0.1016,
          0.09277,
          0.09687,
          0.1236,
          0.08098,
          0.08668,
          0.09984,
          0.08837,
          0.08275,
          0.08671,
          0.09578,
          0.09246,
          0.09434,
          0.08877,
          0.08491,
          0.08192,
          0.07431,
          0.09566,
          0.08276,
          0.0924,
          0.08123,
          0.0903,
          0.1003,
          0.08123,
          0.08473,
          0.09261,
          0.09929,
          0.07449,
          0.05263
         ],
         "xaxis": "x",
         "yaxis": "y"
        }
       ],
       "layout": {
        "barmode": "relative",
        "legend": {
         "title": {
          "text": "diagnosis"
         },
         "tracegroupgap": 0
        },
        "showlegend": true,
        "template": {
         "data": {
          "bar": [
           {
            "error_x": {
             "color": "#2a3f5f"
            },
            "error_y": {
             "color": "#2a3f5f"
            },
            "marker": {
             "line": {
              "color": "#E5ECF6",
              "width": 0.5
             },
             "pattern": {
              "fillmode": "overlay",
              "size": 10,
              "solidity": 0.2
             }
            },
            "type": "bar"
           }
          ],
          "barpolar": [
           {
            "marker": {
             "line": {
              "color": "#E5ECF6",
              "width": 0.5
             },
             "pattern": {
              "fillmode": "overlay",
              "size": 10,
              "solidity": 0.2
             }
            },
            "type": "barpolar"
           }
          ],
          "carpet": [
           {
            "aaxis": {
             "endlinecolor": "#2a3f5f",
             "gridcolor": "white",
             "linecolor": "white",
             "minorgridcolor": "white",
             "startlinecolor": "#2a3f5f"
            },
            "baxis": {
             "endlinecolor": "#2a3f5f",
             "gridcolor": "white",
             "linecolor": "white",
             "minorgridcolor": "white",
             "startlinecolor": "#2a3f5f"
            },
            "type": "carpet"
           }
          ],
          "choropleth": [
           {
            "colorbar": {
             "outlinewidth": 0,
             "ticks": ""
            },
            "type": "choropleth"
           }
          ],
          "contour": [
           {
            "colorbar": {
             "outlinewidth": 0,
             "ticks": ""
            },
            "colorscale": [
             [
              0,
              "#0d0887"
             ],
             [
              0.1111111111111111,
              "#46039f"
             ],
             [
              0.2222222222222222,
              "#7201a8"
             ],
             [
              0.3333333333333333,
              "#9c179e"
             ],
             [
              0.4444444444444444,
              "#bd3786"
             ],
             [
              0.5555555555555556,
              "#d8576b"
             ],
             [
              0.6666666666666666,
              "#ed7953"
             ],
             [
              0.7777777777777778,
              "#fb9f3a"
             ],
             [
              0.8888888888888888,
              "#fdca26"
             ],
             [
              1,
              "#f0f921"
             ]
            ],
            "type": "contour"
           }
          ],
          "contourcarpet": [
           {
            "colorbar": {
             "outlinewidth": 0,
             "ticks": ""
            },
            "type": "contourcarpet"
           }
          ],
          "heatmap": [
           {
            "colorbar": {
             "outlinewidth": 0,
             "ticks": ""
            },
            "colorscale": [
             [
              0,
              "#0d0887"
             ],
             [
              0.1111111111111111,
              "#46039f"
             ],
             [
              0.2222222222222222,
              "#7201a8"
             ],
             [
              0.3333333333333333,
              "#9c179e"
             ],
             [
              0.4444444444444444,
              "#bd3786"
             ],
             [
              0.5555555555555556,
              "#d8576b"
             ],
             [
              0.6666666666666666,
              "#ed7953"
             ],
             [
              0.7777777777777778,
              "#fb9f3a"
             ],
             [
              0.8888888888888888,
              "#fdca26"
             ],
             [
              1,
              "#f0f921"
             ]
            ],
            "type": "heatmap"
           }
          ],
          "heatmapgl": [
           {
            "colorbar": {
             "outlinewidth": 0,
             "ticks": ""
            },
            "colorscale": [
             [
              0,
              "#0d0887"
             ],
             [
              0.1111111111111111,
              "#46039f"
             ],
             [
              0.2222222222222222,
              "#7201a8"
             ],
             [
              0.3333333333333333,
              "#9c179e"
             ],
             [
              0.4444444444444444,
              "#bd3786"
             ],
             [
              0.5555555555555556,
              "#d8576b"
             ],
             [
              0.6666666666666666,
              "#ed7953"
             ],
             [
              0.7777777777777778,
              "#fb9f3a"
             ],
             [
              0.8888888888888888,
              "#fdca26"
             ],
             [
              1,
              "#f0f921"
             ]
            ],
            "type": "heatmapgl"
           }
          ],
          "histogram": [
           {
            "marker": {
             "pattern": {
              "fillmode": "overlay",
              "size": 10,
              "solidity": 0.2
             }
            },
            "type": "histogram"
           }
          ],
          "histogram2d": [
           {
            "colorbar": {
             "outlinewidth": 0,
             "ticks": ""
            },
            "colorscale": [
             [
              0,
              "#0d0887"
             ],
             [
              0.1111111111111111,
              "#46039f"
             ],
             [
              0.2222222222222222,
              "#7201a8"
             ],
             [
              0.3333333333333333,
              "#9c179e"
             ],
             [
              0.4444444444444444,
              "#bd3786"
             ],
             [
              0.5555555555555556,
              "#d8576b"
             ],
             [
              0.6666666666666666,
              "#ed7953"
             ],
             [
              0.7777777777777778,
              "#fb9f3a"
             ],
             [
              0.8888888888888888,
              "#fdca26"
             ],
             [
              1,
              "#f0f921"
             ]
            ],
            "type": "histogram2d"
           }
          ],
          "histogram2dcontour": [
           {
            "colorbar": {
             "outlinewidth": 0,
             "ticks": ""
            },
            "colorscale": [
             [
              0,
              "#0d0887"
             ],
             [
              0.1111111111111111,
              "#46039f"
             ],
             [
              0.2222222222222222,
              "#7201a8"
             ],
             [
              0.3333333333333333,
              "#9c179e"
             ],
             [
              0.4444444444444444,
              "#bd3786"
             ],
             [
              0.5555555555555556,
              "#d8576b"
             ],
             [
              0.6666666666666666,
              "#ed7953"
             ],
             [
              0.7777777777777778,
              "#fb9f3a"
             ],
             [
              0.8888888888888888,
              "#fdca26"
             ],
             [
              1,
              "#f0f921"
             ]
            ],
            "type": "histogram2dcontour"
           }
          ],
          "mesh3d": [
           {
            "colorbar": {
             "outlinewidth": 0,
             "ticks": ""
            },
            "type": "mesh3d"
           }
          ],
          "parcoords": [
           {
            "line": {
             "colorbar": {
              "outlinewidth": 0,
              "ticks": ""
             }
            },
            "type": "parcoords"
           }
          ],
          "pie": [
           {
            "automargin": true,
            "type": "pie"
           }
          ],
          "scatter": [
           {
            "fillpattern": {
             "fillmode": "overlay",
             "size": 10,
             "solidity": 0.2
            },
            "type": "scatter"
           }
          ],
          "scatter3d": [
           {
            "line": {
             "colorbar": {
              "outlinewidth": 0,
              "ticks": ""
             }
            },
            "marker": {
             "colorbar": {
              "outlinewidth": 0,
              "ticks": ""
             }
            },
            "type": "scatter3d"
           }
          ],
          "scattercarpet": [
           {
            "marker": {
             "colorbar": {
              "outlinewidth": 0,
              "ticks": ""
             }
            },
            "type": "scattercarpet"
           }
          ],
          "scattergeo": [
           {
            "marker": {
             "colorbar": {
              "outlinewidth": 0,
              "ticks": ""
             }
            },
            "type": "scattergeo"
           }
          ],
          "scattergl": [
           {
            "marker": {
             "colorbar": {
              "outlinewidth": 0,
              "ticks": ""
             }
            },
            "type": "scattergl"
           }
          ],
          "scattermapbox": [
           {
            "marker": {
             "colorbar": {
              "outlinewidth": 0,
              "ticks": ""
             }
            },
            "type": "scattermapbox"
           }
          ],
          "scatterpolar": [
           {
            "marker": {
             "colorbar": {
              "outlinewidth": 0,
              "ticks": ""
             }
            },
            "type": "scatterpolar"
           }
          ],
          "scatterpolargl": [
           {
            "marker": {
             "colorbar": {
              "outlinewidth": 0,
              "ticks": ""
             }
            },
            "type": "scatterpolargl"
           }
          ],
          "scatterternary": [
           {
            "marker": {
             "colorbar": {
              "outlinewidth": 0,
              "ticks": ""
             }
            },
            "type": "scatterternary"
           }
          ],
          "surface": [
           {
            "colorbar": {
             "outlinewidth": 0,
             "ticks": ""
            },
            "colorscale": [
             [
              0,
              "#0d0887"
             ],
             [
              0.1111111111111111,
              "#46039f"
             ],
             [
              0.2222222222222222,
              "#7201a8"
             ],
             [
              0.3333333333333333,
              "#9c179e"
             ],
             [
              0.4444444444444444,
              "#bd3786"
             ],
             [
              0.5555555555555556,
              "#d8576b"
             ],
             [
              0.6666666666666666,
              "#ed7953"
             ],
             [
              0.7777777777777778,
              "#fb9f3a"
             ],
             [
              0.8888888888888888,
              "#fdca26"
             ],
             [
              1,
              "#f0f921"
             ]
            ],
            "type": "surface"
           }
          ],
          "table": [
           {
            "cells": {
             "fill": {
              "color": "#EBF0F8"
             },
             "line": {
              "color": "white"
             }
            },
            "header": {
             "fill": {
              "color": "#C8D4E3"
             },
             "line": {
              "color": "white"
             }
            },
            "type": "table"
           }
          ]
         },
         "layout": {
          "annotationdefaults": {
           "arrowcolor": "#2a3f5f",
           "arrowhead": 0,
           "arrowwidth": 1
          },
          "autotypenumbers": "strict",
          "coloraxis": {
           "colorbar": {
            "outlinewidth": 0,
            "ticks": ""
           }
          },
          "colorscale": {
           "diverging": [
            [
             0,
             "#8e0152"
            ],
            [
             0.1,
             "#c51b7d"
            ],
            [
             0.2,
             "#de77ae"
            ],
            [
             0.3,
             "#f1b6da"
            ],
            [
             0.4,
             "#fde0ef"
            ],
            [
             0.5,
             "#f7f7f7"
            ],
            [
             0.6,
             "#e6f5d0"
            ],
            [
             0.7,
             "#b8e186"
            ],
            [
             0.8,
             "#7fbc41"
            ],
            [
             0.9,
             "#4d9221"
            ],
            [
             1,
             "#276419"
            ]
           ],
           "sequential": [
            [
             0,
             "#0d0887"
            ],
            [
             0.1111111111111111,
             "#46039f"
            ],
            [
             0.2222222222222222,
             "#7201a8"
            ],
            [
             0.3333333333333333,
             "#9c179e"
            ],
            [
             0.4444444444444444,
             "#bd3786"
            ],
            [
             0.5555555555555556,
             "#d8576b"
            ],
            [
             0.6666666666666666,
             "#ed7953"
            ],
            [
             0.7777777777777778,
             "#fb9f3a"
            ],
            [
             0.8888888888888888,
             "#fdca26"
            ],
            [
             1,
             "#f0f921"
            ]
           ],
           "sequentialminus": [
            [
             0,
             "#0d0887"
            ],
            [
             0.1111111111111111,
             "#46039f"
            ],
            [
             0.2222222222222222,
             "#7201a8"
            ],
            [
             0.3333333333333333,
             "#9c179e"
            ],
            [
             0.4444444444444444,
             "#bd3786"
            ],
            [
             0.5555555555555556,
             "#d8576b"
            ],
            [
             0.6666666666666666,
             "#ed7953"
            ],
            [
             0.7777777777777778,
             "#fb9f3a"
            ],
            [
             0.8888888888888888,
             "#fdca26"
            ],
            [
             1,
             "#f0f921"
            ]
           ]
          },
          "colorway": [
           "#636efa",
           "#EF553B",
           "#00cc96",
           "#ab63fa",
           "#FFA15A",
           "#19d3f3",
           "#FF6692",
           "#B6E880",
           "#FF97FF",
           "#FECB52"
          ],
          "font": {
           "color": "#2a3f5f"
          },
          "geo": {
           "bgcolor": "white",
           "lakecolor": "white",
           "landcolor": "#E5ECF6",
           "showlakes": true,
           "showland": true,
           "subunitcolor": "white"
          },
          "hoverlabel": {
           "align": "left"
          },
          "hovermode": "closest",
          "mapbox": {
           "style": "light"
          },
          "paper_bgcolor": "white",
          "plot_bgcolor": "#E5ECF6",
          "polar": {
           "angularaxis": {
            "gridcolor": "white",
            "linecolor": "white",
            "ticks": ""
           },
           "bgcolor": "#E5ECF6",
           "radialaxis": {
            "gridcolor": "white",
            "linecolor": "white",
            "ticks": ""
           }
          },
          "scene": {
           "xaxis": {
            "backgroundcolor": "#E5ECF6",
            "gridcolor": "white",
            "gridwidth": 2,
            "linecolor": "white",
            "showbackground": true,
            "ticks": "",
            "zerolinecolor": "white"
           },
           "yaxis": {
            "backgroundcolor": "#E5ECF6",
            "gridcolor": "white",
            "gridwidth": 2,
            "linecolor": "white",
            "showbackground": true,
            "ticks": "",
            "zerolinecolor": "white"
           },
           "zaxis": {
            "backgroundcolor": "#E5ECF6",
            "gridcolor": "white",
            "gridwidth": 2,
            "linecolor": "white",
            "showbackground": true,
            "ticks": "",
            "zerolinecolor": "white"
           }
          },
          "shapedefaults": {
           "line": {
            "color": "#2a3f5f"
           }
          },
          "ternary": {
           "aaxis": {
            "gridcolor": "white",
            "linecolor": "white",
            "ticks": ""
           },
           "baxis": {
            "gridcolor": "white",
            "linecolor": "white",
            "ticks": ""
           },
           "bgcolor": "#E5ECF6",
           "caxis": {
            "gridcolor": "white",
            "linecolor": "white",
            "ticks": ""
           }
          },
          "title": {
           "x": 0.05
          },
          "xaxis": {
           "automargin": true,
           "gridcolor": "white",
           "linecolor": "white",
           "ticks": "",
           "title": {
            "standoff": 15
           },
           "zerolinecolor": "white",
           "zerolinewidth": 2
          },
          "yaxis": {
           "automargin": true,
           "gridcolor": "white",
           "linecolor": "white",
           "ticks": "",
           "title": {
            "standoff": 15
           },
           "zerolinecolor": "white",
           "zerolinewidth": 2
          }
         }
        },
        "title": {
         "text": "Histogram of Smoothness Mean for Benign and Malignant Tumors"
        },
        "xaxis": {
         "anchor": "y",
         "domain": [
          0,
          1
         ],
         "title": {
          "text": "Smoothness Mean Values"
         }
        },
        "yaxis": {
         "anchor": "x",
         "domain": [
          0,
          1
         ],
         "title": {
          "text": "count"
         }
        }
       }
      },
      "text/html": [
       "<div>                            <div id=\"2a4fc35b-c245-484a-9f5f-168f538b6d37\" class=\"plotly-graph-div\" style=\"height:525px; width:100%;\"></div>            <script type=\"text/javascript\">                require([\"plotly\"], function(Plotly) {                    window.PLOTLYENV=window.PLOTLYENV || {};                                    if (document.getElementById(\"2a4fc35b-c245-484a-9f5f-168f538b6d37\")) {                    Plotly.newPlot(                        \"2a4fc35b-c245-484a-9f5f-168f538b6d37\",                        [{\"alignmentgroup\":\"True\",\"bingroup\":\"x\",\"hovertemplate\":\"diagnosis=Malignant<br>Smoothness Mean Values=%{x}<br>count=%{y}<extra></extra>\",\"legendgroup\":\"Malignant\",\"marker\":{\"color\":\"red\",\"opacity\":0.5,\"pattern\":{\"shape\":\"\"}},\"name\":\"Malignant\",\"nbinsx\":30,\"offsetgroup\":\"Malignant\",\"orientation\":\"v\",\"showlegend\":true,\"x\":[0.1184,0.08474,0.1096,0.1425,0.1003,0.1278,0.09463,0.1189,0.1273,0.1186,0.08206,0.0971,0.0974,0.08401,0.1131,0.1139,0.09867,0.117,0.09831,0.1073,0.09428,0.1121,0.1186,0.1054,0.0944,0.1082,0.09847,0.1064,0.1109,0.1197,0.09401,0.104,0.0961,0.09823,0.09387,0.1016,0.08162,0.1227,0.09081,0.1041,0.09714,0.1099,0.1158,0.1148,0.09056,0.1053,0.1137,0.1049,0.1122,0.1172,0.09009,0.1071,0.1007,0.09168,0.1065,0.1286,0.1063,0.1215,0.09874,0.09444,0.09029,0.092,0.1039,0.09078,0.09752,0.09488,0.1398,0.1326,0.1162,0.1155,0.08402,0.1054,0.1447,0.09258,0.08217,0.1015,0.1092,0.1008,0.0943,0.09055,0.1167,0.09721,0.1091,0.1115,0.08694,0.112,0.08439,0.08865,0.1049,0.09048,0.1257,0.09831,0.1094,0.1141,0.09597,0.09057,0.08588,0.1075,0.1034,0.1044,0.12,0.07371,0.08523,0.09872,0.08968,0.1141,0.1323,0.08876,0.08772,0.0909,0.1142,0.1006,0.09463,0.1026,0.09383,0.0842,0.1025,0.1088,0.1141,0.09159,0.09509,0.08355,0.09812,0.1027,0.1007,0.1062,0.1008,0.1035,0.1096,0.0926,0.1335,0.1109,0.1063,0.1,0.08662,0.08999,0.0784,0.09726,0.09469,0.09401,0.08855,0.08923,0.102,0.1037,0.1066,0.09968,0.115,0.108,0.09746,0.0802,0.117,0.1169,0.1165,0.09491,0.1119,0.09116,0.1069,0.09797,0.1243,0.1149,0.1024,0.0915,0.09905,0.09384,0.1063,0.09742,0.1001,0.09446,0.1216,0.08682,0.101,0.116,0.1167,0.123,0.1036,0.0832,0.112,0.09947,0.1133,0.1018,0.106,0.08331,0.08947,0.09997,0.09684,0.1032,0.09898,0.1084,0.09289,0.1026,0.1089,0.07497,0.1001,0.1012,0.1085,0.1162,0.09342,0.1183,0.1106,0.09215,0.1068,0.1037,0.103,0.09156,0.1046,0.1038,0.1048,0.1099,0.111,0.0978,0.08455,0.1178],\"xaxis\":\"x\",\"yaxis\":\"y\",\"type\":\"histogram\"},{\"alignmentgroup\":\"True\",\"bingroup\":\"x\",\"hovertemplate\":\"diagnosis=Benign<br>Smoothness Mean Values=%{x}<br>count=%{y}<extra></extra>\",\"legendgroup\":\"Benign\",\"marker\":{\"color\":\"green\",\"opacity\":0.5,\"pattern\":{\"shape\":\"\"}},\"name\":\"Benign\",\"nbinsx\":30,\"offsetgroup\":\"Benign\",\"orientation\":\"v\",\"showlegend\":true,\"x\":[0.09779,0.1075,0.1024,0.08983,0.086,0.1031,0.08752,0.08637,0.07685,0.08261,0.09524,0.0806,0.09752,0.1134,0.1243,0.07721,0.1044,0.08139,0.1066,0.09831,0.09783,0.09172,0.1291,0.09934,0.1102,0.1078,0.09723,0.08772,0.1132,0.08974,0.07355,0.1022,0.1045,0.1024,0.08983,0.117,0.08013,0.1005,0.09989,0.1142,0.08477,0.08759,0.1037,0.09933,0.07837,0.1122,0.115,0.09768,0.09462,0.09373,0.1101,0.07115,0.08785,0.115,0.1066,0.09462,0.1051,0.09639,0.1164,0.0925,0.1092,0.08677,0.07793,0.1152,0.08138,0.0997,0.07944,0.1135,0.09405,0.1072,0.09754,0.09384,0.08654,0.07445,0.09311,0.07515,0.1089,0.1012,0.08421,0.09594,0.09855,0.1028,0.1006,0.08792,0.09138,0.09699,0.06251,0.08739,0.09059,0.09267,0.09774,0.1007,0.0808,0.08749,0.0695,0.07941,0.09586,0.09965,0.1089,0.1002,0.08182,0.08871,0.09363,0.08054,0.09646,0.1051,0.1061,0.08445,0.09906,0.1053,0.08371,0.07903,0.06883,0.0778,0.08464,0.0907,0.08223,0.09423,0.07926,0.09592,0.08043,0.107,0.07215,0.0876,0.09657,0.1013,0.09345,0.09688,0.07956,0.09425,0.1082,0.06429,0.09834,0.09037,0.1225,0.09379,0.07948,0.09516,0.07813,0.07818,0.08393,0.08605,0.06955,0.0802,0.08713,0.08757,0.08992,0.1005,0.08372,0.09667,0.09198,0.08518,0.06576,0.1015,0.08451,0.1068,0.08853,0.07474,0.08511,0.07005,0.07376,0.08352,0.08814,0.07618,0.08794,0.08597,0.1074,0.08511,0.07734,0.09968,0.07557,0.1061,0.1134,0.08673,0.1028,0.09309,0.07683,0.09579,0.1054,0.08306,0.08313,0.09462,0.1007,0.09751,0.08481,0.1033,0.115,0.09882,0.08386,0.08875,0.09076,0.1158,0.07561,0.07274,0.0876,0.1082,0.08743,0.08293,0.1009,0.07436,0.08582,0.09676,0.09686,0.07937,0.09231,0.07963,0.08302,0.0988,0.09073,0.07517,0.08268,0.1237,0.07987,0.06935,0.1042,0.08363,0.08108,0.07026,0.08365,0.09996,0.1039,0.1029,0.08045,0.1059,0.08044,0.07741,0.09087,0.08872,0.07351,0.09879,0.08682,0.1004,0.09495,0.07551,0.08685,0.08858,0.1077,0.07969,0.08515,0.09773,0.1044,0.08785,0.1018,0.08546,0.1031,0.1088,0.09057,0.1075,0.08117,0.09816,0.08801,0.08151,0.07896,0.1054,0.08924,0.09136,0.08458,0.08684,0.07966,0.08915,0.08817,0.08142,0.103,0.09179,0.08388,0.06613,0.08437,0.1099,0.08583,0.09245,0.09357,0.08791,0.08369,0.07984,0.06995,0.08508,0.07466,0.08284,0.08675,0.08311,0.1175,0.08946,0.08752,0.08098,0.07699,0.1007,0.0904,0.08931,0.06828,0.1046,0.09087,0.07991,0.1071,0.0995,0.1043,0.09514,0.08641,0.1128,0.08192,0.07838,0.07372,0.07335,0.09587,0.1076,0.08928,0.09883,0.1158,0.1634,0.1255,0.1096,0.1194,0.09427,0.08099,0.08472,0.09832,0.1049,0.1218,0.1125,0.1371,0.08511,0.09916,0.09492,0.1036,0.1075,0.09003,0.1248,0.11,0.1073,0.1016,0.09277,0.09687,0.1236,0.08098,0.08668,0.09984,0.08837,0.08275,0.08671,0.09578,0.09246,0.09434,0.08877,0.08491,0.08192,0.07431,0.09566,0.08276,0.0924,0.08123,0.0903,0.1003,0.08123,0.08473,0.09261,0.09929,0.07449,0.05263],\"xaxis\":\"x\",\"yaxis\":\"y\",\"type\":\"histogram\"}],                        {\"template\":{\"data\":{\"histogram2dcontour\":[{\"type\":\"histogram2dcontour\",\"colorbar\":{\"outlinewidth\":0,\"ticks\":\"\"},\"colorscale\":[[0.0,\"#0d0887\"],[0.1111111111111111,\"#46039f\"],[0.2222222222222222,\"#7201a8\"],[0.3333333333333333,\"#9c179e\"],[0.4444444444444444,\"#bd3786\"],[0.5555555555555556,\"#d8576b\"],[0.6666666666666666,\"#ed7953\"],[0.7777777777777778,\"#fb9f3a\"],[0.8888888888888888,\"#fdca26\"],[1.0,\"#f0f921\"]]}],\"choropleth\":[{\"type\":\"choropleth\",\"colorbar\":{\"outlinewidth\":0,\"ticks\":\"\"}}],\"histogram2d\":[{\"type\":\"histogram2d\",\"colorbar\":{\"outlinewidth\":0,\"ticks\":\"\"},\"colorscale\":[[0.0,\"#0d0887\"],[0.1111111111111111,\"#46039f\"],[0.2222222222222222,\"#7201a8\"],[0.3333333333333333,\"#9c179e\"],[0.4444444444444444,\"#bd3786\"],[0.5555555555555556,\"#d8576b\"],[0.6666666666666666,\"#ed7953\"],[0.7777777777777778,\"#fb9f3a\"],[0.8888888888888888,\"#fdca26\"],[1.0,\"#f0f921\"]]}],\"heatmap\":[{\"type\":\"heatmap\",\"colorbar\":{\"outlinewidth\":0,\"ticks\":\"\"},\"colorscale\":[[0.0,\"#0d0887\"],[0.1111111111111111,\"#46039f\"],[0.2222222222222222,\"#7201a8\"],[0.3333333333333333,\"#9c179e\"],[0.4444444444444444,\"#bd3786\"],[0.5555555555555556,\"#d8576b\"],[0.6666666666666666,\"#ed7953\"],[0.7777777777777778,\"#fb9f3a\"],[0.8888888888888888,\"#fdca26\"],[1.0,\"#f0f921\"]]}],\"heatmapgl\":[{\"type\":\"heatmapgl\",\"colorbar\":{\"outlinewidth\":0,\"ticks\":\"\"},\"colorscale\":[[0.0,\"#0d0887\"],[0.1111111111111111,\"#46039f\"],[0.2222222222222222,\"#7201a8\"],[0.3333333333333333,\"#9c179e\"],[0.4444444444444444,\"#bd3786\"],[0.5555555555555556,\"#d8576b\"],[0.6666666666666666,\"#ed7953\"],[0.7777777777777778,\"#fb9f3a\"],[0.8888888888888888,\"#fdca26\"],[1.0,\"#f0f921\"]]}],\"contourcarpet\":[{\"type\":\"contourcarpet\",\"colorbar\":{\"outlinewidth\":0,\"ticks\":\"\"}}],\"contour\":[{\"type\":\"contour\",\"colorbar\":{\"outlinewidth\":0,\"ticks\":\"\"},\"colorscale\":[[0.0,\"#0d0887\"],[0.1111111111111111,\"#46039f\"],[0.2222222222222222,\"#7201a8\"],[0.3333333333333333,\"#9c179e\"],[0.4444444444444444,\"#bd3786\"],[0.5555555555555556,\"#d8576b\"],[0.6666666666666666,\"#ed7953\"],[0.7777777777777778,\"#fb9f3a\"],[0.8888888888888888,\"#fdca26\"],[1.0,\"#f0f921\"]]}],\"surface\":[{\"type\":\"surface\",\"colorbar\":{\"outlinewidth\":0,\"ticks\":\"\"},\"colorscale\":[[0.0,\"#0d0887\"],[0.1111111111111111,\"#46039f\"],[0.2222222222222222,\"#7201a8\"],[0.3333333333333333,\"#9c179e\"],[0.4444444444444444,\"#bd3786\"],[0.5555555555555556,\"#d8576b\"],[0.6666666666666666,\"#ed7953\"],[0.7777777777777778,\"#fb9f3a\"],[0.8888888888888888,\"#fdca26\"],[1.0,\"#f0f921\"]]}],\"mesh3d\":[{\"type\":\"mesh3d\",\"colorbar\":{\"outlinewidth\":0,\"ticks\":\"\"}}],\"scatter\":[{\"fillpattern\":{\"fillmode\":\"overlay\",\"size\":10,\"solidity\":0.2},\"type\":\"scatter\"}],\"parcoords\":[{\"type\":\"parcoords\",\"line\":{\"colorbar\":{\"outlinewidth\":0,\"ticks\":\"\"}}}],\"scatterpolargl\":[{\"type\":\"scatterpolargl\",\"marker\":{\"colorbar\":{\"outlinewidth\":0,\"ticks\":\"\"}}}],\"bar\":[{\"error_x\":{\"color\":\"#2a3f5f\"},\"error_y\":{\"color\":\"#2a3f5f\"},\"marker\":{\"line\":{\"color\":\"#E5ECF6\",\"width\":0.5},\"pattern\":{\"fillmode\":\"overlay\",\"size\":10,\"solidity\":0.2}},\"type\":\"bar\"}],\"scattergeo\":[{\"type\":\"scattergeo\",\"marker\":{\"colorbar\":{\"outlinewidth\":0,\"ticks\":\"\"}}}],\"scatterpolar\":[{\"type\":\"scatterpolar\",\"marker\":{\"colorbar\":{\"outlinewidth\":0,\"ticks\":\"\"}}}],\"histogram\":[{\"marker\":{\"pattern\":{\"fillmode\":\"overlay\",\"size\":10,\"solidity\":0.2}},\"type\":\"histogram\"}],\"scattergl\":[{\"type\":\"scattergl\",\"marker\":{\"colorbar\":{\"outlinewidth\":0,\"ticks\":\"\"}}}],\"scatter3d\":[{\"type\":\"scatter3d\",\"line\":{\"colorbar\":{\"outlinewidth\":0,\"ticks\":\"\"}},\"marker\":{\"colorbar\":{\"outlinewidth\":0,\"ticks\":\"\"}}}],\"scattermapbox\":[{\"type\":\"scattermapbox\",\"marker\":{\"colorbar\":{\"outlinewidth\":0,\"ticks\":\"\"}}}],\"scatterternary\":[{\"type\":\"scatterternary\",\"marker\":{\"colorbar\":{\"outlinewidth\":0,\"ticks\":\"\"}}}],\"scattercarpet\":[{\"type\":\"scattercarpet\",\"marker\":{\"colorbar\":{\"outlinewidth\":0,\"ticks\":\"\"}}}],\"carpet\":[{\"aaxis\":{\"endlinecolor\":\"#2a3f5f\",\"gridcolor\":\"white\",\"linecolor\":\"white\",\"minorgridcolor\":\"white\",\"startlinecolor\":\"#2a3f5f\"},\"baxis\":{\"endlinecolor\":\"#2a3f5f\",\"gridcolor\":\"white\",\"linecolor\":\"white\",\"minorgridcolor\":\"white\",\"startlinecolor\":\"#2a3f5f\"},\"type\":\"carpet\"}],\"table\":[{\"cells\":{\"fill\":{\"color\":\"#EBF0F8\"},\"line\":{\"color\":\"white\"}},\"header\":{\"fill\":{\"color\":\"#C8D4E3\"},\"line\":{\"color\":\"white\"}},\"type\":\"table\"}],\"barpolar\":[{\"marker\":{\"line\":{\"color\":\"#E5ECF6\",\"width\":0.5},\"pattern\":{\"fillmode\":\"overlay\",\"size\":10,\"solidity\":0.2}},\"type\":\"barpolar\"}],\"pie\":[{\"automargin\":true,\"type\":\"pie\"}]},\"layout\":{\"autotypenumbers\":\"strict\",\"colorway\":[\"#636efa\",\"#EF553B\",\"#00cc96\",\"#ab63fa\",\"#FFA15A\",\"#19d3f3\",\"#FF6692\",\"#B6E880\",\"#FF97FF\",\"#FECB52\"],\"font\":{\"color\":\"#2a3f5f\"},\"hovermode\":\"closest\",\"hoverlabel\":{\"align\":\"left\"},\"paper_bgcolor\":\"white\",\"plot_bgcolor\":\"#E5ECF6\",\"polar\":{\"bgcolor\":\"#E5ECF6\",\"angularaxis\":{\"gridcolor\":\"white\",\"linecolor\":\"white\",\"ticks\":\"\"},\"radialaxis\":{\"gridcolor\":\"white\",\"linecolor\":\"white\",\"ticks\":\"\"}},\"ternary\":{\"bgcolor\":\"#E5ECF6\",\"aaxis\":{\"gridcolor\":\"white\",\"linecolor\":\"white\",\"ticks\":\"\"},\"baxis\":{\"gridcolor\":\"white\",\"linecolor\":\"white\",\"ticks\":\"\"},\"caxis\":{\"gridcolor\":\"white\",\"linecolor\":\"white\",\"ticks\":\"\"}},\"coloraxis\":{\"colorbar\":{\"outlinewidth\":0,\"ticks\":\"\"}},\"colorscale\":{\"sequential\":[[0.0,\"#0d0887\"],[0.1111111111111111,\"#46039f\"],[0.2222222222222222,\"#7201a8\"],[0.3333333333333333,\"#9c179e\"],[0.4444444444444444,\"#bd3786\"],[0.5555555555555556,\"#d8576b\"],[0.6666666666666666,\"#ed7953\"],[0.7777777777777778,\"#fb9f3a\"],[0.8888888888888888,\"#fdca26\"],[1.0,\"#f0f921\"]],\"sequentialminus\":[[0.0,\"#0d0887\"],[0.1111111111111111,\"#46039f\"],[0.2222222222222222,\"#7201a8\"],[0.3333333333333333,\"#9c179e\"],[0.4444444444444444,\"#bd3786\"],[0.5555555555555556,\"#d8576b\"],[0.6666666666666666,\"#ed7953\"],[0.7777777777777778,\"#fb9f3a\"],[0.8888888888888888,\"#fdca26\"],[1.0,\"#f0f921\"]],\"diverging\":[[0,\"#8e0152\"],[0.1,\"#c51b7d\"],[0.2,\"#de77ae\"],[0.3,\"#f1b6da\"],[0.4,\"#fde0ef\"],[0.5,\"#f7f7f7\"],[0.6,\"#e6f5d0\"],[0.7,\"#b8e186\"],[0.8,\"#7fbc41\"],[0.9,\"#4d9221\"],[1,\"#276419\"]]},\"xaxis\":{\"gridcolor\":\"white\",\"linecolor\":\"white\",\"ticks\":\"\",\"title\":{\"standoff\":15},\"zerolinecolor\":\"white\",\"automargin\":true,\"zerolinewidth\":2},\"yaxis\":{\"gridcolor\":\"white\",\"linecolor\":\"white\",\"ticks\":\"\",\"title\":{\"standoff\":15},\"zerolinecolor\":\"white\",\"automargin\":true,\"zerolinewidth\":2},\"scene\":{\"xaxis\":{\"backgroundcolor\":\"#E5ECF6\",\"gridcolor\":\"white\",\"linecolor\":\"white\",\"showbackground\":true,\"ticks\":\"\",\"zerolinecolor\":\"white\",\"gridwidth\":2},\"yaxis\":{\"backgroundcolor\":\"#E5ECF6\",\"gridcolor\":\"white\",\"linecolor\":\"white\",\"showbackground\":true,\"ticks\":\"\",\"zerolinecolor\":\"white\",\"gridwidth\":2},\"zaxis\":{\"backgroundcolor\":\"#E5ECF6\",\"gridcolor\":\"white\",\"linecolor\":\"white\",\"showbackground\":true,\"ticks\":\"\",\"zerolinecolor\":\"white\",\"gridwidth\":2}},\"shapedefaults\":{\"line\":{\"color\":\"#2a3f5f\"}},\"annotationdefaults\":{\"arrowcolor\":\"#2a3f5f\",\"arrowhead\":0,\"arrowwidth\":1},\"geo\":{\"bgcolor\":\"white\",\"landcolor\":\"#E5ECF6\",\"subunitcolor\":\"white\",\"showland\":true,\"showlakes\":true,\"lakecolor\":\"white\"},\"title\":{\"x\":0.05},\"mapbox\":{\"style\":\"light\"}}},\"xaxis\":{\"anchor\":\"y\",\"domain\":[0.0,1.0],\"title\":{\"text\":\"Smoothness Mean Values\"}},\"yaxis\":{\"anchor\":\"x\",\"domain\":[0.0,1.0],\"title\":{\"text\":\"count\"}},\"legend\":{\"title\":{\"text\":\"diagnosis\"},\"tracegroupgap\":0},\"title\":{\"text\":\"Histogram of Smoothness Mean for Benign and Malignant Tumors\"},\"barmode\":\"relative\",\"showlegend\":true},                        {\"responsive\": true}                    ).then(function(){\n",
       "                            \n",
       "var gd = document.getElementById('2a4fc35b-c245-484a-9f5f-168f538b6d37');\n",
       "var x = new MutationObserver(function (mutations, observer) {{\n",
       "        var display = window.getComputedStyle(gd).display;\n",
       "        if (!display || display === 'none') {{\n",
       "            console.log([gd, 'removed!']);\n",
       "            Plotly.purge(gd);\n",
       "            observer.disconnect();\n",
       "        }}\n",
       "}});\n",
       "\n",
       "// Listen for the removal of the full notebook cells\n",
       "var notebookContainer = gd.closest('#notebook-container');\n",
       "if (notebookContainer) {{\n",
       "    x.observe(notebookContainer, {childList: true});\n",
       "}}\n",
       "\n",
       "// Listen for the clearing of the current output cell\n",
       "var outputEl = gd.closest('.output');\n",
       "if (outputEl) {{\n",
       "    x.observe(outputEl, {childList: true});\n",
       "}}\n",
       "\n",
       "                        })                };                });            </script>        </div>"
      ]
     },
     "metadata": {},
     "output_type": "display_data"
    }
   ],
   "source": [
    "import plotly.express as px\n",
    "import pandas as pd\n",
    "\n",
    "# Convert diagnosis column to categorical for better plotting\n",
    "#df_final['diagnosis'] = df_final.Categorical(df_final['diagnosis'])\n",
    "df_final['diagnosis'] = df_final['diagnosis'].astype('category')\n",
    "\n",
    "# Map \"M\" to \"Malignant\" and \"B\" to \"Benign\" in the diagnosis column\n",
    "df_final['diagnosis'] = df_final['diagnosis'].map({'M': 'Malignant', 'B': 'Benign'})\n",
    "\n",
    "# Create a histogram using Plotly\n",
    "fig = px.histogram(df_final, x=\"smoothness_mean\", color=\"diagnosis\", nbins=30,\n",
    "                   color_discrete_sequence=['red', 'green'],\n",
    "                   labels={\"smoothness_mean\": \"Smoothness Mean Values\", \"count\": \"Frequency\"},\n",
    "                   title=\"Histogram of Smoothness Mean for Benign and Malignant Tumors\",\n",
    "                   opacity=0.5)\n",
    "\n",
    "# Update legend labels\n",
    "fig.update_traces(marker=dict(opacity=0.5), selector=dict(type='histogram'))\n",
    "fig.update_layout(showlegend=True)\n",
    "\n",
    "# Show the plot\n",
    "fig.show()\n"
   ]
  },
  {
   "cell_type": "markdown",
   "metadata": {
    "id": "CNz0tCOBJJD-"
   },
   "source": [
    "\n",
    "<div style=\"text-align: left;\">\n",
    "    <h5><strong>Box Plot of Radius Mean and Texture Mean for Benign and Malignant Tumors</strong></h5>\n",
    "</div>"
   ]
  },
  {
   "cell_type": "code",
   "execution_count": 31,
   "metadata": {
    "colab": {
     "base_uri": "https://localhost:8080/",
     "height": 542
    },
    "id": "xwhBhcl2-GMd",
    "outputId": "c9a502f4-ac0b-4e08-e791-249dcec1ee7c"
   },
   "outputs": [
    {
     "data": {
      "application/vnd.plotly.v1+json": {
       "config": {
        "plotlyServerURL": "https://plot.ly"
       },
       "data": [
        {
         "alignmentgroup": "True",
         "hovertemplate": "diagnosis=Malignant<br>Variable=%{x}<br>Value=%{y}<extra></extra>",
         "legendgroup": "Malignant",
         "marker": {
          "color": "#636efa"
         },
         "name": "Malignant",
         "notched": false,
         "offsetgroup": "Malignant",
         "orientation": "v",
         "showlegend": true,
         "type": "box",
         "x": [
          "fractal_dimension_mean",
          "fractal_dimension_mean",
          "fractal_dimension_mean",
          "fractal_dimension_mean",
          "fractal_dimension_mean",
          "fractal_dimension_mean",
          "fractal_dimension_mean",
          "fractal_dimension_mean",
          "fractal_dimension_mean",
          "fractal_dimension_mean",
          "fractal_dimension_mean",
          "fractal_dimension_mean",
          "fractal_dimension_mean",
          "fractal_dimension_mean",
          "fractal_dimension_mean",
          "fractal_dimension_mean",
          "fractal_dimension_mean",
          "fractal_dimension_mean",
          "fractal_dimension_mean",
          "fractal_dimension_mean",
          "fractal_dimension_mean",
          "fractal_dimension_mean",
          "fractal_dimension_mean",
          "fractal_dimension_mean",
          "fractal_dimension_mean",
          "fractal_dimension_mean",
          "fractal_dimension_mean",
          "fractal_dimension_mean",
          "fractal_dimension_mean",
          "fractal_dimension_mean",
          "fractal_dimension_mean",
          "fractal_dimension_mean",
          "fractal_dimension_mean",
          "fractal_dimension_mean",
          "fractal_dimension_mean",
          "fractal_dimension_mean",
          "fractal_dimension_mean",
          "fractal_dimension_mean",
          "fractal_dimension_mean",
          "fractal_dimension_mean",
          "fractal_dimension_mean",
          "fractal_dimension_mean",
          "fractal_dimension_mean",
          "fractal_dimension_mean",
          "fractal_dimension_mean",
          "fractal_dimension_mean",
          "fractal_dimension_mean",
          "fractal_dimension_mean",
          "fractal_dimension_mean",
          "fractal_dimension_mean",
          "fractal_dimension_mean",
          "fractal_dimension_mean",
          "fractal_dimension_mean",
          "fractal_dimension_mean",
          "fractal_dimension_mean",
          "fractal_dimension_mean",
          "fractal_dimension_mean",
          "fractal_dimension_mean",
          "fractal_dimension_mean",
          "fractal_dimension_mean",
          "fractal_dimension_mean",
          "fractal_dimension_mean",
          "fractal_dimension_mean",
          "fractal_dimension_mean",
          "fractal_dimension_mean",
          "fractal_dimension_mean",
          "fractal_dimension_mean",
          "fractal_dimension_mean",
          "fractal_dimension_mean",
          "fractal_dimension_mean",
          "fractal_dimension_mean",
          "fractal_dimension_mean",
          "fractal_dimension_mean",
          "fractal_dimension_mean",
          "fractal_dimension_mean",
          "fractal_dimension_mean",
          "fractal_dimension_mean",
          "fractal_dimension_mean",
          "fractal_dimension_mean",
          "fractal_dimension_mean",
          "fractal_dimension_mean",
          "fractal_dimension_mean",
          "fractal_dimension_mean",
          "fractal_dimension_mean",
          "fractal_dimension_mean",
          "fractal_dimension_mean",
          "fractal_dimension_mean",
          "fractal_dimension_mean",
          "fractal_dimension_mean",
          "fractal_dimension_mean",
          "fractal_dimension_mean",
          "fractal_dimension_mean",
          "fractal_dimension_mean",
          "fractal_dimension_mean",
          "fractal_dimension_mean",
          "fractal_dimension_mean",
          "fractal_dimension_mean",
          "fractal_dimension_mean",
          "fractal_dimension_mean",
          "fractal_dimension_mean",
          "fractal_dimension_mean",
          "fractal_dimension_mean",
          "fractal_dimension_mean",
          "fractal_dimension_mean",
          "fractal_dimension_mean",
          "fractal_dimension_mean",
          "fractal_dimension_mean",
          "fractal_dimension_mean",
          "fractal_dimension_mean",
          "fractal_dimension_mean",
          "fractal_dimension_mean",
          "fractal_dimension_mean",
          "fractal_dimension_mean",
          "fractal_dimension_mean",
          "fractal_dimension_mean",
          "fractal_dimension_mean",
          "fractal_dimension_mean",
          "fractal_dimension_mean",
          "fractal_dimension_mean",
          "fractal_dimension_mean",
          "fractal_dimension_mean",
          "fractal_dimension_mean",
          "fractal_dimension_mean",
          "fractal_dimension_mean",
          "fractal_dimension_mean",
          "fractal_dimension_mean",
          "fractal_dimension_mean",
          "fractal_dimension_mean",
          "fractal_dimension_mean",
          "fractal_dimension_mean",
          "fractal_dimension_mean",
          "fractal_dimension_mean",
          "fractal_dimension_mean",
          "fractal_dimension_mean",
          "fractal_dimension_mean",
          "fractal_dimension_mean",
          "fractal_dimension_mean",
          "fractal_dimension_mean",
          "fractal_dimension_mean",
          "fractal_dimension_mean",
          "fractal_dimension_mean",
          "fractal_dimension_mean",
          "fractal_dimension_mean",
          "fractal_dimension_mean",
          "fractal_dimension_mean",
          "fractal_dimension_mean",
          "fractal_dimension_mean",
          "fractal_dimension_mean",
          "fractal_dimension_mean",
          "fractal_dimension_mean",
          "fractal_dimension_mean",
          "fractal_dimension_mean",
          "fractal_dimension_mean",
          "fractal_dimension_mean",
          "fractal_dimension_mean",
          "fractal_dimension_mean",
          "fractal_dimension_mean",
          "fractal_dimension_mean",
          "fractal_dimension_mean",
          "fractal_dimension_mean",
          "fractal_dimension_mean",
          "fractal_dimension_mean",
          "fractal_dimension_mean",
          "fractal_dimension_mean",
          "fractal_dimension_mean",
          "fractal_dimension_mean",
          "fractal_dimension_mean",
          "fractal_dimension_mean",
          "fractal_dimension_mean",
          "fractal_dimension_mean",
          "fractal_dimension_mean",
          "fractal_dimension_mean",
          "fractal_dimension_mean",
          "fractal_dimension_mean",
          "fractal_dimension_mean",
          "fractal_dimension_mean",
          "fractal_dimension_mean",
          "fractal_dimension_mean",
          "fractal_dimension_mean",
          "fractal_dimension_mean",
          "fractal_dimension_mean",
          "fractal_dimension_mean",
          "fractal_dimension_mean",
          "fractal_dimension_mean",
          "fractal_dimension_mean",
          "fractal_dimension_mean",
          "fractal_dimension_mean",
          "fractal_dimension_mean",
          "fractal_dimension_mean",
          "fractal_dimension_mean",
          "fractal_dimension_mean",
          "fractal_dimension_mean",
          "fractal_dimension_mean",
          "fractal_dimension_mean",
          "fractal_dimension_mean",
          "fractal_dimension_mean",
          "fractal_dimension_mean",
          "fractal_dimension_mean",
          "fractal_dimension_mean",
          "fractal_dimension_mean",
          "fractal_dimension_mean",
          "fractal_dimension_mean",
          "fractal_dimension_mean",
          "fractal_dimension_mean",
          "fractal_dimension_mean",
          "fractal_dimension_mean",
          "fractal_dimension_mean",
          "fractal_dimension_mean",
          "fractal_dimension_mean",
          "fractal_dimension_mean",
          "fractal_dimension_mean",
          "fractal_dimension_mean",
          "fractal_dimension_worst",
          "fractal_dimension_worst",
          "fractal_dimension_worst",
          "fractal_dimension_worst",
          "fractal_dimension_worst",
          "fractal_dimension_worst",
          "fractal_dimension_worst",
          "fractal_dimension_worst",
          "fractal_dimension_worst",
          "fractal_dimension_worst",
          "fractal_dimension_worst",
          "fractal_dimension_worst",
          "fractal_dimension_worst",
          "fractal_dimension_worst",
          "fractal_dimension_worst",
          "fractal_dimension_worst",
          "fractal_dimension_worst",
          "fractal_dimension_worst",
          "fractal_dimension_worst",
          "fractal_dimension_worst",
          "fractal_dimension_worst",
          "fractal_dimension_worst",
          "fractal_dimension_worst",
          "fractal_dimension_worst",
          "fractal_dimension_worst",
          "fractal_dimension_worst",
          "fractal_dimension_worst",
          "fractal_dimension_worst",
          "fractal_dimension_worst",
          "fractal_dimension_worst",
          "fractal_dimension_worst",
          "fractal_dimension_worst",
          "fractal_dimension_worst",
          "fractal_dimension_worst",
          "fractal_dimension_worst",
          "fractal_dimension_worst",
          "fractal_dimension_worst",
          "fractal_dimension_worst",
          "fractal_dimension_worst",
          "fractal_dimension_worst",
          "fractal_dimension_worst",
          "fractal_dimension_worst",
          "fractal_dimension_worst",
          "fractal_dimension_worst",
          "fractal_dimension_worst",
          "fractal_dimension_worst",
          "fractal_dimension_worst",
          "fractal_dimension_worst",
          "fractal_dimension_worst",
          "fractal_dimension_worst",
          "fractal_dimension_worst",
          "fractal_dimension_worst",
          "fractal_dimension_worst",
          "fractal_dimension_worst",
          "fractal_dimension_worst",
          "fractal_dimension_worst",
          "fractal_dimension_worst",
          "fractal_dimension_worst",
          "fractal_dimension_worst",
          "fractal_dimension_worst",
          "fractal_dimension_worst",
          "fractal_dimension_worst",
          "fractal_dimension_worst",
          "fractal_dimension_worst",
          "fractal_dimension_worst",
          "fractal_dimension_worst",
          "fractal_dimension_worst",
          "fractal_dimension_worst",
          "fractal_dimension_worst",
          "fractal_dimension_worst",
          "fractal_dimension_worst",
          "fractal_dimension_worst",
          "fractal_dimension_worst",
          "fractal_dimension_worst",
          "fractal_dimension_worst",
          "fractal_dimension_worst",
          "fractal_dimension_worst",
          "fractal_dimension_worst",
          "fractal_dimension_worst",
          "fractal_dimension_worst",
          "fractal_dimension_worst",
          "fractal_dimension_worst",
          "fractal_dimension_worst",
          "fractal_dimension_worst",
          "fractal_dimension_worst",
          "fractal_dimension_worst",
          "fractal_dimension_worst",
          "fractal_dimension_worst",
          "fractal_dimension_worst",
          "fractal_dimension_worst",
          "fractal_dimension_worst",
          "fractal_dimension_worst",
          "fractal_dimension_worst",
          "fractal_dimension_worst",
          "fractal_dimension_worst",
          "fractal_dimension_worst",
          "fractal_dimension_worst",
          "fractal_dimension_worst",
          "fractal_dimension_worst",
          "fractal_dimension_worst",
          "fractal_dimension_worst",
          "fractal_dimension_worst",
          "fractal_dimension_worst",
          "fractal_dimension_worst",
          "fractal_dimension_worst",
          "fractal_dimension_worst",
          "fractal_dimension_worst",
          "fractal_dimension_worst",
          "fractal_dimension_worst",
          "fractal_dimension_worst",
          "fractal_dimension_worst",
          "fractal_dimension_worst",
          "fractal_dimension_worst",
          "fractal_dimension_worst",
          "fractal_dimension_worst",
          "fractal_dimension_worst",
          "fractal_dimension_worst",
          "fractal_dimension_worst",
          "fractal_dimension_worst",
          "fractal_dimension_worst",
          "fractal_dimension_worst",
          "fractal_dimension_worst",
          "fractal_dimension_worst",
          "fractal_dimension_worst",
          "fractal_dimension_worst",
          "fractal_dimension_worst",
          "fractal_dimension_worst",
          "fractal_dimension_worst",
          "fractal_dimension_worst",
          "fractal_dimension_worst",
          "fractal_dimension_worst",
          "fractal_dimension_worst",
          "fractal_dimension_worst",
          "fractal_dimension_worst",
          "fractal_dimension_worst",
          "fractal_dimension_worst",
          "fractal_dimension_worst",
          "fractal_dimension_worst",
          "fractal_dimension_worst",
          "fractal_dimension_worst",
          "fractal_dimension_worst",
          "fractal_dimension_worst",
          "fractal_dimension_worst",
          "fractal_dimension_worst",
          "fractal_dimension_worst",
          "fractal_dimension_worst",
          "fractal_dimension_worst",
          "fractal_dimension_worst",
          "fractal_dimension_worst",
          "fractal_dimension_worst",
          "fractal_dimension_worst",
          "fractal_dimension_worst",
          "fractal_dimension_worst",
          "fractal_dimension_worst",
          "fractal_dimension_worst",
          "fractal_dimension_worst",
          "fractal_dimension_worst",
          "fractal_dimension_worst",
          "fractal_dimension_worst",
          "fractal_dimension_worst",
          "fractal_dimension_worst",
          "fractal_dimension_worst",
          "fractal_dimension_worst",
          "fractal_dimension_worst",
          "fractal_dimension_worst",
          "fractal_dimension_worst",
          "fractal_dimension_worst",
          "fractal_dimension_worst",
          "fractal_dimension_worst",
          "fractal_dimension_worst",
          "fractal_dimension_worst",
          "fractal_dimension_worst",
          "fractal_dimension_worst",
          "fractal_dimension_worst",
          "fractal_dimension_worst",
          "fractal_dimension_worst",
          "fractal_dimension_worst",
          "fractal_dimension_worst",
          "fractal_dimension_worst",
          "fractal_dimension_worst",
          "fractal_dimension_worst",
          "fractal_dimension_worst",
          "fractal_dimension_worst",
          "fractal_dimension_worst",
          "fractal_dimension_worst",
          "fractal_dimension_worst",
          "fractal_dimension_worst",
          "fractal_dimension_worst",
          "fractal_dimension_worst",
          "fractal_dimension_worst",
          "fractal_dimension_worst",
          "fractal_dimension_worst",
          "fractal_dimension_worst",
          "fractal_dimension_worst",
          "fractal_dimension_worst",
          "fractal_dimension_worst",
          "fractal_dimension_worst",
          "fractal_dimension_worst",
          "fractal_dimension_worst",
          "fractal_dimension_worst",
          "fractal_dimension_worst",
          "fractal_dimension_worst",
          "fractal_dimension_worst",
          "fractal_dimension_worst",
          "fractal_dimension_worst",
          "fractal_dimension_worst",
          "fractal_dimension_worst",
          "fractal_dimension_worst",
          "fractal_dimension_worst",
          "fractal_dimension_worst",
          "fractal_dimension_worst",
          "fractal_dimension_worst"
         ],
         "x0": " ",
         "xaxis": "x",
         "y": [
          0.07871,
          0.05667,
          0.05999,
          0.09744,
          0.05883,
          0.07613,
          0.05742,
          0.07451,
          0.07389,
          0.08243,
          0.05697,
          0.06082,
          0.078,
          0.05338,
          0.07682,
          0.07077,
          0.05922,
          0.07356,
          0.05395,
          0.07032,
          0.05278,
          0.0633,
          0.07413,
          0.06924,
          0.05699,
          0.0654,
          0.06149,
          0.06197,
          0.07799,
          0.06382,
          0.06261,
          0.06515,
          0.05656,
          0.06125,
          0.05504,
          0.06419,
          0.05587,
          0.0687,
          0.06343,
          0.06782,
          0.06177,
          0.06049,
          0.06777,
          0.0631,
          0.05684,
          0.05961,
          0.06758,
          0.07292,
          0.0659,
          0.06654,
          0.05461,
          0.06487,
          0.06566,
          0.05391,
          0.06673,
          0.08142,
          0.06782,
          0.07224,
          0.06022,
          0.05636,
          0.05629,
          0.06097,
          0.06284,
          0.05649,
          0.0639,
          0.05871,
          0.07692,
          0.07039,
          0.06768,
          0.07331,
          0.05025,
          0.06213,
          0.06877,
          0.0613,
          0.05044,
          0.06113,
          0.05796,
          0.05891,
          0.05727,
          0.06065,
          0.06216,
          0.06248,
          0.07371,
          0.06166,
          0.05176,
          0.06082,
          0.05553,
          0.05534,
          0.06365,
          0.05671,
          0.07069,
          0.06323,
          0.0577,
          0.07398,
          0.05549,
          0.06317,
          0.05425,
          0.07542,
          0.06937,
          0.06672,
          0.06877,
          0.0534,
          0.05529,
          0.06466,
          0.05491,
          0.06229,
          0.07421,
          0.05986,
          0.05223,
          0.05024,
          0.05525,
          0.05866,
          0.06433,
          0.06916,
          0.05581,
          0.05313,
          0.06303,
          0.07254,
          0.06325,
          0.05592,
          0.06309,
          0.05177,
          0.05966,
          0.06,
          0.05898,
          0.06697,
          0.05613,
          0.05647,
          0.0613,
          0.06232,
          0.07596,
          0.08104,
          0.0665,
          0.05572,
          0.05307,
          0.05464,
          0.05443,
          0.0558,
          0.05674,
          0.06194,
          0.0551,
          0.04996,
          0.0622,
          0.05892,
          0.06684,
          0.06287,
          0.06552,
          0.07469,
          0.05664,
          0.05096,
          0.0667,
          0.06277,
          0.06532,
          0.05976,
          0.06071,
          0.06083,
          0.05506,
          0.05715,
          0.07603,
          0.06121,
          0.06464,
          0.05557,
          0.0602,
          0.05054,
          0.0614,
          0.06218,
          0.06183,
          0.05478,
          0.0795,
          0.05416,
          0.05884,
          0.06744,
          0.06606,
          0.07115,
          0.06069,
          0.05294,
          0.06864,
          0.06898,
          0.06053,
          0.06132,
          0.06544,
          0.05407,
          0.0578,
          0.05916,
          0.05661,
          0.05391,
          0.06281,
          0.05623,
          0.07369,
          0.06578,
          0.06115,
          0.05325,
          0.06077,
          0.06697,
          0.06222,
          0.07237,
          0.05484,
          0.07083,
          0.07325,
          0.05915,
          0.05941,
          0.06188,
          0.06739,
          0.05419,
          0.06251,
          0.05982,
          0.07152,
          0.06879,
          0.05623,
          0.05533,
          0.05648,
          0.07016,
          0.1189,
          0.08902,
          0.08758,
          0.173,
          0.07678,
          0.1244,
          0.08368,
          0.1151,
          0.1072,
          0.2075,
          0.08452,
          0.1048,
          0.1023,
          0.06287,
          0.1431,
          0.1341,
          0.08216,
          0.1142,
          0.07615,
          0.09946,
          0.07526,
          0.09564,
          0.1059,
          0.1275,
          0.07421,
          0.09876,
          0.07919,
          0.09782,
          0.1402,
          0.08482,
          0.1123,
          0.1233,
          0.08633,
          0.1014,
          0.05504,
          0.1071,
          0.07146,
          0.09606,
          0.1038,
          0.1027,
          0.09618,
          0.09185,
          0.1179,
          0.07987,
          0.07873,
          0.08294,
          0.1094,
          0.1132,
          0.1031,
          0.08911,
          0.06589,
          0.1339,
          0.103,
          0.06387,
          0.1108,
          0.09964,
          0.1051,
          0.09203,
          0.08579,
          0.06846,
          0.09288,
          0.06828,
          0.08234,
          0.08368,
          0.09353,
          0.07397,
          0.1405,
          0.09789,
          0.1065,
          0.1252,
          0.06111,
          0.08456,
          0.08009,
          0.079,
          0.06541,
          0.08465,
          0.08019,
          0.07619,
          0.0761,
          0.08067,
          0.07147,
          0.08158,
          0.103,
          0.07738,
          0.06251,
          0.09223,
          0.09187,
          0.07228,
          0.093,
          0.07371,
          0.101,
          0.09519,
          0.08082,
          0.1284,
          0.08631,
          0.09772,
          0.06938,
          0.1446,
          0.1205,
          0.08701,
          0.09333,
          0.06558,
          0.09221,
          0.1013,
          0.07867,
          0.08762,
          0.1086,
          0.0974,
          0.06469,
          0.05865,
          0.05525,
          0.06818,
          0.1026,
          0.1059,
          0.08255,
          0.07568,
          0.1064,
          0.1243,
          0.09061,
          0.08328,
          0.08677,
          0.07127,
          0.08496,
          0.07614,
          0.07849,
          0.1297,
          0.08113,
          0.0895,
          0.07957,
          0.1005,
          0.1191,
          0.1019,
          0.1204,
          0.07999,
          0.06515,
          0.07484,
          0.06829,
          0.0757,
          0.08218,
          0.08858,
          0.07948,
          0.05737,
          0.0972,
          0.07787,
          0.1063,
          0.06915,
          0.09929,
          0.09469,
          0.08198,
          0.05933,
          0.1024,
          0.082,
          0.07953,
          0.09124,
          0.07599,
          0.0987,
          0.07738,
          0.07918,
          0.105,
          0.08815,
          0.09438,
          0.06735,
          0.07632,
          0.06494,
          0.08574,
          0.09614,
          0.08666,
          0.07055,
          0.1403,
          0.06836,
          0.07602,
          0.1019,
          0.1007,
          0.1198,
          0.08503,
          0.06165,
          0.1048,
          0.1155,
          0.08075,
          0.08314,
          0.1055,
          0.07944,
          0.08225,
          0.09075,
          0.07425,
          0.06091,
          0.0906,
          0.07427,
          0.1224,
          0.09136,
          0.09009,
          0.07623,
          0.07625,
          0.09445,
          0.08999,
          0.1183,
          0.07277,
          0.1067,
          0.1109,
          0.06954,
          0.07863,
          0.09136,
          0.09671,
          0.06386,
          0.07569,
          0.08351,
          0.1409,
          0.09873,
          0.07115,
          0.06637,
          0.0782,
          0.124
         ],
         "y0": " ",
         "yaxis": "y"
        },
        {
         "alignmentgroup": "True",
         "hovertemplate": "diagnosis=Benign<br>Variable=%{x}<br>Value=%{y}<extra></extra>",
         "legendgroup": "Benign",
         "marker": {
          "color": "#EF553B"
         },
         "name": "Benign",
         "notched": false,
         "offsetgroup": "Benign",
         "orientation": "v",
         "showlegend": true,
         "type": "box",
         "x": [
          "fractal_dimension_mean",
          "fractal_dimension_mean",
          "fractal_dimension_mean",
          "fractal_dimension_mean",
          "fractal_dimension_mean",
          "fractal_dimension_mean",
          "fractal_dimension_mean",
          "fractal_dimension_mean",
          "fractal_dimension_mean",
          "fractal_dimension_mean",
          "fractal_dimension_mean",
          "fractal_dimension_mean",
          "fractal_dimension_mean",
          "fractal_dimension_mean",
          "fractal_dimension_mean",
          "fractal_dimension_mean",
          "fractal_dimension_mean",
          "fractal_dimension_mean",
          "fractal_dimension_mean",
          "fractal_dimension_mean",
          "fractal_dimension_mean",
          "fractal_dimension_mean",
          "fractal_dimension_mean",
          "fractal_dimension_mean",
          "fractal_dimension_mean",
          "fractal_dimension_mean",
          "fractal_dimension_mean",
          "fractal_dimension_mean",
          "fractal_dimension_mean",
          "fractal_dimension_mean",
          "fractal_dimension_mean",
          "fractal_dimension_mean",
          "fractal_dimension_mean",
          "fractal_dimension_mean",
          "fractal_dimension_mean",
          "fractal_dimension_mean",
          "fractal_dimension_mean",
          "fractal_dimension_mean",
          "fractal_dimension_mean",
          "fractal_dimension_mean",
          "fractal_dimension_mean",
          "fractal_dimension_mean",
          "fractal_dimension_mean",
          "fractal_dimension_mean",
          "fractal_dimension_mean",
          "fractal_dimension_mean",
          "fractal_dimension_mean",
          "fractal_dimension_mean",
          "fractal_dimension_mean",
          "fractal_dimension_mean",
          "fractal_dimension_mean",
          "fractal_dimension_mean",
          "fractal_dimension_mean",
          "fractal_dimension_mean",
          "fractal_dimension_mean",
          "fractal_dimension_mean",
          "fractal_dimension_mean",
          "fractal_dimension_mean",
          "fractal_dimension_mean",
          "fractal_dimension_mean",
          "fractal_dimension_mean",
          "fractal_dimension_mean",
          "fractal_dimension_mean",
          "fractal_dimension_mean",
          "fractal_dimension_mean",
          "fractal_dimension_mean",
          "fractal_dimension_mean",
          "fractal_dimension_mean",
          "fractal_dimension_mean",
          "fractal_dimension_mean",
          "fractal_dimension_mean",
          "fractal_dimension_mean",
          "fractal_dimension_mean",
          "fractal_dimension_mean",
          "fractal_dimension_mean",
          "fractal_dimension_mean",
          "fractal_dimension_mean",
          "fractal_dimension_mean",
          "fractal_dimension_mean",
          "fractal_dimension_mean",
          "fractal_dimension_mean",
          "fractal_dimension_mean",
          "fractal_dimension_mean",
          "fractal_dimension_mean",
          "fractal_dimension_mean",
          "fractal_dimension_mean",
          "fractal_dimension_mean",
          "fractal_dimension_mean",
          "fractal_dimension_mean",
          "fractal_dimension_mean",
          "fractal_dimension_mean",
          "fractal_dimension_mean",
          "fractal_dimension_mean",
          "fractal_dimension_mean",
          "fractal_dimension_mean",
          "fractal_dimension_mean",
          "fractal_dimension_mean",
          "fractal_dimension_mean",
          "fractal_dimension_mean",
          "fractal_dimension_mean",
          "fractal_dimension_mean",
          "fractal_dimension_mean",
          "fractal_dimension_mean",
          "fractal_dimension_mean",
          "fractal_dimension_mean",
          "fractal_dimension_mean",
          "fractal_dimension_mean",
          "fractal_dimension_mean",
          "fractal_dimension_mean",
          "fractal_dimension_mean",
          "fractal_dimension_mean",
          "fractal_dimension_mean",
          "fractal_dimension_mean",
          "fractal_dimension_mean",
          "fractal_dimension_mean",
          "fractal_dimension_mean",
          "fractal_dimension_mean",
          "fractal_dimension_mean",
          "fractal_dimension_mean",
          "fractal_dimension_mean",
          "fractal_dimension_mean",
          "fractal_dimension_mean",
          "fractal_dimension_mean",
          "fractal_dimension_mean",
          "fractal_dimension_mean",
          "fractal_dimension_mean",
          "fractal_dimension_mean",
          "fractal_dimension_mean",
          "fractal_dimension_mean",
          "fractal_dimension_mean",
          "fractal_dimension_mean",
          "fractal_dimension_mean",
          "fractal_dimension_mean",
          "fractal_dimension_mean",
          "fractal_dimension_mean",
          "fractal_dimension_mean",
          "fractal_dimension_mean",
          "fractal_dimension_mean",
          "fractal_dimension_mean",
          "fractal_dimension_mean",
          "fractal_dimension_mean",
          "fractal_dimension_mean",
          "fractal_dimension_mean",
          "fractal_dimension_mean",
          "fractal_dimension_mean",
          "fractal_dimension_mean",
          "fractal_dimension_mean",
          "fractal_dimension_mean",
          "fractal_dimension_mean",
          "fractal_dimension_mean",
          "fractal_dimension_mean",
          "fractal_dimension_mean",
          "fractal_dimension_mean",
          "fractal_dimension_mean",
          "fractal_dimension_mean",
          "fractal_dimension_mean",
          "fractal_dimension_mean",
          "fractal_dimension_mean",
          "fractal_dimension_mean",
          "fractal_dimension_mean",
          "fractal_dimension_mean",
          "fractal_dimension_mean",
          "fractal_dimension_mean",
          "fractal_dimension_mean",
          "fractal_dimension_mean",
          "fractal_dimension_mean",
          "fractal_dimension_mean",
          "fractal_dimension_mean",
          "fractal_dimension_mean",
          "fractal_dimension_mean",
          "fractal_dimension_mean",
          "fractal_dimension_mean",
          "fractal_dimension_mean",
          "fractal_dimension_mean",
          "fractal_dimension_mean",
          "fractal_dimension_mean",
          "fractal_dimension_mean",
          "fractal_dimension_mean",
          "fractal_dimension_mean",
          "fractal_dimension_mean",
          "fractal_dimension_mean",
          "fractal_dimension_mean",
          "fractal_dimension_mean",
          "fractal_dimension_mean",
          "fractal_dimension_mean",
          "fractal_dimension_mean",
          "fractal_dimension_mean",
          "fractal_dimension_mean",
          "fractal_dimension_mean",
          "fractal_dimension_mean",
          "fractal_dimension_mean",
          "fractal_dimension_mean",
          "fractal_dimension_mean",
          "fractal_dimension_mean",
          "fractal_dimension_mean",
          "fractal_dimension_mean",
          "fractal_dimension_mean",
          "fractal_dimension_mean",
          "fractal_dimension_mean",
          "fractal_dimension_mean",
          "fractal_dimension_mean",
          "fractal_dimension_mean",
          "fractal_dimension_mean",
          "fractal_dimension_mean",
          "fractal_dimension_mean",
          "fractal_dimension_mean",
          "fractal_dimension_mean",
          "fractal_dimension_mean",
          "fractal_dimension_mean",
          "fractal_dimension_mean",
          "fractal_dimension_mean",
          "fractal_dimension_mean",
          "fractal_dimension_mean",
          "fractal_dimension_mean",
          "fractal_dimension_mean",
          "fractal_dimension_mean",
          "fractal_dimension_mean",
          "fractal_dimension_mean",
          "fractal_dimension_mean",
          "fractal_dimension_mean",
          "fractal_dimension_mean",
          "fractal_dimension_mean",
          "fractal_dimension_mean",
          "fractal_dimension_mean",
          "fractal_dimension_mean",
          "fractal_dimension_mean",
          "fractal_dimension_mean",
          "fractal_dimension_mean",
          "fractal_dimension_mean",
          "fractal_dimension_mean",
          "fractal_dimension_mean",
          "fractal_dimension_mean",
          "fractal_dimension_mean",
          "fractal_dimension_mean",
          "fractal_dimension_mean",
          "fractal_dimension_mean",
          "fractal_dimension_mean",
          "fractal_dimension_mean",
          "fractal_dimension_mean",
          "fractal_dimension_mean",
          "fractal_dimension_mean",
          "fractal_dimension_mean",
          "fractal_dimension_mean",
          "fractal_dimension_mean",
          "fractal_dimension_mean",
          "fractal_dimension_mean",
          "fractal_dimension_mean",
          "fractal_dimension_mean",
          "fractal_dimension_mean",
          "fractal_dimension_mean",
          "fractal_dimension_mean",
          "fractal_dimension_mean",
          "fractal_dimension_mean",
          "fractal_dimension_mean",
          "fractal_dimension_mean",
          "fractal_dimension_mean",
          "fractal_dimension_mean",
          "fractal_dimension_mean",
          "fractal_dimension_mean",
          "fractal_dimension_mean",
          "fractal_dimension_mean",
          "fractal_dimension_mean",
          "fractal_dimension_mean",
          "fractal_dimension_mean",
          "fractal_dimension_mean",
          "fractal_dimension_mean",
          "fractal_dimension_mean",
          "fractal_dimension_mean",
          "fractal_dimension_mean",
          "fractal_dimension_mean",
          "fractal_dimension_mean",
          "fractal_dimension_mean",
          "fractal_dimension_mean",
          "fractal_dimension_mean",
          "fractal_dimension_mean",
          "fractal_dimension_mean",
          "fractal_dimension_mean",
          "fractal_dimension_mean",
          "fractal_dimension_mean",
          "fractal_dimension_mean",
          "fractal_dimension_mean",
          "fractal_dimension_mean",
          "fractal_dimension_mean",
          "fractal_dimension_mean",
          "fractal_dimension_mean",
          "fractal_dimension_mean",
          "fractal_dimension_mean",
          "fractal_dimension_mean",
          "fractal_dimension_mean",
          "fractal_dimension_mean",
          "fractal_dimension_mean",
          "fractal_dimension_mean",
          "fractal_dimension_mean",
          "fractal_dimension_mean",
          "fractal_dimension_mean",
          "fractal_dimension_mean",
          "fractal_dimension_mean",
          "fractal_dimension_mean",
          "fractal_dimension_mean",
          "fractal_dimension_mean",
          "fractal_dimension_mean",
          "fractal_dimension_mean",
          "fractal_dimension_mean",
          "fractal_dimension_mean",
          "fractal_dimension_mean",
          "fractal_dimension_mean",
          "fractal_dimension_mean",
          "fractal_dimension_mean",
          "fractal_dimension_mean",
          "fractal_dimension_mean",
          "fractal_dimension_mean",
          "fractal_dimension_mean",
          "fractal_dimension_mean",
          "fractal_dimension_mean",
          "fractal_dimension_mean",
          "fractal_dimension_mean",
          "fractal_dimension_mean",
          "fractal_dimension_mean",
          "fractal_dimension_mean",
          "fractal_dimension_mean",
          "fractal_dimension_mean",
          "fractal_dimension_mean",
          "fractal_dimension_mean",
          "fractal_dimension_mean",
          "fractal_dimension_mean",
          "fractal_dimension_mean",
          "fractal_dimension_mean",
          "fractal_dimension_mean",
          "fractal_dimension_mean",
          "fractal_dimension_mean",
          "fractal_dimension_mean",
          "fractal_dimension_mean",
          "fractal_dimension_mean",
          "fractal_dimension_mean",
          "fractal_dimension_mean",
          "fractal_dimension_mean",
          "fractal_dimension_mean",
          "fractal_dimension_mean",
          "fractal_dimension_mean",
          "fractal_dimension_mean",
          "fractal_dimension_mean",
          "fractal_dimension_mean",
          "fractal_dimension_mean",
          "fractal_dimension_mean",
          "fractal_dimension_mean",
          "fractal_dimension_mean",
          "fractal_dimension_mean",
          "fractal_dimension_mean",
          "fractal_dimension_mean",
          "fractal_dimension_mean",
          "fractal_dimension_mean",
          "fractal_dimension_mean",
          "fractal_dimension_mean",
          "fractal_dimension_mean",
          "fractal_dimension_mean",
          "fractal_dimension_mean",
          "fractal_dimension_mean",
          "fractal_dimension_worst",
          "fractal_dimension_worst",
          "fractal_dimension_worst",
          "fractal_dimension_worst",
          "fractal_dimension_worst",
          "fractal_dimension_worst",
          "fractal_dimension_worst",
          "fractal_dimension_worst",
          "fractal_dimension_worst",
          "fractal_dimension_worst",
          "fractal_dimension_worst",
          "fractal_dimension_worst",
          "fractal_dimension_worst",
          "fractal_dimension_worst",
          "fractal_dimension_worst",
          "fractal_dimension_worst",
          "fractal_dimension_worst",
          "fractal_dimension_worst",
          "fractal_dimension_worst",
          "fractal_dimension_worst",
          "fractal_dimension_worst",
          "fractal_dimension_worst",
          "fractal_dimension_worst",
          "fractal_dimension_worst",
          "fractal_dimension_worst",
          "fractal_dimension_worst",
          "fractal_dimension_worst",
          "fractal_dimension_worst",
          "fractal_dimension_worst",
          "fractal_dimension_worst",
          "fractal_dimension_worst",
          "fractal_dimension_worst",
          "fractal_dimension_worst",
          "fractal_dimension_worst",
          "fractal_dimension_worst",
          "fractal_dimension_worst",
          "fractal_dimension_worst",
          "fractal_dimension_worst",
          "fractal_dimension_worst",
          "fractal_dimension_worst",
          "fractal_dimension_worst",
          "fractal_dimension_worst",
          "fractal_dimension_worst",
          "fractal_dimension_worst",
          "fractal_dimension_worst",
          "fractal_dimension_worst",
          "fractal_dimension_worst",
          "fractal_dimension_worst",
          "fractal_dimension_worst",
          "fractal_dimension_worst",
          "fractal_dimension_worst",
          "fractal_dimension_worst",
          "fractal_dimension_worst",
          "fractal_dimension_worst",
          "fractal_dimension_worst",
          "fractal_dimension_worst",
          "fractal_dimension_worst",
          "fractal_dimension_worst",
          "fractal_dimension_worst",
          "fractal_dimension_worst",
          "fractal_dimension_worst",
          "fractal_dimension_worst",
          "fractal_dimension_worst",
          "fractal_dimension_worst",
          "fractal_dimension_worst",
          "fractal_dimension_worst",
          "fractal_dimension_worst",
          "fractal_dimension_worst",
          "fractal_dimension_worst",
          "fractal_dimension_worst",
          "fractal_dimension_worst",
          "fractal_dimension_worst",
          "fractal_dimension_worst",
          "fractal_dimension_worst",
          "fractal_dimension_worst",
          "fractal_dimension_worst",
          "fractal_dimension_worst",
          "fractal_dimension_worst",
          "fractal_dimension_worst",
          "fractal_dimension_worst",
          "fractal_dimension_worst",
          "fractal_dimension_worst",
          "fractal_dimension_worst",
          "fractal_dimension_worst",
          "fractal_dimension_worst",
          "fractal_dimension_worst",
          "fractal_dimension_worst",
          "fractal_dimension_worst",
          "fractal_dimension_worst",
          "fractal_dimension_worst",
          "fractal_dimension_worst",
          "fractal_dimension_worst",
          "fractal_dimension_worst",
          "fractal_dimension_worst",
          "fractal_dimension_worst",
          "fractal_dimension_worst",
          "fractal_dimension_worst",
          "fractal_dimension_worst",
          "fractal_dimension_worst",
          "fractal_dimension_worst",
          "fractal_dimension_worst",
          "fractal_dimension_worst",
          "fractal_dimension_worst",
          "fractal_dimension_worst",
          "fractal_dimension_worst",
          "fractal_dimension_worst",
          "fractal_dimension_worst",
          "fractal_dimension_worst",
          "fractal_dimension_worst",
          "fractal_dimension_worst",
          "fractal_dimension_worst",
          "fractal_dimension_worst",
          "fractal_dimension_worst",
          "fractal_dimension_worst",
          "fractal_dimension_worst",
          "fractal_dimension_worst",
          "fractal_dimension_worst",
          "fractal_dimension_worst",
          "fractal_dimension_worst",
          "fractal_dimension_worst",
          "fractal_dimension_worst",
          "fractal_dimension_worst",
          "fractal_dimension_worst",
          "fractal_dimension_worst",
          "fractal_dimension_worst",
          "fractal_dimension_worst",
          "fractal_dimension_worst",
          "fractal_dimension_worst",
          "fractal_dimension_worst",
          "fractal_dimension_worst",
          "fractal_dimension_worst",
          "fractal_dimension_worst",
          "fractal_dimension_worst",
          "fractal_dimension_worst",
          "fractal_dimension_worst",
          "fractal_dimension_worst",
          "fractal_dimension_worst",
          "fractal_dimension_worst",
          "fractal_dimension_worst",
          "fractal_dimension_worst",
          "fractal_dimension_worst",
          "fractal_dimension_worst",
          "fractal_dimension_worst",
          "fractal_dimension_worst",
          "fractal_dimension_worst",
          "fractal_dimension_worst",
          "fractal_dimension_worst",
          "fractal_dimension_worst",
          "fractal_dimension_worst",
          "fractal_dimension_worst",
          "fractal_dimension_worst",
          "fractal_dimension_worst",
          "fractal_dimension_worst",
          "fractal_dimension_worst",
          "fractal_dimension_worst",
          "fractal_dimension_worst",
          "fractal_dimension_worst",
          "fractal_dimension_worst",
          "fractal_dimension_worst",
          "fractal_dimension_worst",
          "fractal_dimension_worst",
          "fractal_dimension_worst",
          "fractal_dimension_worst",
          "fractal_dimension_worst",
          "fractal_dimension_worst",
          "fractal_dimension_worst",
          "fractal_dimension_worst",
          "fractal_dimension_worst",
          "fractal_dimension_worst",
          "fractal_dimension_worst",
          "fractal_dimension_worst",
          "fractal_dimension_worst",
          "fractal_dimension_worst",
          "fractal_dimension_worst",
          "fractal_dimension_worst",
          "fractal_dimension_worst",
          "fractal_dimension_worst",
          "fractal_dimension_worst",
          "fractal_dimension_worst",
          "fractal_dimension_worst",
          "fractal_dimension_worst",
          "fractal_dimension_worst",
          "fractal_dimension_worst",
          "fractal_dimension_worst",
          "fractal_dimension_worst",
          "fractal_dimension_worst",
          "fractal_dimension_worst",
          "fractal_dimension_worst",
          "fractal_dimension_worst",
          "fractal_dimension_worst",
          "fractal_dimension_worst",
          "fractal_dimension_worst",
          "fractal_dimension_worst",
          "fractal_dimension_worst",
          "fractal_dimension_worst",
          "fractal_dimension_worst",
          "fractal_dimension_worst",
          "fractal_dimension_worst",
          "fractal_dimension_worst",
          "fractal_dimension_worst",
          "fractal_dimension_worst",
          "fractal_dimension_worst",
          "fractal_dimension_worst",
          "fractal_dimension_worst",
          "fractal_dimension_worst",
          "fractal_dimension_worst",
          "fractal_dimension_worst",
          "fractal_dimension_worst",
          "fractal_dimension_worst",
          "fractal_dimension_worst",
          "fractal_dimension_worst",
          "fractal_dimension_worst",
          "fractal_dimension_worst",
          "fractal_dimension_worst",
          "fractal_dimension_worst",
          "fractal_dimension_worst",
          "fractal_dimension_worst",
          "fractal_dimension_worst",
          "fractal_dimension_worst",
          "fractal_dimension_worst",
          "fractal_dimension_worst",
          "fractal_dimension_worst",
          "fractal_dimension_worst",
          "fractal_dimension_worst",
          "fractal_dimension_worst",
          "fractal_dimension_worst",
          "fractal_dimension_worst",
          "fractal_dimension_worst",
          "fractal_dimension_worst",
          "fractal_dimension_worst",
          "fractal_dimension_worst",
          "fractal_dimension_worst",
          "fractal_dimension_worst",
          "fractal_dimension_worst",
          "fractal_dimension_worst",
          "fractal_dimension_worst",
          "fractal_dimension_worst",
          "fractal_dimension_worst",
          "fractal_dimension_worst",
          "fractal_dimension_worst",
          "fractal_dimension_worst",
          "fractal_dimension_worst",
          "fractal_dimension_worst",
          "fractal_dimension_worst",
          "fractal_dimension_worst",
          "fractal_dimension_worst",
          "fractal_dimension_worst",
          "fractal_dimension_worst",
          "fractal_dimension_worst",
          "fractal_dimension_worst",
          "fractal_dimension_worst",
          "fractal_dimension_worst",
          "fractal_dimension_worst",
          "fractal_dimension_worst",
          "fractal_dimension_worst",
          "fractal_dimension_worst",
          "fractal_dimension_worst",
          "fractal_dimension_worst",
          "fractal_dimension_worst",
          "fractal_dimension_worst",
          "fractal_dimension_worst",
          "fractal_dimension_worst",
          "fractal_dimension_worst",
          "fractal_dimension_worst",
          "fractal_dimension_worst",
          "fractal_dimension_worst",
          "fractal_dimension_worst",
          "fractal_dimension_worst",
          "fractal_dimension_worst",
          "fractal_dimension_worst",
          "fractal_dimension_worst",
          "fractal_dimension_worst",
          "fractal_dimension_worst",
          "fractal_dimension_worst",
          "fractal_dimension_worst",
          "fractal_dimension_worst",
          "fractal_dimension_worst",
          "fractal_dimension_worst",
          "fractal_dimension_worst",
          "fractal_dimension_worst",
          "fractal_dimension_worst",
          "fractal_dimension_worst",
          "fractal_dimension_worst",
          "fractal_dimension_worst",
          "fractal_dimension_worst",
          "fractal_dimension_worst",
          "fractal_dimension_worst",
          "fractal_dimension_worst",
          "fractal_dimension_worst",
          "fractal_dimension_worst",
          "fractal_dimension_worst",
          "fractal_dimension_worst",
          "fractal_dimension_worst",
          "fractal_dimension_worst",
          "fractal_dimension_worst",
          "fractal_dimension_worst",
          "fractal_dimension_worst",
          "fractal_dimension_worst",
          "fractal_dimension_worst",
          "fractal_dimension_worst",
          "fractal_dimension_worst",
          "fractal_dimension_worst",
          "fractal_dimension_worst",
          "fractal_dimension_worst",
          "fractal_dimension_worst",
          "fractal_dimension_worst",
          "fractal_dimension_worst",
          "fractal_dimension_worst",
          "fractal_dimension_worst",
          "fractal_dimension_worst",
          "fractal_dimension_worst",
          "fractal_dimension_worst",
          "fractal_dimension_worst",
          "fractal_dimension_worst",
          "fractal_dimension_worst",
          "fractal_dimension_worst",
          "fractal_dimension_worst",
          "fractal_dimension_worst",
          "fractal_dimension_worst",
          "fractal_dimension_worst",
          "fractal_dimension_worst",
          "fractal_dimension_worst",
          "fractal_dimension_worst",
          "fractal_dimension_worst",
          "fractal_dimension_worst",
          "fractal_dimension_worst",
          "fractal_dimension_worst",
          "fractal_dimension_worst",
          "fractal_dimension_worst",
          "fractal_dimension_worst",
          "fractal_dimension_worst",
          "fractal_dimension_worst",
          "fractal_dimension_worst",
          "fractal_dimension_worst",
          "fractal_dimension_worst",
          "fractal_dimension_worst",
          "fractal_dimension_worst",
          "fractal_dimension_worst",
          "fractal_dimension_worst",
          "fractal_dimension_worst",
          "fractal_dimension_worst",
          "fractal_dimension_worst",
          "fractal_dimension_worst",
          "fractal_dimension_worst",
          "fractal_dimension_worst",
          "fractal_dimension_worst",
          "fractal_dimension_worst",
          "fractal_dimension_worst",
          "fractal_dimension_worst",
          "fractal_dimension_worst",
          "fractal_dimension_worst",
          "fractal_dimension_worst",
          "fractal_dimension_worst",
          "fractal_dimension_worst",
          "fractal_dimension_worst",
          "fractal_dimension_worst",
          "fractal_dimension_worst"
         ],
         "x0": " ",
         "xaxis": "x",
         "y": [
          0.05766,
          0.06811,
          0.06905,
          0.05863,
          0.06503,
          0.06043,
          0.05718,
          0.05888,
          0.05953,
          0.0611,
          0.05907,
          0.05501,
          0.07187,
          0.0696,
          0.06757,
          0.06963,
          0.06899,
          0.05667,
          0.08046,
          0.05653,
          0.0898,
          0.05914,
          0.06641,
          0.05997,
          0.07005,
          0.06902,
          0.05968,
          0.06404,
          0.06346,
          0.05866,
          0.05318,
          0.0571,
          0.06635,
          0.0689,
          0.06582,
          0.07818,
          0.05677,
          0.06322,
          0.06481,
          0.0652,
          0.06066,
          0.06529,
          0.07065,
          0.0707,
          0.07769,
          0.07782,
          0.07633,
          0.06194,
          0.07163,
          0.06113,
          0.06402,
          0.05823,
          0.0589,
          0.06467,
          0.06471,
          0.05723,
          0.05945,
          0.05865,
          0.06072,
          0.06422,
          0.06562,
          0.06235,
          0.05688,
          0.07839,
          0.06493,
          0.06081,
          0.0558,
          0.06087,
          0.08261,
          0.09296,
          0.06105,
          0.06207,
          0.06228,
          0.05268,
          0.05907,
          0.05743,
          0.06453,
          0.06761,
          0.05266,
          0.064,
          0.0565,
          0.05955,
          0.06669,
          0.05975,
          0.06724,
          0.08116,
          0.05234,
          0.06133,
          0.06217,
          0.06048,
          0.06095,
          0.0578,
          0.05474,
          0.06287,
          0.06447,
          0.05667,
          0.06013,
          0.06373,
          0.06285,
          0.0731,
          0.05526,
          0.06057,
          0.06314,
          0.06315,
          0.06344,
          0.06303,
          0.06908,
          0.05674,
          0.05448,
          0.0645,
          0.05907,
          0.06019,
          0.05628,
          0.05828,
          0.06403,
          0.05835,
          0.06129,
          0.0566,
          0.05754,
          0.07669,
          0.05429,
          0.0644,
          0.05635,
          0.06409,
          0.06329,
          0.06168,
          0.05934,
          0.06491,
          0.05859,
          0.05769,
          0.06862,
          0.05376,
          0.0627,
          0.06312,
          0.05875,
          0.05821,
          0.0552,
          0.05853,
          0.06113,
          0.05935,
          0.05855,
          0.06766,
          0.05581,
          0.06233,
          0.05955,
          0.07192,
          0.05852,
          0.0647,
          0.05715,
          0.061,
          0.05912,
          0.06031,
          0.05586,
          0.06556,
          0.06249,
          0.066,
          0.06243,
          0.05878,
          0.05894,
          0.06833,
          0.05335,
          0.05518,
          0.06128,
          0.05255,
          0.0614,
          0.061,
          0.07359,
          0.05673,
          0.05649,
          0.08743,
          0.05561,
          0.07279,
          0.06476,
          0.06129,
          0.05984,
          0.057,
          0.0607,
          0.0654,
          0.06028,
          0.06081,
          0.05945,
          0.07238,
          0.06331,
          0.06412,
          0.07125,
          0.06907,
          0.06506,
          0.07005,
          0.06048,
          0.05912,
          0.06372,
          0.06581,
          0.05731,
          0.06083,
          0.06184,
          0.06501,
          0.05883,
          0.06621,
          0.06959,
          0.05185,
          0.05696,
          0.06183,
          0.05593,
          0.05701,
          0.05916,
          0.05544,
          0.05669,
          0.06572,
          0.0845,
          0.05763,
          0.05897,
          0.06914,
          0.06246,
          0.06659,
          0.06588,
          0.05594,
          0.06154,
          0.05474,
          0.07252,
          0.06569,
          0.07098,
          0.06161,
          0.05764,
          0.06079,
          0.0575,
          0.06214,
          0.06019,
          0.05541,
          0.05899,
          0.062,
          0.05708,
          0.06615,
          0.05875,
          0.06114,
          0.05597,
          0.05913,
          0.0634,
          0.06724,
          0.05913,
          0.0629,
          0.06601,
          0.06275,
          0.06144,
          0.06267,
          0.07406,
          0.0632,
          0.06181,
          0.07029,
          0.06439,
          0.06915,
          0.05977,
          0.06148,
          0.05544,
          0.07102,
          0.05703,
          0.06347,
          0.05898,
          0.05673,
          0.05586,
          0.0664,
          0.05848,
          0.05768,
          0.0685,
          0.05886,
          0.05746,
          0.06612,
          0.06104,
          0.06121,
          0.05826,
          0.06016,
          0.06166,
          0.05584,
          0.05449,
          0.05952,
          0.05433,
          0.05859,
          0.05549,
          0.06432,
          0.0602,
          0.06412,
          0.07255,
          0.06413,
          0.05698,
          0.05669,
          0.0596,
          0.06837,
          0.05913,
          0.06009,
          0.05536,
          0.06574,
          0.06284,
          0.05594,
          0.06639,
          0.06088,
          0.06259,
          0.07325,
          0.05355,
          0.06401,
          0.05976,
          0.05243,
          0.06013,
          0.05888,
          0.05748,
          0.06854,
          0.06046,
          0.06869,
          0.06612,
          0.09502,
          0.09575,
          0.06894,
          0.07976,
          0.05657,
          0.06758,
          0.05348,
          0.0564,
          0.06211,
          0.07253,
          0.06623,
          0.07696,
          0.06343,
          0.06843,
          0.06891,
          0.07126,
          0.06317,
          0.05808,
          0.06457,
          0.06608,
          0.06677,
          0.06461,
          0.06155,
          0.06408,
          0.07405,
          0.07285,
          0.07751,
          0.06782,
          0.06341,
          0.0568,
          0.05781,
          0.06688,
          0.05801,
          0.06201,
          0.06714,
          0.06235,
          0.06328,
          0.05948,
          0.06552,
          0.05637,
          0.06576,
          0.05708,
          0.06127,
          0.06331,
          0.06059,
          0.06147,
          0.0657,
          0.06171,
          0.05502,
          0.05884,
          0.07259,
          0.08183,
          0.07773,
          0.06169,
          0.07409,
          0.08301,
          0.06917,
          0.06563,
          0.08025,
          0.07408,
          0.07036,
          0.06289,
          0.09026,
          0.0802,
          0.07712,
          0.0849,
          0.09211,
          0.06641,
          0.1175,
          0.0641,
          0.1084,
          0.07609,
          0.07191,
          0.07918,
          0.08851,
          0.1016,
          0.07924,
          0.09261,
          0.08473,
          0.07246,
          0.06206,
          0.06603,
          0.07376,
          0.08988,
          0.08756,
          0.09382,
          0.06878,
          0.0849,
          0.07552,
          0.09097,
          0.07185,
          0.08832,
          0.08468,
          0.08486,
          0.1082,
          0.09026,
          0.1017,
          0.08541,
          0.07722,
          0.08523,
          0.08006,
          0.07628,
          0.07182,
          0.07779,
          0.09241,
          0.07071,
          0.07343,
          0.06765,
          0.06784,
          0.08151,
          0.08096,
          0.08118,
          0.06769,
          0.1036,
          0.09218,
          0.07683,
          0.07014,
          0.06435,
          0.1486,
          0.1259,
          0.06772,
          0.08633,
          0.08132,
          0.05972,
          0.07898,
          0.07685,
          0.07987,
          0.09082,
          0.06085,
          0.07699,
          0.06428,
          0.06771,
          0.07313,
          0.06164,
          0.07848,
          0.1162,
          0.05843,
          0.07319,
          0.07427,
          0.07697,
          0.07097,
          0.06576,
          0.06306,
          0.06871,
          0.06559,
          0.06949,
          0.08174,
          0.0875,
          0.0738,
          0.1076,
          0.07474,
          0.07993,
          0.08365,
          0.07809,
          0.08718,
          0.08177,
          0.08797,
          0.07623,
          0.06072,
          0.08269,
          0.08362,
          0.09585,
          0.07087,
          0.07307,
          0.08178,
          0.07617,
          0.07796,
          0.0651,
          0.06783,
          0.1297,
          0.06321,
          0.07748,
          0.07198,
          0.1178,
          0.08147,
          0.07809,
          0.06487,
          0.07587,
          0.07024,
          0.07062,
          0.08701,
          0.0612,
          0.08022,
          0.08175,
          0.06033,
          0.06386,
          0.06263,
          0.06912,
          0.06688,
          0.07127,
          0.06431,
          0.09981,
          0.06915,
          0.07009,
          0.06994,
          0.08799,
          0.08472,
          0.09584,
          0.07007,
          0.06922,
          0.06794,
          0.06643,
          0.07676,
          0.06777,
          0.07764,
          0.07842,
          0.07638,
          0.06745,
          0.08385,
          0.07804,
          0.06192,
          0.0658,
          0.06958,
          0.05695,
          0.08253,
          0.07434,
          0.08116,
          0.06174,
          0.06037,
          0.1055,
          0.05932,
          0.09702,
          0.08553,
          0.07961,
          0.06888,
          0.07083,
          0.07037,
          0.09166,
          0.06522,
          0.07418,
          0.07207,
          0.1009,
          0.07664,
          0.08764,
          0.09825,
          0.0908,
          0.07806,
          0.08488,
          0.08083,
          0.08187,
          0.08763,
          0.0759,
          0.06825,
          0.07018,
          0.07188,
          0.08317,
          0.07113,
          0.07431,
          0.08136,
          0.05521,
          0.06658,
          0.07238,
          0.06469,
          0.07582,
          0.0747,
          0.06766,
          0.07701,
          0.0896,
          0.12,
          0.07061,
          0.09638,
          0.09215,
          0.07287,
          0.09349,
          0.1118,
          0.0732,
          0.08824,
          0.06623,
          0.1043,
          0.07722,
          0.08865,
          0.07081,
          0.06609,
          0.07686,
          0.07053,
          0.09158,
          0.08121,
          0.07262,
          0.07247,
          0.07834,
          0.05974,
          0.07732,
          0.07012,
          0.08151,
          0.06896,
          0.07745,
          0.07881,
          0.09206,
          0.09251,
          0.07351,
          0.08304,
          0.09464,
          0.07123,
          0.08284,
          0.09208,
          0.07427,
          0.08839,
          0.08009,
          0.08061,
          0.09646,
          0.07662,
          0.07083,
          0.06025,
          0.09359,
          0.06827,
          0.07735,
          0.07234,
          0.06911,
          0.0671,
          0.09532,
          0.0681,
          0.06736,
          0.08251,
          0.07285,
          0.07463,
          0.09952,
          0.08194,
          0.0781,
          0.0733,
          0.07675,
          0.0722,
          0.06788,
          0.06291,
          0.07211,
          0.06464,
          0.07863,
          0.06925,
          0.1249,
          0.08174,
          0.07875,
          0.0927,
          0.08524,
          0.06639,
          0.08273,
          0.06743,
          0.108,
          0.07802,
          0.07858,
          0.07698,
          0.0918,
          0.07729,
          0.07603,
          0.09326,
          0.0696,
          0.08181,
          0.1034,
          0.06596,
          0.08024,
          0.08203,
          0.05871,
          0.07028,
          0.07429,
          0.06599,
          0.1033,
          0.07661,
          0.08549,
          0.07538,
          0.1252,
          0.1364,
          0.08839,
          0.1168,
          0.0723,
          0.09879,
          0.06142,
          0.07048,
          0.06783,
          0.08893,
          0.08557,
          0.08982,
          0.07613,
          0.09031,
          0.09209,
          0.1049,
          0.08665,
          0.07592,
          0.07253,
          0.08052,
          0.07757,
          0.0895,
          0.07782,
          0.08278,
          0.0997,
          0.09938,
          0.1066,
          0.08134,
          0.1023,
          0.06956,
          0.06443,
          0.08492,
          0.06953,
          0.07399,
          0.09479,
          0.0792,
          0.07626,
          0.06592,
          0.08032,
          0.06484,
          0.07393,
          0.07242,
          0.08283,
          0.06742,
          0.06969,
          0.08004,
          0.08732,
          0.08321,
          0.05905,
          0.07039
         ],
         "y0": " ",
         "yaxis": "y"
        }
       ],
       "layout": {
        "boxmode": "group",
        "legend": {
         "title": {
          "text": "diagnosis"
         },
         "tracegroupgap": 0
        },
        "template": {
         "data": {
          "bar": [
           {
            "error_x": {
             "color": "#2a3f5f"
            },
            "error_y": {
             "color": "#2a3f5f"
            },
            "marker": {
             "line": {
              "color": "#E5ECF6",
              "width": 0.5
             },
             "pattern": {
              "fillmode": "overlay",
              "size": 10,
              "solidity": 0.2
             }
            },
            "type": "bar"
           }
          ],
          "barpolar": [
           {
            "marker": {
             "line": {
              "color": "#E5ECF6",
              "width": 0.5
             },
             "pattern": {
              "fillmode": "overlay",
              "size": 10,
              "solidity": 0.2
             }
            },
            "type": "barpolar"
           }
          ],
          "carpet": [
           {
            "aaxis": {
             "endlinecolor": "#2a3f5f",
             "gridcolor": "white",
             "linecolor": "white",
             "minorgridcolor": "white",
             "startlinecolor": "#2a3f5f"
            },
            "baxis": {
             "endlinecolor": "#2a3f5f",
             "gridcolor": "white",
             "linecolor": "white",
             "minorgridcolor": "white",
             "startlinecolor": "#2a3f5f"
            },
            "type": "carpet"
           }
          ],
          "choropleth": [
           {
            "colorbar": {
             "outlinewidth": 0,
             "ticks": ""
            },
            "type": "choropleth"
           }
          ],
          "contour": [
           {
            "colorbar": {
             "outlinewidth": 0,
             "ticks": ""
            },
            "colorscale": [
             [
              0,
              "#0d0887"
             ],
             [
              0.1111111111111111,
              "#46039f"
             ],
             [
              0.2222222222222222,
              "#7201a8"
             ],
             [
              0.3333333333333333,
              "#9c179e"
             ],
             [
              0.4444444444444444,
              "#bd3786"
             ],
             [
              0.5555555555555556,
              "#d8576b"
             ],
             [
              0.6666666666666666,
              "#ed7953"
             ],
             [
              0.7777777777777778,
              "#fb9f3a"
             ],
             [
              0.8888888888888888,
              "#fdca26"
             ],
             [
              1,
              "#f0f921"
             ]
            ],
            "type": "contour"
           }
          ],
          "contourcarpet": [
           {
            "colorbar": {
             "outlinewidth": 0,
             "ticks": ""
            },
            "type": "contourcarpet"
           }
          ],
          "heatmap": [
           {
            "colorbar": {
             "outlinewidth": 0,
             "ticks": ""
            },
            "colorscale": [
             [
              0,
              "#0d0887"
             ],
             [
              0.1111111111111111,
              "#46039f"
             ],
             [
              0.2222222222222222,
              "#7201a8"
             ],
             [
              0.3333333333333333,
              "#9c179e"
             ],
             [
              0.4444444444444444,
              "#bd3786"
             ],
             [
              0.5555555555555556,
              "#d8576b"
             ],
             [
              0.6666666666666666,
              "#ed7953"
             ],
             [
              0.7777777777777778,
              "#fb9f3a"
             ],
             [
              0.8888888888888888,
              "#fdca26"
             ],
             [
              1,
              "#f0f921"
             ]
            ],
            "type": "heatmap"
           }
          ],
          "heatmapgl": [
           {
            "colorbar": {
             "outlinewidth": 0,
             "ticks": ""
            },
            "colorscale": [
             [
              0,
              "#0d0887"
             ],
             [
              0.1111111111111111,
              "#46039f"
             ],
             [
              0.2222222222222222,
              "#7201a8"
             ],
             [
              0.3333333333333333,
              "#9c179e"
             ],
             [
              0.4444444444444444,
              "#bd3786"
             ],
             [
              0.5555555555555556,
              "#d8576b"
             ],
             [
              0.6666666666666666,
              "#ed7953"
             ],
             [
              0.7777777777777778,
              "#fb9f3a"
             ],
             [
              0.8888888888888888,
              "#fdca26"
             ],
             [
              1,
              "#f0f921"
             ]
            ],
            "type": "heatmapgl"
           }
          ],
          "histogram": [
           {
            "marker": {
             "pattern": {
              "fillmode": "overlay",
              "size": 10,
              "solidity": 0.2
             }
            },
            "type": "histogram"
           }
          ],
          "histogram2d": [
           {
            "colorbar": {
             "outlinewidth": 0,
             "ticks": ""
            },
            "colorscale": [
             [
              0,
              "#0d0887"
             ],
             [
              0.1111111111111111,
              "#46039f"
             ],
             [
              0.2222222222222222,
              "#7201a8"
             ],
             [
              0.3333333333333333,
              "#9c179e"
             ],
             [
              0.4444444444444444,
              "#bd3786"
             ],
             [
              0.5555555555555556,
              "#d8576b"
             ],
             [
              0.6666666666666666,
              "#ed7953"
             ],
             [
              0.7777777777777778,
              "#fb9f3a"
             ],
             [
              0.8888888888888888,
              "#fdca26"
             ],
             [
              1,
              "#f0f921"
             ]
            ],
            "type": "histogram2d"
           }
          ],
          "histogram2dcontour": [
           {
            "colorbar": {
             "outlinewidth": 0,
             "ticks": ""
            },
            "colorscale": [
             [
              0,
              "#0d0887"
             ],
             [
              0.1111111111111111,
              "#46039f"
             ],
             [
              0.2222222222222222,
              "#7201a8"
             ],
             [
              0.3333333333333333,
              "#9c179e"
             ],
             [
              0.4444444444444444,
              "#bd3786"
             ],
             [
              0.5555555555555556,
              "#d8576b"
             ],
             [
              0.6666666666666666,
              "#ed7953"
             ],
             [
              0.7777777777777778,
              "#fb9f3a"
             ],
             [
              0.8888888888888888,
              "#fdca26"
             ],
             [
              1,
              "#f0f921"
             ]
            ],
            "type": "histogram2dcontour"
           }
          ],
          "mesh3d": [
           {
            "colorbar": {
             "outlinewidth": 0,
             "ticks": ""
            },
            "type": "mesh3d"
           }
          ],
          "parcoords": [
           {
            "line": {
             "colorbar": {
              "outlinewidth": 0,
              "ticks": ""
             }
            },
            "type": "parcoords"
           }
          ],
          "pie": [
           {
            "automargin": true,
            "type": "pie"
           }
          ],
          "scatter": [
           {
            "fillpattern": {
             "fillmode": "overlay",
             "size": 10,
             "solidity": 0.2
            },
            "type": "scatter"
           }
          ],
          "scatter3d": [
           {
            "line": {
             "colorbar": {
              "outlinewidth": 0,
              "ticks": ""
             }
            },
            "marker": {
             "colorbar": {
              "outlinewidth": 0,
              "ticks": ""
             }
            },
            "type": "scatter3d"
           }
          ],
          "scattercarpet": [
           {
            "marker": {
             "colorbar": {
              "outlinewidth": 0,
              "ticks": ""
             }
            },
            "type": "scattercarpet"
           }
          ],
          "scattergeo": [
           {
            "marker": {
             "colorbar": {
              "outlinewidth": 0,
              "ticks": ""
             }
            },
            "type": "scattergeo"
           }
          ],
          "scattergl": [
           {
            "marker": {
             "colorbar": {
              "outlinewidth": 0,
              "ticks": ""
             }
            },
            "type": "scattergl"
           }
          ],
          "scattermapbox": [
           {
            "marker": {
             "colorbar": {
              "outlinewidth": 0,
              "ticks": ""
             }
            },
            "type": "scattermapbox"
           }
          ],
          "scatterpolar": [
           {
            "marker": {
             "colorbar": {
              "outlinewidth": 0,
              "ticks": ""
             }
            },
            "type": "scatterpolar"
           }
          ],
          "scatterpolargl": [
           {
            "marker": {
             "colorbar": {
              "outlinewidth": 0,
              "ticks": ""
             }
            },
            "type": "scatterpolargl"
           }
          ],
          "scatterternary": [
           {
            "marker": {
             "colorbar": {
              "outlinewidth": 0,
              "ticks": ""
             }
            },
            "type": "scatterternary"
           }
          ],
          "surface": [
           {
            "colorbar": {
             "outlinewidth": 0,
             "ticks": ""
            },
            "colorscale": [
             [
              0,
              "#0d0887"
             ],
             [
              0.1111111111111111,
              "#46039f"
             ],
             [
              0.2222222222222222,
              "#7201a8"
             ],
             [
              0.3333333333333333,
              "#9c179e"
             ],
             [
              0.4444444444444444,
              "#bd3786"
             ],
             [
              0.5555555555555556,
              "#d8576b"
             ],
             [
              0.6666666666666666,
              "#ed7953"
             ],
             [
              0.7777777777777778,
              "#fb9f3a"
             ],
             [
              0.8888888888888888,
              "#fdca26"
             ],
             [
              1,
              "#f0f921"
             ]
            ],
            "type": "surface"
           }
          ],
          "table": [
           {
            "cells": {
             "fill": {
              "color": "#EBF0F8"
             },
             "line": {
              "color": "white"
             }
            },
            "header": {
             "fill": {
              "color": "#C8D4E3"
             },
             "line": {
              "color": "white"
             }
            },
            "type": "table"
           }
          ]
         },
         "layout": {
          "annotationdefaults": {
           "arrowcolor": "#2a3f5f",
           "arrowhead": 0,
           "arrowwidth": 1
          },
          "autotypenumbers": "strict",
          "coloraxis": {
           "colorbar": {
            "outlinewidth": 0,
            "ticks": ""
           }
          },
          "colorscale": {
           "diverging": [
            [
             0,
             "#8e0152"
            ],
            [
             0.1,
             "#c51b7d"
            ],
            [
             0.2,
             "#de77ae"
            ],
            [
             0.3,
             "#f1b6da"
            ],
            [
             0.4,
             "#fde0ef"
            ],
            [
             0.5,
             "#f7f7f7"
            ],
            [
             0.6,
             "#e6f5d0"
            ],
            [
             0.7,
             "#b8e186"
            ],
            [
             0.8,
             "#7fbc41"
            ],
            [
             0.9,
             "#4d9221"
            ],
            [
             1,
             "#276419"
            ]
           ],
           "sequential": [
            [
             0,
             "#0d0887"
            ],
            [
             0.1111111111111111,
             "#46039f"
            ],
            [
             0.2222222222222222,
             "#7201a8"
            ],
            [
             0.3333333333333333,
             "#9c179e"
            ],
            [
             0.4444444444444444,
             "#bd3786"
            ],
            [
             0.5555555555555556,
             "#d8576b"
            ],
            [
             0.6666666666666666,
             "#ed7953"
            ],
            [
             0.7777777777777778,
             "#fb9f3a"
            ],
            [
             0.8888888888888888,
             "#fdca26"
            ],
            [
             1,
             "#f0f921"
            ]
           ],
           "sequentialminus": [
            [
             0,
             "#0d0887"
            ],
            [
             0.1111111111111111,
             "#46039f"
            ],
            [
             0.2222222222222222,
             "#7201a8"
            ],
            [
             0.3333333333333333,
             "#9c179e"
            ],
            [
             0.4444444444444444,
             "#bd3786"
            ],
            [
             0.5555555555555556,
             "#d8576b"
            ],
            [
             0.6666666666666666,
             "#ed7953"
            ],
            [
             0.7777777777777778,
             "#fb9f3a"
            ],
            [
             0.8888888888888888,
             "#fdca26"
            ],
            [
             1,
             "#f0f921"
            ]
           ]
          },
          "colorway": [
           "#636efa",
           "#EF553B",
           "#00cc96",
           "#ab63fa",
           "#FFA15A",
           "#19d3f3",
           "#FF6692",
           "#B6E880",
           "#FF97FF",
           "#FECB52"
          ],
          "font": {
           "color": "#2a3f5f"
          },
          "geo": {
           "bgcolor": "white",
           "lakecolor": "white",
           "landcolor": "#E5ECF6",
           "showlakes": true,
           "showland": true,
           "subunitcolor": "white"
          },
          "hoverlabel": {
           "align": "left"
          },
          "hovermode": "closest",
          "mapbox": {
           "style": "light"
          },
          "paper_bgcolor": "white",
          "plot_bgcolor": "#E5ECF6",
          "polar": {
           "angularaxis": {
            "gridcolor": "white",
            "linecolor": "white",
            "ticks": ""
           },
           "bgcolor": "#E5ECF6",
           "radialaxis": {
            "gridcolor": "white",
            "linecolor": "white",
            "ticks": ""
           }
          },
          "scene": {
           "xaxis": {
            "backgroundcolor": "#E5ECF6",
            "gridcolor": "white",
            "gridwidth": 2,
            "linecolor": "white",
            "showbackground": true,
            "ticks": "",
            "zerolinecolor": "white"
           },
           "yaxis": {
            "backgroundcolor": "#E5ECF6",
            "gridcolor": "white",
            "gridwidth": 2,
            "linecolor": "white",
            "showbackground": true,
            "ticks": "",
            "zerolinecolor": "white"
           },
           "zaxis": {
            "backgroundcolor": "#E5ECF6",
            "gridcolor": "white",
            "gridwidth": 2,
            "linecolor": "white",
            "showbackground": true,
            "ticks": "",
            "zerolinecolor": "white"
           }
          },
          "shapedefaults": {
           "line": {
            "color": "#2a3f5f"
           }
          },
          "ternary": {
           "aaxis": {
            "gridcolor": "white",
            "linecolor": "white",
            "ticks": ""
           },
           "baxis": {
            "gridcolor": "white",
            "linecolor": "white",
            "ticks": ""
           },
           "bgcolor": "#E5ECF6",
           "caxis": {
            "gridcolor": "white",
            "linecolor": "white",
            "ticks": ""
           }
          },
          "title": {
           "x": 0.05
          },
          "xaxis": {
           "automargin": true,
           "gridcolor": "white",
           "linecolor": "white",
           "ticks": "",
           "title": {
            "standoff": 15
           },
           "zerolinecolor": "white",
           "zerolinewidth": 2
          },
          "yaxis": {
           "automargin": true,
           "gridcolor": "white",
           "linecolor": "white",
           "ticks": "",
           "title": {
            "standoff": 15
           },
           "zerolinecolor": "white",
           "zerolinewidth": 2
          }
         }
        },
        "title": {
         "text": "Box Plot of Radius Mean and Texture Mean for Benign and Malignant Tumors"
        },
        "xaxis": {
         "anchor": "y",
         "domain": [
          0,
          1
         ],
         "title": {
          "text": "Variable"
         }
        },
        "yaxis": {
         "anchor": "x",
         "domain": [
          0,
          1
         ],
         "title": {
          "text": "Value"
         }
        }
       }
      },
      "text/html": [
       "<div>                            <div id=\"3fde95ad-1990-407e-bf28-cd9d0ab19e70\" class=\"plotly-graph-div\" style=\"height:525px; width:100%;\"></div>            <script type=\"text/javascript\">                require([\"plotly\"], function(Plotly) {                    window.PLOTLYENV=window.PLOTLYENV || {};                                    if (document.getElementById(\"3fde95ad-1990-407e-bf28-cd9d0ab19e70\")) {                    Plotly.newPlot(                        \"3fde95ad-1990-407e-bf28-cd9d0ab19e70\",                        [{\"alignmentgroup\":\"True\",\"hovertemplate\":\"diagnosis=Malignant<br>Variable=%{x}<br>Value=%{y}<extra></extra>\",\"legendgroup\":\"Malignant\",\"marker\":{\"color\":\"#636efa\"},\"name\":\"Malignant\",\"notched\":false,\"offsetgroup\":\"Malignant\",\"orientation\":\"v\",\"showlegend\":true,\"x\":[\"fractal_dimension_mean\",\"fractal_dimension_mean\",\"fractal_dimension_mean\",\"fractal_dimension_mean\",\"fractal_dimension_mean\",\"fractal_dimension_mean\",\"fractal_dimension_mean\",\"fractal_dimension_mean\",\"fractal_dimension_mean\",\"fractal_dimension_mean\",\"fractal_dimension_mean\",\"fractal_dimension_mean\",\"fractal_dimension_mean\",\"fractal_dimension_mean\",\"fractal_dimension_mean\",\"fractal_dimension_mean\",\"fractal_dimension_mean\",\"fractal_dimension_mean\",\"fractal_dimension_mean\",\"fractal_dimension_mean\",\"fractal_dimension_mean\",\"fractal_dimension_mean\",\"fractal_dimension_mean\",\"fractal_dimension_mean\",\"fractal_dimension_mean\",\"fractal_dimension_mean\",\"fractal_dimension_mean\",\"fractal_dimension_mean\",\"fractal_dimension_mean\",\"fractal_dimension_mean\",\"fractal_dimension_mean\",\"fractal_dimension_mean\",\"fractal_dimension_mean\",\"fractal_dimension_mean\",\"fractal_dimension_mean\",\"fractal_dimension_mean\",\"fractal_dimension_mean\",\"fractal_dimension_mean\",\"fractal_dimension_mean\",\"fractal_dimension_mean\",\"fractal_dimension_mean\",\"fractal_dimension_mean\",\"fractal_dimension_mean\",\"fractal_dimension_mean\",\"fractal_dimension_mean\",\"fractal_dimension_mean\",\"fractal_dimension_mean\",\"fractal_dimension_mean\",\"fractal_dimension_mean\",\"fractal_dimension_mean\",\"fractal_dimension_mean\",\"fractal_dimension_mean\",\"fractal_dimension_mean\",\"fractal_dimension_mean\",\"fractal_dimension_mean\",\"fractal_dimension_mean\",\"fractal_dimension_mean\",\"fractal_dimension_mean\",\"fractal_dimension_mean\",\"fractal_dimension_mean\",\"fractal_dimension_mean\",\"fractal_dimension_mean\",\"fractal_dimension_mean\",\"fractal_dimension_mean\",\"fractal_dimension_mean\",\"fractal_dimension_mean\",\"fractal_dimension_mean\",\"fractal_dimension_mean\",\"fractal_dimension_mean\",\"fractal_dimension_mean\",\"fractal_dimension_mean\",\"fractal_dimension_mean\",\"fractal_dimension_mean\",\"fractal_dimension_mean\",\"fractal_dimension_mean\",\"fractal_dimension_mean\",\"fractal_dimension_mean\",\"fractal_dimension_mean\",\"fractal_dimension_mean\",\"fractal_dimension_mean\",\"fractal_dimension_mean\",\"fractal_dimension_mean\",\"fractal_dimension_mean\",\"fractal_dimension_mean\",\"fractal_dimension_mean\",\"fractal_dimension_mean\",\"fractal_dimension_mean\",\"fractal_dimension_mean\",\"fractal_dimension_mean\",\"fractal_dimension_mean\",\"fractal_dimension_mean\",\"fractal_dimension_mean\",\"fractal_dimension_mean\",\"fractal_dimension_mean\",\"fractal_dimension_mean\",\"fractal_dimension_mean\",\"fractal_dimension_mean\",\"fractal_dimension_mean\",\"fractal_dimension_mean\",\"fractal_dimension_mean\",\"fractal_dimension_mean\",\"fractal_dimension_mean\",\"fractal_dimension_mean\",\"fractal_dimension_mean\",\"fractal_dimension_mean\",\"fractal_dimension_mean\",\"fractal_dimension_mean\",\"fractal_dimension_mean\",\"fractal_dimension_mean\",\"fractal_dimension_mean\",\"fractal_dimension_mean\",\"fractal_dimension_mean\",\"fractal_dimension_mean\",\"fractal_dimension_mean\",\"fractal_dimension_mean\",\"fractal_dimension_mean\",\"fractal_dimension_mean\",\"fractal_dimension_mean\",\"fractal_dimension_mean\",\"fractal_dimension_mean\",\"fractal_dimension_mean\",\"fractal_dimension_mean\",\"fractal_dimension_mean\",\"fractal_dimension_mean\",\"fractal_dimension_mean\",\"fractal_dimension_mean\",\"fractal_dimension_mean\",\"fractal_dimension_mean\",\"fractal_dimension_mean\",\"fractal_dimension_mean\",\"fractal_dimension_mean\",\"fractal_dimension_mean\",\"fractal_dimension_mean\",\"fractal_dimension_mean\",\"fractal_dimension_mean\",\"fractal_dimension_mean\",\"fractal_dimension_mean\",\"fractal_dimension_mean\",\"fractal_dimension_mean\",\"fractal_dimension_mean\",\"fractal_dimension_mean\",\"fractal_dimension_mean\",\"fractal_dimension_mean\",\"fractal_dimension_mean\",\"fractal_dimension_mean\",\"fractal_dimension_mean\",\"fractal_dimension_mean\",\"fractal_dimension_mean\",\"fractal_dimension_mean\",\"fractal_dimension_mean\",\"fractal_dimension_mean\",\"fractal_dimension_mean\",\"fractal_dimension_mean\",\"fractal_dimension_mean\",\"fractal_dimension_mean\",\"fractal_dimension_mean\",\"fractal_dimension_mean\",\"fractal_dimension_mean\",\"fractal_dimension_mean\",\"fractal_dimension_mean\",\"fractal_dimension_mean\",\"fractal_dimension_mean\",\"fractal_dimension_mean\",\"fractal_dimension_mean\",\"fractal_dimension_mean\",\"fractal_dimension_mean\",\"fractal_dimension_mean\",\"fractal_dimension_mean\",\"fractal_dimension_mean\",\"fractal_dimension_mean\",\"fractal_dimension_mean\",\"fractal_dimension_mean\",\"fractal_dimension_mean\",\"fractal_dimension_mean\",\"fractal_dimension_mean\",\"fractal_dimension_mean\",\"fractal_dimension_mean\",\"fractal_dimension_mean\",\"fractal_dimension_mean\",\"fractal_dimension_mean\",\"fractal_dimension_mean\",\"fractal_dimension_mean\",\"fractal_dimension_mean\",\"fractal_dimension_mean\",\"fractal_dimension_mean\",\"fractal_dimension_mean\",\"fractal_dimension_mean\",\"fractal_dimension_mean\",\"fractal_dimension_mean\",\"fractal_dimension_mean\",\"fractal_dimension_mean\",\"fractal_dimension_mean\",\"fractal_dimension_mean\",\"fractal_dimension_mean\",\"fractal_dimension_mean\",\"fractal_dimension_mean\",\"fractal_dimension_mean\",\"fractal_dimension_mean\",\"fractal_dimension_mean\",\"fractal_dimension_mean\",\"fractal_dimension_mean\",\"fractal_dimension_mean\",\"fractal_dimension_mean\",\"fractal_dimension_mean\",\"fractal_dimension_mean\",\"fractal_dimension_mean\",\"fractal_dimension_mean\",\"fractal_dimension_mean\",\"fractal_dimension_mean\",\"fractal_dimension_mean\",\"fractal_dimension_mean\",\"fractal_dimension_mean\",\"fractal_dimension_worst\",\"fractal_dimension_worst\",\"fractal_dimension_worst\",\"fractal_dimension_worst\",\"fractal_dimension_worst\",\"fractal_dimension_worst\",\"fractal_dimension_worst\",\"fractal_dimension_worst\",\"fractal_dimension_worst\",\"fractal_dimension_worst\",\"fractal_dimension_worst\",\"fractal_dimension_worst\",\"fractal_dimension_worst\",\"fractal_dimension_worst\",\"fractal_dimension_worst\",\"fractal_dimension_worst\",\"fractal_dimension_worst\",\"fractal_dimension_worst\",\"fractal_dimension_worst\",\"fractal_dimension_worst\",\"fractal_dimension_worst\",\"fractal_dimension_worst\",\"fractal_dimension_worst\",\"fractal_dimension_worst\",\"fractal_dimension_worst\",\"fractal_dimension_worst\",\"fractal_dimension_worst\",\"fractal_dimension_worst\",\"fractal_dimension_worst\",\"fractal_dimension_worst\",\"fractal_dimension_worst\",\"fractal_dimension_worst\",\"fractal_dimension_worst\",\"fractal_dimension_worst\",\"fractal_dimension_worst\",\"fractal_dimension_worst\",\"fractal_dimension_worst\",\"fractal_dimension_worst\",\"fractal_dimension_worst\",\"fractal_dimension_worst\",\"fractal_dimension_worst\",\"fractal_dimension_worst\",\"fractal_dimension_worst\",\"fractal_dimension_worst\",\"fractal_dimension_worst\",\"fractal_dimension_worst\",\"fractal_dimension_worst\",\"fractal_dimension_worst\",\"fractal_dimension_worst\",\"fractal_dimension_worst\",\"fractal_dimension_worst\",\"fractal_dimension_worst\",\"fractal_dimension_worst\",\"fractal_dimension_worst\",\"fractal_dimension_worst\",\"fractal_dimension_worst\",\"fractal_dimension_worst\",\"fractal_dimension_worst\",\"fractal_dimension_worst\",\"fractal_dimension_worst\",\"fractal_dimension_worst\",\"fractal_dimension_worst\",\"fractal_dimension_worst\",\"fractal_dimension_worst\",\"fractal_dimension_worst\",\"fractal_dimension_worst\",\"fractal_dimension_worst\",\"fractal_dimension_worst\",\"fractal_dimension_worst\",\"fractal_dimension_worst\",\"fractal_dimension_worst\",\"fractal_dimension_worst\",\"fractal_dimension_worst\",\"fractal_dimension_worst\",\"fractal_dimension_worst\",\"fractal_dimension_worst\",\"fractal_dimension_worst\",\"fractal_dimension_worst\",\"fractal_dimension_worst\",\"fractal_dimension_worst\",\"fractal_dimension_worst\",\"fractal_dimension_worst\",\"fractal_dimension_worst\",\"fractal_dimension_worst\",\"fractal_dimension_worst\",\"fractal_dimension_worst\",\"fractal_dimension_worst\",\"fractal_dimension_worst\",\"fractal_dimension_worst\",\"fractal_dimension_worst\",\"fractal_dimension_worst\",\"fractal_dimension_worst\",\"fractal_dimension_worst\",\"fractal_dimension_worst\",\"fractal_dimension_worst\",\"fractal_dimension_worst\",\"fractal_dimension_worst\",\"fractal_dimension_worst\",\"fractal_dimension_worst\",\"fractal_dimension_worst\",\"fractal_dimension_worst\",\"fractal_dimension_worst\",\"fractal_dimension_worst\",\"fractal_dimension_worst\",\"fractal_dimension_worst\",\"fractal_dimension_worst\",\"fractal_dimension_worst\",\"fractal_dimension_worst\",\"fractal_dimension_worst\",\"fractal_dimension_worst\",\"fractal_dimension_worst\",\"fractal_dimension_worst\",\"fractal_dimension_worst\",\"fractal_dimension_worst\",\"fractal_dimension_worst\",\"fractal_dimension_worst\",\"fractal_dimension_worst\",\"fractal_dimension_worst\",\"fractal_dimension_worst\",\"fractal_dimension_worst\",\"fractal_dimension_worst\",\"fractal_dimension_worst\",\"fractal_dimension_worst\",\"fractal_dimension_worst\",\"fractal_dimension_worst\",\"fractal_dimension_worst\",\"fractal_dimension_worst\",\"fractal_dimension_worst\",\"fractal_dimension_worst\",\"fractal_dimension_worst\",\"fractal_dimension_worst\",\"fractal_dimension_worst\",\"fractal_dimension_worst\",\"fractal_dimension_worst\",\"fractal_dimension_worst\",\"fractal_dimension_worst\",\"fractal_dimension_worst\",\"fractal_dimension_worst\",\"fractal_dimension_worst\",\"fractal_dimension_worst\",\"fractal_dimension_worst\",\"fractal_dimension_worst\",\"fractal_dimension_worst\",\"fractal_dimension_worst\",\"fractal_dimension_worst\",\"fractal_dimension_worst\",\"fractal_dimension_worst\",\"fractal_dimension_worst\",\"fractal_dimension_worst\",\"fractal_dimension_worst\",\"fractal_dimension_worst\",\"fractal_dimension_worst\",\"fractal_dimension_worst\",\"fractal_dimension_worst\",\"fractal_dimension_worst\",\"fractal_dimension_worst\",\"fractal_dimension_worst\",\"fractal_dimension_worst\",\"fractal_dimension_worst\",\"fractal_dimension_worst\",\"fractal_dimension_worst\",\"fractal_dimension_worst\",\"fractal_dimension_worst\",\"fractal_dimension_worst\",\"fractal_dimension_worst\",\"fractal_dimension_worst\",\"fractal_dimension_worst\",\"fractal_dimension_worst\",\"fractal_dimension_worst\",\"fractal_dimension_worst\",\"fractal_dimension_worst\",\"fractal_dimension_worst\",\"fractal_dimension_worst\",\"fractal_dimension_worst\",\"fractal_dimension_worst\",\"fractal_dimension_worst\",\"fractal_dimension_worst\",\"fractal_dimension_worst\",\"fractal_dimension_worst\",\"fractal_dimension_worst\",\"fractal_dimension_worst\",\"fractal_dimension_worst\",\"fractal_dimension_worst\",\"fractal_dimension_worst\",\"fractal_dimension_worst\",\"fractal_dimension_worst\",\"fractal_dimension_worst\",\"fractal_dimension_worst\",\"fractal_dimension_worst\",\"fractal_dimension_worst\",\"fractal_dimension_worst\",\"fractal_dimension_worst\",\"fractal_dimension_worst\",\"fractal_dimension_worst\",\"fractal_dimension_worst\",\"fractal_dimension_worst\",\"fractal_dimension_worst\",\"fractal_dimension_worst\",\"fractal_dimension_worst\",\"fractal_dimension_worst\",\"fractal_dimension_worst\",\"fractal_dimension_worst\",\"fractal_dimension_worst\",\"fractal_dimension_worst\",\"fractal_dimension_worst\",\"fractal_dimension_worst\",\"fractal_dimension_worst\",\"fractal_dimension_worst\",\"fractal_dimension_worst\",\"fractal_dimension_worst\",\"fractal_dimension_worst\",\"fractal_dimension_worst\"],\"x0\":\" \",\"xaxis\":\"x\",\"y\":[0.07871,0.05667,0.05999,0.09744,0.05883,0.07613,0.05742,0.07451,0.07389,0.08243,0.05697,0.06082,0.078,0.05338,0.07682,0.07077,0.05922,0.07356,0.05395,0.07032,0.05278,0.0633,0.07413,0.06924,0.05699,0.0654,0.06149,0.06197,0.07799,0.06382,0.06261,0.06515,0.05656,0.06125,0.05504,0.06419,0.05587,0.0687,0.06343,0.06782,0.06177,0.06049,0.06777,0.0631,0.05684,0.05961,0.06758,0.07292,0.0659,0.06654,0.05461,0.06487,0.06566,0.05391,0.06673,0.08142,0.06782,0.07224,0.06022,0.05636,0.05629,0.06097,0.06284,0.05649,0.0639,0.05871,0.07692,0.07039,0.06768,0.07331,0.05025,0.06213,0.06877,0.0613,0.05044,0.06113,0.05796,0.05891,0.05727,0.06065,0.06216,0.06248,0.07371,0.06166,0.05176,0.06082,0.05553,0.05534,0.06365,0.05671,0.07069,0.06323,0.0577,0.07398,0.05549,0.06317,0.05425,0.07542,0.06937,0.06672,0.06877,0.0534,0.05529,0.06466,0.05491,0.06229,0.07421,0.05986,0.05223,0.05024,0.05525,0.05866,0.06433,0.06916,0.05581,0.05313,0.06303,0.07254,0.06325,0.05592,0.06309,0.05177,0.05966,0.06,0.05898,0.06697,0.05613,0.05647,0.0613,0.06232,0.07596,0.08104,0.0665,0.05572,0.05307,0.05464,0.05443,0.0558,0.05674,0.06194,0.0551,0.04996,0.0622,0.05892,0.06684,0.06287,0.06552,0.07469,0.05664,0.05096,0.0667,0.06277,0.06532,0.05976,0.06071,0.06083,0.05506,0.05715,0.07603,0.06121,0.06464,0.05557,0.0602,0.05054,0.0614,0.06218,0.06183,0.05478,0.0795,0.05416,0.05884,0.06744,0.06606,0.07115,0.06069,0.05294,0.06864,0.06898,0.06053,0.06132,0.06544,0.05407,0.0578,0.05916,0.05661,0.05391,0.06281,0.05623,0.07369,0.06578,0.06115,0.05325,0.06077,0.06697,0.06222,0.07237,0.05484,0.07083,0.07325,0.05915,0.05941,0.06188,0.06739,0.05419,0.06251,0.05982,0.07152,0.06879,0.05623,0.05533,0.05648,0.07016,0.1189,0.08902,0.08758,0.173,0.07678,0.1244,0.08368,0.1151,0.1072,0.2075,0.08452,0.1048,0.1023,0.06287,0.1431,0.1341,0.08216,0.1142,0.07615,0.09946,0.07526,0.09564,0.1059,0.1275,0.07421,0.09876,0.07919,0.09782,0.1402,0.08482,0.1123,0.1233,0.08633,0.1014,0.05504,0.1071,0.07146,0.09606,0.1038,0.1027,0.09618,0.09185,0.1179,0.07987,0.07873,0.08294,0.1094,0.1132,0.1031,0.08911,0.06589,0.1339,0.103,0.06387,0.1108,0.09964,0.1051,0.09203,0.08579,0.06846,0.09288,0.06828,0.08234,0.08368,0.09353,0.07397,0.1405,0.09789,0.1065,0.1252,0.06111,0.08456,0.08009,0.079,0.06541,0.08465,0.08019,0.07619,0.0761,0.08067,0.07147,0.08158,0.103,0.07738,0.06251,0.09223,0.09187,0.07228,0.093,0.07371,0.101,0.09519,0.08082,0.1284,0.08631,0.09772,0.06938,0.1446,0.1205,0.08701,0.09333,0.06558,0.09221,0.1013,0.07867,0.08762,0.1086,0.0974,0.06469,0.05865,0.05525,0.06818,0.1026,0.1059,0.08255,0.07568,0.1064,0.1243,0.09061,0.08328,0.08677,0.07127,0.08496,0.07614,0.07849,0.1297,0.08113,0.0895,0.07957,0.1005,0.1191,0.1019,0.1204,0.07999,0.06515,0.07484,0.06829,0.0757,0.08218,0.08858,0.07948,0.05737,0.0972,0.07787,0.1063,0.06915,0.09929,0.09469,0.08198,0.05933,0.1024,0.082,0.07953,0.09124,0.07599,0.0987,0.07738,0.07918,0.105,0.08815,0.09438,0.06735,0.07632,0.06494,0.08574,0.09614,0.08666,0.07055,0.1403,0.06836,0.07602,0.1019,0.1007,0.1198,0.08503,0.06165,0.1048,0.1155,0.08075,0.08314,0.1055,0.07944,0.08225,0.09075,0.07425,0.06091,0.0906,0.07427,0.1224,0.09136,0.09009,0.07623,0.07625,0.09445,0.08999,0.1183,0.07277,0.1067,0.1109,0.06954,0.07863,0.09136,0.09671,0.06386,0.07569,0.08351,0.1409,0.09873,0.07115,0.06637,0.0782,0.124],\"y0\":\" \",\"yaxis\":\"y\",\"type\":\"box\"},{\"alignmentgroup\":\"True\",\"hovertemplate\":\"diagnosis=Benign<br>Variable=%{x}<br>Value=%{y}<extra></extra>\",\"legendgroup\":\"Benign\",\"marker\":{\"color\":\"#EF553B\"},\"name\":\"Benign\",\"notched\":false,\"offsetgroup\":\"Benign\",\"orientation\":\"v\",\"showlegend\":true,\"x\":[\"fractal_dimension_mean\",\"fractal_dimension_mean\",\"fractal_dimension_mean\",\"fractal_dimension_mean\",\"fractal_dimension_mean\",\"fractal_dimension_mean\",\"fractal_dimension_mean\",\"fractal_dimension_mean\",\"fractal_dimension_mean\",\"fractal_dimension_mean\",\"fractal_dimension_mean\",\"fractal_dimension_mean\",\"fractal_dimension_mean\",\"fractal_dimension_mean\",\"fractal_dimension_mean\",\"fractal_dimension_mean\",\"fractal_dimension_mean\",\"fractal_dimension_mean\",\"fractal_dimension_mean\",\"fractal_dimension_mean\",\"fractal_dimension_mean\",\"fractal_dimension_mean\",\"fractal_dimension_mean\",\"fractal_dimension_mean\",\"fractal_dimension_mean\",\"fractal_dimension_mean\",\"fractal_dimension_mean\",\"fractal_dimension_mean\",\"fractal_dimension_mean\",\"fractal_dimension_mean\",\"fractal_dimension_mean\",\"fractal_dimension_mean\",\"fractal_dimension_mean\",\"fractal_dimension_mean\",\"fractal_dimension_mean\",\"fractal_dimension_mean\",\"fractal_dimension_mean\",\"fractal_dimension_mean\",\"fractal_dimension_mean\",\"fractal_dimension_mean\",\"fractal_dimension_mean\",\"fractal_dimension_mean\",\"fractal_dimension_mean\",\"fractal_dimension_mean\",\"fractal_dimension_mean\",\"fractal_dimension_mean\",\"fractal_dimension_mean\",\"fractal_dimension_mean\",\"fractal_dimension_mean\",\"fractal_dimension_mean\",\"fractal_dimension_mean\",\"fractal_dimension_mean\",\"fractal_dimension_mean\",\"fractal_dimension_mean\",\"fractal_dimension_mean\",\"fractal_dimension_mean\",\"fractal_dimension_mean\",\"fractal_dimension_mean\",\"fractal_dimension_mean\",\"fractal_dimension_mean\",\"fractal_dimension_mean\",\"fractal_dimension_mean\",\"fractal_dimension_mean\",\"fractal_dimension_mean\",\"fractal_dimension_mean\",\"fractal_dimension_mean\",\"fractal_dimension_mean\",\"fractal_dimension_mean\",\"fractal_dimension_mean\",\"fractal_dimension_mean\",\"fractal_dimension_mean\",\"fractal_dimension_mean\",\"fractal_dimension_mean\",\"fractal_dimension_mean\",\"fractal_dimension_mean\",\"fractal_dimension_mean\",\"fractal_dimension_mean\",\"fractal_dimension_mean\",\"fractal_dimension_mean\",\"fractal_dimension_mean\",\"fractal_dimension_mean\",\"fractal_dimension_mean\",\"fractal_dimension_mean\",\"fractal_dimension_mean\",\"fractal_dimension_mean\",\"fractal_dimension_mean\",\"fractal_dimension_mean\",\"fractal_dimension_mean\",\"fractal_dimension_mean\",\"fractal_dimension_mean\",\"fractal_dimension_mean\",\"fractal_dimension_mean\",\"fractal_dimension_mean\",\"fractal_dimension_mean\",\"fractal_dimension_mean\",\"fractal_dimension_mean\",\"fractal_dimension_mean\",\"fractal_dimension_mean\",\"fractal_dimension_mean\",\"fractal_dimension_mean\",\"fractal_dimension_mean\",\"fractal_dimension_mean\",\"fractal_dimension_mean\",\"fractal_dimension_mean\",\"fractal_dimension_mean\",\"fractal_dimension_mean\",\"fractal_dimension_mean\",\"fractal_dimension_mean\",\"fractal_dimension_mean\",\"fractal_dimension_mean\",\"fractal_dimension_mean\",\"fractal_dimension_mean\",\"fractal_dimension_mean\",\"fractal_dimension_mean\",\"fractal_dimension_mean\",\"fractal_dimension_mean\",\"fractal_dimension_mean\",\"fractal_dimension_mean\",\"fractal_dimension_mean\",\"fractal_dimension_mean\",\"fractal_dimension_mean\",\"fractal_dimension_mean\",\"fractal_dimension_mean\",\"fractal_dimension_mean\",\"fractal_dimension_mean\",\"fractal_dimension_mean\",\"fractal_dimension_mean\",\"fractal_dimension_mean\",\"fractal_dimension_mean\",\"fractal_dimension_mean\",\"fractal_dimension_mean\",\"fractal_dimension_mean\",\"fractal_dimension_mean\",\"fractal_dimension_mean\",\"fractal_dimension_mean\",\"fractal_dimension_mean\",\"fractal_dimension_mean\",\"fractal_dimension_mean\",\"fractal_dimension_mean\",\"fractal_dimension_mean\",\"fractal_dimension_mean\",\"fractal_dimension_mean\",\"fractal_dimension_mean\",\"fractal_dimension_mean\",\"fractal_dimension_mean\",\"fractal_dimension_mean\",\"fractal_dimension_mean\",\"fractal_dimension_mean\",\"fractal_dimension_mean\",\"fractal_dimension_mean\",\"fractal_dimension_mean\",\"fractal_dimension_mean\",\"fractal_dimension_mean\",\"fractal_dimension_mean\",\"fractal_dimension_mean\",\"fractal_dimension_mean\",\"fractal_dimension_mean\",\"fractal_dimension_mean\",\"fractal_dimension_mean\",\"fractal_dimension_mean\",\"fractal_dimension_mean\",\"fractal_dimension_mean\",\"fractal_dimension_mean\",\"fractal_dimension_mean\",\"fractal_dimension_mean\",\"fractal_dimension_mean\",\"fractal_dimension_mean\",\"fractal_dimension_mean\",\"fractal_dimension_mean\",\"fractal_dimension_mean\",\"fractal_dimension_mean\",\"fractal_dimension_mean\",\"fractal_dimension_mean\",\"fractal_dimension_mean\",\"fractal_dimension_mean\",\"fractal_dimension_mean\",\"fractal_dimension_mean\",\"fractal_dimension_mean\",\"fractal_dimension_mean\",\"fractal_dimension_mean\",\"fractal_dimension_mean\",\"fractal_dimension_mean\",\"fractal_dimension_mean\",\"fractal_dimension_mean\",\"fractal_dimension_mean\",\"fractal_dimension_mean\",\"fractal_dimension_mean\",\"fractal_dimension_mean\",\"fractal_dimension_mean\",\"fractal_dimension_mean\",\"fractal_dimension_mean\",\"fractal_dimension_mean\",\"fractal_dimension_mean\",\"fractal_dimension_mean\",\"fractal_dimension_mean\",\"fractal_dimension_mean\",\"fractal_dimension_mean\",\"fractal_dimension_mean\",\"fractal_dimension_mean\",\"fractal_dimension_mean\",\"fractal_dimension_mean\",\"fractal_dimension_mean\",\"fractal_dimension_mean\",\"fractal_dimension_mean\",\"fractal_dimension_mean\",\"fractal_dimension_mean\",\"fractal_dimension_mean\",\"fractal_dimension_mean\",\"fractal_dimension_mean\",\"fractal_dimension_mean\",\"fractal_dimension_mean\",\"fractal_dimension_mean\",\"fractal_dimension_mean\",\"fractal_dimension_mean\",\"fractal_dimension_mean\",\"fractal_dimension_mean\",\"fractal_dimension_mean\",\"fractal_dimension_mean\",\"fractal_dimension_mean\",\"fractal_dimension_mean\",\"fractal_dimension_mean\",\"fractal_dimension_mean\",\"fractal_dimension_mean\",\"fractal_dimension_mean\",\"fractal_dimension_mean\",\"fractal_dimension_mean\",\"fractal_dimension_mean\",\"fractal_dimension_mean\",\"fractal_dimension_mean\",\"fractal_dimension_mean\",\"fractal_dimension_mean\",\"fractal_dimension_mean\",\"fractal_dimension_mean\",\"fractal_dimension_mean\",\"fractal_dimension_mean\",\"fractal_dimension_mean\",\"fractal_dimension_mean\",\"fractal_dimension_mean\",\"fractal_dimension_mean\",\"fractal_dimension_mean\",\"fractal_dimension_mean\",\"fractal_dimension_mean\",\"fractal_dimension_mean\",\"fractal_dimension_mean\",\"fractal_dimension_mean\",\"fractal_dimension_mean\",\"fractal_dimension_mean\",\"fractal_dimension_mean\",\"fractal_dimension_mean\",\"fractal_dimension_mean\",\"fractal_dimension_mean\",\"fractal_dimension_mean\",\"fractal_dimension_mean\",\"fractal_dimension_mean\",\"fractal_dimension_mean\",\"fractal_dimension_mean\",\"fractal_dimension_mean\",\"fractal_dimension_mean\",\"fractal_dimension_mean\",\"fractal_dimension_mean\",\"fractal_dimension_mean\",\"fractal_dimension_mean\",\"fractal_dimension_mean\",\"fractal_dimension_mean\",\"fractal_dimension_mean\",\"fractal_dimension_mean\",\"fractal_dimension_mean\",\"fractal_dimension_mean\",\"fractal_dimension_mean\",\"fractal_dimension_mean\",\"fractal_dimension_mean\",\"fractal_dimension_mean\",\"fractal_dimension_mean\",\"fractal_dimension_mean\",\"fractal_dimension_mean\",\"fractal_dimension_mean\",\"fractal_dimension_mean\",\"fractal_dimension_mean\",\"fractal_dimension_mean\",\"fractal_dimension_mean\",\"fractal_dimension_mean\",\"fractal_dimension_mean\",\"fractal_dimension_mean\",\"fractal_dimension_mean\",\"fractal_dimension_mean\",\"fractal_dimension_mean\",\"fractal_dimension_mean\",\"fractal_dimension_mean\",\"fractal_dimension_mean\",\"fractal_dimension_mean\",\"fractal_dimension_mean\",\"fractal_dimension_mean\",\"fractal_dimension_mean\",\"fractal_dimension_mean\",\"fractal_dimension_mean\",\"fractal_dimension_mean\",\"fractal_dimension_mean\",\"fractal_dimension_mean\",\"fractal_dimension_mean\",\"fractal_dimension_mean\",\"fractal_dimension_mean\",\"fractal_dimension_mean\",\"fractal_dimension_mean\",\"fractal_dimension_mean\",\"fractal_dimension_mean\",\"fractal_dimension_mean\",\"fractal_dimension_mean\",\"fractal_dimension_mean\",\"fractal_dimension_mean\",\"fractal_dimension_mean\",\"fractal_dimension_mean\",\"fractal_dimension_mean\",\"fractal_dimension_mean\",\"fractal_dimension_mean\",\"fractal_dimension_mean\",\"fractal_dimension_mean\",\"fractal_dimension_mean\",\"fractal_dimension_mean\",\"fractal_dimension_mean\",\"fractal_dimension_mean\",\"fractal_dimension_mean\",\"fractal_dimension_mean\",\"fractal_dimension_mean\",\"fractal_dimension_mean\",\"fractal_dimension_mean\",\"fractal_dimension_mean\",\"fractal_dimension_mean\",\"fractal_dimension_mean\",\"fractal_dimension_mean\",\"fractal_dimension_mean\",\"fractal_dimension_mean\",\"fractal_dimension_mean\",\"fractal_dimension_mean\",\"fractal_dimension_mean\",\"fractal_dimension_mean\",\"fractal_dimension_mean\",\"fractal_dimension_mean\",\"fractal_dimension_mean\",\"fractal_dimension_mean\",\"fractal_dimension_mean\",\"fractal_dimension_mean\",\"fractal_dimension_mean\",\"fractal_dimension_mean\",\"fractal_dimension_mean\",\"fractal_dimension_mean\",\"fractal_dimension_mean\",\"fractal_dimension_mean\",\"fractal_dimension_mean\",\"fractal_dimension_mean\",\"fractal_dimension_mean\",\"fractal_dimension_mean\",\"fractal_dimension_mean\",\"fractal_dimension_mean\",\"fractal_dimension_mean\",\"fractal_dimension_mean\",\"fractal_dimension_mean\",\"fractal_dimension_mean\",\"fractal_dimension_worst\",\"fractal_dimension_worst\",\"fractal_dimension_worst\",\"fractal_dimension_worst\",\"fractal_dimension_worst\",\"fractal_dimension_worst\",\"fractal_dimension_worst\",\"fractal_dimension_worst\",\"fractal_dimension_worst\",\"fractal_dimension_worst\",\"fractal_dimension_worst\",\"fractal_dimension_worst\",\"fractal_dimension_worst\",\"fractal_dimension_worst\",\"fractal_dimension_worst\",\"fractal_dimension_worst\",\"fractal_dimension_worst\",\"fractal_dimension_worst\",\"fractal_dimension_worst\",\"fractal_dimension_worst\",\"fractal_dimension_worst\",\"fractal_dimension_worst\",\"fractal_dimension_worst\",\"fractal_dimension_worst\",\"fractal_dimension_worst\",\"fractal_dimension_worst\",\"fractal_dimension_worst\",\"fractal_dimension_worst\",\"fractal_dimension_worst\",\"fractal_dimension_worst\",\"fractal_dimension_worst\",\"fractal_dimension_worst\",\"fractal_dimension_worst\",\"fractal_dimension_worst\",\"fractal_dimension_worst\",\"fractal_dimension_worst\",\"fractal_dimension_worst\",\"fractal_dimension_worst\",\"fractal_dimension_worst\",\"fractal_dimension_worst\",\"fractal_dimension_worst\",\"fractal_dimension_worst\",\"fractal_dimension_worst\",\"fractal_dimension_worst\",\"fractal_dimension_worst\",\"fractal_dimension_worst\",\"fractal_dimension_worst\",\"fractal_dimension_worst\",\"fractal_dimension_worst\",\"fractal_dimension_worst\",\"fractal_dimension_worst\",\"fractal_dimension_worst\",\"fractal_dimension_worst\",\"fractal_dimension_worst\",\"fractal_dimension_worst\",\"fractal_dimension_worst\",\"fractal_dimension_worst\",\"fractal_dimension_worst\",\"fractal_dimension_worst\",\"fractal_dimension_worst\",\"fractal_dimension_worst\",\"fractal_dimension_worst\",\"fractal_dimension_worst\",\"fractal_dimension_worst\",\"fractal_dimension_worst\",\"fractal_dimension_worst\",\"fractal_dimension_worst\",\"fractal_dimension_worst\",\"fractal_dimension_worst\",\"fractal_dimension_worst\",\"fractal_dimension_worst\",\"fractal_dimension_worst\",\"fractal_dimension_worst\",\"fractal_dimension_worst\",\"fractal_dimension_worst\",\"fractal_dimension_worst\",\"fractal_dimension_worst\",\"fractal_dimension_worst\",\"fractal_dimension_worst\",\"fractal_dimension_worst\",\"fractal_dimension_worst\",\"fractal_dimension_worst\",\"fractal_dimension_worst\",\"fractal_dimension_worst\",\"fractal_dimension_worst\",\"fractal_dimension_worst\",\"fractal_dimension_worst\",\"fractal_dimension_worst\",\"fractal_dimension_worst\",\"fractal_dimension_worst\",\"fractal_dimension_worst\",\"fractal_dimension_worst\",\"fractal_dimension_worst\",\"fractal_dimension_worst\",\"fractal_dimension_worst\",\"fractal_dimension_worst\",\"fractal_dimension_worst\",\"fractal_dimension_worst\",\"fractal_dimension_worst\",\"fractal_dimension_worst\",\"fractal_dimension_worst\",\"fractal_dimension_worst\",\"fractal_dimension_worst\",\"fractal_dimension_worst\",\"fractal_dimension_worst\",\"fractal_dimension_worst\",\"fractal_dimension_worst\",\"fractal_dimension_worst\",\"fractal_dimension_worst\",\"fractal_dimension_worst\",\"fractal_dimension_worst\",\"fractal_dimension_worst\",\"fractal_dimension_worst\",\"fractal_dimension_worst\",\"fractal_dimension_worst\",\"fractal_dimension_worst\",\"fractal_dimension_worst\",\"fractal_dimension_worst\",\"fractal_dimension_worst\",\"fractal_dimension_worst\",\"fractal_dimension_worst\",\"fractal_dimension_worst\",\"fractal_dimension_worst\",\"fractal_dimension_worst\",\"fractal_dimension_worst\",\"fractal_dimension_worst\",\"fractal_dimension_worst\",\"fractal_dimension_worst\",\"fractal_dimension_worst\",\"fractal_dimension_worst\",\"fractal_dimension_worst\",\"fractal_dimension_worst\",\"fractal_dimension_worst\",\"fractal_dimension_worst\",\"fractal_dimension_worst\",\"fractal_dimension_worst\",\"fractal_dimension_worst\",\"fractal_dimension_worst\",\"fractal_dimension_worst\",\"fractal_dimension_worst\",\"fractal_dimension_worst\",\"fractal_dimension_worst\",\"fractal_dimension_worst\",\"fractal_dimension_worst\",\"fractal_dimension_worst\",\"fractal_dimension_worst\",\"fractal_dimension_worst\",\"fractal_dimension_worst\",\"fractal_dimension_worst\",\"fractal_dimension_worst\",\"fractal_dimension_worst\",\"fractal_dimension_worst\",\"fractal_dimension_worst\",\"fractal_dimension_worst\",\"fractal_dimension_worst\",\"fractal_dimension_worst\",\"fractal_dimension_worst\",\"fractal_dimension_worst\",\"fractal_dimension_worst\",\"fractal_dimension_worst\",\"fractal_dimension_worst\",\"fractal_dimension_worst\",\"fractal_dimension_worst\",\"fractal_dimension_worst\",\"fractal_dimension_worst\",\"fractal_dimension_worst\",\"fractal_dimension_worst\",\"fractal_dimension_worst\",\"fractal_dimension_worst\",\"fractal_dimension_worst\",\"fractal_dimension_worst\",\"fractal_dimension_worst\",\"fractal_dimension_worst\",\"fractal_dimension_worst\",\"fractal_dimension_worst\",\"fractal_dimension_worst\",\"fractal_dimension_worst\",\"fractal_dimension_worst\",\"fractal_dimension_worst\",\"fractal_dimension_worst\",\"fractal_dimension_worst\",\"fractal_dimension_worst\",\"fractal_dimension_worst\",\"fractal_dimension_worst\",\"fractal_dimension_worst\",\"fractal_dimension_worst\",\"fractal_dimension_worst\",\"fractal_dimension_worst\",\"fractal_dimension_worst\",\"fractal_dimension_worst\",\"fractal_dimension_worst\",\"fractal_dimension_worst\",\"fractal_dimension_worst\",\"fractal_dimension_worst\",\"fractal_dimension_worst\",\"fractal_dimension_worst\",\"fractal_dimension_worst\",\"fractal_dimension_worst\",\"fractal_dimension_worst\",\"fractal_dimension_worst\",\"fractal_dimension_worst\",\"fractal_dimension_worst\",\"fractal_dimension_worst\",\"fractal_dimension_worst\",\"fractal_dimension_worst\",\"fractal_dimension_worst\",\"fractal_dimension_worst\",\"fractal_dimension_worst\",\"fractal_dimension_worst\",\"fractal_dimension_worst\",\"fractal_dimension_worst\",\"fractal_dimension_worst\",\"fractal_dimension_worst\",\"fractal_dimension_worst\",\"fractal_dimension_worst\",\"fractal_dimension_worst\",\"fractal_dimension_worst\",\"fractal_dimension_worst\",\"fractal_dimension_worst\",\"fractal_dimension_worst\",\"fractal_dimension_worst\",\"fractal_dimension_worst\",\"fractal_dimension_worst\",\"fractal_dimension_worst\",\"fractal_dimension_worst\",\"fractal_dimension_worst\",\"fractal_dimension_worst\",\"fractal_dimension_worst\",\"fractal_dimension_worst\",\"fractal_dimension_worst\",\"fractal_dimension_worst\",\"fractal_dimension_worst\",\"fractal_dimension_worst\",\"fractal_dimension_worst\",\"fractal_dimension_worst\",\"fractal_dimension_worst\",\"fractal_dimension_worst\",\"fractal_dimension_worst\",\"fractal_dimension_worst\",\"fractal_dimension_worst\",\"fractal_dimension_worst\",\"fractal_dimension_worst\",\"fractal_dimension_worst\",\"fractal_dimension_worst\",\"fractal_dimension_worst\",\"fractal_dimension_worst\",\"fractal_dimension_worst\",\"fractal_dimension_worst\",\"fractal_dimension_worst\",\"fractal_dimension_worst\",\"fractal_dimension_worst\",\"fractal_dimension_worst\",\"fractal_dimension_worst\",\"fractal_dimension_worst\",\"fractal_dimension_worst\",\"fractal_dimension_worst\",\"fractal_dimension_worst\",\"fractal_dimension_worst\",\"fractal_dimension_worst\",\"fractal_dimension_worst\",\"fractal_dimension_worst\",\"fractal_dimension_worst\",\"fractal_dimension_worst\",\"fractal_dimension_worst\",\"fractal_dimension_worst\",\"fractal_dimension_worst\",\"fractal_dimension_worst\",\"fractal_dimension_worst\",\"fractal_dimension_worst\",\"fractal_dimension_worst\",\"fractal_dimension_worst\",\"fractal_dimension_worst\",\"fractal_dimension_worst\",\"fractal_dimension_worst\",\"fractal_dimension_worst\",\"fractal_dimension_worst\",\"fractal_dimension_worst\",\"fractal_dimension_worst\",\"fractal_dimension_worst\",\"fractal_dimension_worst\",\"fractal_dimension_worst\",\"fractal_dimension_worst\",\"fractal_dimension_worst\",\"fractal_dimension_worst\",\"fractal_dimension_worst\",\"fractal_dimension_worst\",\"fractal_dimension_worst\",\"fractal_dimension_worst\",\"fractal_dimension_worst\",\"fractal_dimension_worst\",\"fractal_dimension_worst\",\"fractal_dimension_worst\",\"fractal_dimension_worst\",\"fractal_dimension_worst\",\"fractal_dimension_worst\",\"fractal_dimension_worst\",\"fractal_dimension_worst\",\"fractal_dimension_worst\",\"fractal_dimension_worst\",\"fractal_dimension_worst\",\"fractal_dimension_worst\",\"fractal_dimension_worst\",\"fractal_dimension_worst\",\"fractal_dimension_worst\",\"fractal_dimension_worst\",\"fractal_dimension_worst\",\"fractal_dimension_worst\",\"fractal_dimension_worst\",\"fractal_dimension_worst\",\"fractal_dimension_worst\",\"fractal_dimension_worst\",\"fractal_dimension_worst\",\"fractal_dimension_worst\",\"fractal_dimension_worst\",\"fractal_dimension_worst\",\"fractal_dimension_worst\",\"fractal_dimension_worst\",\"fractal_dimension_worst\",\"fractal_dimension_worst\",\"fractal_dimension_worst\",\"fractal_dimension_worst\",\"fractal_dimension_worst\",\"fractal_dimension_worst\",\"fractal_dimension_worst\",\"fractal_dimension_worst\",\"fractal_dimension_worst\",\"fractal_dimension_worst\",\"fractal_dimension_worst\",\"fractal_dimension_worst\",\"fractal_dimension_worst\",\"fractal_dimension_worst\",\"fractal_dimension_worst\",\"fractal_dimension_worst\",\"fractal_dimension_worst\",\"fractal_dimension_worst\",\"fractal_dimension_worst\",\"fractal_dimension_worst\",\"fractal_dimension_worst\",\"fractal_dimension_worst\",\"fractal_dimension_worst\",\"fractal_dimension_worst\",\"fractal_dimension_worst\",\"fractal_dimension_worst\",\"fractal_dimension_worst\",\"fractal_dimension_worst\",\"fractal_dimension_worst\",\"fractal_dimension_worst\",\"fractal_dimension_worst\",\"fractal_dimension_worst\",\"fractal_dimension_worst\",\"fractal_dimension_worst\",\"fractal_dimension_worst\",\"fractal_dimension_worst\",\"fractal_dimension_worst\",\"fractal_dimension_worst\",\"fractal_dimension_worst\",\"fractal_dimension_worst\"],\"x0\":\" \",\"xaxis\":\"x\",\"y\":[0.05766,0.06811,0.06905,0.05863,0.06503,0.06043,0.05718,0.05888,0.05953,0.0611,0.05907,0.05501,0.07187,0.0696,0.06757,0.06963,0.06899,0.05667,0.08046,0.05653,0.0898,0.05914,0.06641,0.05997,0.07005,0.06902,0.05968,0.06404,0.06346,0.05866,0.05318,0.0571,0.06635,0.0689,0.06582,0.07818,0.05677,0.06322,0.06481,0.0652,0.06066,0.06529,0.07065,0.0707,0.07769,0.07782,0.07633,0.06194,0.07163,0.06113,0.06402,0.05823,0.0589,0.06467,0.06471,0.05723,0.05945,0.05865,0.06072,0.06422,0.06562,0.06235,0.05688,0.07839,0.06493,0.06081,0.0558,0.06087,0.08261,0.09296,0.06105,0.06207,0.06228,0.05268,0.05907,0.05743,0.06453,0.06761,0.05266,0.064,0.0565,0.05955,0.06669,0.05975,0.06724,0.08116,0.05234,0.06133,0.06217,0.06048,0.06095,0.0578,0.05474,0.06287,0.06447,0.05667,0.06013,0.06373,0.06285,0.0731,0.05526,0.06057,0.06314,0.06315,0.06344,0.06303,0.06908,0.05674,0.05448,0.0645,0.05907,0.06019,0.05628,0.05828,0.06403,0.05835,0.06129,0.0566,0.05754,0.07669,0.05429,0.0644,0.05635,0.06409,0.06329,0.06168,0.05934,0.06491,0.05859,0.05769,0.06862,0.05376,0.0627,0.06312,0.05875,0.05821,0.0552,0.05853,0.06113,0.05935,0.05855,0.06766,0.05581,0.06233,0.05955,0.07192,0.05852,0.0647,0.05715,0.061,0.05912,0.06031,0.05586,0.06556,0.06249,0.066,0.06243,0.05878,0.05894,0.06833,0.05335,0.05518,0.06128,0.05255,0.0614,0.061,0.07359,0.05673,0.05649,0.08743,0.05561,0.07279,0.06476,0.06129,0.05984,0.057,0.0607,0.0654,0.06028,0.06081,0.05945,0.07238,0.06331,0.06412,0.07125,0.06907,0.06506,0.07005,0.06048,0.05912,0.06372,0.06581,0.05731,0.06083,0.06184,0.06501,0.05883,0.06621,0.06959,0.05185,0.05696,0.06183,0.05593,0.05701,0.05916,0.05544,0.05669,0.06572,0.0845,0.05763,0.05897,0.06914,0.06246,0.06659,0.06588,0.05594,0.06154,0.05474,0.07252,0.06569,0.07098,0.06161,0.05764,0.06079,0.0575,0.06214,0.06019,0.05541,0.05899,0.062,0.05708,0.06615,0.05875,0.06114,0.05597,0.05913,0.0634,0.06724,0.05913,0.0629,0.06601,0.06275,0.06144,0.06267,0.07406,0.0632,0.06181,0.07029,0.06439,0.06915,0.05977,0.06148,0.05544,0.07102,0.05703,0.06347,0.05898,0.05673,0.05586,0.0664,0.05848,0.05768,0.0685,0.05886,0.05746,0.06612,0.06104,0.06121,0.05826,0.06016,0.06166,0.05584,0.05449,0.05952,0.05433,0.05859,0.05549,0.06432,0.0602,0.06412,0.07255,0.06413,0.05698,0.05669,0.0596,0.06837,0.05913,0.06009,0.05536,0.06574,0.06284,0.05594,0.06639,0.06088,0.06259,0.07325,0.05355,0.06401,0.05976,0.05243,0.06013,0.05888,0.05748,0.06854,0.06046,0.06869,0.06612,0.09502,0.09575,0.06894,0.07976,0.05657,0.06758,0.05348,0.0564,0.06211,0.07253,0.06623,0.07696,0.06343,0.06843,0.06891,0.07126,0.06317,0.05808,0.06457,0.06608,0.06677,0.06461,0.06155,0.06408,0.07405,0.07285,0.07751,0.06782,0.06341,0.0568,0.05781,0.06688,0.05801,0.06201,0.06714,0.06235,0.06328,0.05948,0.06552,0.05637,0.06576,0.05708,0.06127,0.06331,0.06059,0.06147,0.0657,0.06171,0.05502,0.05884,0.07259,0.08183,0.07773,0.06169,0.07409,0.08301,0.06917,0.06563,0.08025,0.07408,0.07036,0.06289,0.09026,0.0802,0.07712,0.0849,0.09211,0.06641,0.1175,0.0641,0.1084,0.07609,0.07191,0.07918,0.08851,0.1016,0.07924,0.09261,0.08473,0.07246,0.06206,0.06603,0.07376,0.08988,0.08756,0.09382,0.06878,0.0849,0.07552,0.09097,0.07185,0.08832,0.08468,0.08486,0.1082,0.09026,0.1017,0.08541,0.07722,0.08523,0.08006,0.07628,0.07182,0.07779,0.09241,0.07071,0.07343,0.06765,0.06784,0.08151,0.08096,0.08118,0.06769,0.1036,0.09218,0.07683,0.07014,0.06435,0.1486,0.1259,0.06772,0.08633,0.08132,0.05972,0.07898,0.07685,0.07987,0.09082,0.06085,0.07699,0.06428,0.06771,0.07313,0.06164,0.07848,0.1162,0.05843,0.07319,0.07427,0.07697,0.07097,0.06576,0.06306,0.06871,0.06559,0.06949,0.08174,0.0875,0.0738,0.1076,0.07474,0.07993,0.08365,0.07809,0.08718,0.08177,0.08797,0.07623,0.06072,0.08269,0.08362,0.09585,0.07087,0.07307,0.08178,0.07617,0.07796,0.0651,0.06783,0.1297,0.06321,0.07748,0.07198,0.1178,0.08147,0.07809,0.06487,0.07587,0.07024,0.07062,0.08701,0.0612,0.08022,0.08175,0.06033,0.06386,0.06263,0.06912,0.06688,0.07127,0.06431,0.09981,0.06915,0.07009,0.06994,0.08799,0.08472,0.09584,0.07007,0.06922,0.06794,0.06643,0.07676,0.06777,0.07764,0.07842,0.07638,0.06745,0.08385,0.07804,0.06192,0.0658,0.06958,0.05695,0.08253,0.07434,0.08116,0.06174,0.06037,0.1055,0.05932,0.09702,0.08553,0.07961,0.06888,0.07083,0.07037,0.09166,0.06522,0.07418,0.07207,0.1009,0.07664,0.08764,0.09825,0.0908,0.07806,0.08488,0.08083,0.08187,0.08763,0.0759,0.06825,0.07018,0.07188,0.08317,0.07113,0.07431,0.08136,0.05521,0.06658,0.07238,0.06469,0.07582,0.0747,0.06766,0.07701,0.0896,0.12,0.07061,0.09638,0.09215,0.07287,0.09349,0.1118,0.0732,0.08824,0.06623,0.1043,0.07722,0.08865,0.07081,0.06609,0.07686,0.07053,0.09158,0.08121,0.07262,0.07247,0.07834,0.05974,0.07732,0.07012,0.08151,0.06896,0.07745,0.07881,0.09206,0.09251,0.07351,0.08304,0.09464,0.07123,0.08284,0.09208,0.07427,0.08839,0.08009,0.08061,0.09646,0.07662,0.07083,0.06025,0.09359,0.06827,0.07735,0.07234,0.06911,0.0671,0.09532,0.0681,0.06736,0.08251,0.07285,0.07463,0.09952,0.08194,0.0781,0.0733,0.07675,0.0722,0.06788,0.06291,0.07211,0.06464,0.07863,0.06925,0.1249,0.08174,0.07875,0.0927,0.08524,0.06639,0.08273,0.06743,0.108,0.07802,0.07858,0.07698,0.0918,0.07729,0.07603,0.09326,0.0696,0.08181,0.1034,0.06596,0.08024,0.08203,0.05871,0.07028,0.07429,0.06599,0.1033,0.07661,0.08549,0.07538,0.1252,0.1364,0.08839,0.1168,0.0723,0.09879,0.06142,0.07048,0.06783,0.08893,0.08557,0.08982,0.07613,0.09031,0.09209,0.1049,0.08665,0.07592,0.07253,0.08052,0.07757,0.0895,0.07782,0.08278,0.0997,0.09938,0.1066,0.08134,0.1023,0.06956,0.06443,0.08492,0.06953,0.07399,0.09479,0.0792,0.07626,0.06592,0.08032,0.06484,0.07393,0.07242,0.08283,0.06742,0.06969,0.08004,0.08732,0.08321,0.05905,0.07039],\"y0\":\" \",\"yaxis\":\"y\",\"type\":\"box\"}],                        {\"template\":{\"data\":{\"histogram2dcontour\":[{\"type\":\"histogram2dcontour\",\"colorbar\":{\"outlinewidth\":0,\"ticks\":\"\"},\"colorscale\":[[0.0,\"#0d0887\"],[0.1111111111111111,\"#46039f\"],[0.2222222222222222,\"#7201a8\"],[0.3333333333333333,\"#9c179e\"],[0.4444444444444444,\"#bd3786\"],[0.5555555555555556,\"#d8576b\"],[0.6666666666666666,\"#ed7953\"],[0.7777777777777778,\"#fb9f3a\"],[0.8888888888888888,\"#fdca26\"],[1.0,\"#f0f921\"]]}],\"choropleth\":[{\"type\":\"choropleth\",\"colorbar\":{\"outlinewidth\":0,\"ticks\":\"\"}}],\"histogram2d\":[{\"type\":\"histogram2d\",\"colorbar\":{\"outlinewidth\":0,\"ticks\":\"\"},\"colorscale\":[[0.0,\"#0d0887\"],[0.1111111111111111,\"#46039f\"],[0.2222222222222222,\"#7201a8\"],[0.3333333333333333,\"#9c179e\"],[0.4444444444444444,\"#bd3786\"],[0.5555555555555556,\"#d8576b\"],[0.6666666666666666,\"#ed7953\"],[0.7777777777777778,\"#fb9f3a\"],[0.8888888888888888,\"#fdca26\"],[1.0,\"#f0f921\"]]}],\"heatmap\":[{\"type\":\"heatmap\",\"colorbar\":{\"outlinewidth\":0,\"ticks\":\"\"},\"colorscale\":[[0.0,\"#0d0887\"],[0.1111111111111111,\"#46039f\"],[0.2222222222222222,\"#7201a8\"],[0.3333333333333333,\"#9c179e\"],[0.4444444444444444,\"#bd3786\"],[0.5555555555555556,\"#d8576b\"],[0.6666666666666666,\"#ed7953\"],[0.7777777777777778,\"#fb9f3a\"],[0.8888888888888888,\"#fdca26\"],[1.0,\"#f0f921\"]]}],\"heatmapgl\":[{\"type\":\"heatmapgl\",\"colorbar\":{\"outlinewidth\":0,\"ticks\":\"\"},\"colorscale\":[[0.0,\"#0d0887\"],[0.1111111111111111,\"#46039f\"],[0.2222222222222222,\"#7201a8\"],[0.3333333333333333,\"#9c179e\"],[0.4444444444444444,\"#bd3786\"],[0.5555555555555556,\"#d8576b\"],[0.6666666666666666,\"#ed7953\"],[0.7777777777777778,\"#fb9f3a\"],[0.8888888888888888,\"#fdca26\"],[1.0,\"#f0f921\"]]}],\"contourcarpet\":[{\"type\":\"contourcarpet\",\"colorbar\":{\"outlinewidth\":0,\"ticks\":\"\"}}],\"contour\":[{\"type\":\"contour\",\"colorbar\":{\"outlinewidth\":0,\"ticks\":\"\"},\"colorscale\":[[0.0,\"#0d0887\"],[0.1111111111111111,\"#46039f\"],[0.2222222222222222,\"#7201a8\"],[0.3333333333333333,\"#9c179e\"],[0.4444444444444444,\"#bd3786\"],[0.5555555555555556,\"#d8576b\"],[0.6666666666666666,\"#ed7953\"],[0.7777777777777778,\"#fb9f3a\"],[0.8888888888888888,\"#fdca26\"],[1.0,\"#f0f921\"]]}],\"surface\":[{\"type\":\"surface\",\"colorbar\":{\"outlinewidth\":0,\"ticks\":\"\"},\"colorscale\":[[0.0,\"#0d0887\"],[0.1111111111111111,\"#46039f\"],[0.2222222222222222,\"#7201a8\"],[0.3333333333333333,\"#9c179e\"],[0.4444444444444444,\"#bd3786\"],[0.5555555555555556,\"#d8576b\"],[0.6666666666666666,\"#ed7953\"],[0.7777777777777778,\"#fb9f3a\"],[0.8888888888888888,\"#fdca26\"],[1.0,\"#f0f921\"]]}],\"mesh3d\":[{\"type\":\"mesh3d\",\"colorbar\":{\"outlinewidth\":0,\"ticks\":\"\"}}],\"scatter\":[{\"fillpattern\":{\"fillmode\":\"overlay\",\"size\":10,\"solidity\":0.2},\"type\":\"scatter\"}],\"parcoords\":[{\"type\":\"parcoords\",\"line\":{\"colorbar\":{\"outlinewidth\":0,\"ticks\":\"\"}}}],\"scatterpolargl\":[{\"type\":\"scatterpolargl\",\"marker\":{\"colorbar\":{\"outlinewidth\":0,\"ticks\":\"\"}}}],\"bar\":[{\"error_x\":{\"color\":\"#2a3f5f\"},\"error_y\":{\"color\":\"#2a3f5f\"},\"marker\":{\"line\":{\"color\":\"#E5ECF6\",\"width\":0.5},\"pattern\":{\"fillmode\":\"overlay\",\"size\":10,\"solidity\":0.2}},\"type\":\"bar\"}],\"scattergeo\":[{\"type\":\"scattergeo\",\"marker\":{\"colorbar\":{\"outlinewidth\":0,\"ticks\":\"\"}}}],\"scatterpolar\":[{\"type\":\"scatterpolar\",\"marker\":{\"colorbar\":{\"outlinewidth\":0,\"ticks\":\"\"}}}],\"histogram\":[{\"marker\":{\"pattern\":{\"fillmode\":\"overlay\",\"size\":10,\"solidity\":0.2}},\"type\":\"histogram\"}],\"scattergl\":[{\"type\":\"scattergl\",\"marker\":{\"colorbar\":{\"outlinewidth\":0,\"ticks\":\"\"}}}],\"scatter3d\":[{\"type\":\"scatter3d\",\"line\":{\"colorbar\":{\"outlinewidth\":0,\"ticks\":\"\"}},\"marker\":{\"colorbar\":{\"outlinewidth\":0,\"ticks\":\"\"}}}],\"scattermapbox\":[{\"type\":\"scattermapbox\",\"marker\":{\"colorbar\":{\"outlinewidth\":0,\"ticks\":\"\"}}}],\"scatterternary\":[{\"type\":\"scatterternary\",\"marker\":{\"colorbar\":{\"outlinewidth\":0,\"ticks\":\"\"}}}],\"scattercarpet\":[{\"type\":\"scattercarpet\",\"marker\":{\"colorbar\":{\"outlinewidth\":0,\"ticks\":\"\"}}}],\"carpet\":[{\"aaxis\":{\"endlinecolor\":\"#2a3f5f\",\"gridcolor\":\"white\",\"linecolor\":\"white\",\"minorgridcolor\":\"white\",\"startlinecolor\":\"#2a3f5f\"},\"baxis\":{\"endlinecolor\":\"#2a3f5f\",\"gridcolor\":\"white\",\"linecolor\":\"white\",\"minorgridcolor\":\"white\",\"startlinecolor\":\"#2a3f5f\"},\"type\":\"carpet\"}],\"table\":[{\"cells\":{\"fill\":{\"color\":\"#EBF0F8\"},\"line\":{\"color\":\"white\"}},\"header\":{\"fill\":{\"color\":\"#C8D4E3\"},\"line\":{\"color\":\"white\"}},\"type\":\"table\"}],\"barpolar\":[{\"marker\":{\"line\":{\"color\":\"#E5ECF6\",\"width\":0.5},\"pattern\":{\"fillmode\":\"overlay\",\"size\":10,\"solidity\":0.2}},\"type\":\"barpolar\"}],\"pie\":[{\"automargin\":true,\"type\":\"pie\"}]},\"layout\":{\"autotypenumbers\":\"strict\",\"colorway\":[\"#636efa\",\"#EF553B\",\"#00cc96\",\"#ab63fa\",\"#FFA15A\",\"#19d3f3\",\"#FF6692\",\"#B6E880\",\"#FF97FF\",\"#FECB52\"],\"font\":{\"color\":\"#2a3f5f\"},\"hovermode\":\"closest\",\"hoverlabel\":{\"align\":\"left\"},\"paper_bgcolor\":\"white\",\"plot_bgcolor\":\"#E5ECF6\",\"polar\":{\"bgcolor\":\"#E5ECF6\",\"angularaxis\":{\"gridcolor\":\"white\",\"linecolor\":\"white\",\"ticks\":\"\"},\"radialaxis\":{\"gridcolor\":\"white\",\"linecolor\":\"white\",\"ticks\":\"\"}},\"ternary\":{\"bgcolor\":\"#E5ECF6\",\"aaxis\":{\"gridcolor\":\"white\",\"linecolor\":\"white\",\"ticks\":\"\"},\"baxis\":{\"gridcolor\":\"white\",\"linecolor\":\"white\",\"ticks\":\"\"},\"caxis\":{\"gridcolor\":\"white\",\"linecolor\":\"white\",\"ticks\":\"\"}},\"coloraxis\":{\"colorbar\":{\"outlinewidth\":0,\"ticks\":\"\"}},\"colorscale\":{\"sequential\":[[0.0,\"#0d0887\"],[0.1111111111111111,\"#46039f\"],[0.2222222222222222,\"#7201a8\"],[0.3333333333333333,\"#9c179e\"],[0.4444444444444444,\"#bd3786\"],[0.5555555555555556,\"#d8576b\"],[0.6666666666666666,\"#ed7953\"],[0.7777777777777778,\"#fb9f3a\"],[0.8888888888888888,\"#fdca26\"],[1.0,\"#f0f921\"]],\"sequentialminus\":[[0.0,\"#0d0887\"],[0.1111111111111111,\"#46039f\"],[0.2222222222222222,\"#7201a8\"],[0.3333333333333333,\"#9c179e\"],[0.4444444444444444,\"#bd3786\"],[0.5555555555555556,\"#d8576b\"],[0.6666666666666666,\"#ed7953\"],[0.7777777777777778,\"#fb9f3a\"],[0.8888888888888888,\"#fdca26\"],[1.0,\"#f0f921\"]],\"diverging\":[[0,\"#8e0152\"],[0.1,\"#c51b7d\"],[0.2,\"#de77ae\"],[0.3,\"#f1b6da\"],[0.4,\"#fde0ef\"],[0.5,\"#f7f7f7\"],[0.6,\"#e6f5d0\"],[0.7,\"#b8e186\"],[0.8,\"#7fbc41\"],[0.9,\"#4d9221\"],[1,\"#276419\"]]},\"xaxis\":{\"gridcolor\":\"white\",\"linecolor\":\"white\",\"ticks\":\"\",\"title\":{\"standoff\":15},\"zerolinecolor\":\"white\",\"automargin\":true,\"zerolinewidth\":2},\"yaxis\":{\"gridcolor\":\"white\",\"linecolor\":\"white\",\"ticks\":\"\",\"title\":{\"standoff\":15},\"zerolinecolor\":\"white\",\"automargin\":true,\"zerolinewidth\":2},\"scene\":{\"xaxis\":{\"backgroundcolor\":\"#E5ECF6\",\"gridcolor\":\"white\",\"linecolor\":\"white\",\"showbackground\":true,\"ticks\":\"\",\"zerolinecolor\":\"white\",\"gridwidth\":2},\"yaxis\":{\"backgroundcolor\":\"#E5ECF6\",\"gridcolor\":\"white\",\"linecolor\":\"white\",\"showbackground\":true,\"ticks\":\"\",\"zerolinecolor\":\"white\",\"gridwidth\":2},\"zaxis\":{\"backgroundcolor\":\"#E5ECF6\",\"gridcolor\":\"white\",\"linecolor\":\"white\",\"showbackground\":true,\"ticks\":\"\",\"zerolinecolor\":\"white\",\"gridwidth\":2}},\"shapedefaults\":{\"line\":{\"color\":\"#2a3f5f\"}},\"annotationdefaults\":{\"arrowcolor\":\"#2a3f5f\",\"arrowhead\":0,\"arrowwidth\":1},\"geo\":{\"bgcolor\":\"white\",\"landcolor\":\"#E5ECF6\",\"subunitcolor\":\"white\",\"showland\":true,\"showlakes\":true,\"lakecolor\":\"white\"},\"title\":{\"x\":0.05},\"mapbox\":{\"style\":\"light\"}}},\"xaxis\":{\"anchor\":\"y\",\"domain\":[0.0,1.0],\"title\":{\"text\":\"Variable\"}},\"yaxis\":{\"anchor\":\"x\",\"domain\":[0.0,1.0],\"title\":{\"text\":\"Value\"}},\"legend\":{\"title\":{\"text\":\"diagnosis\"},\"tracegroupgap\":0},\"title\":{\"text\":\"Box Plot of Radius Mean and Texture Mean for Benign and Malignant Tumors\"},\"boxmode\":\"group\"},                        {\"responsive\": true}                    ).then(function(){\n",
       "                            \n",
       "var gd = document.getElementById('3fde95ad-1990-407e-bf28-cd9d0ab19e70');\n",
       "var x = new MutationObserver(function (mutations, observer) {{\n",
       "        var display = window.getComputedStyle(gd).display;\n",
       "        if (!display || display === 'none') {{\n",
       "            console.log([gd, 'removed!']);\n",
       "            Plotly.purge(gd);\n",
       "            observer.disconnect();\n",
       "        }}\n",
       "}});\n",
       "\n",
       "// Listen for the removal of the full notebook cells\n",
       "var notebookContainer = gd.closest('#notebook-container');\n",
       "if (notebookContainer) {{\n",
       "    x.observe(notebookContainer, {childList: true});\n",
       "}}\n",
       "\n",
       "// Listen for the clearing of the current output cell\n",
       "var outputEl = gd.closest('.output');\n",
       "if (outputEl) {{\n",
       "    x.observe(outputEl, {childList: true});\n",
       "}}\n",
       "\n",
       "                        })                };                });            </script>        </div>"
      ]
     },
     "metadata": {},
     "output_type": "display_data"
    }
   ],
   "source": [
    "# Convert the data to long format using pandas.melt\n",
    "melted_df = pd.melt(df_final, id_vars=\"diagnosis\", value_vars=['fractal_dimension_mean', 'fractal_dimension_worst'])\n",
    "\n",
    "# Create a box plot using Plotly Express\n",
    "fig = px.box(melted_df, x=\"variable\", y=\"value\", color=\"diagnosis\",\n",
    "             labels={\"variable\": \"Variable\", \"value\": \"Value\"},\n",
    "             title=\"Box Plot of Radius Mean and Texture Mean for Benign and Malignant Tumors\")\n",
    "\n",
    "# Show the plot\n",
    "fig.show()"
   ]
  },
  {
   "cell_type": "markdown",
   "metadata": {
    "id": "9R0r7ConOPOJ"
   },
   "source": [
    "\n",
    "<div style=\"text-align: left;\">\n",
    "    <h5><strong>Violin plot for our final data</strong></h5>\n",
    "</div>"
   ]
  },
  {
   "cell_type": "code",
   "execution_count": 32,
   "metadata": {},
   "outputs": [],
   "source": [
    "# 'y' contains the labels for our classification task, where 'M' represents Malignant and 'B' represents Benign.\n",
    "y = df_final.diagnosis                          \n",
    "\n",
    "# Create 'x', which includes our features. We exclude columns 'id' and 'diagnosis' from the original DataFrame to get features.\n",
    "# 'list' contains the names of columns to be dropped from the original DataFrame.\n",
    "list = ['id', 'diagnosis']\n",
    "\n",
    "# 'x' is created by dropping columns specified in the 'list' from the original DataFrame using the 'drop()' method.\n",
    "x = df_final.drop(list, axis=1)\n",
    "\n",
    "# 'x' now contains the feature data after excluding 'id' and 'diagnosis' columns.\n",
    "# 'y' contains the corresponding labels."
   ]
  },
  {
   "cell_type": "code",
   "execution_count": 33,
   "metadata": {},
   "outputs": [
    {
     "data": {
      "image/png": "[encoded data removed]",
      "text/plain": [
       "<Figure size 720x720 with 1 Axes>"
      ]
     },
     "metadata": {
      "needs_background": "light"
     },
     "output_type": "display_data"
    }
   ],
   "source": [
    "# Assign 'y' as the labels (diagnosis: 'M' or 'B') and 'x' as the features for the violin plot visualization.\n",
    "data_diagnosis = y\n",
    "data = x\n",
    "\n",
    "# Standardize the feature data using mean normalization to make comparisons on the same scale.\n",
    "data_new = (data - data.mean()) / (data.std())              \n",
    "\n",
    "# Combine the standardized features with the diagnosis labels.\n",
    "data = pd.concat([y, data_new.iloc[:, 0:10]], axis=1)\n",
    "\n",
    "# Reshape the data for visualization purposes using the 'melt' function.\n",
    "data = pd.melt(data, id_vars=\"diagnosis\",\n",
    "               var_name=\"features\",\n",
    "               value_name='value')\n",
    "\n",
    "# Set up the violin plot for the first 10 columns/features.\n",
    "plt.figure(figsize=(10, 10))\n",
    "sns.violinplot(x=\"features\", y=\"value\", hue=\"diagnosis\", data=data, split=True, inner=\"quart\")\n",
    "\n",
    "# Rotate x-axis labels for better visibility.\n",
    "plt.xticks(rotation=90)\n",
    "\n",
    "# Set the title for the plot.\n",
    "plt.title(\"Violin plot for first 10 columns\")\n",
    "\n",
    "# Display the violin plot.\n",
    "plt.show()"
   ]
  },
  {
   "cell_type": "markdown",
   "metadata": {},
   "source": [
    "<div style=\"text-align: left;\">\n",
    "    <h5><strong>Heat map for our final data</strong></h5>\n",
    "</div>"
   ]
  },
  {
   "cell_type": "code",
   "execution_count": 34,
   "metadata": {},
   "outputs": [
    {
     "data": {
      "application/vnd.plotly.v1+json": {
       "config": {
        "plotlyServerURL": "https://plot.ly"
       },
       "data": [
        {
         "colorbar": {
          "ticktext": [
           "-1",
           "-0.5",
           "0",
           "0.5",
           "1"
          ],
          "tickvals": [
           -1,
           -0.5,
           0,
           0.5,
           1
          ],
          "title": {
           "text": "Correlation"
          }
         },
         "colorscale": [
          [
           0,
           "#fde725"
          ],
          [
           0.1111111111111111,
           "#b5de2b"
          ],
          [
           0.2222222222222222,
           "#6ece58"
          ],
          [
           0.3333333333333333,
           "#35b779"
          ],
          [
           0.4444444444444444,
           "#1f9e89"
          ],
          [
           0.5555555555555556,
           "#26828e"
          ],
          [
           0.6666666666666666,
           "#31688e"
          ],
          [
           0.7777777777777778,
           "#3e4989"
          ],
          [
           0.8888888888888888,
           "#482878"
          ],
          [
           1,
           "#440154"
          ]
         ],
         "type": "heatmap",
         "x": [
          "smoothness_mean",
          "concave points_mean",
          "symmetry_mean",
          "fractal_dimension_mean",
          "texture_se",
          "smoothness_se",
          "concavity_se",
          "texture_worst",
          "symmetry_worst",
          "fractal_dimension_worst"
         ],
         "y": [
          "smoothness_mean",
          "concave points_mean",
          "symmetry_mean",
          "fractal_dimension_mean",
          "texture_se",
          "smoothness_se",
          "concavity_se",
          "texture_worst",
          "symmetry_worst",
          "fractal_dimension_worst"
         ],
         "z": [
          [
           1,
           0.5536951727437609,
           0.5577747880728878,
           0.5847920019499775,
           0.06840644817118251,
           0.3323754426475922,
           0.24839567988255598,
           0.03607179878564654,
           0.39430948181175646,
           0.4993163685937669
          ],
          [
           null,
           1,
           0.4624973883673585,
           0.1669173832269923,
           0.021479581923401776,
           0.027653308387136005,
           0.43916706847426173,
           0.2927517130015173,
           0.3757441454236111,
           0.36866113371677106
          ],
          [
           null,
           null,
           1,
           0.47992133005096926,
           0.1280529263402561,
           0.18732116526139078,
           0.3426270230777206,
           0.0906506881166432,
           0.6998257976437302,
           0.4384134984446025
          ],
          [
           null,
           null,
           null,
           1,
           0.16417396587172883,
           0.4019644254484126,
           0.44663032169957156,
           -0.05126920203676535,
           0.3340186838510839,
           0.7672967792384361
          ],
          [
           null,
           null,
           null,
           null,
           1,
           0.3972428526412099,
           0.19499846445881905,
           0.4090027663153059,
           -0.12821475779252947,
           -0.045654568593207025
          ],
          [
           null,
           null,
           null,
           null,
           null,
           1,
           0.2686847598722627,
           -0.07474296487675623,
           -0.10734209778914477,
           0.10148031504252508
          ],
          [
           null,
           null,
           null,
           null,
           null,
           null,
           1,
           0.10024098374834615,
           0.19778782186141097,
           0.43932926857579074
          ],
          [
           null,
           null,
           null,
           null,
           null,
           null,
           null,
           1,
           0.23302746144531727,
           0.21912242546315883
          ],
          [
           null,
           null,
           null,
           null,
           null,
           null,
           null,
           null,
           1,
           0.537848206253609
          ],
          [
           null,
           null,
           null,
           null,
           null,
           null,
           null,
           null,
           null,
           1
          ]
         ],
         "zmax": 1,
         "zmin": -1
        }
       ],
       "layout": {
        "height": 800,
        "template": {
         "data": {
          "bar": [
           {
            "error_x": {
             "color": "#2a3f5f"
            },
            "error_y": {
             "color": "#2a3f5f"
            },
            "marker": {
             "line": {
              "color": "#E5ECF6",
              "width": 0.5
             },
             "pattern": {
              "fillmode": "overlay",
              "size": 10,
              "solidity": 0.2
             }
            },
            "type": "bar"
           }
          ],
          "barpolar": [
           {
            "marker": {
             "line": {
              "color": "#E5ECF6",
              "width": 0.5
             },
             "pattern": {
              "fillmode": "overlay",
              "size": 10,
              "solidity": 0.2
             }
            },
            "type": "barpolar"
           }
          ],
          "carpet": [
           {
            "aaxis": {
             "endlinecolor": "#2a3f5f",
             "gridcolor": "white",
             "linecolor": "white",
             "minorgridcolor": "white",
             "startlinecolor": "#2a3f5f"
            },
            "baxis": {
             "endlinecolor": "#2a3f5f",
             "gridcolor": "white",
             "linecolor": "white",
             "minorgridcolor": "white",
             "startlinecolor": "#2a3f5f"
            },
            "type": "carpet"
           }
          ],
          "choropleth": [
           {
            "colorbar": {
             "outlinewidth": 0,
             "ticks": ""
            },
            "type": "choropleth"
           }
          ],
          "contour": [
           {
            "colorbar": {
             "outlinewidth": 0,
             "ticks": ""
            },
            "colorscale": [
             [
              0,
              "#0d0887"
             ],
             [
              0.1111111111111111,
              "#46039f"
             ],
             [
              0.2222222222222222,
              "#7201a8"
             ],
             [
              0.3333333333333333,
              "#9c179e"
             ],
             [
              0.4444444444444444,
              "#bd3786"
             ],
             [
              0.5555555555555556,
              "#d8576b"
             ],
             [
              0.6666666666666666,
              "#ed7953"
             ],
             [
              0.7777777777777778,
              "#fb9f3a"
             ],
             [
              0.8888888888888888,
              "#fdca26"
             ],
             [
              1,
              "#f0f921"
             ]
            ],
            "type": "contour"
           }
          ],
          "contourcarpet": [
           {
            "colorbar": {
             "outlinewidth": 0,
             "ticks": ""
            },
            "type": "contourcarpet"
           }
          ],
          "heatmap": [
           {
            "colorbar": {
             "outlinewidth": 0,
             "ticks": ""
            },
            "colorscale": [
             [
              0,
              "#0d0887"
             ],
             [
              0.1111111111111111,
              "#46039f"
             ],
             [
              0.2222222222222222,
              "#7201a8"
             ],
             [
              0.3333333333333333,
              "#9c179e"
             ],
             [
              0.4444444444444444,
              "#bd3786"
             ],
             [
              0.5555555555555556,
              "#d8576b"
             ],
             [
              0.6666666666666666,
              "#ed7953"
             ],
             [
              0.7777777777777778,
              "#fb9f3a"
             ],
             [
              0.8888888888888888,
              "#fdca26"
             ],
             [
              1,
              "#f0f921"
             ]
            ],
            "type": "heatmap"
           }
          ],
          "heatmapgl": [
           {
            "colorbar": {
             "outlinewidth": 0,
             "ticks": ""
            },
            "colorscale": [
             [
              0,
              "#0d0887"
             ],
             [
              0.1111111111111111,
              "#46039f"
             ],
             [
              0.2222222222222222,
              "#7201a8"
             ],
             [
              0.3333333333333333,
              "#9c179e"
             ],
             [
              0.4444444444444444,
              "#bd3786"
             ],
             [
              0.5555555555555556,
              "#d8576b"
             ],
             [
              0.6666666666666666,
              "#ed7953"
             ],
             [
              0.7777777777777778,
              "#fb9f3a"
             ],
             [
              0.8888888888888888,
              "#fdca26"
             ],
             [
              1,
              "#f0f921"
             ]
            ],
            "type": "heatmapgl"
           }
          ],
          "histogram": [
           {
            "marker": {
             "pattern": {
              "fillmode": "overlay",
              "size": 10,
              "solidity": 0.2
             }
            },
            "type": "histogram"
           }
          ],
          "histogram2d": [
           {
            "colorbar": {
             "outlinewidth": 0,
             "ticks": ""
            },
            "colorscale": [
             [
              0,
              "#0d0887"
             ],
             [
              0.1111111111111111,
              "#46039f"
             ],
             [
              0.2222222222222222,
              "#7201a8"
             ],
             [
              0.3333333333333333,
              "#9c179e"
             ],
             [
              0.4444444444444444,
              "#bd3786"
             ],
             [
              0.5555555555555556,
              "#d8576b"
             ],
             [
              0.6666666666666666,
              "#ed7953"
             ],
             [
              0.7777777777777778,
              "#fb9f3a"
             ],
             [
              0.8888888888888888,
              "#fdca26"
             ],
             [
              1,
              "#f0f921"
             ]
            ],
            "type": "histogram2d"
           }
          ],
          "histogram2dcontour": [
           {
            "colorbar": {
             "outlinewidth": 0,
             "ticks": ""
            },
            "colorscale": [
             [
              0,
              "#0d0887"
             ],
             [
              0.1111111111111111,
              "#46039f"
             ],
             [
              0.2222222222222222,
              "#7201a8"
             ],
             [
              0.3333333333333333,
              "#9c179e"
             ],
             [
              0.4444444444444444,
              "#bd3786"
             ],
             [
              0.5555555555555556,
              "#d8576b"
             ],
             [
              0.6666666666666666,
              "#ed7953"
             ],
             [
              0.7777777777777778,
              "#fb9f3a"
             ],
             [
              0.8888888888888888,
              "#fdca26"
             ],
             [
              1,
              "#f0f921"
             ]
            ],
            "type": "histogram2dcontour"
           }
          ],
          "mesh3d": [
           {
            "colorbar": {
             "outlinewidth": 0,
             "ticks": ""
            },
            "type": "mesh3d"
           }
          ],
          "parcoords": [
           {
            "line": {
             "colorbar": {
              "outlinewidth": 0,
              "ticks": ""
             }
            },
            "type": "parcoords"
           }
          ],
          "pie": [
           {
            "automargin": true,
            "type": "pie"
           }
          ],
          "scatter": [
           {
            "fillpattern": {
             "fillmode": "overlay",
             "size": 10,
             "solidity": 0.2
            },
            "type": "scatter"
           }
          ],
          "scatter3d": [
           {
            "line": {
             "colorbar": {
              "outlinewidth": 0,
              "ticks": ""
             }
            },
            "marker": {
             "colorbar": {
              "outlinewidth": 0,
              "ticks": ""
             }
            },
            "type": "scatter3d"
           }
          ],
          "scattercarpet": [
           {
            "marker": {
             "colorbar": {
              "outlinewidth": 0,
              "ticks": ""
             }
            },
            "type": "scattercarpet"
           }
          ],
          "scattergeo": [
           {
            "marker": {
             "colorbar": {
              "outlinewidth": 0,
              "ticks": ""
             }
            },
            "type": "scattergeo"
           }
          ],
          "scattergl": [
           {
            "marker": {
             "colorbar": {
              "outlinewidth": 0,
              "ticks": ""
             }
            },
            "type": "scattergl"
           }
          ],
          "scattermapbox": [
           {
            "marker": {
             "colorbar": {
              "outlinewidth": 0,
              "ticks": ""
             }
            },
            "type": "scattermapbox"
           }
          ],
          "scatterpolar": [
           {
            "marker": {
             "colorbar": {
              "outlinewidth": 0,
              "ticks": ""
             }
            },
            "type": "scatterpolar"
           }
          ],
          "scatterpolargl": [
           {
            "marker": {
             "colorbar": {
              "outlinewidth": 0,
              "ticks": ""
             }
            },
            "type": "scatterpolargl"
           }
          ],
          "scatterternary": [
           {
            "marker": {
             "colorbar": {
              "outlinewidth": 0,
              "ticks": ""
             }
            },
            "type": "scatterternary"
           }
          ],
          "surface": [
           {
            "colorbar": {
             "outlinewidth": 0,
             "ticks": ""
            },
            "colorscale": [
             [
              0,
              "#0d0887"
             ],
             [
              0.1111111111111111,
              "#46039f"
             ],
             [
              0.2222222222222222,
              "#7201a8"
             ],
             [
              0.3333333333333333,
              "#9c179e"
             ],
             [
              0.4444444444444444,
              "#bd3786"
             ],
             [
              0.5555555555555556,
              "#d8576b"
             ],
             [
              0.6666666666666666,
              "#ed7953"
             ],
             [
              0.7777777777777778,
              "#fb9f3a"
             ],
             [
              0.8888888888888888,
              "#fdca26"
             ],
             [
              1,
              "#f0f921"
             ]
            ],
            "type": "surface"
           }
          ],
          "table": [
           {
            "cells": {
             "fill": {
              "color": "#EBF0F8"
             },
             "line": {
              "color": "white"
             }
            },
            "header": {
             "fill": {
              "color": "#C8D4E3"
             },
             "line": {
              "color": "white"
             }
            },
            "type": "table"
           }
          ]
         },
         "layout": {
          "annotationdefaults": {
           "arrowcolor": "#2a3f5f",
           "arrowhead": 0,
           "arrowwidth": 1
          },
          "autotypenumbers": "strict",
          "coloraxis": {
           "colorbar": {
            "outlinewidth": 0,
            "ticks": ""
           }
          },
          "colorscale": {
           "diverging": [
            [
             0,
             "#8e0152"
            ],
            [
             0.1,
             "#c51b7d"
            ],
            [
             0.2,
             "#de77ae"
            ],
            [
             0.3,
             "#f1b6da"
            ],
            [
             0.4,
             "#fde0ef"
            ],
            [
             0.5,
             "#f7f7f7"
            ],
            [
             0.6,
             "#e6f5d0"
            ],
            [
             0.7,
             "#b8e186"
            ],
            [
             0.8,
             "#7fbc41"
            ],
            [
             0.9,
             "#4d9221"
            ],
            [
             1,
             "#276419"
            ]
           ],
           "sequential": [
            [
             0,
             "#0d0887"
            ],
            [
             0.1111111111111111,
             "#46039f"
            ],
            [
             0.2222222222222222,
             "#7201a8"
            ],
            [
             0.3333333333333333,
             "#9c179e"
            ],
            [
             0.4444444444444444,
             "#bd3786"
            ],
            [
             0.5555555555555556,
             "#d8576b"
            ],
            [
             0.6666666666666666,
             "#ed7953"
            ],
            [
             0.7777777777777778,
             "#fb9f3a"
            ],
            [
             0.8888888888888888,
             "#fdca26"
            ],
            [
             1,
             "#f0f921"
            ]
           ],
           "sequentialminus": [
            [
             0,
             "#0d0887"
            ],
            [
             0.1111111111111111,
             "#46039f"
            ],
            [
             0.2222222222222222,
             "#7201a8"
            ],
            [
             0.3333333333333333,
             "#9c179e"
            ],
            [
             0.4444444444444444,
             "#bd3786"
            ],
            [
             0.5555555555555556,
             "#d8576b"
            ],
            [
             0.6666666666666666,
             "#ed7953"
            ],
            [
             0.7777777777777778,
             "#fb9f3a"
            ],
            [
             0.8888888888888888,
             "#fdca26"
            ],
            [
             1,
             "#f0f921"
            ]
           ]
          },
          "colorway": [
           "#636efa",
           "#EF553B",
           "#00cc96",
           "#ab63fa",
           "#FFA15A",
           "#19d3f3",
           "#FF6692",
           "#B6E880",
           "#FF97FF",
           "#FECB52"
          ],
          "font": {
           "color": "#2a3f5f"
          },
          "geo": {
           "bgcolor": "white",
           "lakecolor": "white",
           "landcolor": "#E5ECF6",
           "showlakes": true,
           "showland": true,
           "subunitcolor": "white"
          },
          "hoverlabel": {
           "align": "left"
          },
          "hovermode": "closest",
          "mapbox": {
           "style": "light"
          },
          "paper_bgcolor": "white",
          "plot_bgcolor": "#E5ECF6",
          "polar": {
           "angularaxis": {
            "gridcolor": "white",
            "linecolor": "white",
            "ticks": ""
           },
           "bgcolor": "#E5ECF6",
           "radialaxis": {
            "gridcolor": "white",
            "linecolor": "white",
            "ticks": ""
           }
          },
          "scene": {
           "xaxis": {
            "backgroundcolor": "#E5ECF6",
            "gridcolor": "white",
            "gridwidth": 2,
            "linecolor": "white",
            "showbackground": true,
            "ticks": "",
            "zerolinecolor": "white"
           },
           "yaxis": {
            "backgroundcolor": "#E5ECF6",
            "gridcolor": "white",
            "gridwidth": 2,
            "linecolor": "white",
            "showbackground": true,
            "ticks": "",
            "zerolinecolor": "white"
           },
           "zaxis": {
            "backgroundcolor": "#E5ECF6",
            "gridcolor": "white",
            "gridwidth": 2,
            "linecolor": "white",
            "showbackground": true,
            "ticks": "",
            "zerolinecolor": "white"
           }
          },
          "shapedefaults": {
           "line": {
            "color": "#2a3f5f"
           }
          },
          "ternary": {
           "aaxis": {
            "gridcolor": "white",
            "linecolor": "white",
            "ticks": ""
           },
           "baxis": {
            "gridcolor": "white",
            "linecolor": "white",
            "ticks": ""
           },
           "bgcolor": "#E5ECF6",
           "caxis": {
            "gridcolor": "white",
            "linecolor": "white",
            "ticks": ""
           }
          },
          "title": {
           "x": 0.05
          },
          "xaxis": {
           "automargin": true,
           "gridcolor": "white",
           "linecolor": "white",
           "ticks": "",
           "title": {
            "standoff": 15
           },
           "zerolinecolor": "white",
           "zerolinewidth": 2
          },
          "yaxis": {
           "automargin": true,
           "gridcolor": "white",
           "linecolor": "white",
           "ticks": "",
           "title": {
            "standoff": 15
           },
           "zerolinecolor": "white",
           "zerolinewidth": 2
          }
         }
        },
        "title": {
         "text": "Correlation Heatmap"
        },
        "width": 900,
        "xaxis": {
         "title": {
          "text": "Features"
         }
        },
        "yaxis": {
         "title": {
          "text": "Features"
         }
        }
       }
      },
      "text/html": [
       "<div>                            <div id=\"639bde4d-be8e-4e3d-8485-4e5734f6927c\" class=\"plotly-graph-div\" style=\"height:800px; width:900px;\"></div>            <script type=\"text/javascript\">                require([\"plotly\"], function(Plotly) {                    window.PLOTLYENV=window.PLOTLYENV || {};                                    if (document.getElementById(\"639bde4d-be8e-4e3d-8485-4e5734f6927c\")) {                    Plotly.newPlot(                        \"639bde4d-be8e-4e3d-8485-4e5734f6927c\",                        [{\"colorbar\":{\"ticktext\":[\"-1\",\"-0.5\",\"0\",\"0.5\",\"1\"],\"tickvals\":[-1,-0.5,0,0.5,1],\"title\":{\"text\":\"Correlation\"}},\"colorscale\":[[0.0,\"#fde725\"],[0.1111111111111111,\"#b5de2b\"],[0.2222222222222222,\"#6ece58\"],[0.3333333333333333,\"#35b779\"],[0.4444444444444444,\"#1f9e89\"],[0.5555555555555556,\"#26828e\"],[0.6666666666666666,\"#31688e\"],[0.7777777777777778,\"#3e4989\"],[0.8888888888888888,\"#482878\"],[1.0,\"#440154\"]],\"x\":[\"smoothness_mean\",\"concave points_mean\",\"symmetry_mean\",\"fractal_dimension_mean\",\"texture_se\",\"smoothness_se\",\"concavity_se\",\"texture_worst\",\"symmetry_worst\",\"fractal_dimension_worst\"],\"y\":[\"smoothness_mean\",\"concave points_mean\",\"symmetry_mean\",\"fractal_dimension_mean\",\"texture_se\",\"smoothness_se\",\"concavity_se\",\"texture_worst\",\"symmetry_worst\",\"fractal_dimension_worst\"],\"z\":[[1.0,0.5536951727437609,0.5577747880728878,0.5847920019499775,0.06840644817118251,0.3323754426475922,0.24839567988255598,0.03607179878564654,0.39430948181175646,0.4993163685937669],[null,1.0,0.4624973883673585,0.1669173832269923,0.021479581923401776,0.027653308387136005,0.43916706847426173,0.2927517130015173,0.3757441454236111,0.36866113371677106],[null,null,1.0,0.47992133005096926,0.1280529263402561,0.18732116526139078,0.3426270230777206,0.0906506881166432,0.6998257976437302,0.4384134984446025],[null,null,null,1.0,0.16417396587172883,0.4019644254484126,0.44663032169957156,-0.05126920203676535,0.3340186838510839,0.7672967792384361],[null,null,null,null,1.0,0.3972428526412099,0.19499846445881905,0.4090027663153059,-0.12821475779252947,-0.045654568593207025],[null,null,null,null,null,1.0,0.2686847598722627,-0.07474296487675623,-0.10734209778914477,0.10148031504252508],[null,null,null,null,null,null,1.0,0.10024098374834615,0.19778782186141097,0.43932926857579074],[null,null,null,null,null,null,null,1.0,0.23302746144531727,0.21912242546315883],[null,null,null,null,null,null,null,null,1.0,0.537848206253609],[null,null,null,null,null,null,null,null,null,1.0]],\"zmax\":1,\"zmin\":-1,\"type\":\"heatmap\"}],                        {\"template\":{\"data\":{\"histogram2dcontour\":[{\"type\":\"histogram2dcontour\",\"colorbar\":{\"outlinewidth\":0,\"ticks\":\"\"},\"colorscale\":[[0.0,\"#0d0887\"],[0.1111111111111111,\"#46039f\"],[0.2222222222222222,\"#7201a8\"],[0.3333333333333333,\"#9c179e\"],[0.4444444444444444,\"#bd3786\"],[0.5555555555555556,\"#d8576b\"],[0.6666666666666666,\"#ed7953\"],[0.7777777777777778,\"#fb9f3a\"],[0.8888888888888888,\"#fdca26\"],[1.0,\"#f0f921\"]]}],\"choropleth\":[{\"type\":\"choropleth\",\"colorbar\":{\"outlinewidth\":0,\"ticks\":\"\"}}],\"histogram2d\":[{\"type\":\"histogram2d\",\"colorbar\":{\"outlinewidth\":0,\"ticks\":\"\"},\"colorscale\":[[0.0,\"#0d0887\"],[0.1111111111111111,\"#46039f\"],[0.2222222222222222,\"#7201a8\"],[0.3333333333333333,\"#9c179e\"],[0.4444444444444444,\"#bd3786\"],[0.5555555555555556,\"#d8576b\"],[0.6666666666666666,\"#ed7953\"],[0.7777777777777778,\"#fb9f3a\"],[0.8888888888888888,\"#fdca26\"],[1.0,\"#f0f921\"]]}],\"heatmap\":[{\"type\":\"heatmap\",\"colorbar\":{\"outlinewidth\":0,\"ticks\":\"\"},\"colorscale\":[[0.0,\"#0d0887\"],[0.1111111111111111,\"#46039f\"],[0.2222222222222222,\"#7201a8\"],[0.3333333333333333,\"#9c179e\"],[0.4444444444444444,\"#bd3786\"],[0.5555555555555556,\"#d8576b\"],[0.6666666666666666,\"#ed7953\"],[0.7777777777777778,\"#fb9f3a\"],[0.8888888888888888,\"#fdca26\"],[1.0,\"#f0f921\"]]}],\"heatmapgl\":[{\"type\":\"heatmapgl\",\"colorbar\":{\"outlinewidth\":0,\"ticks\":\"\"},\"colorscale\":[[0.0,\"#0d0887\"],[0.1111111111111111,\"#46039f\"],[0.2222222222222222,\"#7201a8\"],[0.3333333333333333,\"#9c179e\"],[0.4444444444444444,\"#bd3786\"],[0.5555555555555556,\"#d8576b\"],[0.6666666666666666,\"#ed7953\"],[0.7777777777777778,\"#fb9f3a\"],[0.8888888888888888,\"#fdca26\"],[1.0,\"#f0f921\"]]}],\"contourcarpet\":[{\"type\":\"contourcarpet\",\"colorbar\":{\"outlinewidth\":0,\"ticks\":\"\"}}],\"contour\":[{\"type\":\"contour\",\"colorbar\":{\"outlinewidth\":0,\"ticks\":\"\"},\"colorscale\":[[0.0,\"#0d0887\"],[0.1111111111111111,\"#46039f\"],[0.2222222222222222,\"#7201a8\"],[0.3333333333333333,\"#9c179e\"],[0.4444444444444444,\"#bd3786\"],[0.5555555555555556,\"#d8576b\"],[0.6666666666666666,\"#ed7953\"],[0.7777777777777778,\"#fb9f3a\"],[0.8888888888888888,\"#fdca26\"],[1.0,\"#f0f921\"]]}],\"surface\":[{\"type\":\"surface\",\"colorbar\":{\"outlinewidth\":0,\"ticks\":\"\"},\"colorscale\":[[0.0,\"#0d0887\"],[0.1111111111111111,\"#46039f\"],[0.2222222222222222,\"#7201a8\"],[0.3333333333333333,\"#9c179e\"],[0.4444444444444444,\"#bd3786\"],[0.5555555555555556,\"#d8576b\"],[0.6666666666666666,\"#ed7953\"],[0.7777777777777778,\"#fb9f3a\"],[0.8888888888888888,\"#fdca26\"],[1.0,\"#f0f921\"]]}],\"mesh3d\":[{\"type\":\"mesh3d\",\"colorbar\":{\"outlinewidth\":0,\"ticks\":\"\"}}],\"scatter\":[{\"fillpattern\":{\"fillmode\":\"overlay\",\"size\":10,\"solidity\":0.2},\"type\":\"scatter\"}],\"parcoords\":[{\"type\":\"parcoords\",\"line\":{\"colorbar\":{\"outlinewidth\":0,\"ticks\":\"\"}}}],\"scatterpolargl\":[{\"type\":\"scatterpolargl\",\"marker\":{\"colorbar\":{\"outlinewidth\":0,\"ticks\":\"\"}}}],\"bar\":[{\"error_x\":{\"color\":\"#2a3f5f\"},\"error_y\":{\"color\":\"#2a3f5f\"},\"marker\":{\"line\":{\"color\":\"#E5ECF6\",\"width\":0.5},\"pattern\":{\"fillmode\":\"overlay\",\"size\":10,\"solidity\":0.2}},\"type\":\"bar\"}],\"scattergeo\":[{\"type\":\"scattergeo\",\"marker\":{\"colorbar\":{\"outlinewidth\":0,\"ticks\":\"\"}}}],\"scatterpolar\":[{\"type\":\"scatterpolar\",\"marker\":{\"colorbar\":{\"outlinewidth\":0,\"ticks\":\"\"}}}],\"histogram\":[{\"marker\":{\"pattern\":{\"fillmode\":\"overlay\",\"size\":10,\"solidity\":0.2}},\"type\":\"histogram\"}],\"scattergl\":[{\"type\":\"scattergl\",\"marker\":{\"colorbar\":{\"outlinewidth\":0,\"ticks\":\"\"}}}],\"scatter3d\":[{\"type\":\"scatter3d\",\"line\":{\"colorbar\":{\"outlinewidth\":0,\"ticks\":\"\"}},\"marker\":{\"colorbar\":{\"outlinewidth\":0,\"ticks\":\"\"}}}],\"scattermapbox\":[{\"type\":\"scattermapbox\",\"marker\":{\"colorbar\":{\"outlinewidth\":0,\"ticks\":\"\"}}}],\"scatterternary\":[{\"type\":\"scatterternary\",\"marker\":{\"colorbar\":{\"outlinewidth\":0,\"ticks\":\"\"}}}],\"scattercarpet\":[{\"type\":\"scattercarpet\",\"marker\":{\"colorbar\":{\"outlinewidth\":0,\"ticks\":\"\"}}}],\"carpet\":[{\"aaxis\":{\"endlinecolor\":\"#2a3f5f\",\"gridcolor\":\"white\",\"linecolor\":\"white\",\"minorgridcolor\":\"white\",\"startlinecolor\":\"#2a3f5f\"},\"baxis\":{\"endlinecolor\":\"#2a3f5f\",\"gridcolor\":\"white\",\"linecolor\":\"white\",\"minorgridcolor\":\"white\",\"startlinecolor\":\"#2a3f5f\"},\"type\":\"carpet\"}],\"table\":[{\"cells\":{\"fill\":{\"color\":\"#EBF0F8\"},\"line\":{\"color\":\"white\"}},\"header\":{\"fill\":{\"color\":\"#C8D4E3\"},\"line\":{\"color\":\"white\"}},\"type\":\"table\"}],\"barpolar\":[{\"marker\":{\"line\":{\"color\":\"#E5ECF6\",\"width\":0.5},\"pattern\":{\"fillmode\":\"overlay\",\"size\":10,\"solidity\":0.2}},\"type\":\"barpolar\"}],\"pie\":[{\"automargin\":true,\"type\":\"pie\"}]},\"layout\":{\"autotypenumbers\":\"strict\",\"colorway\":[\"#636efa\",\"#EF553B\",\"#00cc96\",\"#ab63fa\",\"#FFA15A\",\"#19d3f3\",\"#FF6692\",\"#B6E880\",\"#FF97FF\",\"#FECB52\"],\"font\":{\"color\":\"#2a3f5f\"},\"hovermode\":\"closest\",\"hoverlabel\":{\"align\":\"left\"},\"paper_bgcolor\":\"white\",\"plot_bgcolor\":\"#E5ECF6\",\"polar\":{\"bgcolor\":\"#E5ECF6\",\"angularaxis\":{\"gridcolor\":\"white\",\"linecolor\":\"white\",\"ticks\":\"\"},\"radialaxis\":{\"gridcolor\":\"white\",\"linecolor\":\"white\",\"ticks\":\"\"}},\"ternary\":{\"bgcolor\":\"#E5ECF6\",\"aaxis\":{\"gridcolor\":\"white\",\"linecolor\":\"white\",\"ticks\":\"\"},\"baxis\":{\"gridcolor\":\"white\",\"linecolor\":\"white\",\"ticks\":\"\"},\"caxis\":{\"gridcolor\":\"white\",\"linecolor\":\"white\",\"ticks\":\"\"}},\"coloraxis\":{\"colorbar\":{\"outlinewidth\":0,\"ticks\":\"\"}},\"colorscale\":{\"sequential\":[[0.0,\"#0d0887\"],[0.1111111111111111,\"#46039f\"],[0.2222222222222222,\"#7201a8\"],[0.3333333333333333,\"#9c179e\"],[0.4444444444444444,\"#bd3786\"],[0.5555555555555556,\"#d8576b\"],[0.6666666666666666,\"#ed7953\"],[0.7777777777777778,\"#fb9f3a\"],[0.8888888888888888,\"#fdca26\"],[1.0,\"#f0f921\"]],\"sequentialminus\":[[0.0,\"#0d0887\"],[0.1111111111111111,\"#46039f\"],[0.2222222222222222,\"#7201a8\"],[0.3333333333333333,\"#9c179e\"],[0.4444444444444444,\"#bd3786\"],[0.5555555555555556,\"#d8576b\"],[0.6666666666666666,\"#ed7953\"],[0.7777777777777778,\"#fb9f3a\"],[0.8888888888888888,\"#fdca26\"],[1.0,\"#f0f921\"]],\"diverging\":[[0,\"#8e0152\"],[0.1,\"#c51b7d\"],[0.2,\"#de77ae\"],[0.3,\"#f1b6da\"],[0.4,\"#fde0ef\"],[0.5,\"#f7f7f7\"],[0.6,\"#e6f5d0\"],[0.7,\"#b8e186\"],[0.8,\"#7fbc41\"],[0.9,\"#4d9221\"],[1,\"#276419\"]]},\"xaxis\":{\"gridcolor\":\"white\",\"linecolor\":\"white\",\"ticks\":\"\",\"title\":{\"standoff\":15},\"zerolinecolor\":\"white\",\"automargin\":true,\"zerolinewidth\":2},\"yaxis\":{\"gridcolor\":\"white\",\"linecolor\":\"white\",\"ticks\":\"\",\"title\":{\"standoff\":15},\"zerolinecolor\":\"white\",\"automargin\":true,\"zerolinewidth\":2},\"scene\":{\"xaxis\":{\"backgroundcolor\":\"#E5ECF6\",\"gridcolor\":\"white\",\"linecolor\":\"white\",\"showbackground\":true,\"ticks\":\"\",\"zerolinecolor\":\"white\",\"gridwidth\":2},\"yaxis\":{\"backgroundcolor\":\"#E5ECF6\",\"gridcolor\":\"white\",\"linecolor\":\"white\",\"showbackground\":true,\"ticks\":\"\",\"zerolinecolor\":\"white\",\"gridwidth\":2},\"zaxis\":{\"backgroundcolor\":\"#E5ECF6\",\"gridcolor\":\"white\",\"linecolor\":\"white\",\"showbackground\":true,\"ticks\":\"\",\"zerolinecolor\":\"white\",\"gridwidth\":2}},\"shapedefaults\":{\"line\":{\"color\":\"#2a3f5f\"}},\"annotationdefaults\":{\"arrowcolor\":\"#2a3f5f\",\"arrowhead\":0,\"arrowwidth\":1},\"geo\":{\"bgcolor\":\"white\",\"landcolor\":\"#E5ECF6\",\"subunitcolor\":\"white\",\"showland\":true,\"showlakes\":true,\"lakecolor\":\"white\"},\"title\":{\"x\":0.05},\"mapbox\":{\"style\":\"light\"}}},\"title\":{\"text\":\"Correlation Heatmap\"},\"xaxis\":{\"title\":{\"text\":\"Features\"}},\"yaxis\":{\"title\":{\"text\":\"Features\"}},\"width\":900,\"height\":800},                        {\"responsive\": true}                    ).then(function(){\n",
       "                            \n",
       "var gd = document.getElementById('639bde4d-be8e-4e3d-8485-4e5734f6927c');\n",
       "var x = new MutationObserver(function (mutations, observer) {{\n",
       "        var display = window.getComputedStyle(gd).display;\n",
       "        if (!display || display === 'none') {{\n",
       "            console.log([gd, 'removed!']);\n",
       "            Plotly.purge(gd);\n",
       "            observer.disconnect();\n",
       "        }}\n",
       "}});\n",
       "\n",
       "// Listen for the removal of the full notebook cells\n",
       "var notebookContainer = gd.closest('#notebook-container');\n",
       "if (notebookContainer) {{\n",
       "    x.observe(notebookContainer, {childList: true});\n",
       "}}\n",
       "\n",
       "// Listen for the clearing of the current output cell\n",
       "var outputEl = gd.closest('.output');\n",
       "if (outputEl) {{\n",
       "    x.observe(outputEl, {childList: true});\n",
       "}}\n",
       "\n",
       "                        })                };                });            </script>        </div>"
      ]
     },
     "metadata": {},
     "output_type": "display_data"
    }
   ],
   "source": [
    "# Calculate the correlation matrix for the features (columns) in the DataFrame 'x'.\n",
    "corr = x.corr()\n",
    "\n",
    "# Define x and y axis labels for the heatmap.\n",
    "x_labels = x.columns\n",
    "y_labels = x.columns\n",
    "\n",
    "# Replace the lower triangular part of the correlation matrix with None to avoid redundancy.\n",
    "corr_np = corr.values\n",
    "corr_np[np.tril_indices_from(corr_np, k=-1)] = None\n",
    "\n",
    "# Create a heatmap figure using Plotly Express.\n",
    "fig = go.Figure(data=go.Heatmap(\n",
    "    z=corr_np,  # Use the modified correlation matrix without lower triangular values\n",
    "    x=x_labels,  # x-axis labels (features)\n",
    "    y=y_labels,  # y-axis labels (features)\n",
    "    colorscale='Viridis_r',  # Set the color scale for the heatmap (reversed Viridis)\n",
    "    zmin=-1,  # Set the minimum value of the color scale to -1\n",
    "    zmax=1,   # Set the maximum value of the color scale to 1\n",
    "    colorbar=dict(\n",
    "        title='Correlation',  # Set the title for the color bar\n",
    "        tickvals=[-1, -0.5, 0, 0.5, 1],  # Define tick values for the color bar\n",
    "        ticktext=['-1', '-0.5', '0', '0.5', '1'],  # Define tick labels for the color bar\n",
    "    )\n",
    "))\n",
    "\n",
    "# Set layout options for the heatmap.\n",
    "fig.update_layout(\n",
    "    title='Correlation Heatmap',  # Set the title of the heatmap\n",
    "    xaxis=dict(title='Features'),  # Set the x-axis label\n",
    "    yaxis=dict(title='Features'),  # Set the y-axis label\n",
    "    width=900,  # Adjust the width of the plot\n",
    "    height=800,  # Adjust the height of the plot\n",
    ")\n",
    "\n",
    "# Show the heatmap plot.\n",
    "fig.show()"
   ]
  },
  {
   "cell_type": "markdown",
   "metadata": {},
   "source": [
    "\n",
    "<div style=\"text-align: center;color: blue;\">\n",
    "    <h2>Machine Learning Models</h2>\n",
    "</div>"
   ]
  },
  {
   "cell_type": "markdown",
   "metadata": {},
   "source": [
    "<div style=\"text-align: left; color: red;\">\n",
    "    <h5><strong>Logistic Regression </strong></h5>\n",
    "</div>"
   ]
  },
  {
   "cell_type": "markdown",
   "metadata": {},
   "source": [
    "Logistic regression is a statistical method used for binary classification in machine learning. It's a type of regression analysis that predicts the probability that an instance belongs to a particular category.\n",
    "\n",
    "**Sigmoid Function:**\n",
    "The logistic regression model uses the sigmoid function (or logistic function) to squash the output of a linear equation between 0 and 1. \n",
    "The sigmoid function is defined as:σ(z) = 1/(1+e^-z)\n",
    "where z is the linear combination of input features and model parameters.\n",
    "\n",
    "**Hypothesis Function:**\n",
    "The hypothesis function in logistic regression is defined as:hθ(x) = σ(θx)\n",
    "where hθ(x) is the predicted probability that the dependent variable is 1 given the input features x,θ represents the model parameters, and θx is the dot product of the parameters and input features.\n",
    "\n",
    "**Uses of Logistic Regression in Machine Learning:** \n",
    "1. Binary Classification \n",
    "2. Probability Estimation \n",
    "3. Interpretability \n",
    "4. Medical Diagnosis"
   ]
  },
  {
   "cell_type": "markdown",
   "metadata": {},
   "source": [
    "<div style=\"text-align: left; color: red;\">\n",
    "    <h5><strong>Accuracy </strong></h5>\n",
    "</div>"
   ]
  },
  {
   "cell_type": "markdown",
   "metadata": {},
   "source": [
    "Accuracy score is a common metric used to evaluate the performance of a classification model in machine learning. It is a measure of the overall correctness of the model in predicting the classes of the instances. The accuracy score is calculated as the ratio of correctly predicted instances to the total number of instances in the dataset.\n",
    "\n",
    "The formula for accuracuy is given by accuracy = Number of Correct Predictions/Total Number of Predictions\n"
   ]
  },
  {
   "cell_type": "markdown",
   "metadata": {},
   "source": [
    "<div style=\"text-align: left; color: red;\">\n",
    "    <h5><strong>Confusion Matrix </strong></h5>\n",
    "</div>"
   ]
  },
  {
   "cell_type": "markdown",
   "metadata": {},
   "source": [
    "A confusion matrix is a table that is often used to evaluate the performance of a classification model. It summarizes the performance of a classification algorithm by presenting a tabulation of actual class labels against the predicted class labels. It is particularly useful for understanding the types and frequency of errors made by the model."
   ]
  },
  {
   "cell_type": "markdown",
   "metadata": {},
   "source": [
    "Here are the key components of a confusion matrix:\n",
    "\n",
    "**True Positive (TP):** Instances that were correctly predicted as positive. For example, the model correctly identified 50 positive instances.\n",
    "\n",
    "**True Negative (TN):** Instances that were correctly predicted as negative. For example, the model correctly identified 30 negative instances.\n",
    "\n",
    "**False Positive (FP):** Instances that were incorrectly predicted as positive. Also known as a Type I error. For example, the model predicted 20 instances as positive when they were actually negative.\n",
    "\n",
    "**False Negative (FN):** Instances that were incorrectly predicted as negative. Also known as a Type II error. For example, the model predicted 10 instances as negative when they were actually positive."
   ]
  },
  {
   "cell_type": "markdown",
   "metadata": {},
   "source": [
    "Accuracy = TP+TN/(TP+TN+FP+FN)"
   ]
  },
  {
   "cell_type": "markdown",
   "metadata": {},
   "source": [
    "precision(Positive Predective Value) = TP/(TP+FP)"
   ]
  },
  {
   "cell_type": "markdown",
   "metadata": {},
   "source": [
    "Recall(Sensitivity,  True Positive Rate) = TP/(TP+FN)"
   ]
  },
  {
   "cell_type": "markdown",
   "metadata": {},
   "source": [
    "Specificity (True Negative Rate) = TN/(TN+FP)"
   ]
  },
  {
   "cell_type": "markdown",
   "metadata": {},
   "source": [
    "F1 Score = 2*(Precision.Recall/(Precision+Recall))"
   ]
  },
  {
   "cell_type": "code",
   "execution_count": 35,
   "metadata": {},
   "outputs": [
    {
     "name": "stdout",
     "output_type": "stream",
     "text": [
      "Accuracy: 0.9707602339181286\n",
      "\n",
      "\n",
      "Confusion Matrix:\n"
     ]
    },
    {
     "data": {
      "image/png": "[encoded data removed]",
      "text/plain": [
       "<Figure size 576x432 with 1 Axes>"
      ]
     },
     "metadata": {
      "needs_background": "light"
     },
     "output_type": "display_data"
    },
    {
     "name": "stdout",
     "output_type": "stream",
     "text": [
      "Classification Report:\n",
      "              precision    recall  f1-score   support\n",
      "\n",
      "      Benign       0.96      1.00      0.98       116\n",
      "   Malignant       1.00      0.91      0.95        55\n",
      "\n",
      "    accuracy                           0.97       171\n",
      "   macro avg       0.98      0.95      0.97       171\n",
      "weighted avg       0.97      0.97      0.97       171\n",
      "\n"
     ]
    }
   ],
   "source": [
    "from sklearn.model_selection import train_test_split\n",
    "from sklearn.preprocessing import StandardScaler\n",
    "from sklearn.linear_model import LogisticRegression\n",
    "from sklearn.metrics import accuracy_score, classification_report, confusion_matrix\n",
    "\n",
    "# Assuming 'df' contains your dataset\n",
    "\n",
    "# Separate features and target variable\n",
    "Cancer_data = df.drop(\"diagnosis\", axis=1)\n",
    "Cancer_type = df['diagnosis']\n",
    "\n",
    "# Split the data into training and testing sets\n",
    "X_train, X_test, y_train, y_test = train_test_split(Cancer_data, Cancer_type, test_size=0.3, random_state=7)\n",
    "\n",
    "# Standardize the features using StandardScaler\n",
    "scaler = StandardScaler()\n",
    "X_train_scaled = scaler.fit_transform(X_train)\n",
    "X_test_scaled = scaler.transform(X_test)\n",
    "\n",
    "# Create a logistic regression model\n",
    "model = LogisticRegression()\n",
    "\n",
    "# Train the model\n",
    "model.fit(X_train_scaled, y_train)\n",
    "\n",
    "# Make predictions on the test set\n",
    "predictions = model.predict(X_test_scaled)\n",
    "\n",
    "# Evaluate the model\n",
    "accuracy = accuracy_score(y_test, predictions)\n",
    "conf_matrix = confusion_matrix(y_test, predictions)\n",
    "classification_rep = classification_report(y_test, predictions)\n",
    "\n",
    "print(f\"Accuracy: {accuracy}\\n\\n\")\n",
    "print(\"Confusion Matrix:\")\n",
    "#print(conf_matrix)\n",
    "# Display confusion matrix using seaborn\n",
    "plt.figure(figsize=(8, 6))\n",
    "sns.heatmap(conf_matrix, annot=True, fmt=\"d\", cmap=\"Blues\", cbar=False)\n",
    "plt.title('Confusion Matrix')\n",
    "plt.xlabel('Predicted')\n",
    "plt.ylabel('True')\n",
    "plt.show()\n",
    "print(\"Classification Report:\")\n",
    "print(classification_rep)\n"
   ]
  },
  {
   "cell_type": "markdown",
   "metadata": {},
   "source": [
    "<div style=\"text-align: right; color: green;\">\n",
    "    <h5><strong> The accuracy for logistic model is 97</strong> </h5>\n",
    "</div>"
   ]
  },
  {
   "cell_type": "markdown",
   "metadata": {},
   "source": [
    "<div style=\"text-align: left; color: red;\">\n",
    "    <h5><strong> K-Nearest Neighbor </strong></h5>\n",
    "</div>"
   ]
  },
  {
   "cell_type": "markdown",
   "metadata": {},
   "source": [
    "The k-Nearest Neighbors (k-NN) algorithm is a simple and versatile classification or regression algorithm used in machine learning. It's a type of instance-based learning, where the model doesn't explicitly learn a mapping from inputs to outputs during a training phase. Instead, it memorizes the training instances and makes predictions based on the proximity of new instances to the existing data points."
   ]
  },
  {
   "cell_type": "markdown",
   "metadata": {},
   "source": [
    "**k Neighbors :** The \"k\" in k-NN represents the number of nearest neighbors to consider when making a prediction.\n",
    "For a given data point, the algorithm identifies the k nearest neighbors based on a distance metric (commonly Euclidean distance)."
   ]
  },
  {
   "cell_type": "markdown",
   "metadata": {},
   "source": [
    "**Voting (Classification) or Averaging (Regression) :** For classification, the majority class among the k neighbors is assigned to the new data point.For regression, the algorithm calculates the average (or weighted average) of the target values of the k neighbors."
   ]
  },
  {
   "cell_type": "markdown",
   "metadata": {},
   "source": [
    "**Steps in k-NN:**\n",
    "1. Choose the Value of k\n",
    "2. Calculate Distance\n",
    "3. Identify Neighbors\n",
    "4. Make Prediction"
   ]
  },
  {
   "cell_type": "markdown",
   "metadata": {},
   "source": [
    "**Uses of k-NN in Machine Learning :**\n",
    "1. Classification\n",
    "2. Regression\n",
    "3. Anomaly Detection\n",
    "4. Recommendation Systems\n",
    "5. Pattern Recognition\n"
   ]
  },
  {
   "cell_type": "code",
   "execution_count": 36,
   "metadata": {},
   "outputs": [
    {
     "name": "stdout",
     "output_type": "stream",
     "text": [
      "Accuracy: 0.9649122807017544\n",
      "\n",
      "\n",
      "Confusion Matrix:\n"
     ]
    },
    {
     "data": {
      "image/png": "[encoded data removed]",
      "text/plain": [
       "<Figure size 576x432 with 1 Axes>"
      ]
     },
     "metadata": {
      "needs_background": "light"
     },
     "output_type": "display_data"
    },
    {
     "name": "stdout",
     "output_type": "stream",
     "text": [
      "Classification Report:\n",
      "              precision    recall  f1-score   support\n",
      "\n",
      "      Benign       0.95      1.00      0.97       116\n",
      "   Malignant       1.00      0.89      0.94        55\n",
      "\n",
      "    accuracy                           0.96       171\n",
      "   macro avg       0.98      0.95      0.96       171\n",
      "weighted avg       0.97      0.96      0.96       171\n",
      "\n"
     ]
    }
   ],
   "source": [
    "from sklearn.model_selection import train_test_split\n",
    "from sklearn.preprocessing import StandardScaler\n",
    "from sklearn.neighbors import KNeighborsClassifier\n",
    "from sklearn.metrics import accuracy_score, classification_report, confusion_matrix\n",
    "\n",
    "# Assuming 'df' contains your dataset\n",
    "\n",
    "# Separate features and target variable\n",
    "Cancer_data = df.drop(\"diagnosis\", axis=1)\n",
    "Cancer_type = df['diagnosis']\n",
    "\n",
    "# Split the data into training and testing sets\n",
    "X_train, X_test, y_train, y_test = train_test_split(Cancer_data, Cancer_type, test_size=0.3, random_state=7)\n",
    "\n",
    "# Standardize the features using StandardScaler\n",
    "scaler = StandardScaler()\n",
    "X_train_scaled = scaler.fit_transform(X_train)\n",
    "X_test_scaled = scaler.transform(X_test)\n",
    "\n",
    "# Create a k-Nearest Neighbors model\n",
    "k_value = 5  # You can adjust the value of k as needed\n",
    "knn_model = KNeighborsClassifier(n_neighbors=k_value)\n",
    "\n",
    "# Train the model\n",
    "knn_model.fit(X_train_scaled, y_train)\n",
    "\n",
    "# Make predictions on the test set\n",
    "predictions = knn_model.predict(X_test_scaled)\n",
    "\n",
    "# Evaluate the model\n",
    "accuracy = accuracy_score(y_test, predictions)\n",
    "conf_matrix = confusion_matrix(y_test, predictions)\n",
    "classification_rep = classification_report(y_test, predictions)\n",
    "\n",
    "print(f\"Accuracy: {accuracy}\\n\\n\")\n",
    "print(\"Confusion Matrix:\")\n",
    "#print(conf_matrix)\n",
    "# Display confusion matrix using seaborn\n",
    "plt.figure(figsize=(8, 6))\n",
    "sns.heatmap(conf_matrix, annot=True, fmt=\"d\", cmap=\"Blues\", cbar=False)\n",
    "plt.title('Confusion Matrix')\n",
    "plt.xlabel('Predicted')\n",
    "plt.ylabel('True')\n",
    "plt.show()\n",
    "print(\"Classification Report:\")\n",
    "print(classification_rep)\n"
   ]
  },
  {
   "cell_type": "markdown",
   "metadata": {},
   "source": [
    "<div style=\"text-align: right; color: green;\">\n",
    "    <h5><strong>The accuracy for KNN model is 96</strong>  </h5>\n",
    "</div>"
   ]
  },
  {
   "cell_type": "markdown",
   "metadata": {},
   "source": [
    "<div style=\"text-align: left; color: red;\">\n",
    "    <h5><strong> Random Forest Classification </strong></h5>\n",
    "</div>"
   ]
  },
  {
   "cell_type": "markdown",
   "metadata": {},
   "source": [
    "Random Forest is an ensemble learning method that can be used for both classification and regression tasks in machine learning. It is a powerful and versatile algorithm that operates by constructing a multitude of decision trees during training and outputting the class that is the mode (classification) or mean (regression) of the individual trees.\n",
    "\n",
    "**Decision Trees :** Random Forest is an ensemble of decision trees. Each tree is constructed using a random subset of the features and a random subset of the training data.\n",
    "\n",
    "**Bootstrap Aggregating (Bagging) :** The algorithm uses a technique called bagging, where multiple decision trees are trained independently on different subsets of the training data. This helps reduce overfitting and improve generalization.\n",
    "\n",
    "**Random Feature Selection :** At each node of a decision tree, a random subset of features is considered for splitting. This randomness further contributes to the diversity of the trees.\n",
    "\n",
    "**Voting or Averaging :** For classification tasks, the final prediction is determined by a majority vote among the trees. For regression tasks, it's the average of the predictions."
   ]
  },
  {
   "cell_type": "markdown",
   "metadata": {},
   "source": [
    "**Uses of Random Forest in Machine Learning:**\n",
    "1. Classification\n",
    "2. Regression\n",
    "3. Feature Importance\n",
    "4. Anomaly Detection\n",
    "5. Image and Speech Recognition\n",
    "    "
   ]
  },
  {
   "cell_type": "code",
   "execution_count": 37,
   "metadata": {},
   "outputs": [
    {
     "name": "stdout",
     "output_type": "stream",
     "text": [
      "Accuracy: 0.9883040935672515\n",
      "\n",
      "\n",
      "Confusion Matrix:\n"
     ]
    },
    {
     "data": {
      "image/png": "[encoded data removed]",
      "text/plain": [
       "<Figure size 576x432 with 1 Axes>"
      ]
     },
     "metadata": {
      "needs_background": "light"
     },
     "output_type": "display_data"
    },
    {
     "name": "stdout",
     "output_type": "stream",
     "text": [
      "Classification Report:\n",
      "              precision    recall  f1-score   support\n",
      "\n",
      "      Benign       0.98      1.00      0.99       116\n",
      "   Malignant       1.00      0.96      0.98        55\n",
      "\n",
      "    accuracy                           0.99       171\n",
      "   macro avg       0.99      0.98      0.99       171\n",
      "weighted avg       0.99      0.99      0.99       171\n",
      "\n"
     ]
    }
   ],
   "source": [
    "from sklearn.model_selection import train_test_split\n",
    "from sklearn.ensemble import RandomForestClassifier\n",
    "from sklearn.metrics import accuracy_score, classification_report, confusion_matrix\n",
    "\n",
    "# Assuming 'df' contains your dataset\n",
    "\n",
    "# Separate features and target variable\n",
    "Cancer_data = df.drop(\"diagnosis\", axis=1)\n",
    "Cancer_type = df['diagnosis']\n",
    "\n",
    "# Split the data into training and testing sets\n",
    "X_train, X_test, y_train, y_test = train_test_split(Cancer_data, Cancer_type, test_size=0.3, random_state=7)\n",
    "\n",
    "# Create a Random Forest model\n",
    "rf_model = RandomForestClassifier(n_estimators=100, random_state=7)\n",
    "\n",
    "# Train the model\n",
    "rf_model.fit(X_train, y_train)\n",
    "\n",
    "# Make predictions on the test set\n",
    "predictions = rf_model.predict(X_test)\n",
    "\n",
    "# Evaluate the model\n",
    "accuracy = accuracy_score(y_test, predictions)\n",
    "conf_matrix = confusion_matrix(y_test, predictions)\n",
    "classification_rep = classification_report(y_test, predictions)\n",
    "\n",
    "print(f\"Accuracy: {accuracy}\\n\\n\")\n",
    "print(\"Confusion Matrix:\")\n",
    "#print(conf_matrix)\n",
    "# Display confusion matrix using seaborn\n",
    "plt.figure(figsize=(8, 6))\n",
    "sns.heatmap(conf_matrix, annot=True, fmt=\"d\", cmap=\"Blues\", cbar=False)\n",
    "plt.title('Confusion Matrix')\n",
    "plt.xlabel('Predicted')\n",
    "plt.ylabel('True')\n",
    "plt.show()\n",
    "print(\"Classification Report:\")\n",
    "print(classification_rep)\n"
   ]
  },
  {
   "cell_type": "markdown",
   "metadata": {},
   "source": [
    "<div style=\"text-align: right; color: green;\">\n",
    "    <h5><strong> The accuracy for Random Forest Classifier model is 98</strong> </h5>\n",
    "</div>"
   ]
  },
  {
   "cell_type": "markdown",
   "metadata": {},
   "source": [
    "<div style=\"text-align: left; color: red;\">\n",
    "    <h5><strong> Support Vector Classification </strong></h5>\n",
    "</div>"
   ]
  },
  {
   "cell_type": "markdown",
   "metadata": {},
   "source": [
    "Support Vector Machine (SVM) is a supervised machine learning algorithm that can be used for both classification and regression tasks. SVM is particularly effective in high-dimensional spaces and is well-suited for scenarios where a clear margin of separation exists between different classes.\n",
    "\n",
    "**Hyperplane :** SVM works by finding the hyperplane that best separates the data into different classes. A hyperplane is a decision boundary that maximizes the margin between the classes.\n",
    "\n",
    "**Margin :** The margin is the distance between the hyperplane and the nearest data point from either class. SVM aims to find the hyperplane with the maximum margin.\n",
    "\n",
    "**Support Vectors :** Support vectors are the data points that are closest to the hyperplane and play a crucial role in defining the decision boundary.\n",
    "\n",
    "**Kernel Trick :** SVM can handle non-linear decision boundaries by using a kernel trick. The kernel function transforms the input features into a higher-dimensional space, making it possible to find a hyperplane in that space.\n",
    "\n"
   ]
  },
  {
   "cell_type": "markdown",
   "metadata": {},
   "source": [
    "**Uses of SVM in Machine Learning:**\n",
    "1. Classification\n",
    "2. Regression\n",
    "3. Image Classification\n",
    "4. Handwriting Recognition\n",
    "5. Bioinformatics\n"
   ]
  },
  {
   "cell_type": "code",
   "execution_count": 38,
   "metadata": {},
   "outputs": [
    {
     "name": "stdout",
     "output_type": "stream",
     "text": [
      "Accuracy: 0.9707602339181286\n",
      "\n",
      "\n",
      "Confusion Matrix:\n"
     ]
    },
    {
     "data": {
      "image/png": "[encoded data removed]",
      "text/plain": [
       "<Figure size 576x432 with 1 Axes>"
      ]
     },
     "metadata": {
      "needs_background": "light"
     },
     "output_type": "display_data"
    },
    {
     "name": "stdout",
     "output_type": "stream",
     "text": [
      "Classification Report:\n",
      "              precision    recall  f1-score   support\n",
      "\n",
      "      Benign       0.96      1.00      0.98       116\n",
      "   Malignant       1.00      0.91      0.95        55\n",
      "\n",
      "    accuracy                           0.97       171\n",
      "   macro avg       0.98      0.95      0.97       171\n",
      "weighted avg       0.97      0.97      0.97       171\n",
      "\n"
     ]
    }
   ],
   "source": [
    "from sklearn.model_selection import train_test_split\n",
    "from sklearn.svm import SVC\n",
    "from sklearn.metrics import accuracy_score, classification_report, confusion_matrix\n",
    "from sklearn.preprocessing import StandardScaler\n",
    "\n",
    "# Assuming 'df' contains your dataset\n",
    "\n",
    "# Separate features and target variable\n",
    "Cancer_data = df.drop(\"diagnosis\", axis=1)\n",
    "Cancer_type = df['diagnosis']\n",
    "\n",
    "# Split the data into training and testing sets\n",
    "X_train, X_test, y_train, y_test = train_test_split(Cancer_data, Cancer_type, test_size=0.3, random_state=7)\n",
    "\n",
    "# Standardize the features using StandardScaler (SVMs are sensitive to feature scales)\n",
    "scaler = StandardScaler()\n",
    "X_train_scaled = scaler.fit_transform(X_train)\n",
    "X_test_scaled = scaler.transform(X_test)\n",
    "\n",
    "# Create an SVM model\n",
    "svm_model = SVC(kernel='rbf', random_state=7)  # 'rbf' kernel is commonly used\n",
    "\n",
    "# Train the model\n",
    "svm_model.fit(X_train_scaled, y_train)\n",
    "\n",
    "# Make predictions on the test set\n",
    "predictions = svm_model.predict(X_test_scaled)\n",
    "\n",
    "# Evaluate the model\n",
    "accuracy = accuracy_score(y_test, predictions)\n",
    "conf_matrix = confusion_matrix(y_test, predictions)\n",
    "classification_rep = classification_report(y_test, predictions)\n",
    "\n",
    "print(f\"Accuracy: {accuracy}\\n\\n\")\n",
    "print(\"Confusion Matrix:\")\n",
    "#print(conf_matrix)\n",
    "# Display confusion matrix using seaborn\n",
    "plt.figure(figsize=(8, 6))\n",
    "sns.heatmap(conf_matrix, annot=True, fmt=\"d\", cmap=\"Blues\", cbar=False)\n",
    "plt.title('Confusion Matrix')\n",
    "plt.xlabel('Predicted')\n",
    "plt.ylabel('True')\n",
    "plt.show()\n",
    "print(\"Classification Report:\")\n",
    "print(classification_rep)\n"
   ]
  },
  {
   "cell_type": "markdown",
   "metadata": {},
   "source": [
    "<div style=\"text-align: right; color: green;\">\n",
    "    <h5><strong> The accuracy for SVC model is 97</strong> </h5>\n",
    "</div>"
   ]
  },
  {
   "cell_type": "markdown",
   "metadata": {},
   "source": [
    "<div style=\"text-align: left; color: red;\">\n",
    "    <h5><strong> Decision Tree Classification </strong></h5>\n",
    "</div>"
   ]
  },
  {
   "cell_type": "markdown",
   "metadata": {},
   "source": [
    "A Decision Tree is a supervised machine learning algorithm used for both classification and regression tasks. It works by recursively partitioning the data into subsets based on the values of different features, ultimately leading to a structure resembling a tree. Each internal node of the tree represents a decision based on a particular feature, and each leaf node represents the predicted outcome.\n",
    "\n",
    "**Root Node :** The top node of the tree, from which the tree starts branching.\n",
    "\n",
    "**Internal Nodes :** Nodes that represent decisions based on the values of specific features.\n",
    "\n",
    "**Leaves :** Terminal nodes that provide the final predictions or outcomes.\n",
    "\n",
    "**Decision Rules :** The conditions at each node that determine the path to follow.\n",
    "\n",
    "**Splitting :** The process of dividing the data into subsets based on the values of features.\n",
    "\n",
    "**Entropy (for Classification) or Variance (for Regression) :** Decision trees aim to minimize entropy or variance at each node, leading to better separation of classes or better predictions.\n"
   ]
  },
  {
   "cell_type": "markdown",
   "metadata": {},
   "source": [
    "**Uses of Decision Trees in Machine Learning:**\n",
    "1. Classification\n",
    "2. Regression\n",
    "3. Natural Language Processing (NLP)\n",
    "4. Customer Relationship Management (CRM)"
   ]
  },
  {
   "cell_type": "code",
   "execution_count": 39,
   "metadata": {},
   "outputs": [
    {
     "name": "stdout",
     "output_type": "stream",
     "text": [
      "Accuracy: 0.9122807017543859\n",
      "\n",
      "\n",
      "Confusion Matrix:\n"
     ]
    },
    {
     "data": {
      "image/png": "[encoded data removed]",
      "text/plain": [
       "<Figure size 576x432 with 1 Axes>"
      ]
     },
     "metadata": {
      "needs_background": "light"
     },
     "output_type": "display_data"
    },
    {
     "name": "stdout",
     "output_type": "stream",
     "text": [
      "Classification Report:\n",
      "              precision    recall  f1-score   support\n",
      "\n",
      "      Benign       0.94      0.93      0.94       116\n",
      "   Malignant       0.86      0.87      0.86        55\n",
      "\n",
      "    accuracy                           0.91       171\n",
      "   macro avg       0.90      0.90      0.90       171\n",
      "weighted avg       0.91      0.91      0.91       171\n",
      "\n"
     ]
    }
   ],
   "source": [
    "from sklearn.model_selection import train_test_split\n",
    "from sklearn.tree import DecisionTreeClassifier\n",
    "from sklearn.metrics import accuracy_score, classification_report, confusion_matrix\n",
    "\n",
    "# Assuming 'df' contains your dataset\n",
    "\n",
    "# Separate features and target variable\n",
    "Cancer_data = df.drop(\"diagnosis\", axis=1)\n",
    "Cancer_type = df['diagnosis']\n",
    "\n",
    "# Split the data into training and testing sets\n",
    "X_train, X_test, y_train, y_test = train_test_split(Cancer_data, Cancer_type, test_size=0.3, random_state=7)\n",
    "\n",
    "# Create a Decision Tree model\n",
    "dt_model = DecisionTreeClassifier(random_state=7)\n",
    "\n",
    "# Train the model\n",
    "dt_model.fit(X_train, y_train)\n",
    "\n",
    "# Make predictions on the test set\n",
    "predictions = dt_model.predict(X_test)\n",
    "\n",
    "# Evaluate the model\n",
    "accuracy = accuracy_score(y_test, predictions)\n",
    "conf_matrix = confusion_matrix(y_test, predictions)\n",
    "classification_rep = classification_report(y_test, predictions)\n",
    "\n",
    "print(f\"Accuracy: {accuracy}\\n\\n\")\n",
    "print(\"Confusion Matrix:\")\n",
    "#print(conf_matrix)\n",
    "# Display confusion matrix using seaborn\n",
    "plt.figure(figsize=(8, 6))\n",
    "sns.heatmap(conf_matrix, annot=True, fmt=\"d\", cmap=\"Blues\", cbar=False)\n",
    "plt.title('Confusion Matrix')\n",
    "plt.xlabel('Predicted')\n",
    "plt.ylabel('True')\n",
    "plt.show()\n",
    "print(\"Classification Report:\")\n",
    "print(classification_rep)\n"
   ]
  },
  {
   "cell_type": "markdown",
   "metadata": {},
   "source": [
    "<div style=\"text-align: right; color: green;\">\n",
    "    <h5><strong> The accuracy for SVC model is 91</strong> </h5>\n",
    "</div>"
   ]
  },
  {
   "cell_type": "markdown",
   "metadata": {},
   "source": [
    "<div style=\"text-align: left; color: red;\">\n",
    "    <h5><strong> Gaussian Naive Bayes </strong></h5>\n",
    "</div>"
   ]
  },
  {
   "cell_type": "markdown",
   "metadata": {},
   "source": [
    "Gaussian Naive Bayes (Gaussian NB) is a probabilistic classification algorithm based on Bayes' theorem. It is a type of Naive Bayes classifier that assumes the features are normally distributed. The term \"naive\" is used because the algorithm makes the assumption that the features are conditionally independent, given the class label. Despite this simplifying assumption, Gaussian NB is known to perform well in practice, especially in situations where the independence assumption is not severely violated.\n",
    "\n",
    "**Bayes' Theorem :** The algorithm is based on Bayes' theorem, which calculates the probability of a hypothesis given the evidence. In the context of classification\n",
    "P(C|X) = P(X|C).P(C)/P(X)\n",
    "\n",
    "where C is the class label, X is the set of features,P(C∣X) is the probability of class C given the features X,P(X∣C) is the likelihood of the features given the class, P(C) is the prior probability of class C, and () P(X) is the probability of the features.\n",
    "\n",
    "**Naive Assumption :** The \"naive\" assumption in Gaussian NB is that the features are conditionally independent given the class label. This assumption simplifies the calculation of the likelihood term.\n",
    "\n",
    "**Gaussian Distribution :** Gaussian NB assumes that the continuous features follow a Gaussian (normal) distribution."
   ]
  },
  {
   "cell_type": "markdown",
   "metadata": {},
   "source": [
    "**Uses of Gaussian Naive Bayes in Machine Learning:**\n",
    "1. Spam Filtering\n",
    "2. Face Recognition\n",
    "3. Fault Diagnosis\n",
    "4. Character Recognition"
   ]
  },
  {
   "cell_type": "code",
   "execution_count": 40,
   "metadata": {},
   "outputs": [
    {
     "name": "stdout",
     "output_type": "stream",
     "text": [
      "Accuracy: 0.6783625730994152\n",
      "\n",
      "\n",
      "Confusion Matrix:\n"
     ]
    },
    {
     "data": {
      "image/png": "[encoded data removed]",
      "text/plain": [
       "<Figure size 576x432 with 1 Axes>"
      ]
     },
     "metadata": {
      "needs_background": "light"
     },
     "output_type": "display_data"
    },
    {
     "name": "stdout",
     "output_type": "stream",
     "text": [
      "Classification Report:\n",
      "              precision    recall  f1-score   support\n",
      "\n",
      "      Benign       0.68      0.98      0.81       116\n",
      "   Malignant       0.50      0.04      0.07        55\n",
      "\n",
      "    accuracy                           0.68       171\n",
      "   macro avg       0.59      0.51      0.44       171\n",
      "weighted avg       0.62      0.68      0.57       171\n",
      "\n"
     ]
    }
   ],
   "source": [
    "from sklearn.model_selection import train_test_split\n",
    "from sklearn.naive_bayes import GaussianNB\n",
    "from sklearn.metrics import accuracy_score, classification_report, confusion_matrix\n",
    "\n",
    "# Assuming 'df' contains your dataset\n",
    "\n",
    "# Separate features and target variable\n",
    "Cancer_data = df.drop(\"diagnosis\", axis=1)\n",
    "Cancer_type = df['diagnosis']\n",
    "\n",
    "# Split the data into training and testing sets\n",
    "X_train, X_test, y_train, y_test = train_test_split(Cancer_data, Cancer_type, test_size=0.3, random_state=7)\n",
    "\n",
    "# Create a Gaussian Naive Bayes model\n",
    "nb_model = GaussianNB()\n",
    "\n",
    "# Train the model\n",
    "nb_model.fit(X_train, y_train)\n",
    "\n",
    "# Make predictions on the test set\n",
    "predictions = nb_model.predict(X_test)\n",
    "\n",
    "# Evaluate the model\n",
    "accuracy = accuracy_score(y_test, predictions)\n",
    "conf_matrix = confusion_matrix(y_test, predictions)\n",
    "classification_rep = classification_report(y_test, predictions)\n",
    "\n",
    "print(f\"Accuracy: {accuracy}\\n\\n\")\n",
    "print(\"Confusion Matrix:\")\n",
    "#print(conf_matrix)\n",
    "# Display confusion matrix using seaborn\n",
    "plt.figure(figsize=(8, 6))\n",
    "sns.heatmap(conf_matrix, annot=True, fmt=\"d\", cmap=\"Blues\", cbar=False)\n",
    "plt.title('Confusion Matrix')\n",
    "plt.xlabel('Predicted')\n",
    "plt.ylabel('True')\n",
    "plt.show()\n",
    "print(\"Classification Report:\")\n",
    "print(classification_rep)\n"
   ]
  },
  {
   "cell_type": "markdown",
   "metadata": {},
   "source": [
    "<div style=\"text-align: right; color: green;\">\n",
    "    <h5><strong> The accuracy for Gaussian Naive Bayes model is 67 </strong> </h5>\n",
    "</div>"
   ]
  }
 ],
 "metadata": {
  "colab": {
   "provenance": []
  },
  "kernelspec": {
   "display_name": "Python 3 (ipykernel)",
   "language": "python",
   "name": "python3"
  },
  "language_info": {
   "codemirror_mode": {
    "name": "ipython",
    "version": 3
   },
   "file_extension": ".py",
   "mimetype": "text/x-python",
   "name": "python",
   "nbconvert_exporter": "python",
   "pygments_lexer": "ipython3",
   "version": "3.9.7"
  }
 },
 "nbformat": 4,
 "nbformat_minor": 1
}
